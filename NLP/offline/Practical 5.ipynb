{
 "cells": [
  {
   "cell_type": "markdown",
   "metadata": {},
   "source": [
    "### Practical 5a"
   ]
  },
  {
   "cell_type": "code",
   "execution_count": 3,
   "metadata": {},
   "outputs": [
    {
     "name": "stdout",
     "output_type": "stream",
     "text": [
      "Extracted Email Addresses:  ['doe@example.com', 'jane_smith123@company.org', 'test.email@domain.net', 'help@service.com']\n",
      "Extracted usernames:  ['doe', 'jane_smith123', 'test.email', 'help']\n"
     ]
    },
    {
     "name": "stderr",
     "output_type": "stream",
     "text": [
      "[nltk_data] Downloading package punkt to\n",
      "[nltk_data]     C:\\Users\\HP\\AppData\\Roaming\\nltk_data...\n",
      "[nltk_data]   Package punkt is already up-to-date!\n"
     ]
    }
   ],
   "source": [
    "import re\n",
    "import nltk\n",
    "\n",
    "#Download neccessary NLTK resources\n",
    "nltk.download('punkt')\n",
    "\n",
    "#sample text containing email\n",
    "text = \"\"\"\n",
    "Hello, you can reach me at john,doe@example.com and my colleague at jane_smith123@company.org.\n",
    "Another email is test.email@domain.net, and support can be contacted at help@service.com\n",
    "\"\"\"\n",
    "\n",
    "#Regular expression pattern to match email addresses correctly\n",
    "email_pattern = r'[a-zA-Z0-9._%+-]+@[a-zA-Z0-9.-]+\\.[a-zA-Z]{2,}'\n",
    "\n",
    "#Extract emails from text using re.findall()\n",
    "emails = re.findall(email_pattern, text)\n",
    "\n",
    "#Extract usernames (part before '@')\n",
    "usernames = [email.split('@')[0] for email in emails]\n",
    "\n",
    "#Display the results\n",
    "print(\"Extracted Email Addresses: \", emails)\n",
    "print(\"Extracted usernames: \", usernames)"
   ]
  },
  {
   "cell_type": "code",
   "execution_count": null,
   "metadata": {},
   "outputs": [],
   "source": []
  }
 ],
 "metadata": {
  "kernelspec": {
   "display_name": "base",
   "language": "python",
   "name": "python3"
  },
  "language_info": {
   "codemirror_mode": {
    "name": "ipython",
    "version": 3
   },
   "file_extension": ".py",
   "mimetype": "text/x-python",
   "name": "python",
   "nbconvert_exporter": "python",
   "pygments_lexer": "ipython3",
   "version": "3.11.7"
  }
 },
 "nbformat": 4,
 "nbformat_minor": 2
}
