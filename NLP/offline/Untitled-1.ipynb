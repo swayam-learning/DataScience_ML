{
 "cells": [
  {
   "cell_type": "code",
   "execution_count": 2,
   "metadata": {},
   "outputs": [],
   "source": [
    "import re"
   ]
  },
  {
   "cell_type": "code",
   "execution_count": 4,
   "metadata": {},
   "outputs": [
    {
     "name": "stdout",
     "output_type": "stream",
     "text": [
      "Original Text:  The quick brown fox is jumping over the lazy dog. It was a sunny day.\n",
      "Meaningful phrases:  ['quick brown fox', 'jumping over', 'lazy dog. It', 'a sunny day.']\n"
     ]
    }
   ],
   "source": [
    "#sample text\n",
    "text = \"The quick brown fox is jumping over the lazy dog. It was a sunny day.\"\n",
    "\n",
    "#define stopwords to use a delimiters\n",
    "stopwords_as_delimiters = [\"is\",\"the\",\"was\", \"The\"]\n",
    "\n",
    "#create a regex pattern to match stopwords as whole words\n",
    "pattern = r'\\b(?:' + '|'.join(stopwords_as_delimiters) + r')\\b'\n",
    "\n",
    "#Split the text using stopwords as delimiters\n",
    "tokens = re.split(pattern,text)\n",
    "\n",
    "#Remove extra whitespace and empty tokens\n",
    "meaningful_phrases = [token.strip() for token in tokens if token.strip()]\n",
    "\n",
    "#Display the results\n",
    "print(\"Original Text: \",text)\n",
    "print(\"Meaningful phrases: \", meaningful_phrases)"
   ]
  },
  {
   "cell_type": "code",
   "execution_count": null,
   "metadata": {},
   "outputs": [],
   "source": []
  }
 ],
 "metadata": {
  "kernelspec": {
   "display_name": "base",
   "language": "python",
   "name": "python3"
  },
  "language_info": {
   "codemirror_mode": {
    "name": "ipython",
    "version": 3
   },
   "file_extension": ".py",
   "mimetype": "text/x-python",
   "name": "python",
   "nbconvert_exporter": "python",
   "pygments_lexer": "ipython3",
   "version": "3.11.7"
  }
 },
 "nbformat": 4,
 "nbformat_minor": 2
}
