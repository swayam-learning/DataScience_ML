{
 "cells": [
  {
   "cell_type": "code",
   "execution_count": 1,
   "metadata": {},
   "outputs": [],
   "source": [
    "import spacy\n",
    "nlp  = spacy.load(\"en_core_web_md\")"
   ]
  },
  {
   "cell_type": "code",
   "execution_count": 8,
   "metadata": {},
   "outputs": [],
   "source": [
    "text1 = \"I love natural language processing\"\n",
    "text2 = \"I enjoy working with text data\""
   ]
  },
  {
   "cell_type": "code",
   "execution_count": 9,
   "metadata": {},
   "outputs": [],
   "source": [
    "doc1 = nlp(text1)\n",
    "doc2 = nlp(text2)"
   ]
  },
  {
   "cell_type": "code",
   "execution_count": 10,
   "metadata": {},
   "outputs": [
    {
     "name": "stdout",
     "output_type": "stream",
     "text": [
      "Word mover's distance:0.6832380576669228\n"
     ]
    }
   ],
   "source": [
    "wmd_distance = doc1.similarity(doc2)\n",
    "print(f\"Word mover's distance:{wmd_distance}\")"
   ]
  },
  {
   "cell_type": "markdown",
   "metadata": {},
   "source": [
    "-----------------------------------------------------------------------------------------------------------------------------------------------------------"
   ]
  },
  {
   "cell_type": "code",
   "execution_count": 14,
   "metadata": {},
   "outputs": [
    {
     "name": "stderr",
     "output_type": "stream",
     "text": [
      "[nltk_data] Downloading package punkt to\n",
      "[nltk_data]     C:\\Users\\hp\\AppData\\Roaming\\nltk_data...\n",
      "[nltk_data]   Package punkt is already up-to-date!\n",
      "[nltk_data] Downloading package stopwords to\n",
      "[nltk_data]     C:\\Users\\hp\\AppData\\Roaming\\nltk_data...\n",
      "[nltk_data]   Package stopwords is already up-to-date!\n"
     ]
    },
    {
     "name": "stdout",
     "output_type": "stream",
     "text": [
      "Word Mover's Distance:0.5523664484358408\n"
     ]
    }
   ],
   "source": [
    "import spacy\n",
    "import nltk\n",
    "from nltk.tokenize import word_tokenize\n",
    "from nltk.corpus import stopwords\n",
    "\n",
    "nltk.download(\"punkt\")\n",
    "nltk.download(\"stopwords\")\n",
    "\n",
    "nlp = spacy.load(\"en_core_web_md\")\n",
    "\n",
    "text1 = \"I love natural language processing\"\n",
    "text2 = \"I enjoy working with text data\"\n",
    "\n",
    "stop_words = set(stopwords.words(\"english\"))\n",
    "tokens1 = [word for word in word_tokenize(text1.lower()) if word.isalnum() and word not in stop_words]\n",
    "tokens2 = [word for word in word_tokenize(text2.lower()) if word.isalnum() and word not in stop_words]\n",
    "\n",
    "doc1 = nlp(\" \".join(tokens1))\n",
    "doc2 = nlp(\" \".join(tokens2))\n",
    "\n",
    "wmd_distance = doc1.similarity(doc2)\n",
    "\n",
    "print(f\"Word Mover's Distance:{wmd_distance}\")"
   ]
  },
  {
   "cell_type": "code",
   "execution_count": 16,
   "metadata": {},
   "outputs": [
    {
     "name": "stdout",
     "output_type": "stream",
     "text": [
      "Original:  John is a data scientist . He loves machine learning\n",
      "Modified: John is a data scientist . He loves machine learning\n"
     ]
    }
   ],
   "source": [
    "import spacy\n",
    "nlp=spacy.load(\"en_core_web_sm\")\n",
    "def replace_pronouns(text):\n",
    "    doc= nlp(text)\n",
    "    entities={}\n",
    "    for ent in doc.ents:\n",
    "        entities[ent.label_]=ent.text\n",
    "        \n",
    "    replaced_text=[]\n",
    "    for token in doc:\n",
    "        if token.pos==\"PRON\" and token.dep_ in {\"nsubj\", \"nsubjpass\"}:\n",
    "            replaced_text.append(entities.get(\"PERSON\",token.text))\n",
    "        else:\n",
    "            replaced_text.append(token.text)\n",
    "    return \" \".join(replaced_text)\n",
    "\n",
    "text = \"John is a data scientist . He loves machine learning\"\n",
    "print(\"Original: \",text)\n",
    "print(\"Modified:\",replace_pronouns(text))"
   ]
  },
  {
   "cell_type": "code",
   "execution_count": null,
   "metadata": {},
   "outputs": [],
   "source": []
  }
 ],
 "metadata": {
  "kernelspec": {
   "display_name": "base",
   "language": "python",
   "name": "python3"
  },
  "language_info": {
   "codemirror_mode": {
    "name": "ipython",
    "version": 3
   },
   "file_extension": ".py",
   "mimetype": "text/x-python",
   "name": "python",
   "nbconvert_exporter": "python",
   "pygments_lexer": "ipython3",
   "version": "3.12.4"
  }
 },
 "nbformat": 4,
 "nbformat_minor": 2
}
