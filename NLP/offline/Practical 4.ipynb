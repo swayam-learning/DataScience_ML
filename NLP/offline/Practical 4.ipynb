{
 "cells": [
  {
   "cell_type": "markdown",
   "metadata": {},
   "source": [
    "### Stemming"
   ]
  },
  {
   "cell_type": "code",
   "execution_count": 1,
   "metadata": {},
   "outputs": [],
   "source": [
    "import nltk\n",
    "from nltk.stem import PorterStemmer"
   ]
  },
  {
   "cell_type": "code",
   "execution_count": 3,
   "metadata": {},
   "outputs": [
    {
     "name": "stdout",
     "output_type": "stream",
     "text": [
      "running -> run\n",
      "ran -> ran\n",
      "jumps -> jump\n",
      "jumped -> jump\n",
      "happiness -> happi\n",
      "happy -> happi\n"
     ]
    }
   ],
   "source": [
    "#Create a PorterStemmer object\n",
    "porter_stemmer = PorterStemmer()\n",
    "\n",
    "#sample words for stemming\n",
    "words = [\"running\", \"ran\", \"jumps\", \"jumped\", \"happiness\", \"happy\"]\n",
    "\n",
    "#Perform stemming on each word\n",
    "stemmed_words = [porter_stemmer.stem(word) for word in words]\n",
    "\n",
    "#Display the original words and their stemmed forms\n",
    "for original, stemmed in zip(words, stemmed_words):\n",
    "    print(f\"{original} -> {stemmed}\")"
   ]
  },
  {
   "cell_type": "code",
   "execution_count": null,
   "metadata": {},
   "outputs": [],
   "source": []
  },
  {
   "cell_type": "code",
   "execution_count": 4,
   "metadata": {},
   "outputs": [],
   "source": [
    "import nltk\n",
    "from nltk.stem import WordNetLemmatizer\n",
    "from nltk.tokenize import word_tokenize"
   ]
  },
  {
   "cell_type": "code",
   "execution_count": 5,
   "metadata": {},
   "outputs": [
    {
     "name": "stderr",
     "output_type": "stream",
     "text": [
      "[nltk_data] Downloading package punkt to\n",
      "[nltk_data]     C:\\Users\\HP\\AppData\\Roaming\\nltk_data...\n",
      "[nltk_data]   Package punkt is already up-to-date!\n",
      "[nltk_data] Downloading package wordnet to\n",
      "[nltk_data]     C:\\Users\\HP\\AppData\\Roaming\\nltk_data...\n"
     ]
    },
    {
     "data": {
      "text/plain": [
       "True"
      ]
     },
     "execution_count": 5,
     "metadata": {},
     "output_type": "execute_result"
    }
   ],
   "source": [
    "#\n",
    "nltk.download('punkt')\n",
    "nltk.download('wordnet')"
   ]
  },
  {
   "cell_type": "code",
   "execution_count": 6,
   "metadata": {},
   "outputs": [],
   "source": [
    "#\n",
    "lemmatizer = WordNetLemmatizer()"
   ]
  },
  {
   "cell_type": "code",
   "execution_count": 11,
   "metadata": {},
   "outputs": [],
   "source": [
    "#sample paragraph\n",
    "paragraph = \"\"\"\n",
    "Natural Lamguage processing(NLP) is a subfield of artificial intelligence that focuses on the interaction between computers and humans using natural language\n",
    "\"\"\""
   ]
  },
  {
   "cell_type": "code",
   "execution_count": 12,
   "metadata": {},
   "outputs": [],
   "source": [
    "#Tokenize the paragraph\n",
    "tokens = word_tokenize(paragraph)"
   ]
  },
  {
   "cell_type": "code",
   "execution_count": 13,
   "metadata": {},
   "outputs": [],
   "source": [
    "#lemmatize each token\n",
    "lemmatized_tokens = [lemmatizer.lemmatize(token) for token in tokens]"
   ]
  },
  {
   "cell_type": "code",
   "execution_count": 14,
   "metadata": {},
   "outputs": [
    {
     "name": "stdout",
     "output_type": "stream",
     "text": [
      "Natural -> Natural\n",
      "Lamguage -> Lamguage\n",
      "processing -> processing\n",
      "( -> (\n",
      "NLP -> NLP\n",
      ") -> )\n",
      "is -> is\n",
      "a -> a\n",
      "subfield -> subfield\n",
      "of -> of\n",
      "artificial -> artificial\n",
      "intelligence -> intelligence\n",
      "that -> that\n",
      "focuses -> focus\n",
      "on -> on\n",
      "the -> the\n",
      "interaction -> interaction\n",
      "between -> between\n",
      "computers -> computer\n",
      "and -> and\n",
      "humans -> human\n",
      "using -> using\n",
      "natural -> natural\n",
      "language -> language\n"
     ]
    }
   ],
   "source": [
    "#display the original tokens and their lemmatized forms\n",
    "for original,lemmatized in zip(tokens, lemmatized_tokens):\n",
    "    print(f\"{original} -> {lemmatized}\")"
   ]
  },
  {
   "cell_type": "code",
   "execution_count": null,
   "metadata": {},
   "outputs": [],
   "source": [
    "\n"
   ]
  },
  {
   "cell_type": "code",
   "execution_count": null,
   "metadata": {},
   "outputs": [],
   "source": []
  }
 ],
 "metadata": {
  "kernelspec": {
   "display_name": "base",
   "language": "python",
   "name": "python3"
  },
  "language_info": {
   "codemirror_mode": {
    "name": "ipython",
    "version": 3
   },
   "file_extension": ".py",
   "mimetype": "text/x-python",
   "name": "python",
   "nbconvert_exporter": "python",
   "pygments_lexer": "ipython3",
   "version": "3.11.7"
  }
 },
 "nbformat": 4,
 "nbformat_minor": 2
}
