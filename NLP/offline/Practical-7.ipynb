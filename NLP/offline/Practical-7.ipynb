{
 "cells": [
  {
   "cell_type": "code",
   "execution_count": 2,
   "metadata": {},
   "outputs": [],
   "source": [
    "import re"
   ]
  },
  {
   "cell_type": "code",
   "execution_count": 4,
   "metadata": {},
   "outputs": [
    {
     "name": "stdout",
     "output_type": "stream",
     "text": [
      "Original Text:  The quick brown fox is jumping over the lazy dog. It was a sunny day.\n",
      "Meaningful phrases:  ['quick brown fox', 'jumping over', 'lazy dog. It', 'a sunny day.']\n"
     ]
    }
   ],
   "source": [
    "#sample text\n",
    "text = \"The quick brown fox is jumping over the lazy dog. It was a sunny day.\"\n",
    "\n",
    "#define stopwords to use a delimiters\n",
    "stopwords_as_delimiters = [\"is\",\"the\",\"was\", \"The\"]\n",
    "\n",
    "#create a regex pattern to match stopwords as whole words\n",
    "pattern = r'\\b(?:' + '|'.join(stopwords_as_delimiters) + r')\\b'\n",
    "\n",
    "#Split the text using stopwords as delimiters\n",
    "tokens = re.split(pattern,text)\n",
    "\n",
    "#Remove extra whitespace and empty tokens\n",
    "meaningful_phrases = [token.strip() for token in tokens if token.strip()]\n",
    "\n",
    "#Display the results\n",
    "print(\"Original Text: \",text)\n",
    "print(\"Meaningful phrases: \", meaningful_phrases)"
   ]
  },
  {
   "cell_type": "markdown",
   "metadata": {},
   "source": [
    "### Pracitcal 7a"
   ]
  },
  {
   "cell_type": "code",
   "execution_count": 2,
   "metadata": {},
   "outputs": [
    {
     "name": "stdout",
     "output_type": "stream",
     "text": [
      "Extracted Nouns: ['translation', 'computers', 'information', 'intelligence', 'analysis', 'retrieval', 'processing', 'text', 'machine', 'role', 'algorithms', 'natural', 'subfield', 'machines', 'humans', 'development', 'language', 'applications', 'nlp', 'chatbots', 'interaction', 'sentiment']\n"
     ]
    }
   ],
   "source": [
    "import spacy\n",
    "\n",
    "# Load the small English model\n",
    "nlp = spacy.load(\"en_core_web_sm\")\n",
    "\n",
    "# Sample text\n",
    "text = \"\"\"\n",
    "Natural Language Processing (NLP) is a subfield of artificial intelligence that focuses on the interaction between computers and humans using natural language. It involves the development of algorithms that enable machines to understand, interpret, and generate human-like text. NLP plays a crucial role in various applications, including sentiment analysis, machine translation, chatbots, and information retrieval.\n",
    "\"\"\"\n",
    "\n",
    "# Process the text with spaCy\n",
    "doc = nlp(text)\n",
    "\n",
    "# Extract nouns (including proper nouns)\n",
    "nouns = [token.text.lower() for token in doc if token.pos_ in (\"NOUN\", \"PROPN\")]\n",
    "\n",
    "# Remove duplicates (optional)\n",
    "nouns = list(set(nouns))\n",
    "\n",
    "# Display the extracted nouns\n",
    "print(\"Extracted Nouns:\", nouns)"
   ]
  },
  {
   "cell_type": "markdown",
   "metadata": {},
   "source": [
    "### Practical 7b"
   ]
  },
  {
   "cell_type": "code",
   "execution_count": 4,
   "metadata": {},
   "outputs": [
    {
     "name": "stdout",
     "output_type": "stream",
     "text": [
      "similarity between 'car' and 'bus':0.21\n"
     ]
    }
   ],
   "source": [
    "import spacy\n",
    "nlp = spacy.load(\"en_core_web_md\")\n",
    "word1 = \"car\"\n",
    "word2 =\"bus\"\n",
    "\n",
    "token1 = nlp(word1)\n",
    "token2 = nlp(word2)\n",
    "\n",
    "similarity = token1.similarity(token2)\n",
    "\n",
    "print(f\"similarity between '{word1}' and '{word2}':{similarity:.2f}\")"
   ]
  },
  {
   "cell_type": "code",
   "execution_count": null,
   "metadata": {},
   "outputs": [],
   "source": []
  }
 ],
 "metadata": {
  "kernelspec": {
   "display_name": "base",
   "language": "python",
   "name": "python3"
  },
  "language_info": {
   "codemirror_mode": {
    "name": "ipython",
    "version": 3
   },
   "file_extension": ".py",
   "mimetype": "text/x-python",
   "name": "python",
   "nbconvert_exporter": "python",
   "pygments_lexer": "ipython3",
   "version": "3.12.4"
  }
 },
 "nbformat": 4,
 "nbformat_minor": 2
}
