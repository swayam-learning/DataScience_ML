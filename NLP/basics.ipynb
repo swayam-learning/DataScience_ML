{
 "cells": [
  {
   "cell_type": "markdown",
   "metadata": {},
   "source": [
    "```python\n",
    "\"I absolutely love this phone! The battery life is great, and the camera is amazing. Highly recommended!\"\n",
    "```"
   ]
  },
  {
   "cell_type": "code",
   "execution_count": 1,
   "metadata": {},
   "outputs": [
    {
     "name": "stderr",
     "output_type": "stream",
     "text": [
      "[nltk_data] Downloading package punkt to\n",
      "[nltk_data]     C:\\Users\\hp\\AppData\\Roaming\\nltk_data...\n",
      "[nltk_data]   Package punkt is already up-to-date!\n"
     ]
    },
    {
     "data": {
      "text/plain": [
       "True"
      ]
     },
     "execution_count": 1,
     "metadata": {},
     "output_type": "execute_result"
    }
   ],
   "source": [
    "import nltk\n",
    "nltk.download(\"punkt\")"
   ]
  },
  {
   "cell_type": "markdown",
   "metadata": {},
   "source": [
    "## Tokenization"
   ]
  },
  {
   "cell_type": "code",
   "execution_count": 2,
   "metadata": {},
   "outputs": [
    {
     "name": "stdout",
     "output_type": "stream",
     "text": [
      "['I', 'absolutely', 'love', 'this', 'phone', '!', 'The', 'battery', 'life', 'is', 'great', ',', 'and', 'the', 'camera', 'is', 'amazing', '.', 'Highly', 'recommended', '!']\n"
     ]
    }
   ],
   "source": [
    "from nltk.tokenize import word_tokenize,sent_tokenize\n",
    "text = \"I absolutely love this phone! The battery life is great, and the camera is amazing. Highly recommended!\"\n",
    "tokens = word_tokenize(text)\n",
    "print(tokens)"
   ]
  },
  {
   "cell_type": "markdown",
   "metadata": {},
   "source": [
    "## Removing Stopwords"
   ]
  },
  {
   "cell_type": "code",
   "execution_count": 6,
   "metadata": {},
   "outputs": [
    {
     "name": "stdout",
     "output_type": "stream",
     "text": [
      "['absolutely', 'love', 'phone', '!', 'battery', 'life', 'great', ',', 'camera', 'amazing', '.', 'Highly', 'recommended', '!']\n"
     ]
    },
    {
     "name": "stderr",
     "output_type": "stream",
     "text": [
      "[nltk_data] Downloading package stopwords to\n",
      "[nltk_data]     C:\\Users\\hp\\AppData\\Roaming\\nltk_data...\n",
      "[nltk_data]   Package stopwords is already up-to-date!\n"
     ]
    }
   ],
   "source": [
    "from nltk.corpus import stopwords\n",
    "nltk.download(\"stopwords\")\n",
    "\n",
    "stop_words = set(stopwords.words(\"english\"))\n",
    "filterd_tokens = [word for word in tokens if word.lower()  not in stop_words]\n",
    "print(filterd_tokens)"
   ]
  },
  {
   "cell_type": "markdown",
   "metadata": {},
   "source": [
    "## Stemming And Lemmatization"
   ]
  },
  {
   "cell_type": "markdown",
   "metadata": {},
   "source": [
    "```python\n",
    "Stemming\n",
    "```"
   ]
  },
  {
   "cell_type": "code",
   "execution_count": 7,
   "metadata": {},
   "outputs": [
    {
     "name": "stdout",
     "output_type": "stream",
     "text": [
      "['absolut', 'love', 'phone', '!', 'batteri', 'life', 'great', ',', 'camera', 'amaz', '.', 'highli', 'recommend', '!']\n"
     ]
    }
   ],
   "source": [
    "from nltk.stem import PorterStemmer\n",
    "stemmer = PorterStemmer()\n",
    "stemmed_words = [stemmer.stem(word) for word in filterd_tokens]\n",
    "print(stemmed_words)"
   ]
  },
  {
   "cell_type": "markdown",
   "metadata": {},
   "source": [
    "```python\n",
    "Lemmatization\n",
    "```"
   ]
  },
  {
   "cell_type": "code",
   "execution_count": 8,
   "metadata": {},
   "outputs": [
    {
     "name": "stderr",
     "output_type": "stream",
     "text": [
      "[nltk_data] Downloading package wordnet to\n",
      "[nltk_data]     C:\\Users\\hp\\AppData\\Roaming\\nltk_data...\n",
      "[nltk_data]   Package wordnet is already up-to-date!\n"
     ]
    },
    {
     "name": "stdout",
     "output_type": "stream",
     "text": [
      "['absolutely', 'love', 'phone', '!', 'battery', 'life', 'great', ',', 'camera', 'amazing', '.', 'Highly', 'recommended', '!']\n"
     ]
    }
   ],
   "source": [
    "from nltk.stem import WordNetLemmatizer\n",
    "nltk.download(\"wordnet\")\n",
    "lemmatizer = WordNetLemmatizer()\n",
    "\n",
    "lemmatized_words = [lemmatizer.lemmatize(word) for word in filterd_tokens]\n",
    "print(lemmatized_words)"
   ]
  },
  {
   "cell_type": "markdown",
   "metadata": {},
   "source": [
    "## Remove Punctuation"
   ]
  },
  {
   "cell_type": "code",
   "execution_count": 9,
   "metadata": {},
   "outputs": [
    {
     "name": "stdout",
     "output_type": "stream",
     "text": [
      "['absolutely', 'love', 'phone', 'battery', 'life', 'great', 'camera', 'amazing', 'highly', 'recommended']\n"
     ]
    }
   ],
   "source": [
    "import string\n",
    "cleaned_text = [word.lower() for word in filterd_tokens if word not in string.punctuation]\n",
    "print(cleaned_text)"
   ]
  },
  {
   "cell_type": "markdown",
   "metadata": {},
   "source": [
    "### Practical 3a"
   ]
  },
  {
   "cell_type": "code",
   "execution_count": 2,
   "metadata": {},
   "outputs": [
    {
     "name": "stdout",
     "output_type": "stream",
     "text": [
      "['sun', 'shining', 'brightly', 'sky', 'gentle', 'breeze', 'blowing', 'throught', 'trees', '.']\n"
     ]
    },
    {
     "name": "stderr",
     "output_type": "stream",
     "text": [
      "[nltk_data] Downloading package punkt to\n",
      "[nltk_data]     C:\\Users\\hp\\AppData\\Roaming\\nltk_data...\n",
      "[nltk_data]   Package punkt is already up-to-date!\n",
      "[nltk_data] Downloading package stopwords to\n",
      "[nltk_data]     C:\\Users\\hp\\AppData\\Roaming\\nltk_data...\n",
      "[nltk_data]   Package stopwords is already up-to-date!\n"
     ]
    }
   ],
   "source": [
    "import nltk\n",
    "from nltk.corpus import stopwords\n",
    "from nltk.tokenize import word_tokenize\n",
    "\n",
    "nltk.download(\"punkt\")\n",
    "nltk.download(\"stopwords\")\n",
    "\n",
    "senetence = \"The sun was shining brightly in the sky and a gentle breeze was blowing throught the trees.\"\n",
    "# Tokenize the sentence\n",
    "tokens = word_tokenize(senetence)\n",
    "\n",
    "# Define stop words\n",
    "stop_words = set(stopwords.words(\"english\"))\n",
    "\n",
    "# Filter out stop words\n",
    "filtered_tokens = [word for word in tokens if word.lower() not in stop_words]\n",
    "\n",
    "\n",
    "print(filtered_tokens)"
   ]
  },
  {
   "cell_type": "code",
   "execution_count": 3,
   "metadata": {},
   "outputs": [],
   "source": [
    "import spacy"
   ]
  },
  {
   "cell_type": "code",
   "execution_count": 5,
   "metadata": {},
   "outputs": [],
   "source": [
    "nlp=spacy.load(\"en_core_web_sm\")\n",
    "nlp.Defaults.stop_words.add(\"NIL\")\n",
    "nlp.Defaults.stop_words.add(\"JUNK\")"
   ]
  },
  {
   "cell_type": "code",
   "execution_count": 6,
   "metadata": {},
   "outputs": [],
   "source": [
    "text = \"This is a JUNK sentence that contains NIL information but is useful for testing\""
   ]
  },
  {
   "cell_type": "code",
   "execution_count": 7,
   "metadata": {},
   "outputs": [],
   "source": [
    "doc  = nlp(text)"
   ]
  },
  {
   "cell_type": "code",
   "execution_count": 10,
   "metadata": {},
   "outputs": [
    {
     "name": "stdout",
     "output_type": "stream",
     "text": [
      "Original text This is a JUNK sentence that contains NIL information but is useful for testing\n",
      "Filtered words JUNK sentence contains NIL information useful testing\n"
     ]
    }
   ],
   "source": [
    "filtered_words = [token.text for token in doc if token.text.lower() not in nlp.Defaults.stop_words]\n",
    "print(\"Original text\",text)\n",
    "print(\"Filtered words\",\" \".join(filtered_words))"
   ]
  },
  {
   "cell_type": "code",
   "execution_count": 1,
   "metadata": {},
   "outputs": [
    {
     "name": "stdout",
     "output_type": "stream",
     "text": [
      "running -> run\n",
      "ran -> ran\n",
      "jumps -> jump\n",
      "jumped -> jump\n",
      "happiness -> happi\n",
      "happy -> happi\n"
     ]
    }
   ],
   "source": [
    "import nltk\n",
    "from nltk.stem import PorterStemmer\n",
    "porter_stemmer= PorterStemmer()\n",
    "\n",
    "words=[\"running\", \"ran\", \"jumps\", \"jumped\", \"happiness\", \"happy\"]\n",
    "\n",
    "stemmed_words=[porter_stemmer.stem(word) for word in words]\n",
    "\n",
    "for original, stemmed in zip(words, stemmed_words):\n",
    "    print(f\"{original} -> {stemmed}\")"
   ]
  },
  {
   "cell_type": "code",
   "execution_count": 5,
   "metadata": {},
   "outputs": [
    {
     "name": "stderr",
     "output_type": "stream",
     "text": [
      "[nltk_data] Downloading package punkt to\n",
      "[nltk_data]     C:\\Users\\hp\\AppData\\Roaming\\nltk_data...\n",
      "[nltk_data]   Package punkt is already up-to-date!\n",
      "[nltk_data] Downloading package wordnet to\n",
      "[nltk_data]     C:\\Users\\hp\\AppData\\Roaming\\nltk_data...\n",
      "[nltk_data]   Package wordnet is already up-to-date!\n"
     ]
    },
    {
     "name": "stdout",
     "output_type": "stream",
     "text": [
      "['Natural', 'Language', 'Processing', 'is', 'a', 'subfield', 'of', 'artificial', 'intelligence', 'that', 'focus', 'on', 'the', 'interaction', 'between', 'computer', 'and', 'human', 'using', 'natural', 'language', '.', 'It', 'involves', 'technique', 'for', 'analyzing', ',', 'understanding', ',', 'and', 'generating', 'human', 'language', ',', 'enabling', 'application', 'such', 'a', 'machine', 'translation', ',', 'chatbots', ',', 'sentiment', 'analysis', ',', 'and', 'speech', 'recognition']\n"
     ]
    }
   ],
   "source": [
    "import nltk\n",
    "from nltk.stem import WordNetLemmatizer\n",
    "from nltk.tokenize import word_tokenize\n",
    "\n",
    "nltk.download(\"punkt\")\n",
    "nltk.download(\"wordnet\")\n",
    "\n",
    "lemmatizer = WordNetLemmatizer()\n",
    "\n",
    "paragraph = \"\"\"\n",
    "    Natural Language Processing is a subfield of artificial intelligence that focuses on the interaction between computers and humans using natural language. It involves techniques for analyzing, understanding, and generating human language, enabling applications such as machine translation, chatbots, sentiment analysis, and speech recognition\n",
    "\"\"\"\n",
    "tokens = word_tokenize(paragraph)\n",
    "lemmatized_tokens = [lemmatizer.lemmatize(token) for token in tokens]\n",
    "print(lemmatized_tokens)"
   ]
  },
  {
   "cell_type": "code",
   "execution_count": 9,
   "metadata": {},
   "outputs": [
    {
     "name": "stdout",
     "output_type": "stream",
     "text": [
      "Original Word: natural,Stemmed Word: natur\n",
      "Original Word: language,Stemmed Word: languag\n",
      "Original Word: processing,Stemmed Word: process\n",
      "Original Word: is,Stemmed Word: is\n",
      "Original Word: a,Stemmed Word: a\n",
      "Original Word: subfield,Stemmed Word: subfield\n",
      "Original Word: of,Stemmed Word: of\n",
      "Original Word: artificial,Stemmed Word: artifici\n",
      "Original Word: intelligence,Stemmed Word: intellig\n",
      "Original Word: that,Stemmed Word: that\n",
      "Original Word: focuses,Stemmed Word: focus\n",
      "Original Word: on,Stemmed Word: on\n",
      "Original Word: the,Stemmed Word: the\n",
      "Original Word: interaction,Stemmed Word: interact\n",
      "Original Word: between,Stemmed Word: between\n",
      "Original Word: computers,Stemmed Word: comput\n",
      "Original Word: and,Stemmed Word: and\n",
      "Original Word: humans,Stemmed Word: human\n",
      "Original Word: using,Stemmed Word: use\n",
      "Original Word: natural,Stemmed Word: natur\n",
      "Original Word: language,Stemmed Word: languag\n",
      "Original Word: .,Stemmed Word: .\n",
      "Original Word: it,Stemmed Word: it\n",
      "Original Word: involves,Stemmed Word: involv\n",
      "Original Word: techniques,Stemmed Word: techniqu\n",
      "Original Word: for,Stemmed Word: for\n",
      "Original Word: analyzing,Stemmed Word: analyz\n",
      "Original Word: ,,Stemmed Word: ,\n",
      "Original Word: understanding,Stemmed Word: understand\n",
      "Original Word: ,,Stemmed Word: ,\n",
      "Original Word: and,Stemmed Word: and\n",
      "Original Word: generating,Stemmed Word: gener\n",
      "Original Word: human,Stemmed Word: human\n",
      "Original Word: language,Stemmed Word: languag\n",
      "Original Word: ,,Stemmed Word: ,\n",
      "Original Word: enabling,Stemmed Word: enabl\n",
      "Original Word: applications,Stemmed Word: applic\n",
      "Original Word: such,Stemmed Word: such\n",
      "Original Word: as,Stemmed Word: as\n",
      "Original Word: machine,Stemmed Word: machin\n",
      "Original Word: translation,Stemmed Word: translat\n",
      "Original Word: ,,Stemmed Word: ,\n",
      "Original Word: chatbots,Stemmed Word: chatbot\n",
      "Original Word: ,,Stemmed Word: ,\n",
      "Original Word: sentiment,Stemmed Word: sentiment\n",
      "Original Word: analysis,Stemmed Word: analysi\n",
      "Original Word: ,,Stemmed Word: ,\n",
      "Original Word: and,Stemmed Word: and\n",
      "Original Word: speech,Stemmed Word: speech\n",
      "Original Word: recognition,Stemmed Word: recognit\n"
     ]
    }
   ],
   "source": [
    "from nltk.stem import PorterStemmer\n",
    "from nltk.tokenize import word_tokenize,sent_tokenize\n",
    "text = \"\"\"Natural Language Processing is a subfield of artificial intelligence that focuses on the interaction between computers and humans using natural language. It involves techniques for analyzing, understanding, and generating human language, enabling applications such as machine translation, chatbots, sentiment analysis, and speech recognition\"\"\"\n",
    "text = text.lower()\n",
    "tokens = word_tokenize(text)\n",
    "stemmer = PorterStemmer()\n",
    "for token in tokens:\n",
    "    print(f\"Original Word: {token},Stemmed Word: {stemmer.stem(token)}\")\n"
   ]
  },
  {
   "cell_type": "code",
   "execution_count": 14,
   "metadata": {},
   "outputs": [
    {
     "name": "stdout",
     "output_type": "stream",
     "text": [
      "Original Word: natural,Stemmed Word: natural\n",
      "Original Word: language,Stemmed Word: language\n",
      "Original Word: processing,Stemmed Word: processing\n",
      "Original Word: is,Stemmed Word: is\n",
      "Original Word: a,Stemmed Word: a\n",
      "Original Word: subfield,Stemmed Word: subfield\n",
      "Original Word: of,Stemmed Word: of\n",
      "Original Word: artificial,Stemmed Word: artificial\n",
      "Original Word: intelligence,Stemmed Word: intelligence\n",
      "Original Word: that,Stemmed Word: that\n",
      "Original Word: focuses,Stemmed Word: focus\n",
      "Original Word: on,Stemmed Word: on\n",
      "Original Word: the,Stemmed Word: the\n",
      "Original Word: interaction,Stemmed Word: interaction\n",
      "Original Word: between,Stemmed Word: between\n",
      "Original Word: computers,Stemmed Word: computer\n",
      "Original Word: and,Stemmed Word: and\n",
      "Original Word: humans,Stemmed Word: human\n",
      "Original Word: using,Stemmed Word: using\n",
      "Original Word: natural,Stemmed Word: natural\n",
      "Original Word: language,Stemmed Word: language\n",
      "Original Word: .,Stemmed Word: .\n",
      "Original Word: it,Stemmed Word: it\n",
      "Original Word: involves,Stemmed Word: involves\n",
      "Original Word: techniques,Stemmed Word: technique\n",
      "Original Word: for,Stemmed Word: for\n",
      "Original Word: analyzing,Stemmed Word: analyzing\n",
      "Original Word: ,,Stemmed Word: ,\n",
      "Original Word: understanding,Stemmed Word: understanding\n",
      "Original Word: ,,Stemmed Word: ,\n",
      "Original Word: and,Stemmed Word: and\n",
      "Original Word: generating,Stemmed Word: generating\n",
      "Original Word: human,Stemmed Word: human\n",
      "Original Word: language,Stemmed Word: language\n",
      "Original Word: ,,Stemmed Word: ,\n",
      "Original Word: enabling,Stemmed Word: enabling\n",
      "Original Word: applications,Stemmed Word: application\n",
      "Original Word: such,Stemmed Word: such\n",
      "Original Word: as,Stemmed Word: a\n",
      "Original Word: machine,Stemmed Word: machine\n",
      "Original Word: translation,Stemmed Word: translation\n",
      "Original Word: ,,Stemmed Word: ,\n",
      "Original Word: chatbots,Stemmed Word: chatbots\n",
      "Original Word: ,,Stemmed Word: ,\n",
      "Original Word: sentiment,Stemmed Word: sentiment\n",
      "Original Word: analysis,Stemmed Word: analysis\n",
      "Original Word: ,,Stemmed Word: ,\n",
      "Original Word: and,Stemmed Word: and\n",
      "Original Word: speech,Stemmed Word: speech\n",
      "Original Word: recognition,Stemmed Word: recognition\n"
     ]
    }
   ],
   "source": [
    "from nltk.stem import WordNetLemmatizer\n",
    "from nltk.tokenize import word_tokenize,sent_tokenize\n",
    "text = \"\"\"Natural Language Processing is a subfield of artificial intelligence that focuses on the interaction between computers and humans using natural language. It involves techniques for analyzing, understanding, and generating human language, enabling applications such as machine translation, chatbots, sentiment analysis, and speech recognition\"\"\"\n",
    "text = text.lower()\n",
    "tokens = word_tokenize(text)\n",
    "lemmatizer = WordNetLemmatizer()\n",
    "for token in tokens:\n",
    "    print(f\"Original Word: {token},Stemmed Word: {lemmatizer.lemmatize(token)}\")"
   ]
  },
  {
   "cell_type": "code",
   "execution_count": 16,
   "metadata": {},
   "outputs": [
    {
     "name": "stdout",
     "output_type": "stream",
     "text": [
      "Original Word: natural, POS Tag: JJ, WordNet POS: a, Lemmatized Word: natural\n",
      "Original Word: language, POS Tag: NN, WordNet POS: n, Lemmatized Word: language\n",
      "Original Word: processing, POS Tag: NN, WordNet POS: n, Lemmatized Word: processing\n",
      "Original Word: is, POS Tag: VBZ, WordNet POS: v, Lemmatized Word: be\n",
      "Original Word: a, POS Tag: DT, WordNet POS: n, Lemmatized Word: a\n",
      "Original Word: subfield, POS Tag: NN, WordNet POS: n, Lemmatized Word: subfield\n",
      "Original Word: of, POS Tag: IN, WordNet POS: n, Lemmatized Word: of\n",
      "Original Word: artificial, POS Tag: JJ, WordNet POS: a, Lemmatized Word: artificial\n",
      "Original Word: intelligence, POS Tag: NN, WordNet POS: n, Lemmatized Word: intelligence\n",
      "Original Word: that, POS Tag: WDT, WordNet POS: n, Lemmatized Word: that\n",
      "Original Word: focuses, POS Tag: VBZ, WordNet POS: v, Lemmatized Word: focus\n",
      "Original Word: on, POS Tag: IN, WordNet POS: n, Lemmatized Word: on\n",
      "Original Word: the, POS Tag: DT, WordNet POS: n, Lemmatized Word: the\n",
      "Original Word: interaction, POS Tag: NN, WordNet POS: n, Lemmatized Word: interaction\n",
      "Original Word: between, POS Tag: IN, WordNet POS: n, Lemmatized Word: between\n",
      "Original Word: computers, POS Tag: NNS, WordNet POS: n, Lemmatized Word: computer\n",
      "Original Word: and, POS Tag: CC, WordNet POS: n, Lemmatized Word: and\n",
      "Original Word: humans, POS Tag: NNS, WordNet POS: n, Lemmatized Word: human\n",
      "Original Word: using, POS Tag: VBG, WordNet POS: v, Lemmatized Word: use\n",
      "Original Word: natural, POS Tag: JJ, WordNet POS: a, Lemmatized Word: natural\n",
      "Original Word: language, POS Tag: NN, WordNet POS: n, Lemmatized Word: language\n",
      "Original Word: ., POS Tag: ., WordNet POS: n, Lemmatized Word: .\n",
      "Original Word: it, POS Tag: PRP, WordNet POS: n, Lemmatized Word: it\n",
      "Original Word: involves, POS Tag: VBZ, WordNet POS: v, Lemmatized Word: involve\n",
      "Original Word: techniques, POS Tag: NNS, WordNet POS: n, Lemmatized Word: technique\n",
      "Original Word: for, POS Tag: IN, WordNet POS: n, Lemmatized Word: for\n",
      "Original Word: analyzing, POS Tag: VBG, WordNet POS: v, Lemmatized Word: analyze\n",
      "Original Word: ,, POS Tag: ,, WordNet POS: n, Lemmatized Word: ,\n",
      "Original Word: understanding, POS Tag: NN, WordNet POS: n, Lemmatized Word: understanding\n",
      "Original Word: ,, POS Tag: ,, WordNet POS: n, Lemmatized Word: ,\n",
      "Original Word: and, POS Tag: CC, WordNet POS: n, Lemmatized Word: and\n",
      "Original Word: generating, POS Tag: VBG, WordNet POS: v, Lemmatized Word: generate\n",
      "Original Word: human, POS Tag: JJ, WordNet POS: a, Lemmatized Word: human\n",
      "Original Word: language, POS Tag: NN, WordNet POS: n, Lemmatized Word: language\n",
      "Original Word: ,, POS Tag: ,, WordNet POS: n, Lemmatized Word: ,\n",
      "Original Word: enabling, POS Tag: VBG, WordNet POS: v, Lemmatized Word: enable\n",
      "Original Word: applications, POS Tag: NNS, WordNet POS: n, Lemmatized Word: application\n",
      "Original Word: such, POS Tag: JJ, WordNet POS: a, Lemmatized Word: such\n",
      "Original Word: as, POS Tag: IN, WordNet POS: n, Lemmatized Word: a\n",
      "Original Word: machine, POS Tag: NN, WordNet POS: n, Lemmatized Word: machine\n",
      "Original Word: translation, POS Tag: NN, WordNet POS: n, Lemmatized Word: translation\n",
      "Original Word: ,, POS Tag: ,, WordNet POS: n, Lemmatized Word: ,\n",
      "Original Word: chatbots, POS Tag: NNS, WordNet POS: n, Lemmatized Word: chatbots\n",
      "Original Word: ,, POS Tag: ,, WordNet POS: n, Lemmatized Word: ,\n",
      "Original Word: sentiment, POS Tag: NN, WordNet POS: n, Lemmatized Word: sentiment\n",
      "Original Word: analysis, POS Tag: NN, WordNet POS: n, Lemmatized Word: analysis\n",
      "Original Word: ,, POS Tag: ,, WordNet POS: n, Lemmatized Word: ,\n",
      "Original Word: and, POS Tag: CC, WordNet POS: n, Lemmatized Word: and\n",
      "Original Word: speech, POS Tag: NN, WordNet POS: n, Lemmatized Word: speech\n",
      "Original Word: recognition, POS Tag: NN, WordNet POS: n, Lemmatized Word: recognition\n"
     ]
    }
   ],
   "source": [
    "from nltk.stem import WordNetLemmatizer\n",
    "from nltk.tokenize import word_tokenize, sent_tokenize\n",
    "from nltk.corpus import wordnet\n",
    "from nltk import pos_tag\n",
    "\n",
    "# Function to convert nltk POS tags to WordNet POS tags\n",
    "def get_wordnet_pos(tag):\n",
    "    if tag.startswith('J'):\n",
    "        return wordnet.ADJ\n",
    "    elif tag.startswith('V'):\n",
    "        return wordnet.VERB\n",
    "    elif tag.startswith('N'):\n",
    "        return wordnet.NOUN\n",
    "    elif tag.startswith('R'):\n",
    "        return wordnet.ADV\n",
    "    else:\n",
    "        return wordnet.NOUN\n",
    "\n",
    "text = \"\"\"Natural Language Processing is a subfield of artificial intelligence that focuses on the interaction between computers and humans using natural language. It involves techniques for analyzing, understanding, and generating human language, enabling applications such as machine translation, chatbots, sentiment analysis, and speech recognition\"\"\"\n",
    "text = text.lower()\n",
    "tokens = word_tokenize(text)\n",
    "lemmatizer = WordNetLemmatizer()\n",
    "pos_tags = pos_tag(tokens)\n",
    "\n",
    "for token, tag in pos_tags:\n",
    "    wordnet_pos = get_wordnet_pos(tag)\n",
    "    lemmatized_word = lemmatizer.lemmatize(token, wordnet_pos)\n",
    "    print(f\"Original Word: {token}, POS Tag: {tag}, WordNet POS: {wordnet_pos}, Lemmatized Word: {lemmatized_word}\")"
   ]
  },
  {
   "cell_type": "code",
   "execution_count": null,
   "metadata": {},
   "outputs": [],
   "source": []
  }
 ],
 "metadata": {
  "kernelspec": {
   "display_name": "py310",
   "language": "python",
   "name": "python3"
  },
  "language_info": {
   "codemirror_mode": {
    "name": "ipython",
    "version": 3
   },
   "file_extension": ".py",
   "mimetype": "text/x-python",
   "name": "python",
   "nbconvert_exporter": "python",
   "pygments_lexer": "ipython3",
   "version": "3.10.14"
  }
 },
 "nbformat": 4,
 "nbformat_minor": 2
}
