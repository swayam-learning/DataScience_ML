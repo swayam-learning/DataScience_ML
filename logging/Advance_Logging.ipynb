{
 "cells": [
  {
   "cell_type": "code",
   "execution_count": 4,
   "id": "ecff0cef",
   "metadata": {},
   "outputs": [],
   "source": [
    "import logging"
   ]
  },
  {
   "cell_type": "code",
   "execution_count": 5,
   "id": "d6cb4bcc",
   "metadata": {},
   "outputs": [],
   "source": [
    "\n",
    "logging.basicConfig(filename=\"loggin101.log\",level=logging.INFO,format=\"%(asctime)s:%(levelname)s:%(name)s:%(message)s\")"
   ]
  },
  {
   "cell_type": "code",
   "execution_count": 3,
   "id": "73cbdf71",
   "metadata": {},
   "outputs": [],
   "source": [
    "def add(a,b):\n",
    "    return a+b\n",
    "def sub(a,b):\n",
    "    return a-b\n",
    "def mul(a,b):\n",
    "    return a*b\n",
    "def div(a,b):\n",
    "    return a/b\n",
    "def mod(a,b):\n",
    "    return a%b\n",
    "\n",
    "a=100\n",
    "b=20\n",
    "add_result=add(a,b)\n",
    "logging.info('add {}+{}={}'.format(a,b,add_result))\n",
    "sub_result=sub(a,b)\n",
    "logging.info('sub {}-{}={}'.format(a,b,sub_result))\n",
    "mul_result=mul(a,b)\n",
    "logging.info('mul {}*{}={}'.format(a,b,mul_result))\n",
    "div_result=div(a,b)\n",
    "logging.info('div {}/{}={}'.format(a,b,div_result))\n",
    "mod_result=mod(a,b)\n",
    "logging.info('mod {}+{}={}'.format(a,b,mod_result))"
   ]
  },
  {
   "cell_type": "markdown",
   "id": "9a75f918",
   "metadata": {},
   "source": [
    "now the problem here is that we have two different function with two different log files but both have the same logging level and more than that they have the same logger that is root i.e debug so at a time we are able to run only one of the two function and update any one of the two log files and we are also mixing the two log files which is a problem\n",
    "#### solution 1: one way to solve this problem can be just changing log level for any one log file or we can restart the kernel for each of the function which is not  avery feasible option\n",
    "#### solution 2:"
   ]
  },
  {
   "cell_type": "code",
   "execution_count": 10,
   "id": "057514ef",
   "metadata": {},
   "outputs": [],
   "source": [
    "logging.basicConfig(filename=\"loggin102.log\",level=logging.DEBUG,format=\"%(asctime)s:%(levelname)s:%(name)s:%(message)s\")"
   ]
  },
  {
   "cell_type": "code",
   "execution_count": 11,
   "id": "55090121",
   "metadata": {},
   "outputs": [],
   "source": [
    "def add(a,b):\n",
    "    return a+b\n",
    "def sub(a,b):\n",
    "    return a-b\n",
    "def mul(a,b):\n",
    "    return a*b\n",
    "def div(a,b):\n",
    "    return a/b\n",
    "def mod(a,b):\n",
    "    return a%b\n",
    "\n",
    "a=240\n",
    "b=120\n",
    "add_result=add(a,b)\n",
    "logging.debug('add {}+{}={}'.format(a,b,add_result))\n",
    "sub_result=sub(a,b)\n",
    "logging.debug('sub {}-{}={}'.format(a,b,sub_result))\n",
    "mul_result=mul(a,b)\n",
    "logging.debug('mul {}*{}={}'.format(a,b,mul_result))\n",
    "div_result=div(a,b)\n",
    "logging.debug('div {}/{}={}'.format(a,b,div_result))\n",
    "mod_result=mod(a,b)\n",
    "logging.debug('mod {}+{}={}'.format(a,b,mod_result))"
   ]
  },
  {
   "cell_type": "markdown",
   "id": "c2769379",
   "metadata": {},
   "source": [
    " i had to restart the kernel for running the second logger file, if i had only run the first logger file"
   ]
  },
  {
   "cell_type": "markdown",
   "id": "b962d3d7",
   "metadata": {},
   "source": [
    "## Fixing the multiple logger name issue "
   ]
  },
  {
   "cell_type": "code",
   "execution_count": 3,
   "id": "804e72bd",
   "metadata": {},
   "outputs": [],
   "source": [
    "import logging\n",
    "logger = logging.getLogger(__name__)\n",
    "logger.setLevel(logging.INFO)\n",
    "formatter=logging.Formatter(\"%(asctime)s:%(levelname)s:%(name)s:%(message)s\")\n",
    "file_handler=logging.FileHandler(\"logging103.log\")\n",
    "file_handler.setFormatter(formatter)\n",
    "logger.addHandler(file_handler)\n",
    "# logging.basicConfig(filename=\"loggin103.log\",level=logging.INFO,format=\"%(asctime)s:%(levelname)s:%(name)s:%(message)s\")"
   ]
  },
  {
   "cell_type": "code",
   "execution_count": 12,
   "id": "47d3536b",
   "metadata": {},
   "outputs": [],
   "source": [
    "def add(a,b):\n",
    "    return a+b\n",
    "def sub(a,b):\n",
    "    return a-b\n",
    "def mul(a,b):\n",
    "    return a*b\n",
    "def div(a,b):\n",
    "    return a/b\n",
    "def mod(a,b):\n",
    "    return a%b\n",
    "\n",
    "a=110312\n",
    "b=202323\n",
    "add_result=add(a,b)\n",
    "logger.info('add {}+{}={}'.format(a,b,add_result))\n",
    "sub_result=sub(a,b)\n",
    "logger.info('sub {}-{}={}'.format(a,b,sub_result))\n",
    "mul_result=mul(a,b)\n",
    "logger.info('mul {}*{}={}'.format(a,b,mul_result))\n",
    "div_result=div(a,b)\n",
    "logger.info('div {}/{}={}'.format(a,b,div_result))\n",
    "mod_result=mod(a,b)\n",
    "logger.info('mod {}+{}={}'.format(a,b,mod_result))"
   ]
  },
  {
   "cell_type": "markdown",
   "id": "1fd6766f",
   "metadata": {},
   "source": [
    "So bascially we have change the whole basic logging into a much better and advance format which allows us to have multiple logger files and access them without any mixing up or going through restarting the kernel again and again"
   ]
  },
  {
   "cell_type": "code",
   "execution_count": 13,
   "id": "94aeb541",
   "metadata": {},
   "outputs": [],
   "source": [
    "import logging\n",
    "logger1 = logging.getLogger(__name__)\n",
    "logger1.setLevel(logging.DEBUG)\n",
    "formatter=logging.Formatter(\"%(asctime)s:%(levelname)s:%(name)s:%(message)s\")\n",
    "file_handler=logging.FileHandler(\"logging104.log\")\n",
    "file_handler.setFormatter(formatter)\n",
    "logger1.addHandler(file_handler)"
   ]
  },
  {
   "cell_type": "code",
   "execution_count": 15,
   "id": "3638cd93",
   "metadata": {},
   "outputs": [],
   "source": [
    "def add(a,b):\n",
    "    return a+b\n",
    "def sub(a,b):\n",
    "    return a-b\n",
    "def mul(a,b):\n",
    "    return a*b\n",
    "def div(a,b):\n",
    "    return a/b\n",
    "def mod(a,b):\n",
    "    return a%b\n",
    "\n",
    "a=528854181\n",
    "b=20236959\n",
    "add_result=add(a,b)\n",
    "logger1.info('add {}+{}={}'.format(a,b,add_result))\n",
    "sub_result=sub(a,b)\n",
    "logger1.info('sub {}-{}={}'.format(a,b,sub_result))\n",
    "mul_result=mul(a,b)\n",
    "logger1.info('mul {}*{}={}'.format(a,b,mul_result))\n",
    "div_result=div(a,b)\n",
    "logger1.info('div {}/{}={}'.format(a,b,div_result))\n",
    "mod_result=mod(a,b)\n",
    "logger1.info('mod {}+{}={}'.format(a,b,mod_result))"
   ]
  },
  {
   "cell_type": "markdown",
   "id": "5388ee25",
   "metadata": {},
   "source": [
    "now we are leveling up we are trying to use diffrenet levels at once and here we will try to show the error to the  log file and also show the result onto the console rather than just on the log file and for errors we can show only the errors or the whole traceback for better use"
   ]
  },
  {
   "cell_type": "code",
   "execution_count": 1,
   "id": "abd3faa9",
   "metadata": {},
   "outputs": [
    {
     "name": "stderr",
     "output_type": "stream",
     "text": [
      "2023-12-27 18:51:35,999:__main__:add 2424423+0=2424423\n",
      "2023-12-27 18:51:36,000:__main__:sub 2424423-0=2424423\n",
      "2023-12-27 18:51:36,000:__main__:mul 2424423*0=0\n",
      "2023-12-27 18:51:36,000:__main__:faulty division, do not try dividing any number by zero\n",
      "2023-12-27 18:51:36,001:__main__:div 2424423/0=None\n"
     ]
    }
   ],
   "source": [
    "import logging\n",
    "\n",
    "logger2 = logging.getLogger(__name__)\n",
    "logger2.setLevel(logging.DEBUG)\n",
    "\n",
    "formatter = logging.Formatter(\"%(asctime)s:%(name)s:%(message)s\")\n",
    "file_handler = logging.FileHandler(\"AdvancedLogger.log\")\n",
    "file_handler.setFormatter(formatter)\n",
    "file_handler.setLevel(logging.ERROR)\n",
    "\n",
    "stream_handler = logging.StreamHandler()  # Added a stream handler for console output\n",
    "stream_handler.setFormatter(formatter)\n",
    "\n",
    "logger2.addHandler(file_handler)\n",
    "logger2.addHandler(stream_handler)\n",
    "\n",
    "def add(a, b):\n",
    "    return a + b\n",
    "\n",
    "def sub(a, b):\n",
    "    return a - b\n",
    "\n",
    "def mul(a, b):\n",
    "    return a * b\n",
    "\n",
    "def div(a, b):\n",
    "    try:\n",
    "        result = a / b\n",
    "    except ZeroDivisionError:\n",
    "        logger2.error(\"faulty division, do not try dividing any number by zero\")\n",
    "        return None\n",
    "    else:\n",
    "        return result\n",
    "\n",
    "a = 2424423\n",
    "b = 0\n",
    "\n",
    "add_result = add(a, b)\n",
    "logger2.debug('add {}+{}={}'.format(a, b, add_result))\n",
    "\n",
    "sub_result = sub(a, b)\n",
    "logger2.debug('sub {}-{}={}'.format(a, b, sub_result))\n",
    "\n",
    "mul_result = mul(a, b)\n",
    "logger2.debug('mul {}*{}={}'.format(a, b, mul_result))\n",
    "\n",
    "div_result = div(a, b)\n",
    "logger2.debug('div {}/{}={}'.format(a, b, div_result))\n"
   ]
  },
  {
   "cell_type": "code",
   "execution_count": 2,
   "id": "3de4d6bc",
   "metadata": {},
   "outputs": [
    {
     "name": "stderr",
     "output_type": "stream",
     "text": [
      "2023-12-27 18:51:37,292:__main__:add 2424423+0=2424423\n",
      "2023-12-27 18:51:37,292:__main__:add 2424423+0=2424423\n",
      "2023-12-27 18:51:37,292:__main__:sub 2424423-0=2424423\n",
      "2023-12-27 18:51:37,292:__main__:sub 2424423-0=2424423\n",
      "2023-12-27 18:51:37,292:__main__:mul 2424423*0=0\n",
      "2023-12-27 18:51:37,292:__main__:mul 2424423*0=0\n",
      "2023-12-27 18:51:37,292:__main__:faulty division, do not try dividing any number by zero\n",
      "Traceback (most recent call last):\n",
      "  File \"C:\\Users\\hp\\AppData\\Local\\Temp\\ipykernel_3928\\118932932.py\", line 28, in div\n",
      "    result = a / b\n",
      "             ~~^~~\n",
      "ZeroDivisionError: division by zero\n",
      "2023-12-27 18:51:37,292:__main__:faulty division, do not try dividing any number by zero\n",
      "Traceback (most recent call last):\n",
      "  File \"C:\\Users\\hp\\AppData\\Local\\Temp\\ipykernel_3928\\118932932.py\", line 28, in div\n",
      "    result = a / b\n",
      "             ~~^~~\n",
      "ZeroDivisionError: division by zero\n",
      "2023-12-27 18:51:37,298:__main__:div 2424423/0=None\n",
      "2023-12-27 18:51:37,298:__main__:div 2424423/0=None\n"
     ]
    }
   ],
   "source": [
    "import logging\n",
    "\n",
    "logger3 = logging.getLogger(__name__)\n",
    "logger3.setLevel(logging.DEBUG)\n",
    "\n",
    "formatter = logging.Formatter(\"%(asctime)s:%(name)s:%(message)s\")\n",
    "file_handler = logging.FileHandler(\"AdvanceddLogger.log\")\n",
    "file_handler.setFormatter(formatter)\n",
    "file_handler.setLevel(logging.ERROR)\n",
    "\n",
    "stream_handler = logging.StreamHandler()  # Added a stream handler for console output\n",
    "stream_handler.setFormatter(formatter)\n",
    "\n",
    "logger3.addHandler(file_handler)\n",
    "logger3.addHandler(stream_handler)\n",
    "\n",
    "def add(a, b):\n",
    "    return a + b\n",
    "\n",
    "def sub(a, b):\n",
    "    return a - b\n",
    "\n",
    "def mul(a, b):\n",
    "    return a * b\n",
    "\n",
    "def div(a, b):\n",
    "    try:\n",
    "        result = a / b\n",
    "    except ZeroDivisionError:\n",
    "        logger3.exception(\"faulty division, do not try dividing any number by zero\")\n",
    "        return None\n",
    "    else:\n",
    "        return result\n",
    "\n",
    "a = 2424423\n",
    "b = 0\n",
    "\n",
    "add_result = add(a, b)\n",
    "logger3.debug('add {}+{}={}'.format(a, b, add_result))\n",
    "\n",
    "sub_result = sub(a, b)\n",
    "logger3.debug('sub {}-{}={}'.format(a, b, sub_result))\n",
    "\n",
    "mul_result = mul(a, b)\n",
    "logger3.debug('mul {}*{}={}'.format(a, b, mul_result))\n",
    "\n",
    "div_result = div(a, b)\n",
    "logger3.debug('div {}/{}={}'.format(a, b, div_result))\n"
   ]
  },
  {
   "cell_type": "code",
   "execution_count": null,
   "id": "c99e07d0",
   "metadata": {},
   "outputs": [],
   "source": []
  }
 ],
 "metadata": {
  "kernelspec": {
   "display_name": "Python 3 (ipykernel)",
   "language": "python",
   "name": "python3"
  },
  "language_info": {
   "codemirror_mode": {
    "name": "ipython",
    "version": 3
   },
   "file_extension": ".py",
   "mimetype": "text/x-python",
   "name": "python",
   "nbconvert_exporter": "python",
   "pygments_lexer": "ipython3",
   "version": "3.11.7"
  }
 },
 "nbformat": 4,
 "nbformat_minor": 5
}
