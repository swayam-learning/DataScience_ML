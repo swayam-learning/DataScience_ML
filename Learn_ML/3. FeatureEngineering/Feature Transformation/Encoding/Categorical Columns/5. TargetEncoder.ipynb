{
 "cells": [
  {
   "cell_type": "code",
   "execution_count": 1,
   "metadata": {},
   "outputs": [
    {
     "name": "stdout",
     "output_type": "stream",
     "text": [
      "   Feature  Target   Feature\n",
      "0        A       1  0.631436\n",
      "1        B       0  0.579948\n",
      "2        A       0  0.631436\n",
      "3        B       1  0.579948\n",
      "4        C       1  0.673791\n",
      "5        A       1  0.631436\n",
      "6        B       0  0.579948\n",
      "7        c       1  0.673791\n"
     ]
    }
   ],
   "source": [
    "import pandas as pd\n",
    "import category_encoders as ce\n",
    "data = {\n",
    "    \"Feature\" : [\"A\",\"B\",\"A\",\"B\",\"C\",\"A\",\"B\",\"c\"],\n",
    "    \"Target\" : [1,0,0,1,1,1,0,1]\n",
    "\n",
    "}\n",
    "df = pd.DataFrame(data=data)\n",
    "X = df.drop(columns =\"Target\",axis=1)\n",
    "y = df[\"Target\"]\n",
    "\n",
    "encoder = ce.TargetEncoder(cols=[\"Feature\"])\n",
    "encoder.fit(X,y)\n",
    "encoded = encoder.transform(X)\n",
    "print(pd.concat([df,encoded],axis=1))"
   ]
  },
  {
   "cell_type": "code",
   "execution_count": null,
   "metadata": {},
   "outputs": [],
   "source": []
  }
 ],
 "metadata": {
  "kernelspec": {
   "display_name": "base",
   "language": "python",
   "name": "python3"
  },
  "language_info": {
   "codemirror_mode": {
    "name": "ipython",
    "version": 3
   },
   "file_extension": ".py",
   "mimetype": "text/x-python",
   "name": "python",
   "nbconvert_exporter": "python",
   "pygments_lexer": "ipython3",
   "version": "3.12.4"
  }
 },
 "nbformat": 4,
 "nbformat_minor": 2
}
