{
 "cells": [
  {
   "cell_type": "markdown",
   "metadata": {},
   "source": [
    "## Feature Engineering\n",
    "<ol style=\"font-size: 20px; line-height: 1.2; padding-left: 0; margin-top: 0;\">\n",
    "  <li>Feature Transformation</li>\n",
    "  <ol style=\"font-size: 20px; line-height: 1.2; padding-left: 1; margin-top: 0;\">\n",
    "    <li>Missing value imputation</li>\n",
    "    <li>Handling Categorical Features</li>\n",
    "    <li>Outlier Detection</li>\n",
    "    <li>Feature Scaling</li></ol>\n",
    "  <li>Feature Construction</li>\n",
    "  <li>Feature Selection</li>\n",
    "  <li>Feature Extraction</li>\n",
    "</ol>"
   ]
  }
 ],
 "metadata": {
  "language_info": {
   "name": "python"
  }
 },
 "nbformat": 4,
 "nbformat_minor": 2
}
