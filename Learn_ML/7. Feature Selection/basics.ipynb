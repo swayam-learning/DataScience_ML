{
 "cells": [
  {
   "cell_type": "markdown",
   "metadata": {},
   "source": [
    "# Feature Selection"
   ]
  },
  {
   "cell_type": "markdown",
   "metadata": {},
   "source": [
    "```js\n",
    "why feature selection ?\n",
    "1. Curse of Dimensionality\n",
    "2. Computational Complexity\n",
    "3. Interpretability"
   ]
  },
  {
   "cell_type": "markdown",
   "metadata": {},
   "source": [
    "```js\n",
    "Types of Feature Selection\n",
    "1. Filter Based Technique\n",
    "2. Wrapper Based Technique\n",
    "3. Embedded Technique\n",
    "4. Hybrid Technique\n",
    "```"
   ]
  },
  {
   "cell_type": "markdown",
   "metadata": {},
   "source": []
  }
 ],
 "metadata": {
  "language_info": {
   "name": "python"
  }
 },
 "nbformat": 4,
 "nbformat_minor": 2
}
