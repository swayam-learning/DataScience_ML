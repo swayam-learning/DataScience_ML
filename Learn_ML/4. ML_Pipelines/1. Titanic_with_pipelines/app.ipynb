{
 "cells": [
  {
   "cell_type": "code",
   "execution_count": 1,
   "metadata": {},
   "outputs": [
    {
     "name": "stderr",
     "output_type": "stream",
     "text": [
      "2024-12-29 06:52:20.632 \n",
      "  \u001b[33m\u001b[1mWarning:\u001b[0m to view this Streamlit app on a browser, run it with the following\n",
      "  command:\n",
      "\n",
      "    streamlit run C:\\Users\\hp\\AppData\\Roaming\\Python\\Python312\\site-packages\\ipykernel_launcher.py [ARGUMENTS]\n"
     ]
    }
   ],
   "source": [
    "import streamlit as st\n",
    "import pickle\n",
    "import numpy as np\n",
    "\n",
    "# Load the trained model\n",
    "with open(r\"C:\\Users\\hp\\OneDrive\\codes\\python\\Learn_ML\\4. ML_Pipelines\\models\\pipe.pkl\", \"rb\") as file:\n",
    "    model = pickle.load(file)\n",
    "\n",
    "# Define the Streamlit app\n",
    "def main():\n",
    "    st.title(\"Titanic Survival Prediction App\")\n",
    "    st.write(\"Enter the passenger details to predict whether they would survive.\")\n",
    "    \n",
    "    # Input features for the model\n",
    "    pclass = st.selectbox(\"Passenger Class (Pclass)\", [1, 2, 3], format_func=lambda x: f\"Class {x}\")\n",
    "    sex = st.selectbox(\"Gender\", ['Male', 'Female'])\n",
    "    age = st.number_input(\"Age (in years)\", min_value=0, max_value=100, value=25)\n",
    "    sibsp = st.number_input(\"Number of Siblings/Spouses Aboard (SibSp)\", min_value=0, max_value=10, value=0)\n",
    "    parch = st.number_input(\"Number of Parents/Children Aboard (Parch)\", min_value=0, max_value=10, value=0)\n",
    "    fare = st.number_input(\"Fare (Ticket Price)\", min_value=0.0, value=10.0)\n",
    "    embarked = st.selectbox(\"Port of Embarkation (Embarked)\", ['C', 'Q', 'S'], format_func=lambda x: f\"{x} - {'Cherbourg' if x=='C' else 'Queenstown' if x=='Q' else 'Southampton'}\")\n",
    "\n",
    "    # Convert categorical data to numerical\n",
    "    sex = 0 if sex == 'Male' else 1\n",
    "    embarked_dict = {'C': 0, 'Q': 1, 'S': 2}  # Encoding for embarked\n",
    "    embarked = embarked_dict[embarked]\n",
    "\n",
    "    # Prepare the input for prediction\n",
    "    input_features = np.array([[pclass, sex, age, sibsp, parch, fare, embarked]])\n",
    "\n",
    "    # Predict using the model\n",
    "    if st.button(\"Predict\"):\n",
    "        prediction = model.predict(input_features)\n",
    "        survival = \"Survived\" if prediction[0] == 1 else \"Did Not Survive\"\n",
    "        st.write(f\"The passenger would have: **{survival}**\")\n",
    "\n",
    "if __name__ == '__main__':\n",
    "    main()\n"
   ]
  },
  {
   "cell_type": "code",
   "execution_count": null,
   "metadata": {},
   "outputs": [],
   "source": []
  }
 ],
 "metadata": {
  "kernelspec": {
   "display_name": "base",
   "language": "python",
   "name": "python3"
  },
  "language_info": {
   "codemirror_mode": {
    "name": "ipython",
    "version": 3
   },
   "file_extension": ".py",
   "mimetype": "text/x-python",
   "name": "python",
   "nbconvert_exporter": "python",
   "pygments_lexer": "ipython3",
   "version": "3.12.4"
  }
 },
 "nbformat": 4,
 "nbformat_minor": 2
}
