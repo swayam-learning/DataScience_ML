{
 "cells": [
  {
   "cell_type": "markdown",
   "id": "vanilla-clock",
   "metadata": {},
   "source": [
    "# Regular Expression"
   ]
  },
  {
   "cell_type": "markdown",
   "id": "entitled-drain",
   "metadata": {},
   "source": [
    "### Special Sequences"
   ]
  },
  {
   "cell_type": "code",
   "execution_count": null,
   "id": "compatible-helicopter",
   "metadata": {},
   "outputs": [],
   "source": [
    "1. \\d\n",
    "2. \\D\n",
    "3. \\w\n",
    "4. \\W\n",
    "5. \\s\n",
    "6. \\S\n",
    "7. \\b"
   ]
  },
  {
   "cell_type": "markdown",
   "id": "final-anniversary",
   "metadata": {},
   "source": [
    "# Regex Functions"
   ]
  },
  {
   "cell_type": "code",
   "execution_count": null,
   "id": "separate-worth",
   "metadata": {},
   "outputs": [],
   "source": [
    "1. findall()\n",
    "2. sub()\n",
    "3. match()\n",
    "4. search()"
   ]
  },
  {
   "cell_type": "markdown",
   "id": "bd2e542a",
   "metadata": {},
   "source": [
    "# 2. search"
   ]
  },
  {
   "cell_type": "raw",
   "id": "ba295256",
   "metadata": {},
   "source": [
    "It searches for a match and return an object of first occurrence only\n",
    "\n",
    "object  = re.search(pattern,text)\n",
    "object.group() >> Final searched pattern from the text\n",
    "object.start() >> Start index of pattern in text\n",
    "object.end()   >> End index of pattern in text"
   ]
  },
  {
   "cell_type": "code",
   "execution_count": 2,
   "id": "94da5766",
   "metadata": {},
   "outputs": [
    {
     "name": "stdout",
     "output_type": "stream",
     "text": [
      "<re.Match object; span=(12, 22), match='QWERT5678P'>\n",
      "QWERT5678P\n",
      "12\n",
      "22\n"
     ]
    }
   ],
   "source": [
    "# Find valid pan card numbers\n",
    "import re \n",
    "text = \"\"\"\n",
    "PAN CARDs \n",
    "QWERT5678P  \n",
    "QWERT2345P\n",
    "POIUY5678P\n",
    "9988776655\n",
    "1234467789\n",
    "QWEYU9876L\n",
    "      \n",
    "3456 9876 2345           \"\"\"\n",
    "\n",
    "result = re.search('[A-Z]{5}\\d{4}[A-Z]',text)\n",
    "print(result)\n",
    "print(result.group())\n",
    "print(result.start())\n",
    "print(result.end())"
   ]
  },
  {
   "cell_type": "code",
   "execution_count": 7,
   "id": "cd725668",
   "metadata": {},
   "outputs": [
    {
     "name": "stdout",
     "output_type": "stream",
     "text": [
      "Pancard number found\n",
      "QWERT5678P\n"
     ]
    }
   ],
   "source": [
    "# Find valid pan card numbers   (use if condition)\n",
    "text = \"\"\"\n",
    "PAN CARDs \n",
    "QWERT5678P  \n",
    "QWERT2345P\n",
    "POIUY5678P\n",
    "9988776655\n",
    "1234467789\n",
    "QWEYU9876L\n",
    "      \n",
    "3456 9876 2345           \"\"\"\n",
    "result = re.search('[A-Z]{5}\\d{4}[A-Z]',text)\n",
    "if result:\n",
    "    print('Pancard number found')\n",
    "    print(result.group())\n",
    "else:\n",
    "    print('Pancard number not found')"
   ]
  },
  {
   "cell_type": "code",
   "execution_count": 8,
   "id": "4d8cbcef",
   "metadata": {},
   "outputs": [
    {
     "name": "stdout",
     "output_type": "stream",
     "text": [
      "Pancard number not found\n"
     ]
    }
   ],
   "source": [
    "# Find valid pan card numbers   (use if condition)\n",
    "text = \"\"\"\n",
    "PAN CARDs \n",
    "9988776655\n",
    "1234467789\n",
    "      \n",
    "3456 9876 2345           \"\"\"\n",
    "result = re.search('[A-Z]{5}\\d{4}[A-Z]',text)\n",
    "if result:\n",
    "    print('Pancard number found')\n",
    "    print(result.group())\n",
    "else:\n",
    "    print('Pancard number not found')"
   ]
  },
  {
   "cell_type": "markdown",
   "id": "b3d67c86",
   "metadata": {},
   "source": [
    "# 3. match"
   ]
  },
  {
   "cell_type": "raw",
   "id": "28bcdb6c",
   "metadata": {},
   "source": [
    "It searches for a match at the begining of string and return an object\n",
    "result = re.match(pattern,text)\n",
    "result.group()"
   ]
  },
  {
   "cell_type": "code",
   "execution_count": 13,
   "id": "57af6354",
   "metadata": {},
   "outputs": [
    {
     "name": "stdout",
     "output_type": "stream",
     "text": [
      "Pancard number not found\n"
     ]
    }
   ],
   "source": [
    "# Find whether pancard number is at the start of string or not (use if else condition)\n",
    "text = \"\"\"PAN CARDs \n",
    "QWERT5678P  \n",
    "QWERT2345P\n",
    "POIUY5678P\n",
    "9988776655\n",
    "1234467789\n",
    "QWEYU9876L\n",
    "      \n",
    "3456 9876 2345           \"\"\"\n",
    "\n",
    "result = re.match('[A-Z]{5}\\d{4}[A-Z]',text)\n",
    "# print(result)\n",
    "\n",
    "if result:\n",
    "    print('Pancard number found')\n",
    "    print(result.group())\n",
    "else:\n",
    "    print('Pancard number not found')"
   ]
  },
  {
   "cell_type": "code",
   "execution_count": 14,
   "id": "cfde6b1c",
   "metadata": {},
   "outputs": [
    {
     "ename": "AttributeError",
     "evalue": "'NoneType' object has no attribute 'group'",
     "output_type": "error",
     "traceback": [
      "\u001b[1;31m---------------------------------------------------------------------------\u001b[0m",
      "\u001b[1;31mAttributeError\u001b[0m                            Traceback (most recent call last)",
      "\u001b[1;32mC:\\Users\\SUSHIL~1\\AppData\\Local\\Temp/ipykernel_17932/1763208561.py\u001b[0m in \u001b[0;36m<module>\u001b[1;34m\u001b[0m\n\u001b[1;32m----> 1\u001b[1;33m \u001b[0mresult\u001b[0m\u001b[1;33m.\u001b[0m\u001b[0mgroup\u001b[0m\u001b[1;33m(\u001b[0m\u001b[1;33m)\u001b[0m\u001b[1;33m\u001b[0m\u001b[1;33m\u001b[0m\u001b[0m\n\u001b[0m",
      "\u001b[1;31mAttributeError\u001b[0m: 'NoneType' object has no attribute 'group'"
     ]
    }
   ],
   "source": [
    "result.group()"
   ]
  },
  {
   "cell_type": "code",
   "execution_count": 3,
   "id": "7f2dd393",
   "metadata": {},
   "outputs": [
    {
     "name": "stdout",
     "output_type": "stream",
     "text": [
      "Pattern found\n",
      "WERTY\n"
     ]
    }
   ],
   "source": [
    "# Find whether 3 uppercase characters are occuring at start of string or not (use if else condition)\n",
    "text = \"\"\"WERTYU CARDs \n",
    "QWERT5678P  \n",
    "QWERT2345P\n",
    "POIUY5678P\n",
    "9988776655\n",
    "1234467789\n",
    "QWEYU9876L\n",
    "      \n",
    "3456 9876 2345           \"\"\"\n",
    "\n",
    "result = re.match('[A-Z]{5}',text)\n",
    "if result:\n",
    "    print('Pattern found')\n",
    "    print(result.group())\n",
    "else:\n",
    "    print('Pattern not found')"
   ]
  },
  {
   "cell_type": "code",
   "execution_count": 18,
   "id": "3be28eef",
   "metadata": {},
   "outputs": [
    {
     "name": "stdout",
     "output_type": "stream",
     "text": [
      "Pattern found\n",
      "WERTY\n"
     ]
    }
   ],
   "source": [
    "# Find whether 5 uppercase characters are occuring at start of string or not (use if else condition)\n",
    "text = \"\"\"WERTYU CARDs \n",
    "QWERT5678P  \n",
    "QWERT2345P\n",
    "POIUY5678P\n",
    "9988776655\n",
    "1234467789\n",
    "QWEYU9876L\n",
    "      \n",
    "3456 9876 2345           \"\"\"\n",
    "\n",
    "result = re.match('[A-Z]{5}',text)\n",
    "if result:\n",
    "    print('Pattern found')\n",
    "    print(result.group())\n",
    "else:\n",
    "    print('Pattern not found')"
   ]
  },
  {
   "cell_type": "code",
   "execution_count": 22,
   "id": "7d57ebd9",
   "metadata": {},
   "outputs": [
    {
     "name": "stdout",
     "output_type": "stream",
     "text": [
      "Pattern found\n",
      "python\n"
     ]
    }
   ],
   "source": [
    "# Find whether python is occuring at start of string or not (use if else condition)\n",
    "text = \"\"\"python class \n",
    "QWERT5678P  \n",
    "QWERT2345P\n",
    "POIUY5678P\n",
    "9988776655\n",
    "1234467789\n",
    "QWEYU9876L\n",
    "      \n",
    "3456 9876 2345           \"\"\"\n",
    "\n",
    "result = re.match('python',text)\n",
    "if result:\n",
    "    print('Pattern found')\n",
    "    print(result.group())\n",
    "else:\n",
    "    print('Pattern not found')"
   ]
  },
  {
   "cell_type": "markdown",
   "id": "316ba765",
   "metadata": {},
   "source": [
    "# 4. sub"
   ]
  },
  {
   "cell_type": "code",
   "execution_count": null,
   "id": "7c1e6acf",
   "metadata": {},
   "outputs": [],
   "source": [
    "new_text = re.sub(pattern, new_string, text)\n",
    "data type of new_text variable will be str"
   ]
  },
  {
   "cell_type": "code",
   "execution_count": 25,
   "id": "5b2c8eee",
   "metadata": {},
   "outputs": [
    {
     "name": "stdout",
     "output_type": "stream",
     "text": [
      "Python is an interdisciplinary field that uses scientific methods\n"
     ]
    }
   ],
   "source": [
    "# using string replace function replace Data science with Python\n",
    "string1 = \"Data science is an interdisciplinary field that uses scientific methods\"\n",
    "\n",
    "result = string1.replace('Data science','Python')\n",
    "print(result)"
   ]
  },
  {
   "cell_type": "code",
   "execution_count": 26,
   "id": "bfdd02d8",
   "metadata": {},
   "outputs": [
    {
     "name": "stdout",
     "output_type": "stream",
     "text": [
      "Data science is an interdisciplinary  field that uses 45678 scientific methods\n"
     ]
    }
   ],
   "source": [
    "# using string replace function replace 12345 with null string\n",
    "string = \"Data science is an interdisciplinary 12345 field that uses 45678 scientific methods\"\n",
    "\n",
    "\n",
    "result = string.replace('12345','')\n",
    "print(result)"
   ]
  },
  {
   "cell_type": "code",
   "execution_count": 32,
   "id": "c5af3865",
   "metadata": {},
   "outputs": [
    {
     "name": "stdout",
     "output_type": "stream",
     "text": [
      "Data science is an interdisciplinary  field that uses  scientific methods\n"
     ]
    }
   ],
   "source": [
    "# using string replace function remove all the numbers\n",
    "string = \"Data science is an interdisciplinary 12345 field that uses 45678 scientific methods\"\n",
    "result = string.replace('12345','').replace('45678','')\n",
    "print(result)"
   ]
  },
  {
   "cell_type": "code",
   "execution_count": 33,
   "id": "1be3fe0a",
   "metadata": {},
   "outputs": [
    {
     "name": "stdout",
     "output_type": "stream",
     "text": [
      "Data science is an interdisciplinary field that uses scientific methods\n"
     ]
    }
   ],
   "source": [
    "# using string replace function remove all the numbers\n",
    "string = \"Data science is an interdisciplinary 12345 field that uses 45678 scientific methods\"\n",
    "result = string.replace(' 12345','').replace(' 45678','')\n",
    "print(result)"
   ]
  },
  {
   "cell_type": "code",
   "execution_count": 36,
   "id": "19309d83",
   "metadata": {},
   "outputs": [
    {
     "name": "stdout",
     "output_type": "stream",
     "text": [
      "Datascienceisaninterdisciplinary12345fieldthatusesscientificmethods\n"
     ]
    }
   ],
   "source": [
    "# using string replace function remove the spaces\n",
    "string = \"Data     science is          an interdisciplinary 12345 field that uses scientific methods\"\n",
    "\n",
    "\n",
    "result = string.replace(' ','')\n",
    "print(result)"
   ]
  },
  {
   "cell_type": "code",
   "execution_count": 5,
   "id": "17d2ee1a",
   "metadata": {},
   "outputs": [
    {
     "name": "stdout",
     "output_type": "stream",
     "text": [
      "Data science isan interdisciplinary 12345 field that uses scientific methods\n"
     ]
    }
   ],
   "source": [
    "# using string replace function remove the spaces\n",
    "string = \"Data     science is          an interdisciplinary 12345 field that uses scientific methods\"\n",
    "\n",
    "\n",
    "result = string.replace('  ','')\n",
    "print(result)"
   ]
  },
  {
   "cell_type": "code",
   "execution_count": 15,
   "id": "cfff8003",
   "metadata": {},
   "outputs": [],
   "source": [
    "# using sub function replace numbers with +\n",
    "string = \"Data science is an @ #$%^&* :? interdisciplinary  456 12345 field that uses 45678 scientific methods\"\n"
   ]
  },
  {
   "cell_type": "code",
   "execution_count": 17,
   "id": "aec0be87",
   "metadata": {},
   "outputs": [],
   "source": [
    "# using sub function remove numbers\n",
    "string = \"Data science is an @ #$%^&* :? interdisciplinary  456 12345 field that uses 45678 scientific methods\"\n",
    "\n"
   ]
  },
  {
   "cell_type": "markdown",
   "id": "compact-alias",
   "metadata": {},
   "source": [
    "# Characters with Special Meaninig"
   ]
  },
  {
   "cell_type": "markdown",
   "id": "working-fiber",
   "metadata": {},
   "source": [
    "### 1. + (plus)"
   ]
  },
  {
   "cell_type": "raw",
   "id": "institutional-ecuador",
   "metadata": {},
   "source": [
    "+ >> One or more occurrences"
   ]
  },
  {
   "cell_type": "code",
   "execution_count": 39,
   "id": "243858c4",
   "metadata": {},
   "outputs": [
    {
     "name": "stdout",
     "output_type": "stream",
     "text": [
      "Data science is an interdisciplinary field that uses scientific methods\n"
     ]
    }
   ],
   "source": [
    "# Replace everything except alphabet with a space\n",
    "string = \"Data science is an @ #$%^&* :? interdisciplinary  456 12345 field that uses 45678 scientific methods\"\n",
    "\n",
    "result = re.sub('[^a-zA-Z]+',' ',string)\n",
    "print(result)"
   ]
  },
  {
   "cell_type": "code",
   "execution_count": 46,
   "id": "stretch-entrance",
   "metadata": {},
   "outputs": [
    {
     "name": "stdout",
     "output_type": "stream",
     "text": [
      "Data    science     is an interdisciplinary field that uses scientific methods, \n",
      "processes, algorithms   and systems to   extract knowledge\n"
     ]
    }
   ],
   "source": [
    "# Remove the inbetween spaces in the string   (without using + character)   cannot remove\n",
    "text = \"\"\"Data       science          is an interdisciplinary field that uses scientific methods, \n",
    "processes, algorithms     and systems  to      extract knowledge\"\"\"\n",
    "\n",
    "result = re.sub('  ',' ',text)\n",
    "print(result)"
   ]
  },
  {
   "cell_type": "code",
   "execution_count": 47,
   "id": "double-office",
   "metadata": {},
   "outputs": [
    {
     "name": "stdout",
     "output_type": "stream",
     "text": [
      "Data science is an interdisciplinary field that uses scientific methods, \n",
      "processes, algorithms and systems to extract knowledge\n"
     ]
    }
   ],
   "source": [
    "# Remove the inbetween spaces in the string  (using + character)\n",
    "text = \"\"\"Data       science          is an interdisciplinary field that uses scientific methods, \n",
    "processes, algorithms     and systems  to      extract knowledge\"\"\"\n",
    "\n",
    "result = re.sub(' +',' ',text)\n",
    "print(result)                           # one or more space >> single space\n"
   ]
  },
  {
   "cell_type": "code",
   "execution_count": 49,
   "id": "binary-spray",
   "metadata": {},
   "outputs": [
    {
     "name": "stdout",
     "output_type": "stream",
     "text": [
      "Data science is an interdisciplinary field that uses scientific methods processes algorithms and systems to extract knowledge\n"
     ]
    }
   ],
   "source": [
    "# Replace everything except alphabets and numbers using space  (using \\W and + character)\n",
    "text = \"\"\"Data       science          is an interdisciplinary field that uses scientific methods, \n",
    "processes, algorithms   $%^@$  and systems  to     #$%^& extract knowledge\"\"\"\n",
    "\n",
    "result = re.sub('\\W+',' ',text)\n",
    "print(result)"
   ]
  },
  {
   "cell_type": "code",
   "execution_count": 50,
   "id": "comparative-gentleman",
   "metadata": {},
   "outputs": [
    {
     "name": "stdout",
     "output_type": "stream",
     "text": [
      "Data science is an interdisciplinary field that uses scientific methods processes algorithms and systems to extract knowledge 12345\n"
     ]
    }
   ],
   "source": [
    "# Replace everything except alphabets and numbers using space  (using [^a-zA-Z0-9] and + character)\n",
    "text = \"\"\"Data       science          is an interdisciplinary field that uses scientific methods, \n",
    "processes, algorithms   $%^@$  and systems  to     #$%^& extract knowledge 12345\"\"\"\n",
    "\n",
    "result = re.sub('[^a-zA-Z0-9]+',' ',text)\n",
    "print(result)"
   ]
  },
  {
   "cell_type": "code",
   "execution_count": 51,
   "id": "central-spyware",
   "metadata": {},
   "outputs": [
    {
     "name": "stdout",
     "output_type": "stream",
     "text": [
      "['python', 'python']\n"
     ]
    }
   ],
   "source": [
    "# using findall function find python in text\n",
    "text = 'python and data science pythonnnn  pytttthon'\n",
    "\n",
    "result = re.findall('python',text)\n",
    "print(result)"
   ]
  },
  {
   "cell_type": "code",
   "execution_count": 53,
   "id": "right-sperm",
   "metadata": {},
   "outputs": [
    {
     "name": "stdout",
     "output_type": "stream",
     "text": [
      "['python', 'python', 'pytttthon', 'pytthon']\n"
     ]
    }
   ],
   "source": [
    "# using findall function find python in text with t for one or more occurences\n",
    "text = 'python and data science pythonnnn  pytttthon  pyhon pytthon'\n",
    "\n",
    "result = re.findall('pyt+hon',text)\n",
    "print(result)"
   ]
  },
  {
   "cell_type": "code",
   "execution_count": 54,
   "id": "alternate-diagnosis",
   "metadata": {},
   "outputs": [
    {
     "name": "stdout",
     "output_type": "stream",
     "text": [
      "['python', 'pythonnnn', 'pytttthon', 'pyttthonnnn', 'pytthon']\n"
     ]
    }
   ],
   "source": [
    "# using findall function find python in text with t and n for one or more occurences\n",
    "text = 'python and data science pythonnnn  pytttthon  pyttthonnnn  pyhon pytthon'\n",
    "\n",
    "result = re.findall('pyt+hon+',text)\n",
    "print(result)"
   ]
  },
  {
   "cell_type": "markdown",
   "id": "featured-replacement",
   "metadata": {},
   "source": [
    "### 2. * (star)"
   ]
  },
  {
   "cell_type": "code",
   "execution_count": null,
   "id": "normal-recall",
   "metadata": {},
   "outputs": [],
   "source": [
    "* >> zero or More occurrences"
   ]
  },
  {
   "cell_type": "code",
   "execution_count": 55,
   "id": "relevant-consultation",
   "metadata": {},
   "outputs": [
    {
     "name": "stdout",
     "output_type": "stream",
     "text": [
      "['python']\n"
     ]
    }
   ],
   "source": [
    "# using findall function find python in text\n",
    "text = 'python and data science pyhon pytthon'\n",
    "\n",
    "result = re.findall('python',text)\n",
    "print(result)"
   ]
  },
  {
   "cell_type": "code",
   "execution_count": 56,
   "id": "industrial-webmaster",
   "metadata": {},
   "outputs": [
    {
     "name": "stdout",
     "output_type": "stream",
     "text": [
      "['python', 'pytthon']\n"
     ]
    }
   ],
   "source": [
    "# using findall function find python in text with t for one or more occurences\n",
    "text = 'python and data science pyhon pytthon'\n",
    "\n",
    "\n",
    "result = re.findall('pyt+hon',text)\n",
    "print(result)"
   ]
  },
  {
   "cell_type": "code",
   "execution_count": 57,
   "id": "built-density",
   "metadata": {},
   "outputs": [
    {
     "name": "stdout",
     "output_type": "stream",
     "text": [
      "['python', 'pyhon', 'pytthon']\n"
     ]
    }
   ],
   "source": [
    "# using findall function find python in text with t for zero or more occurences\n",
    "text = 'python and data science pyhon pytthon'\n",
    "\n",
    "result = re.findall('pyt*hon',text)\n",
    "print(result)"
   ]
  },
  {
   "cell_type": "code",
   "execution_count": 59,
   "id": "sonic-depth",
   "metadata": {},
   "outputs": [
    {
     "name": "stdout",
     "output_type": "stream",
     "text": [
      "['python', 'pyhon']\n"
     ]
    }
   ],
   "source": [
    "# using findall function find python in text with t for zero or more occurences\n",
    "text = 'python and data science pyhon pytthhhhon'\n",
    "\n",
    "result = re.findall('pyt*hon',text)\n",
    "print(result)"
   ]
  },
  {
   "cell_type": "code",
   "execution_count": 60,
   "id": "informal-chest",
   "metadata": {},
   "outputs": [
    {
     "name": "stdout",
     "output_type": "stream",
     "text": [
      "['python', 'pyhon', 'pytthhhhon']\n"
     ]
    }
   ],
   "source": [
    "# using findall function find python in text with t and h for zero or more occurences \n",
    "text = 'python and data science pyhon pytthhhhon'\n",
    "\n",
    "result = re.findall('pyt*h*on',text)\n",
    "print(result)"
   ]
  },
  {
   "cell_type": "code",
   "execution_count": 61,
   "id": "wooden-gasoline",
   "metadata": {},
   "outputs": [
    {
     "name": "stdout",
     "output_type": "stream",
     "text": [
      "['python', 'pyhon', 'pytthhhhon']\n"
     ]
    }
   ],
   "source": [
    "# using findall function find python in text with t for zero or more occurences  and h for one or more occurences\n",
    "text = 'python and data science pyhon pytthhhhon'\n",
    "\n",
    "result = re.findall('pyt*h+on',text)\n",
    "print(result)"
   ]
  },
  {
   "cell_type": "markdown",
   "id": "attempted-delaware",
   "metadata": {},
   "source": [
    "# 3. dot(.)"
   ]
  },
  {
   "cell_type": "code",
   "execution_count": null,
   "id": "sweet-burden",
   "metadata": {},
   "outputs": [],
   "source": [
    "dot >> Any char (except new line)"
   ]
  },
  {
   "cell_type": "code",
   "execution_count": 62,
   "id": "fluid-dominant",
   "metadata": {},
   "outputs": [
    {
     "name": "stdout",
     "output_type": "stream",
     "text": [
      "['python']\n"
     ]
    }
   ],
   "source": [
    "# using findall funcion find python and include 2 dots in pattern\n",
    "text = 'python and data science pyhon pytthhhhon'\n",
    "\n",
    "result = re.findall('py..on',text)\n",
    "print(result)"
   ]
  },
  {
   "cell_type": "code",
   "execution_count": 63,
   "id": "f6cc8b8a",
   "metadata": {},
   "outputs": [
    {
     "name": "stdout",
     "output_type": "stream",
     "text": [
      "['python', 'pyh*on']\n"
     ]
    }
   ],
   "source": [
    "# using findall funcion find python and include 2 dots in pattern\n",
    "text = 'python and data science pyh*on pytthhhhon'\n",
    "\n",
    "result = re.findall('py..on',text)\n",
    "print(result)"
   ]
  },
  {
   "cell_type": "code",
   "execution_count": 64,
   "id": "paperback-closing",
   "metadata": {},
   "outputs": [
    {
     "name": "stdout",
     "output_type": "stream",
     "text": [
      "['python']\n"
     ]
    }
   ],
   "source": [
    "# using findall funcion find python and include 3 dots in pattern\n",
    "text = 'python and data science pyhon pytthhhhon'\n",
    "\n",
    "result = re.findall('py...n',text)\n",
    "print(result)"
   ]
  },
  {
   "cell_type": "code",
   "execution_count": 65,
   "id": "prerequisite-liver",
   "metadata": {},
   "outputs": [
    {
     "name": "stdout",
     "output_type": "stream",
     "text": [
      "['science']\n"
     ]
    }
   ],
   "source": [
    "# using findall funcion find science and include 2 dots in pattern\n",
    "text = 'python and data science pyhon pytthhhhon'\n",
    "\n",
    "result = re.findall('scien..',text)\n",
    "print(result)"
   ]
  },
  {
   "cell_type": "code",
   "execution_count": 66,
   "id": "067f142e",
   "metadata": {},
   "outputs": [
    {
     "name": "stdout",
     "output_type": "stream",
     "text": [
      "['scienc']\n"
     ]
    }
   ],
   "source": [
    "# using findall funcion find science and include 2 dots in pattern\n",
    "text = 'python and data science pyhon pytthhhhon'\n",
    "\n",
    "result = re.findall('scien.',text)\n",
    "print(result)"
   ]
  },
  {
   "cell_type": "code",
   "execution_count": 74,
   "id": "optional-grass",
   "metadata": {},
   "outputs": [
    {
     "name": "stdout",
     "output_type": "stream",
     "text": [
      "[]\n"
     ]
    }
   ],
   "source": [
    "# using findall funcion find mobile number and include 8 dots in pattern\n",
    "string = \"8812345656  8812343030  9812343030 7812343030 8898763030  8823456700\"\n",
    "\n",
    "result = re.findall('\\d.....\\d',text)\n",
    "print(result)"
   ]
  },
  {
   "cell_type": "code",
   "execution_count": 65,
   "id": "front-story",
   "metadata": {},
   "outputs": [],
   "source": [
    "# using findall funcion find mobile number and include 6 dots in pattern\n",
    "string = \"8812345656  8812343000  9812343030 7812343030 8898763030  8823456700\"\n"
   ]
  },
  {
   "cell_type": "code",
   "execution_count": 72,
   "id": "every-honey",
   "metadata": {},
   "outputs": [],
   "source": [
    "# using findall funcion find mobile number and include 7 dots in pattern\n",
    "string = \"8812345656  8812343000  9812343030 7812343030 8898763030  8823456700\"\n",
    "\n"
   ]
  },
  {
   "cell_type": "markdown",
   "id": "pursuant-democracy",
   "metadata": {},
   "source": [
    "# 4. ?"
   ]
  },
  {
   "cell_type": "raw",
   "id": "promotional-survey",
   "metadata": {},
   "source": [
    "It matches exactly zero or one char"
   ]
  },
  {
   "cell_type": "code",
   "execution_count": 75,
   "id": "constant-latter",
   "metadata": {},
   "outputs": [
    {
     "name": "stdout",
     "output_type": "stream",
     "text": [
      "['python']\n"
     ]
    }
   ],
   "source": [
    "# using findall function find python in string\n",
    "text = 'python and data science pyhon pytthhhhon'\n",
    "\n",
    "result = re.findall('python',text)\n",
    "print(result)"
   ]
  },
  {
   "cell_type": "code",
   "execution_count": 76,
   "id": "mechanical-anthony",
   "metadata": {},
   "outputs": [
    {
     "name": "stdout",
     "output_type": "stream",
     "text": [
      "['python', 'pyhon']\n"
     ]
    }
   ],
   "source": [
    "# using findall function find python in string with t for zero or one occurences    \n",
    "text = 'python and data science pyhon pytthon'        \n",
    "\n",
    "result = re.findall('pyt?hon',text)\n",
    "print(result)"
   ]
  },
  {
   "cell_type": "code",
   "execution_count": 77,
   "id": "positive-supplier",
   "metadata": {},
   "outputs": [
    {
     "name": "stdout",
     "output_type": "stream",
     "text": [
      "['python', 'pyhon', 'pytthon']\n"
     ]
    }
   ],
   "source": [
    "# using findall function find python in string with t for zero or more occurences \n",
    "text = 'python and data science pyhon pytthon'\n",
    "\n",
    "result = re.findall('pyt*hon',text)\n",
    "print(result)"
   ]
  },
  {
   "cell_type": "code",
   "execution_count": 78,
   "id": "collect-devices",
   "metadata": {},
   "outputs": [
    {
     "name": "stdout",
     "output_type": "stream",
     "text": [
      "['python', 'pyhon']\n"
     ]
    }
   ],
   "source": [
    "# using findall function find python in string with t for zero or one occurences \n",
    "text = 'python and data science pyhon pytthon'\n",
    "\n",
    "result = re.findall('pyt?hon',text)\n",
    "print(result)"
   ]
  },
  {
   "cell_type": "markdown",
   "id": "broke-pointer",
   "metadata": {},
   "source": [
    "# 5. ^ (startswith)"
   ]
  },
  {
   "cell_type": "code",
   "execution_count": null,
   "id": "f1de56f9",
   "metadata": {},
   "outputs": [],
   "source": [
    "Check starting of string"
   ]
  },
  {
   "cell_type": "code",
   "execution_count": 79,
   "id": "studied-gentleman",
   "metadata": {},
   "outputs": [
    {
     "name": "stdout",
     "output_type": "stream",
     "text": [
      "['8']\n"
     ]
    }
   ],
   "source": [
    "# Find 8 is occuring at starting of string or not\n",
    "string = \"8812345656  8812343000  9812343030 7812343030 8898763030  8823456700\"\n",
    "result = re.findall('^8',string)\n",
    "print(result)"
   ]
  },
  {
   "cell_type": "code",
   "execution_count": 80,
   "id": "professional-concrete",
   "metadata": {},
   "outputs": [
    {
     "name": "stdout",
     "output_type": "stream",
     "text": [
      "[]\n"
     ]
    }
   ],
   "source": [
    "# Find 8 is occuring at starting of string or not\n",
    "string = \"9812345656  8812343000  9812343030 7812343030 8898763030  8823456700\"\n",
    "result = re.findall('^8',string)\n",
    "print(result)"
   ]
  },
  {
   "cell_type": "code",
   "execution_count": 81,
   "id": "rough-suspect",
   "metadata": {},
   "outputs": [
    {
     "name": "stdout",
     "output_type": "stream",
     "text": [
      "[]\n"
     ]
    }
   ],
   "source": [
    "# Find 8 is occuring at starting of string or not\n",
    "string = \"7812345656  8812343000  9812343030 7812343030 8898763030  8823456700\"\n",
    "\n",
    "result = re.findall('^8',string)\n",
    "print(result)"
   ]
  },
  {
   "cell_type": "code",
   "execution_count": 82,
   "id": "cosmetic-subscription",
   "metadata": {},
   "outputs": [
    {
     "name": "stdout",
     "output_type": "stream",
     "text": [
      "['7']\n"
     ]
    }
   ],
   "source": [
    "# Find whether string is starting with any number using \\d\n",
    "string = \"7812345656  8812343000  9812343030 7812343030 8898763030  8823456700\"\n",
    "\n",
    "result = re.findall('^\\d',string)\n",
    "print(result)"
   ]
  },
  {
   "cell_type": "code",
   "execution_count": 83,
   "id": "yellow-respect",
   "metadata": {},
   "outputs": [
    {
     "name": "stdout",
     "output_type": "stream",
     "text": [
      "['7']\n"
     ]
    }
   ],
   "source": [
    "# Find whether string is starting with any number using [0-9]\n",
    "string = \"7812345656  8812343000  9812343030 7812343030 8898763030  8823456700\"\n",
    "\n",
    "result = re.findall('^[0-9]',string)\n",
    "print(result)"
   ]
  },
  {
   "cell_type": "code",
   "execution_count": 84,
   "id": "stylish-world",
   "metadata": {},
   "outputs": [
    {
     "name": "stdout",
     "output_type": "stream",
     "text": [
      "['9']\n"
     ]
    }
   ],
   "source": [
    "# Find whether string is starting with 9 or 8 or 7\n",
    "string = \"9812345656  8812343000  9812343030 7812343030 8898763030  8823456700\"\n",
    "\n",
    "result = re.findall('^[987]',string)\n",
    "print(result)"
   ]
  },
  {
   "cell_type": "code",
   "execution_count": 88,
   "id": "novel-tribute",
   "metadata": {},
   "outputs": [
    {
     "name": "stdout",
     "output_type": "stream",
     "text": [
      "['P']\n"
     ]
    }
   ],
   "source": [
    "# Find whether string is starting with any alphabet\n",
    "text = 'Python and data science pyhon pytthon'\n",
    "\n",
    "result = re.findall('^[A-Za-z]',text)\n",
    "print(result)"
   ]
  },
  {
   "cell_type": "code",
   "execution_count": 89,
   "id": "bound-prison",
   "metadata": {},
   "outputs": [
    {
     "name": "stdout",
     "output_type": "stream",
     "text": [
      "['Python']\n"
     ]
    }
   ],
   "source": [
    "# Find whether string is starting with any alphabet for 6 occurences\n",
    "text = 'Python and data science pyhon pytthon'\n",
    "\n",
    "result = re.findall('^[A-Za-z]{6}',text)\n",
    "print(result)"
   ]
  },
  {
   "cell_type": "code",
   "execution_count": 90,
   "id": "naughty-capability",
   "metadata": {},
   "outputs": [
    {
     "name": "stdout",
     "output_type": "stream",
     "text": [
      "[]\n"
     ]
    }
   ],
   "source": [
    "# Find whether string is starting with any alphabet for 6 occurences\n",
    "text = ' Python and data science pyhon pytthon'\n",
    "\n",
    "result = re.findall('^[A-Za-z]{6}',text)\n",
    "print(result)"
   ]
  },
  {
   "cell_type": "markdown",
   "id": "korean-minnesota",
   "metadata": {},
   "source": [
    "# 6. $ (endswith)"
   ]
  },
  {
   "cell_type": "code",
   "execution_count": 91,
   "id": "earned-abuse",
   "metadata": {},
   "outputs": [
    {
     "name": "stdout",
     "output_type": "stream",
     "text": [
      "['n']\n"
     ]
    }
   ],
   "source": [
    "# Find whether string is ending with n\n",
    "text = 'Python and data science pyhon pytthon'\n",
    "\n",
    "result = re.findall('n$',text)\n",
    "print(result)"
   ]
  },
  {
   "cell_type": "code",
   "execution_count": 92,
   "id": "suspended-juice",
   "metadata": {},
   "outputs": [
    {
     "name": "stdout",
     "output_type": "stream",
     "text": [
      "['pytthon']\n"
     ]
    }
   ],
   "source": [
    "# Find whether string is ending with pytthon\n",
    "text = 'Python and data science pyhon pytthon'\n",
    "\n",
    "result = re.findall('pytthon$',text)\n",
    "print(result)"
   ]
  },
  {
   "cell_type": "code",
   "execution_count": 94,
   "id": "meaningful-difference",
   "metadata": {},
   "outputs": [
    {
     "name": "stdout",
     "output_type": "stream",
     "text": [
      "[' ']\n"
     ]
    }
   ],
   "source": [
    "# Find whether string is ending with pytthon\n",
    "text = 'Python and data science pyhon pytthon '\n",
    "\n",
    "result = re.findall(' $',text)\n",
    "print(result)"
   ]
  },
  {
   "cell_type": "code",
   "execution_count": 95,
   "id": "e47014b1",
   "metadata": {},
   "outputs": [
    {
     "name": "stdout",
     "output_type": "stream",
     "text": [
      "[]\n"
     ]
    }
   ],
   "source": [
    "# Find whether string is ending with pytthon\n",
    "text = 'Python and data science pyhon pytthon '\n",
    "\n",
    "result = re.findall('pytthon$',text)\n",
    "print(result)"
   ]
  },
  {
   "cell_type": "code",
   "execution_count": 96,
   "id": "extraordinary-transfer",
   "metadata": {},
   "outputs": [
    {
     "name": "stdout",
     "output_type": "stream",
     "text": [
      "[]\n"
     ]
    }
   ],
   "source": [
    "# Find whether string is ending with any lowercase character\n",
    "text = 'Python and data science pyhon pytthon '\n",
    "\n",
    "result = re.findall('[a-z]$',text)\n",
    "print(result)"
   ]
  },
  {
   "cell_type": "code",
   "execution_count": 97,
   "id": "informal-shelter",
   "metadata": {},
   "outputs": [
    {
     "name": "stdout",
     "output_type": "stream",
     "text": [
      "[]\n"
     ]
    }
   ],
   "source": [
    "# Find whether string is ending with any lowercase character\n",
    "text = 'Python and data science pyhon pytthon 123456'\n",
    "\n",
    "result = re.findall('[a-z]$',text)\n",
    "print(result)"
   ]
  },
  {
   "cell_type": "code",
   "execution_count": 98,
   "id": "turned-dividend",
   "metadata": {},
   "outputs": [
    {
     "name": "stdout",
     "output_type": "stream",
     "text": [
      "[]\n"
     ]
    }
   ],
   "source": [
    "# Find whether string is ending with any number  (use if else)\n",
    "text = 'Python and data science pyhon pytthon 123456a'\n",
    "\n",
    "result = re.findall('[0-9]$',text)\n",
    "print(result)"
   ]
  },
  {
   "cell_type": "code",
   "execution_count": 99,
   "id": "trying-kuwait",
   "metadata": {},
   "outputs": [
    {
     "name": "stdout",
     "output_type": "stream",
     "text": [
      "['D']\n"
     ]
    }
   ],
   "source": [
    "# Find whether string is starting with D\n",
    "text = \"Data science is an interdisciplinary field that uses scientific methods\"\n",
    "\n",
    "result = re.findall('^D',text)\n",
    "print(result)"
   ]
  },
  {
   "cell_type": "code",
   "execution_count": 100,
   "id": "fatal-hollow",
   "metadata": {},
   "outputs": [
    {
     "data": {
      "text/plain": [
       "['Data']"
      ]
     },
     "execution_count": 100,
     "metadata": {},
     "output_type": "execute_result"
    }
   ],
   "source": [
    "text = \"Data science is an interdisciplinary field that uses scientific methods\"\n",
    "result = re.findall('^D...',text)\n",
    "result"
   ]
  },
  {
   "cell_type": "code",
   "execution_count": 101,
   "id": "narrative-joshua",
   "metadata": {},
   "outputs": [
    {
     "data": {
      "text/plain": [
       "['Data science is ']"
      ]
     },
     "execution_count": 101,
     "metadata": {},
     "output_type": "execute_result"
    }
   ],
   "source": [
    "text = \"Data science is an interdisciplinary field that uses scientific methods\"\n",
    "result = re.findall('^D...............',text)\n",
    "result"
   ]
  },
  {
   "cell_type": "code",
   "execution_count": 107,
   "id": "valid-composer",
   "metadata": {},
   "outputs": [
    {
     "data": {
      "text/plain": [
       "['Data science is an interdisciplinary field that uses scientific methods']"
      ]
     },
     "execution_count": 107,
     "metadata": {},
     "output_type": "execute_result"
    }
   ],
   "source": [
    "text = \"Data science is an interdisciplinary field that uses scientific methods\"\n",
    "result = re.findall('^D.*',text)\n",
    "result"
   ]
  },
  {
   "cell_type": "code",
   "execution_count": 102,
   "id": "charming-amendment",
   "metadata": {},
   "outputs": [
    {
     "data": {
      "text/plain": [
       "['Data science is an interdisciplinary field that uses scientific methods']"
      ]
     },
     "execution_count": 102,
     "metadata": {},
     "output_type": "execute_result"
    }
   ],
   "source": [
    "text = \"Data science is an interdisciplinary field that uses scientific methods\"\n",
    "result = re.findall('^D.+',text)\n",
    "result"
   ]
  },
  {
   "cell_type": "code",
   "execution_count": 103,
   "id": "incredible-detail",
   "metadata": {},
   "outputs": [
    {
     "data": {
      "text/plain": [
       "['Data science is an interdisciplinary field that uses scientific methods']"
      ]
     },
     "execution_count": 103,
     "metadata": {},
     "output_type": "execute_result"
    }
   ],
   "source": [
    "text = \"Data science is an interdisciplinary field that uses scientific methods\"\n",
    "result = re.findall('^D.+s$',text)\n",
    "result"
   ]
  },
  {
   "cell_type": "code",
   "execution_count": 104,
   "id": "conservative-arbitration",
   "metadata": {},
   "outputs": [
    {
     "data": {
      "text/plain": [
       "['Data science is an interdisciplinary field that uses scientific methods']"
      ]
     },
     "execution_count": 104,
     "metadata": {},
     "output_type": "execute_result"
    }
   ],
   "source": [
    "text = \"Data science is an interdisciplinary field that uses scientific methods\"\n",
    "result = re.findall('^D.+s$',text)\n",
    "result"
   ]
  },
  {
   "cell_type": "code",
   "execution_count": 105,
   "id": "missing-michigan",
   "metadata": {},
   "outputs": [
    {
     "data": {
      "text/plain": [
       "['Data science is an interdisciplinary field that uses scientific methods']"
      ]
     },
     "execution_count": 105,
     "metadata": {},
     "output_type": "execute_result"
    }
   ],
   "source": [
    "text = \"Data science is an interdisciplinary field that uses scientific methods\"\n",
    "result = re.findall('^D.+',text)\n",
    "result"
   ]
  },
  {
   "cell_type": "markdown",
   "id": "entire-rental",
   "metadata": {},
   "source": [
    "# 7. | (or)"
   ]
  },
  {
   "cell_type": "code",
   "execution_count": null,
   "id": "demanding-rebecca",
   "metadata": {},
   "outputs": [],
   "source": [
    "| >> or"
   ]
  },
  {
   "cell_type": "code",
   "execution_count": 107,
   "id": "renewable-rubber",
   "metadata": {},
   "outputs": [
    {
     "data": {
      "text/plain": [
       "['Data', 'science']"
      ]
     },
     "execution_count": 107,
     "metadata": {},
     "output_type": "execute_result"
    }
   ],
   "source": [
    "# Find Data or science in the text\n",
    "text = \"Data science is an interdisciplinary field that uses scientific methods\"\n",
    "\n",
    "result = re.findall('Data|science',text)\n",
    "result"
   ]
  },
  {
   "cell_type": "code",
   "execution_count": 108,
   "id": "affecting-progress",
   "metadata": {},
   "outputs": [
    {
     "data": {
      "text/plain": [
       "['Data', 'science', 'Data', 'science']"
      ]
     },
     "execution_count": 108,
     "metadata": {},
     "output_type": "execute_result"
    }
   ],
   "source": [
    "# Find Data or science in the text\n",
    "text = \"Data science is an Data interdisciplinary field that uses scientific methods, science\"\n",
    "result = re.findall('Data|science',text)\n",
    "result"
   ]
  },
  {
   "cell_type": "code",
   "execution_count": 109,
   "id": "flush-minority",
   "metadata": {},
   "outputs": [
    {
     "data": {
      "text/plain": [
       "['Data', 'science', '23456']"
      ]
     },
     "execution_count": 109,
     "metadata": {},
     "output_type": "execute_result"
    }
   ],
   "source": [
    "# Find Data or science or 23456 in the text\n",
    "text = \"Data science is an interdisciplinary field that uses scientific methods 23456 3456\"\n",
    "\n",
    "result = re.findall('Data|science|23456',text)\n",
    "result"
   ]
  },
  {
   "cell_type": "code",
   "execution_count": 110,
   "id": "aware-hospital",
   "metadata": {},
   "outputs": [
    {
     "data": {
      "text/plain": [
       "['Data', 'science', '2345', '3456']"
      ]
     },
     "execution_count": 110,
     "metadata": {},
     "output_type": "execute_result"
    }
   ],
   "source": [
    "# Find Data or science or (numbers for 4 occurence)  in the text\n",
    "text = \"Data science is an interdisciplinary field that uses scientific methods 23456 3456\"\n",
    "\n",
    "result = re.findall('Data|science|\\d{4}',text)\n",
    "result"
   ]
  },
  {
   "cell_type": "code",
   "execution_count": 111,
   "id": "nearby-aruba",
   "metadata": {},
   "outputs": [
    {
     "data": {
      "text/plain": [
       "['Data', 'science', '2345', '3456']"
      ]
     },
     "execution_count": 111,
     "metadata": {},
     "output_type": "execute_result"
    }
   ],
   "source": [
    "# Find Data or science or (numbers for 4 occurence)  in the text\n",
    "text = \"Data science is an interdisciplinary field that uses scientific methods 23456 3456\"\n",
    "\n",
    "result = re.findall('Data|science|\\d{4}',text)\n",
    "result"
   ]
  },
  {
   "cell_type": "code",
   "execution_count": 112,
   "id": "chemical-liberia",
   "metadata": {},
   "outputs": [
    {
     "data": {
      "text/plain": [
       "['22-12-2021']"
      ]
     },
     "execution_count": 112,
     "metadata": {},
     "output_type": "execute_result"
    }
   ],
   "source": [
    "# Find date with DD-MM-YYYY format only\n",
    "text = \"22-12-2021 and 22/10/2021\"\n",
    "\n",
    "result = re.findall('\\d{2}[-]\\d{2}[-]\\d{4}',text)\n",
    "result"
   ]
  },
  {
   "cell_type": "code",
   "execution_count": 113,
   "id": "inner-paintball",
   "metadata": {},
   "outputs": [
    {
     "data": {
      "text/plain": [
       "['22-12-2021', '22/10/2021']"
      ]
     },
     "execution_count": 113,
     "metadata": {},
     "output_type": "execute_result"
    }
   ],
   "source": [
    "# Find the dates from text\n",
    "text = \"22-12-2021 and 22/10/2021\"\n",
    "\n",
    "result = re.findall('\\d{2}[-/]\\d{2}[-/]\\d{4}',text)\n",
    "result"
   ]
  },
  {
   "cell_type": "code",
   "execution_count": 122,
   "id": "collective-young",
   "metadata": {},
   "outputs": [],
   "source": [
    "# Find all the dates from text\n",
    "text = \"23 12-12-2021 and 22/10/2021 03 Jan 2022\"\n",
    "\n"
   ]
  },
  {
   "cell_type": "code",
   "execution_count": 121,
   "id": "reserved-confirmation",
   "metadata": {},
   "outputs": [],
   "source": [
    "# Find all the valid dates from text\n",
    "text = \"23 12-12-2021 and 22/10/2021  22/10/6021 \"\n",
    "\n"
   ]
  },
  {
   "cell_type": "code",
   "execution_count": null,
   "id": "veterinary-corpus",
   "metadata": {},
   "outputs": [],
   "source": []
  },
  {
   "cell_type": "markdown",
   "id": "disciplinary-peace",
   "metadata": {},
   "source": [
    "# 9. ()"
   ]
  },
  {
   "cell_type": "raw",
   "id": "rolled-flush",
   "metadata": {},
   "source": [
    "group of char \n"
   ]
  },
  {
   "cell_type": "code",
   "execution_count": 2,
   "id": "southeast-shaft",
   "metadata": {},
   "outputs": [
    {
     "data": {
      "text/plain": [
       "'batwoman'"
      ]
     },
     "execution_count": 2,
     "metadata": {},
     "output_type": "execute_result"
    }
   ],
   "source": [
    "import re\n",
    "text = ' batwoman and batman'\n",
    "result = re.search('bat(wo)?man',text)\n",
    "result\n",
    "result.group()"
   ]
  },
  {
   "cell_type": "code",
   "execution_count": 154,
   "id": "played-algeria",
   "metadata": {},
   "outputs": [
    {
     "data": {
      "text/plain": [
       "<re.Match object; span=(1, 9), match='batwoman'>"
      ]
     },
     "execution_count": 154,
     "metadata": {},
     "output_type": "execute_result"
    }
   ],
   "source": [
    "text = ' batwoman and batman'\n",
    "result = re.search('bat(wo)?man',text)\n",
    "result"
   ]
  },
  {
   "cell_type": "code",
   "execution_count": null,
   "id": "representative-mirror",
   "metadata": {},
   "outputs": [],
   "source": []
  },
  {
   "cell_type": "markdown",
   "id": "committed-advice",
   "metadata": {},
   "source": [
    "# 5.compile "
   ]
  },
  {
   "cell_type": "code",
   "execution_count": null,
   "id": "greek-policy",
   "metadata": {},
   "outputs": [],
   "source": [
    "pattern = re.compile('write pattern')  >> return object\n",
    "result = pattern.search(string)        >> return string"
   ]
  },
  {
   "cell_type": "code",
   "execution_count": 156,
   "id": "alternate-theater",
   "metadata": {},
   "outputs": [],
   "source": [
    "string1 = '123-456-9876'\n",
    "string2 = '456-9876'\n",
    "string3 = '123-9876'\n",
    "string4 = '567-456-9876'\n",
    "string5 = '2123-456-9876'\n",
    "string6 = '123-456-9876'"
   ]
  },
  {
   "cell_type": "code",
   "execution_count": 159,
   "id": "closed-bristol",
   "metadata": {},
   "outputs": [
    {
     "data": {
      "text/plain": [
       "['123-456-9876']"
      ]
     },
     "execution_count": 159,
     "metadata": {},
     "output_type": "execute_result"
    }
   ],
   "source": [
    "string1 = '123-456-9876'\n",
    "result = re.findall('\\d{3}[-]\\d{3}[-]\\d{4}',string1)\n",
    "result"
   ]
  },
  {
   "cell_type": "code",
   "execution_count": 161,
   "id": "covered-passion",
   "metadata": {},
   "outputs": [
    {
     "data": {
      "text/plain": [
       "['567-456-9876']"
      ]
     },
     "execution_count": 161,
     "metadata": {},
     "output_type": "execute_result"
    }
   ],
   "source": [
    "string4 = '567-456-9876'\n",
    "result = re.findall('\\d{3}[-]\\d{3}[-]\\d{4}',string4)\n",
    "result"
   ]
  },
  {
   "cell_type": "code",
   "execution_count": 170,
   "id": "unusual-politics",
   "metadata": {},
   "outputs": [
    {
     "name": "stdout",
     "output_type": "stream",
     "text": [
      "123-456-9876\n"
     ]
    }
   ],
   "source": [
    "pattern = re.compile('\\d{3}[-]\\d{3}[-]\\d{4}')\n",
    "\n",
    "result = pattern.search(string1)\n",
    "if result:\n",
    "    print(result.group())"
   ]
  },
  {
   "cell_type": "code",
   "execution_count": 174,
   "id": "improved-break",
   "metadata": {},
   "outputs": [
    {
     "name": "stdout",
     "output_type": "stream",
     "text": [
      "567-596-9876\n"
     ]
    }
   ],
   "source": [
    "string4= '567-596-9876'\n",
    "result = pattern.search(string4)\n",
    "if result:\n",
    "    print(result.group())"
   ]
  },
  {
   "cell_type": "code",
   "execution_count": 181,
   "id": "elementary-import",
   "metadata": {},
   "outputs": [],
   "source": [
    "string1 = '123-456-9876'\n",
    "string2 = '456-9876'\n",
    "string3 = '123-9876'\n",
    "string4 = '567-456-9876'\n",
    "string5 = '2123-456-9876'\n",
    "string6 = '123-456-9876'\n",
    "\n",
    "pattern = re.compile('(\\d{3,4}[-])?\\d{3}[-]\\d{4}')\n",
    "\n",
    "result1 = pattern.search(string1)\n",
    "result2 = pattern.search(string2)\n",
    "result3 = pattern.search(string3)\n",
    "result4 = pattern.search(string4)\n",
    "result5 = pattern.search(string5)\n",
    "result6 = pattern.search(string6)\n"
   ]
  },
  {
   "cell_type": "code",
   "execution_count": 180,
   "id": "close-furniture",
   "metadata": {},
   "outputs": [
    {
     "name": "stdout",
     "output_type": "stream",
     "text": [
      "123-456-9876\n",
      "456-9876\n",
      "123-9876\n",
      "567-456-9876\n",
      "2123-456-9876\n",
      "123-456-9876\n"
     ]
    }
   ],
   "source": [
    "print(result1.group())\n",
    "print(result2.group())\n",
    "print(result3.group())\n",
    "print(result4.group())\n",
    "print(result5.group())\n",
    "print(result6.group())"
   ]
  },
  {
   "cell_type": "code",
   "execution_count": 17,
   "id": "2d5e1856",
   "metadata": {},
   "outputs": [],
   "source": [
    "string1 = '123-456-9876'\n",
    "string2 = '456-9876'\n",
    "string3 = '123-9876'\n",
    "string4 = '567-456-9876'\n",
    "string5 = '2123-456-9876'\n",
    "string6 = '123-456-9876'"
   ]
  },
  {
   "cell_type": "code",
   "execution_count": 28,
   "id": "8bf3e612",
   "metadata": {},
   "outputs": [],
   "source": [
    "pattern = re.compile(r'\\b\\d{3}[-]\\d{4}\\b')"
   ]
  },
  {
   "cell_type": "code",
   "execution_count": 30,
   "id": "02861e81",
   "metadata": {},
   "outputs": [
    {
     "data": {
      "text/plain": [
       "'456-9876'"
      ]
     },
     "execution_count": 30,
     "metadata": {},
     "output_type": "execute_result"
    }
   ],
   "source": [
    "result = pattern.search(string2)\n",
    "result.group()"
   ]
  },
  {
   "cell_type": "code",
   "execution_count": 31,
   "id": "b082adf7",
   "metadata": {},
   "outputs": [
    {
     "data": {
      "text/plain": [
       "'123-9876'"
      ]
     },
     "execution_count": 31,
     "metadata": {},
     "output_type": "execute_result"
    }
   ],
   "source": [
    "result = pattern.search(string3)\n",
    "result.group()"
   ]
  },
  {
   "cell_type": "code",
   "execution_count": 32,
   "id": "0fac86ed",
   "metadata": {},
   "outputs": [
    {
     "data": {
      "text/plain": [
       "'456-9876'"
      ]
     },
     "execution_count": 32,
     "metadata": {},
     "output_type": "execute_result"
    }
   ],
   "source": [
    "result = pattern.search(string4)\n",
    "result.group()"
   ]
  },
  {
   "cell_type": "code",
   "execution_count": 33,
   "id": "cfce4d3a",
   "metadata": {},
   "outputs": [
    {
     "data": {
      "text/plain": [
       "'456-9876'"
      ]
     },
     "execution_count": 33,
     "metadata": {},
     "output_type": "execute_result"
    }
   ],
   "source": [
    "result = pattern.search(string5)\n",
    "result.group()"
   ]
  },
  {
   "cell_type": "code",
   "execution_count": 36,
   "id": "7c687a5e",
   "metadata": {},
   "outputs": [
    {
     "data": {
      "text/plain": [
       "['456-9876', '101-1234']"
      ]
     },
     "execution_count": 36,
     "metadata": {},
     "output_type": "execute_result"
    }
   ],
   "source": [
    "string6 = '''123-456-9876 \n",
    "            101-1234'''\n",
    "result = re.findall(r'\\b\\d{3}[-]\\d{4}\\b',string6)\n",
    "result"
   ]
  },
  {
   "cell_type": "markdown",
   "id": "wired-yemen",
   "metadata": {},
   "source": [
    "# 6.split()"
   ]
  },
  {
   "cell_type": "raw",
   "id": "88e4beec",
   "metadata": {},
   "source": [
    "Returns a list where the string has been split at each match\n",
    "list = re.split(pattern,text)"
   ]
  },
  {
   "cell_type": "code",
   "execution_count": 38,
   "id": "artificial-maximum",
   "metadata": {},
   "outputs": [
    {
     "name": "stdout",
     "output_type": "stream",
     "text": [
      "['Data', 'science', 'is', 'an', 'interdisciplinary', 'field', 'that', 'uses', 'scientific', 'methods']\n"
     ]
    }
   ],
   "source": [
    "# using split function in string split the string\n",
    "text = \"Data science is an interdisciplinary field that uses scientific methods\"\n",
    "\n",
    "print(text.split())"
   ]
  },
  {
   "cell_type": "code",
   "execution_count": 42,
   "id": "c35a33e4",
   "metadata": {},
   "outputs": [
    {
     "name": "stdout",
     "output_type": "stream",
     "text": [
      "['Data', 'science', 'is', 'an', 'interdisciplinary', 'field', 'that', 'uses', 'scientific', 'methods']\n"
     ]
    }
   ],
   "source": [
    "# using split function in string split the string\n",
    "text = \"Data science is an interdisciplinary field that uses scientific methods\"\n",
    "\n",
    "print(text.split(' '))"
   ]
  },
  {
   "cell_type": "code",
   "execution_count": 39,
   "id": "decreased-cooper",
   "metadata": {},
   "outputs": [
    {
     "data": {
      "text/plain": [
       "['Data science ',\n",
       " ' is an 2 interdisciplinary 3 field that uses 4 scientific methods']"
      ]
     },
     "execution_count": 39,
     "metadata": {},
     "output_type": "execute_result"
    }
   ],
   "source": [
    "# using split function in string split the string around 1\n",
    "text = \"Data science 1 is an 2 interdisciplinary 3 field that uses 4 scientific methods\"\n",
    "text.split('1')"
   ]
  },
  {
   "cell_type": "code",
   "execution_count": 40,
   "id": "retired-lloyd",
   "metadata": {},
   "outputs": [
    {
     "data": {
      "text/plain": [
       "['Data science 1 is an ',\n",
       " ' interdisciplinary 3 field that uses 4 scientific methods']"
      ]
     },
     "execution_count": 40,
     "metadata": {},
     "output_type": "execute_result"
    }
   ],
   "source": [
    "# using split function in string split the string around 2\n",
    "text = \"Data science 1 is an 2 interdisciplinary 3 field that uses 4 scientific methods\"\n",
    "text.split('2')"
   ]
  },
  {
   "cell_type": "code",
   "execution_count": 41,
   "id": "martial-cyprus",
   "metadata": {},
   "outputs": [
    {
     "data": {
      "text/plain": [
       "['Data science ',\n",
       " ' is an ',\n",
       " ' interdisciplinary ',\n",
       " ' field that uses ',\n",
       " ' scientific methods']"
      ]
     },
     "execution_count": 41,
     "metadata": {},
     "output_type": "execute_result"
    }
   ],
   "source": [
    "# using split function in regex split the string around any number\n",
    "text = \"Data science 1 is an 2 interdisciplinary 3 field that uses 4 scientific methods\"\n",
    "\n",
    "list = re.split('\\d',text)\n",
    "list"
   ]
  },
  {
   "cell_type": "code",
   "execution_count": 46,
   "id": "ddda1b54",
   "metadata": {},
   "outputs": [
    {
     "data": {
      "text/plain": [
       "['Data science ',\n",
       " ' is an 2 interdisciplinary 3 field that uses 4 scientific methods']"
      ]
     },
     "execution_count": 46,
     "metadata": {},
     "output_type": "execute_result"
    }
   ],
   "source": [
    "# using split function in regex split the string around any number\n",
    "text = \"Data science 1 is an 2 interdisciplinary 3 field that uses 4 scientific methods\"\n",
    "\n",
    "list = re.split('\\d',text,maxsplit=1)\n",
    "list"
   ]
  },
  {
   "cell_type": "code",
   "execution_count": 47,
   "id": "05658c1f",
   "metadata": {},
   "outputs": [
    {
     "data": {
      "text/plain": [
       "['Data science ',\n",
       " ' is an ',\n",
       " ' interdisciplinary 3 field that uses 4 scientific methods']"
      ]
     },
     "execution_count": 47,
     "metadata": {},
     "output_type": "execute_result"
    }
   ],
   "source": [
    "# using split function in regex split the string around any number\n",
    "text = \"Data science 1 is an 2 interdisciplinary 3 field that uses 4 scientific methods\"\n",
    "\n",
    "list = re.split('\\d',text,maxsplit=2)\n",
    "list"
   ]
  },
  {
   "cell_type": "code",
   "execution_count": 43,
   "id": "legendary-membrane",
   "metadata": {},
   "outputs": [
    {
     "data": {
      "text/plain": [
       "['python ', ' and ', ' data ', ' science']"
      ]
     },
     "execution_count": 43,
     "metadata": {},
     "output_type": "execute_result"
    }
   ],
   "source": [
    "# using split function in regex split the string around any uppercase character\n",
    "text = 'python A and B data C science'\n",
    "\n",
    "list = re.split('[A-Z]',text)\n",
    "list"
   ]
  },
  {
   "cell_type": "code",
   "execution_count": 44,
   "id": "beautiful-pharmacy",
   "metadata": {},
   "outputs": [
    {
     "data": {
      "text/plain": [
       "['99', '33', '45', '12', '56', '89', '51']"
      ]
     },
     "execution_count": 44,
     "metadata": {},
     "output_type": "execute_result"
    }
   ],
   "source": [
    "# using split function in regex split the string around , and -   ([,-])\n",
    "text = '99,33,45,12-56-89-51'\n",
    "\n",
    "list = re.split('[,-]',text)\n",
    "list"
   ]
  },
  {
   "cell_type": "code",
   "execution_count": 45,
   "id": "unavailable-genetics",
   "metadata": {},
   "outputs": [
    {
     "data": {
      "text/plain": [
       "['99', '33', '45', '12', '56', '89', '51']"
      ]
     },
     "execution_count": 45,
     "metadata": {},
     "output_type": "execute_result"
    }
   ],
   "source": [
    "# using split function in regex split the string around , and -   (,|-)\n",
    "text = '99,33,45,12-56-89-51'\n",
    "\n",
    "\n",
    "list = re.split('[,|-]',text)\n",
    "list"
   ]
  },
  {
   "cell_type": "code",
   "execution_count": 1,
   "id": "homeless-winning",
   "metadata": {},
   "outputs": [
    {
     "name": "stdout",
     "output_type": "stream",
     "text": [
      "Greedy Match: ['<p>Hello</p><p>World</p>']\n",
      "Non-Greedy Match: ['<p>Hello</p>', '<p>World</p>']\n",
      "['[2024-02-25 10:15:30] Error occurred [2024-02-25 10:20:30]']\n",
      "['[2024-02-25 10:15:30]', '[2024-02-25 10:20:30]']\n",
      "Search Result: 250\n",
      "Findall Result: ['250', '300']\n",
      "Substituted Text: The price is XXX dollars and XXX rupees.\n",
      "Area Code: 123\n",
      "Main Number: 456-7890\n",
      "First Name: John\n",
      "Last Name: Doe\n",
      "Emails: ['support@example.com', 'sales@example.org']\n",
      "Dates: ['2023-07-01', '01/07/2023']\n",
      "Is Password Valid? True\n"
     ]
    }
   ],
   "source": [
    "import re\n",
    "\n",
    "# Greedy vs. Non-Greedy Search\n",
    "# Example: Extracting HTML tags (Common in Web Scraping)\n",
    "text = \"<p>Hello</p><p>World</p>\"\n",
    "\n",
    "# Greedy Search (captures everything between the first <p> and last </p>)\n",
    "greedy_match = re.findall(r'<p>.*</p>', text)\n",
    "print(\"Greedy Match:\", greedy_match)\n",
    "\n",
    "# Non-Greedy Search (captures each <p> tag separately)\n",
    "non_greedy_match = re.findall(r'<p>.*?</p>', text)\n",
    "print(\"Non-Greedy Match:\", non_greedy_match)\n",
    "\n",
    "# Example: Extracting logs where timestamps are enclosed in brackets\n",
    "log_text = \"[2024-02-25 10:15:30] Error occurred [2024-02-25 10:20:30] Warning issued\"\n",
    "print(re.findall(r'\\[.*\\]', log_text))   # Greedy\n",
    "print(re.findall(r'\\[.*?\\]', log_text))  # Non-Greedy\n",
    "\n",
    "\n",
    "# Commonly Used RE Functions (Useful for Data Extraction and Cleaning)\n",
    "sample_text = \"The price is 250 dollars and 300 rupees.\"\n",
    "\n",
    "# 1. Search (Finds first number in text)\n",
    "search_result = re.search(r'\\d+', sample_text)\n",
    "print(\"Search Result:\", search_result.group())\n",
    "\n",
    "# 2. Findall (Finds all numbers in text)\n",
    "findall_result = re.findall(r'\\d+', sample_text)\n",
    "print(\"Findall Result:\", findall_result)\n",
    "\n",
    "# 3. Substitution (Replace all numbers with XXX)\n",
    "substituted_text = re.sub(r'\\d+', 'XXX', sample_text)\n",
    "print(\"Substituted Text:\", substituted_text)\n",
    "\n",
    "\n",
    "# Regular Expressions: Grouping (Useful for Extracting Specific Information)\n",
    "sample_text2 = \"My phone number is (123) 456-7890\"\n",
    "\n",
    "# 1. Extracting Area Code (Useful in telecom and contact management systems)\n",
    "match = re.search(r'\\((\\d{3})\\) (\\d{3})-(\\d{4})', sample_text2)\n",
    "if match:\n",
    "    print(\"Area Code:\", match.group(1))\n",
    "    print(\"Main Number:\", match.group(2) + \"-\" + match.group(3))\n",
    "\n",
    "# 2. Extracting Name Parts from Full Name (Useful in HR applications)\n",
    "nested_match = re.search(r'(\\w+) (\\w+)', \"John Doe\")\n",
    "if nested_match:\n",
    "    print(\"First Name:\", nested_match.group(1))\n",
    "    print(\"Last Name:\", nested_match.group(2))\n",
    "\n",
    "\n",
    "# Regular Expressions: Use Cases (Applicable in Real-world Professional Scenarios)\n",
    "# 1. Extracting Email Addresses from Text (Useful for Lead Generation, CRM systems)\n",
    "emails = \"Contact us at support@example.com and sales@example.org\"\n",
    "email_matches = re.findall(r'[\\w._%+-]+@[\\w.-]+\\.[a-zA-Z]{2,}', emails)\n",
    "print(\"Emails:\", email_matches)\n",
    "\n",
    "# 2. Extracting Dates from Reports or Logs (Useful in Audit and Compliance Reports)\n",
    "dates = \"We have meetings on 2023-07-01 and 01/07/2023.\"\n",
    "date_matches = re.findall(r'\\d{4}-\\d{2}-\\d{2}|\\d{2}/\\d{2}/\\d{4}', dates)\n",
    "print(\"Dates:\", date_matches)\n",
    "\n",
    "# 3. Password Validation (Common in Authentication Systems)\n",
    "password = \"SecureP@ss123\"\n",
    "password_valid = bool(re.match(r'^(?=.*[A-Z])(?=.*[a-z])(?=.*\\d)(?=.*[@#$%^&+=]).{8,}$', password))\n",
    "print(\"Is Password Valid?\", password_valid)\n"
   ]
  },
  {
   "cell_type": "code",
   "execution_count": 2,
   "id": "advance-product",
   "metadata": {},
   "outputs": [
    {
     "ename": "SyntaxError",
     "evalue": "invalid syntax (3995318182.py, line 21)",
     "output_type": "error",
     "traceback": [
      "\u001b[1;36m  Cell \u001b[1;32mIn[2], line 21\u001b[1;36m\u001b[0m\n\u001b[1;33m    json_text = \"{\"key1\":\"value1\", \"key2\":\"value2\"}\"\u001b[0m\n\u001b[1;37m                   ^\u001b[0m\n\u001b[1;31mSyntaxError\u001b[0m\u001b[1;31m:\u001b[0m invalid syntax\n"
     ]
    }
   ],
   "source": [
    "import re\n",
    "\n",
    "# Greedy vs. Non-Greedy Search\n",
    "# Example 1: Extracting HTML tags (Common in Web Scraping)\n",
    "text = \"<p>Hello</p><p>World</p>\"\n",
    "\n",
    "# Greedy Search (captures everything between the first <p> and last </p>)\n",
    "greedy_match = re.findall(r'<p>.*</p>', text)\n",
    "print(\"Greedy Match:\", greedy_match)\n",
    "\n",
    "# Non-Greedy Search (captures each <p> tag separately)\n",
    "non_greedy_match = re.findall(r'<p>.*?</p>', text)\n",
    "print(\"Non-Greedy Match:\", non_greedy_match)\n",
    "\n",
    "# Example 2: Extracting logs where timestamps are enclosed in brackets\n",
    "log_text = \"[2024-02-25 10:15:30] Error occurred [2024-02-25 10:20:30] Warning issued\"\n",
    "print(re.findall(r'\\[.*\\]', log_text))   # Greedy\n",
    "print(re.findall(r'\\[.*?\\]', log_text))  # Non-Greedy\n",
    "\n",
    "# Example 3: Extracting JSON-like key-value pairs\n",
    "json_text = \"{\"key1\":\"value1\", \"key2\":\"value2\"}\"\n",
    "print(re.findall(r'\\{\".*\\\"}', json_text))  # Greedy\n",
    "print(re.findall(r'\\{\".*?\\\"}', json_text))  # Non-Greedy\n",
    "\n",
    "# Example 4: Extracting text inside HTML comments\n",
    "html_text = \"<!-- First Comment --> <!-- Second Comment -->\"\n",
    "print(re.findall(r'<!--.*-->', html_text))  # Greedy\n",
    "print(re.findall(r'<!--.*?-->', html_text))  # Non-Greedy\n",
    "\n",
    "\n",
    "# Commonly Used RE Functions (Useful for Data Extraction and Cleaning)\n",
    "sample_text = \"The price is 250 dollars and 300 rupees.\"\n",
    "\n",
    "# 1. Search (Finds first number in text)\n",
    "search_result = re.search(r'\\d+', sample_text)\n",
    "print(\"Search Result:\", search_result.group())\n",
    "\n",
    "# 2. Findall (Finds all numbers in text)\n",
    "findall_result = re.findall(r'\\d+', sample_text)\n",
    "print(\"Findall Result:\", findall_result)\n",
    "\n",
    "# 3. Substitution (Replace all numbers with XXX)\n",
    "substituted_text = re.sub(r'\\d+', 'XXX', sample_text)\n",
    "print(\"Substituted Text:\", substituted_text)\n",
    "\n",
    "\n",
    "# Regular Expressions: Grouping (Useful for Extracting Specific Information)\n",
    "sample_text2 = \"My phone number is (123) 456-7890\"\n",
    "\n",
    "# 1. Extracting Area Code (Useful in telecom and contact management systems)\n",
    "match = re.search(r'\\((\\d{3})\\) (\\d{3})-(\\d{4})', sample_text2)\n",
    "if match:\n",
    "    print(\"Area Code:\", match.group(1))\n",
    "    print(\"Main Number:\", match.group(2) + \"-\" + match.group(3))\n",
    "\n",
    "# 2. Extracting Name Parts from Full Name (Useful in HR applications)\n",
    "nested_match = re.search(r'(\\w+) (\\w+)', \"John Doe\")\n",
    "if nested_match:\n",
    "    print(\"First Name:\", nested_match.group(1))\n",
    "    print(\"Last Name:\", nested_match.group(2))\n",
    "\n",
    "\n",
    "# Regular Expressions: Use Cases (Applicable in Real-world Professional Scenarios)\n",
    "# 1. Extracting Email Addresses from Text (Useful for Lead Generation, CRM systems)\n",
    "emails = \"Contact us at support@example.com and sales@example.org\"\n",
    "email_matches = re.findall(r'[\\w._%+-]+@[\\w.-]+\\.[a-zA-Z]{2,}', emails)\n",
    "print(\"Emails:\", email_matches)\n",
    "\n",
    "# 2. Extracting Dates from Reports or Logs (Useful in Audit and Compliance Reports)\n",
    "dates = \"We have meetings on 2023-07-01 and 01/07/2023.\"\n",
    "date_matches = re.findall(r'\\d{4}-\\d{2}-\\d{2}|\\d{2}/\\d{2}/\\d{4}', dates)\n",
    "print(\"Dates:\", date_matches)\n",
    "\n",
    "# 3. Password Validation (Common in Authentication Systems)\n",
    "password = \"SecureP@ss123\"\n",
    "password_valid = bool(re.match(r'^(?=.*[A-Z])(?=.*[a-z])(?=.*\\d)(?=.*[@#$%^&+=]).{8,}$', password))\n",
    "print(\"Is Password Valid?\", password_valid)\n"
   ]
  },
  {
   "cell_type": "code",
   "execution_count": null,
   "id": "26141d39-a05b-4e23-86e3-e2901b7367cb",
   "metadata": {},
   "outputs": [],
   "source": []
  }
 ],
 "metadata": {
  "kernelspec": {
   "display_name": "Python 3 (ipykernel)",
   "language": "python",
   "name": "python3"
  },
  "language_info": {
   "codemirror_mode": {
    "name": "ipython",
    "version": 3
   },
   "file_extension": ".py",
   "mimetype": "text/x-python",
   "name": "python",
   "nbconvert_exporter": "python",
   "pygments_lexer": "ipython3",
   "version": "3.12.4"
  }
 },
 "nbformat": 4,
 "nbformat_minor": 5
}
