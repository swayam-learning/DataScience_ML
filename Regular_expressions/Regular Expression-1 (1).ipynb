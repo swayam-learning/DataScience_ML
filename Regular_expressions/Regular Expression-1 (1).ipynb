{
 "cells": [
  {
   "cell_type": "markdown",
   "id": "fifteen-complement",
   "metadata": {},
   "source": [
    "# Regular Expression"
   ]
  },
  {
   "cell_type": "raw",
   "id": "827dce8b",
   "metadata": {},
   "source": [
    "import re\n",
    "\n",
    "Regex >> Sequence of characters \n",
    "\n",
    "- Regular expression is used to process a text and extract a meaningfull information\n",
    "  from any text data.\n",
    "  \n",
    "- To use regular expression, input should be in string format.\n",
    "\n",
    "- To use regular expression, pattern is very important. If you get pattern of that attribute\n",
    "  you can easily extract information from that data."
   ]
  },
  {
   "cell_type": "raw",
   "id": "f06322ec",
   "metadata": {},
   "source": [
    "1000 pan card images\n",
    "\n",
    "PAN CARD DATA\n",
    "\n",
    "image_name    PAN_CARD_NUMBER      DOB           NAME     Father Name    \n",
    "\n",
    "Pan1.jpg         ASDFG1234Q      09/05/1997     Akshay        XYZ\n",
    "Pan2.jpg         ASDFG1234Q      09/05/1997     Akshay        XYZ\n",
    "Pan3.jpg         ASDFG1234Q      09/05/1997     Akshay        XYZ\n",
    "Pan4.jpg         ASDFG1234Q      09/03/1997     Akshay        XYZ\n",
    "...\n",
    "Pan100.jpg       ASDFG1234Q      20/03/1995     SAGAR         XYZ"
   ]
  },
  {
   "cell_type": "raw",
   "id": "4a35b993",
   "metadata": {},
   "source": [
    "AADHAR CARD DATA\n",
    "\n",
    "image_name          AADHAR_CARD_NUMBER    DOB/YOB         NAME     \n",
    "\n",
    "Aadhar1.jpg         9878 1234 4567      22/04/1990\n",
    "Aadhar2.jpg         9878 1234 4567      22/04/1990\n",
    "Aadhar3.jpg         9878 1234 4567      22/04/1990\n",
    "Aadhar4.jpg         9878 1234 4567      22/04/1990\n",
    "...\n",
    "Aadhar100.jpg       9878 1234 4567      22/04/1990"
   ]
  },
  {
   "cell_type": "raw",
   "id": "actual-supplier",
   "metadata": {},
   "source": [
    "Bank Statement Data\n",
    "\n",
    "pdf_name                  Account_open_date   AC_Number  IFSC_CODE  Branch_Code  \n",
    "bank_statement1.pdf\n",
    "bank_statement2.pdf\n",
    "bank_statement3.pdf\n",
    "...\n",
    "bank_statement100.pdf"
   ]
  },
  {
   "cell_type": "code",
   "execution_count": null,
   "id": "sustainable-smooth",
   "metadata": {},
   "outputs": [],
   "source": [
    "Pattern "
   ]
  },
  {
   "cell_type": "markdown",
   "id": "moral-miracle",
   "metadata": {},
   "source": [
    "# Regular Expression Functions"
   ]
  },
  {
   "cell_type": "raw",
   "id": "078806cc",
   "metadata": {},
   "source": [
    "1. findall\n",
    "2. sub\n",
    "3. match\n",
    "4. search\n",
    "5. compile\n",
    "6. split"
   ]
  },
  {
   "cell_type": "code",
   "execution_count": 1,
   "id": "stock-march",
   "metadata": {},
   "outputs": [],
   "source": [
    "import re"
   ]
  },
  {
   "cell_type": "raw",
   "id": "e3b73dcc",
   "metadata": {},
   "source": [
    "NLP >> Natural Language Processing"
   ]
  },
  {
   "cell_type": "code",
   "execution_count": null,
   "id": "united-scottish",
   "metadata": {},
   "outputs": [],
   "source": [
    "Image > Text \n",
    "OCR(Optical character recognition):\n",
    "    1. Pytesseract\n",
    "    2. Google Vision\n",
    "    3. Amazon Textract\n",
    "\n",
    "Pytesseract:\n",
    "    Image processing using openCV(import cv2)\n",
    "    Skew correction\n",
    "    noise removal\n",
    "    "
   ]
  },
  {
   "cell_type": "markdown",
   "id": "62b88473",
   "metadata": {},
   "source": [
    "## Characters to find"
   ]
  },
  {
   "cell_type": "code",
   "execution_count": null,
   "id": "0b5122ba",
   "metadata": {},
   "outputs": [],
   "source": [
    "[0-9]    >> only numbers\n",
    "[a-z]    >> only lowercase alphabets\n",
    "[A-Z]    >> only uppercase alphabets\n",
    "[a-zA-Z] >> Both uppercase and lowercase alphabets\n",
    "[0145]   >> either 0 or 1 or 4 or 5\n",
    "[A-Za-z0-9] >> a-z or 0-9 or .\n",
    "[ ]      >> Single space\n",
    "[/-]     >> / or -"
   ]
  },
  {
   "cell_type": "code",
   "execution_count": null,
   "id": "1ddace31",
   "metadata": {},
   "outputs": [],
   "source": [
    "[0-9]{4}\n",
    "[0-9]{1}  >> [0-9]"
   ]
  },
  {
   "cell_type": "markdown",
   "id": "13765c82",
   "metadata": {},
   "source": [
    "## Number of occurences"
   ]
  },
  {
   "cell_type": "code",
   "execution_count": null,
   "id": "b0d8e511",
   "metadata": {},
   "outputs": [],
   "source": [
    "{1} - 1 occurence\n",
    "{5} - 5 occurences\n",
    "{5,15} - between 5 to 15 occurences"
   ]
  },
  {
   "cell_type": "markdown",
   "id": "trying-franchise",
   "metadata": {},
   "source": [
    "# 1. findall"
   ]
  },
  {
   "cell_type": "code",
   "execution_count": 2,
   "id": "cc41e126",
   "metadata": {},
   "outputs": [],
   "source": [
    "import re"
   ]
  },
  {
   "cell_type": "raw",
   "id": "polyphonic-capitol",
   "metadata": {},
   "source": [
    "- Returns a list of matches in a string\n",
    "list = re.findall(pattern, text) "
   ]
  },
  {
   "cell_type": "code",
   "execution_count": 37,
   "id": "plastic-dating",
   "metadata": {},
   "outputs": [
    {
     "data": {
      "text/plain": [
       "['chaskarakshay9597@gmail.com']"
      ]
     },
     "execution_count": 37,
     "metadata": {},
     "output_type": "execute_result"
    }
   ],
   "source": [
    "# Extract 1 occurence of number\n",
    "text = \"\"\"My Mobile Number is 9967590895\n",
    "        my email id is : chaskarakshay9597@gmail.com\n",
    "        todays date is : 11/3/2023\n",
    "        \"\"\"\n",
    "result = re.findall('[a-z0-9]{5,20}[@][a-z.]{5,10}',text)\n",
    "result"
   ]
  },
  {
   "cell_type": "code",
   "execution_count": 36,
   "id": "2405402d",
   "metadata": {},
   "outputs": [
    {
     "data": {
      "text/plain": [
       "11"
      ]
     },
     "execution_count": 36,
     "metadata": {},
     "output_type": "execute_result"
    }
   ],
   "source": [
    "# Hello\n",
    "# How are You?\n",
    "\n",
    "\"\"\"Hell0!\n",
    "How are you all?\"\"\"\n",
    "a = 11\n",
    "a"
   ]
  },
  {
   "cell_type": "code",
   "execution_count": 9,
   "id": "least-harvard",
   "metadata": {},
   "outputs": [
    {
     "name": "stdout",
     "output_type": "stream",
     "text": [
      "['chaskarakshay9597@gmail.com'] 1\n"
     ]
    }
   ],
   "source": [
    "# Extract 5 occurences of numbers\n",
    "import re\n",
    "text = \"\"\"My Mobile Number is 9967590895\n",
    "        my email id is : chaskarakshay9597@gmail.com\n",
    "        todays date is : 01/10/2022\n",
    "        \"\"\"\n",
    "result = re.findall('[a-z]{1,15}[0-9]{4}[@][a-z]{5}[.][a-z]{3}',text)\n",
    "print(result,len(result))"
   ]
  },
  {
   "cell_type": "code",
   "execution_count": 17,
   "id": "3b38b8b6",
   "metadata": {},
   "outputs": [
    {
     "name": "stdout",
     "output_type": "stream",
     "text": [
      "['99675', '90895', '95987', '20225'] 4\n"
     ]
    }
   ],
   "source": [
    "# Extract 5 occurences of numbers\n",
    "text = \"\"\"My Mobile Number is 9967590895\n",
    "        my email id is : chaskarakshay95987@gmail.com\n",
    "        todays date is : 01/10/20225\n",
    "        \"\"\"\n",
    "result = re.findall(\"[0-9]{5}\",text)\n",
    "print(result,len(result))"
   ]
  },
  {
   "cell_type": "code",
   "execution_count": 5,
   "id": "acting-ranch",
   "metadata": {},
   "outputs": [
    {
     "name": "stdout",
     "output_type": "stream",
     "text": [
      "['9967', '5908', '9597', '2023'] 4\n"
     ]
    }
   ],
   "source": [
    "# Extract 4 occurences of numbers\n",
    "text = \"\"\"My Mobile Number is 9967590895\n",
    "        my email id is : chaskarakshay9597@gmail.com\n",
    "        todays date is : 10/03/2023\n",
    "        \"\"\"\n",
    "result = re.findall('[0-9]{4}',text)\n",
    "print(result,len(result))"
   ]
  },
  {
   "cell_type": "code",
   "execution_count": 168,
   "id": "scheduled-medium",
   "metadata": {},
   "outputs": [
    {
     "name": "stdout",
     "output_type": "stream",
     "text": [
      "['9967590895']\n"
     ]
    }
   ],
   "source": [
    "# Find sequence of lowercase alphabets occuring for 2 to 20 times\n",
    "text = \"My Mobile Number is 9967590895\"\n",
    "result = re.findall('[0-9]{10}',text)\n",
    "print(result)"
   ]
  },
  {
   "cell_type": "code",
   "execution_count": 7,
   "id": "private-savings",
   "metadata": {},
   "outputs": [
    {
     "name": "stdout",
     "output_type": "stream",
     "text": [
      "['9967590895', '8899776655', '9987021274', '9856448890', '8562655353', '9869563450'] "
     ]
    }
   ],
   "source": [
    "# Find mobile numbers from the text\n",
    "text = \"\"\"My Mobile Number is 9967590895\n",
    "        8899776655\n",
    "        998702127453\n",
    "        9856448890\n",
    "        856265535363\n",
    "        98695634500\n",
    "        \"\"\"\n",
    "mobile_num = re.findall('[0-9]{10}',text)\n",
    "print(mobile_num,end = \" \")"
   ]
  },
  {
   "cell_type": "code",
   "execution_count": 15,
   "id": "e6015f37",
   "metadata": {},
   "outputs": [
    {
     "name": "stdout",
     "output_type": "stream",
     "text": [
      "['chaskarakshay9597@gmail.com'] 1\n"
     ]
    }
   ],
   "source": [
    "# Find mobile numbers from the text\n",
    "text = \"\"\"My Mobile Number is 9967590895\n",
    "        8899776655\n",
    "        my email id is :chaskarakshay9597@gmail.com \n",
    "        todays date is : 01/10/2022\n",
    "        \"\"\"\n",
    "mobile_num = re.findall('[a-z]{1,15}[0-9]{4}[@][a-z]{0,5}[.][a-z]{0,30}',text)\n",
    "print(mobile_num,len(mobile_num))"
   ]
  },
  {
   "cell_type": "code",
   "execution_count": 23,
   "id": "31f79a59",
   "metadata": {},
   "outputs": [
    {
     "name": "stdout",
     "output_type": "stream",
     "text": [
      "1 2 3 4 5 6 7 8 9 "
     ]
    }
   ],
   "source": [
    "for i in range(1,10):\n",
    "    print(i,end = \" \")"
   ]
  },
  {
   "cell_type": "code",
   "execution_count": 48,
   "id": "psychological-scout",
   "metadata": {},
   "outputs": [
    {
     "name": "stdout",
     "output_type": "stream",
     "text": [
      "['chaskar.akshay9597', 'gmail.com'] 2\n"
     ]
    }
   ],
   "source": [
    "# Find sequence of lowercase alphabets occuring for 4 times\n",
    "text = \"\"\"My Mobile Number is 9967590895\n",
    "        8899776655\n",
    "        my email id is : chaskar.akshay9597@gmail.com\n",
    "        hello how are you?\n",
    "        todays date is : 01/10/2022\n",
    "        \"\"\"\n",
    "result = re.findall('[a-z]{0,10}[.]{1}[a-z0-9]{0,10}',text)\n",
    "print(result,len(result))\n",
    "#[a-z0-9]{0,30}[@]{1}[a-z.]{2,10}"
   ]
  },
  {
   "cell_type": "code",
   "execution_count": 9,
   "id": "designed-pleasure",
   "metadata": {},
   "outputs": [
    {
     "name": "stdout",
     "output_type": "stream",
     "text": [
      "['My Mobile Number is ', '        ', '        Happy Diwali.', '.', '        my email id is ', ' chaskarakshay9597gmail@', '.', '        todays date is ', ' ', '        '] 10\n"
     ]
    }
   ],
   "source": [
    "# Find sequence of any alphabets(lowercase or uppercase) occuring for 4 times\n",
    "import re\n",
    "text = \"\"\"My Mobile Number is 9876223344\n",
    "        8899776655\n",
    "        Happy Diwali..\n",
    "        my email id is : chaskarakshay9597gmail@.com\n",
    "        todays date is : 01/10/2022\n",
    "        \"\"\"\n",
    "result = re.findall('[A-z a-z0-9]{0,25}[@.]',text)\n",
    "print(result,len(result))"
   ]
  },
  {
   "cell_type": "code",
   "execution_count": 181,
   "id": "ec4b0e78",
   "metadata": {},
   "outputs": [
    {
     "name": "stdout",
     "output_type": "stream",
     "text": [
      "['datascience2022@gmail.com'] 1\n"
     ]
    }
   ],
   "source": [
    "# Find sequence of any alphabets(lowercase or uppercase) occuring for 4 times\n",
    "text = \"\"\"My Mobile Number is 9987021274\n",
    "        8899776655\n",
    "        my email id is : datascience2022@gmail.com\n",
    "        todays date is : 01/10/2022\n",
    "        \"\"\"\n",
    "result = re.findall('[a-z0-9]{2,30}[@]{1}[a-z.]{2,10}',text)\n",
    "print(result,len(result))"
   ]
  },
  {
   "cell_type": "code",
   "execution_count": 186,
   "id": "pregnant-brave",
   "metadata": {},
   "outputs": [
    {
     "name": "stdout",
     "output_type": "stream",
     "text": [
      "['98', '89', '88', '99'] 4\n"
     ]
    }
   ],
   "source": [
    "# Extract 4 occurence of number 9 or 8\n",
    "text = \"\"\"My Mobile Number is 988965772200\n",
    "        8899776655\n",
    "        my email id is : machinelearning5256@gmail.com\n",
    "        todays date is : 01/10/2022\n",
    "        \"\"\"\n",
    "result = re.findall('[98]{2}',text)\n",
    "print(result,len(result))"
   ]
  },
  {
   "cell_type": "code",
   "execution_count": 188,
   "id": "0bd8ddda",
   "metadata": {},
   "outputs": [
    {
     "name": "stdout",
     "output_type": "stream",
     "text": [
      "['76', '22', '77', '67', '67', '22'] 6\n"
     ]
    }
   ],
   "source": [
    "# Extract 4 occurence of number 7 and 6\n",
    "text = \"\"\"My Mobile Number is 9876223344\n",
    "        8899778655\n",
    "        my email id is : happylearning6767@gmail.com\n",
    "        todays date is : 01/10/2022\n",
    "        \"\"\"\n",
    "result = re.findall('[762]{2}',text)\n",
    "print(result,len(result))"
   ]
  },
  {
   "cell_type": "code",
   "execution_count": 38,
   "id": "ee80da47-d3d1-49c2-92fd-5aeeb845e459",
   "metadata": {},
   "outputs": [
    {
     "name": "stdout",
     "output_type": "stream",
     "text": [
      "[' chaskarakshay9597@gmail.com'] 1\n"
     ]
    }
   ],
   "source": [
    "result = re.findall('[a-z 0-9]{1,20}[@][a-z]{1,5}[.][a-z]{1,3}',text)\n",
    "print(result,len(result))"
   ]
  },
  {
   "cell_type": "code",
   "execution_count": 41,
   "id": "0836e639-4eee-4d18-8d6e-e6f5f4e175d3",
   "metadata": {},
   "outputs": [
    {
     "ename": "SyntaxError",
     "evalue": "invalid syntax (580596732.py, line 2)",
     "output_type": "error",
     "traceback": [
      "\u001b[1;36m  Cell \u001b[1;32mIn[41], line 2\u001b[1;36m\u001b[0m\n\u001b[1;33m    print(r,len(str(r)))result = re.findall('[a-z 0-9]{1,20}[@][a-z]{1,5}[.][a-z]{1,3}',text)\u001b[0m\n\u001b[1;37m                        ^\u001b[0m\n\u001b[1;31mSyntaxError\u001b[0m\u001b[1;31m:\u001b[0m invalid syntax\n"
     ]
    }
   ],
   "source": [
    "r = re.findall('[a-z0-9]{5,25}[@][a-z.]{5,10}',text)\n",
    "print(r,len(str(r)))"
   ]
  },
  {
   "cell_type": "code",
   "execution_count": 46,
   "id": "270a7b14-4bd6-4bfc-89d1-369fe770f164",
   "metadata": {},
   "outputs": [
    {
     "name": "stdout",
     "output_type": "stream",
     "text": [
      "[' happylearning6767@gmail.com'] 1\n"
     ]
    }
   ],
   "source": [
    "text = \"\"\"My Mobile Number is 9876223344\n",
    "        8899778655\n",
    "        my email id is : happylearning6767@gmail.com\n",
    "        todays date is : 01/10/2022\n",
    "        \"\"\"\n",
    "result = re.findall('[a-z 0-9]{1,20}[@][a-z]{1,5}[.][a-z]{1,3}',text)\n",
    "print(result,len(result))"
   ]
  },
  {
   "cell_type": "code",
   "execution_count": 49,
   "id": "a715b33b",
   "metadata": {},
   "outputs": [
    {
     "name": "stdout",
     "output_type": "stream",
     "text": [
      "['2277', '2277'] 2\n"
     ]
    }
   ],
   "source": [
    "# Extract 2 occurence of number 0 or 1 or 4 or 5\n",
    "text = \"\"\"My Mobile Number is 987622773344\n",
    "        889922776655\n",
    "        my email id is : happylearning6767@gmail.com\n",
    "        todays date is : 01/10/2022\n",
    "        \"\"\"\n",
    "result = re.findall('[27]{4}',text)\n",
    "print(result,len(result))"
   ]
  },
  {
   "cell_type": "code",
   "execution_count": 59,
   "id": "immediate-glossary",
   "metadata": {},
   "outputs": [
    {
     "name": "stdout",
     "output_type": "stream",
     "text": [
      "['chaskarakshay9597@gmail...com.'] 1\n"
     ]
    }
   ],
   "source": [
    "# Extract emailid from the text\n",
    "text = \"\"\"My Mobile Number is 9876223344\n",
    "        8899776655\n",
    "        my email id is : chaskarakshay9597@gmail...com.\n",
    "        todays date is : 01/10/2022\n",
    "        \"\"\"\n",
    "result = re.findall('[a-z0-9]{2,30}[@]{1}[a-z.]{1,15}',text)\n",
    "print(result,len(result))"
   ]
  },
  {
   "cell_type": "code",
   "execution_count": 58,
   "id": "bigger-degree",
   "metadata": {},
   "outputs": [
    {
     "name": "stdout",
     "output_type": "stream",
     "text": [
      "['kohli@etlhive.com', 'viratkohli123@gmail.com', 'virat_kohli123@gmail.com', 'virat$kohli123@gmail.com', 'virat.kohli@gmail.com', 'virat_kohli_123@gmail.com', 'virat_kohli_123@etlhive.co.in', 'virat_kohli_123@coep.edu.in', 'hr@capgemini.com']\n"
     ]
    }
   ],
   "source": [
    "# Extract emailid from the text\n",
    "text = \"\"\"\n",
    "        my email id is : virat kohli@etlhive.com\n",
    "        viratkohli123@gmail.com\n",
    "        virat_kohli123@gmail.com\n",
    "        virat$kohli123@gmail.com\n",
    "        virat.kohli@gmail.com\n",
    "        virat_kohli_123@gmail.com\n",
    "        virat_kohli_123@etlhive.co.in\n",
    "        virat_kohli_123@coep.edu.in\n",
    "        hr@capgemini.com\n",
    "        \"\"\"\n",
    "#result = re.findall ('[A-z0-9 _.$@]{0,50}[a-z.]{5,15}', text)\n",
    "#print (result)\n",
    "#print(result,len(result))\n",
    "#result = re.findall('[a-z0-9_.$ ]{2,30}[@]{1}[a-z.]{2,15}',text)\n",
    "result = re.findall('[a-z0-9_.$@]{1,15}[@][a-z.]{1,15}',text)\n",
    "\n",
    "print (result)"
   ]
  },
  {
   "cell_type": "code",
   "execution_count": 21,
   "id": "norwegian-competition",
   "metadata": {},
   "outputs": [
    {
     "name": "stdout",
     "output_type": "stream",
     "text": [
      "['viratkohli@etlhive.com', 'viratkohli123@gmail.com', 'virat_kohli123@gmail.com', 'virat.kohli123@gmail.com', 'virat.kohli@gmail.com', 'virat_kohli_123@gmail.com', 'virat_kohli_123@etlhive.co.in', 'virat_kohli_123@coep.edu.in', 'virat_kohli_123@coep.edu.in', 'hr123@capgemini.com'] 10\n"
     ]
    }
   ],
   "source": [
    "# Extract emailid from the text\n",
    "text = \"\"\"\n",
    "        my email id is : viratkohli@etlhive.com\n",
    "        viratkohli123@gmail.com\n",
    "        virat_kohli123@gmail.com\n",
    "        virat.kohli123@gmail.com\n",
    "        virat.kohli@gmail.com\n",
    "        virat_kohli_123@gmail.com\n",
    "        virat_kohli_123@etlhive.co.in\n",
    "        virat_kohli_123@coep.edu.in\n",
    "        virat_kohli_123@coep.edu.in\n",
    "\n",
    "        hr123@capgemini.com\n",
    "        \"\"\"\n",
    "result = re.findall('[a-z0-9_.]{5,30}[@][a-z.]{0,15}',text)\n",
    "print(result,len(result))"
   ]
  },
  {
   "cell_type": "code",
   "execution_count": 22,
   "id": "southwest-officer",
   "metadata": {},
   "outputs": [
    {
     "name": "stdout",
     "output_type": "stream",
     "text": [
      "['1234 245 0987', '1234 245 0987'] 2\n"
     ]
    }
   ],
   "source": [
    "# Extract valid aadhar number from text\n",
    "text = \"\"\"\n",
    "        1234 245 0987   # invalid     \n",
    "        1234 2345 0987    # Valid\n",
    "        1234 2345 0987\n",
    "        1234 245 0987    # Valid \n",
    "        1234 2345 0875686     # Invalid\n",
    "\n",
    "        \"\"\"\n",
    "result = re.findall('[0-9]{4}[ ]{1}[0-9]{3}[ ]{1}[0-9]{4}',text)\n",
    "print(result,len(result))"
   ]
  },
  {
   "cell_type": "code",
   "execution_count": 61,
   "id": "improved-gather",
   "metadata": {},
   "outputs": [
    {
     "name": "stdout",
     "output_type": "stream",
     "text": [
      "['1234 245 0987', '1234 2345 0987', '4567 2345 0987123', '1234 2345 087'] 4\n"
     ]
    }
   ],
   "source": [
    "# Extract valid aadhar number from text\n",
    "text = \"\"\"\n",
    "        1234 245 0987    \n",
    "        1234 2345 0987     \n",
    "        4567 2345 0987123     \n",
    "        1234 2345 087    \n",
    "        \"\"\"\n",
    "result = re.findall('[0-9]{4}[ ][0-9]{3,5}[ ][0-9]{3,7}',text)\n",
    "print(result,len(result))"
   ]
  },
  {
   "cell_type": "code",
   "execution_count": 23,
   "id": "valued-gazette",
   "metadata": {},
   "outputs": [
    {
     "name": "stdout",
     "output_type": "stream",
     "text": [
      "['ASDFG0987P', 'RTYWUI6789W', 'POIUDY1346T'] 3\n"
     ]
    }
   ],
   "source": [
    "# Extract valid pancard number from text\n",
    "text = \"\"\"\n",
    "        ASDFG0987P    \n",
    "        RTYWUI6789W       \n",
    "        POIUDY1346T       \n",
    "        \"\"\"\n",
    "result = re.findall('[A-Z]{0,10}[0-9]{0,5}[A-Z]',text)\n",
    "print(result,len(result))"
   ]
  },
  {
   "cell_type": "code",
   "execution_count": 65,
   "id": "464f6a4e",
   "metadata": {},
   "outputs": [
    {
     "name": "stdout",
     "output_type": "stream",
     "text": [
      "['1234 ', '5678 ', '0987', '1234 ', '6548 ', '0987', '1234 ', '5678 ', '9867', '5643 ', '5678 ', '0987'] 12\n"
     ]
    }
   ],
   "source": [
    "text = \"\"\"1234 5678 0987\n",
    "1234 6548 0987\n",
    "1234 5678 9867\n",
    "5643 5678 0987\n",
    "\"\"\"\n",
    "result = re.findall('[0-9 ]{1,5}',text)\n",
    "print(result,len(result))"
   ]
  },
  {
   "cell_type": "code",
   "execution_count": 28,
   "id": "suitable-alias",
   "metadata": {},
   "outputs": [
    {
     "name": "stdout",
     "output_type": "stream",
     "text": [
      "['01/03/2022', '28/02/2022', '01/01/2022', '20-08-2021'] 4\n"
     ]
    }
   ],
   "source": [
    "# Extract valid dates from text\n",
    "text = \"\"\"\n",
    "        ASDFG0987P      \n",
    "        RTYUI67890      \n",
    "        POIUY1346T       \n",
    "        \n",
    "        Dates :\n",
    "        01/03/2022\n",
    "        28/02/2022\n",
    "        01/01/2022\n",
    "        20-08-2021\n",
    "        \n",
    "        \"\"\"\n",
    "result = re.findall('[0-9]{2}[/-][0-9]{2}[/-][0-9]{4}',text)\n",
    "print(result,len(result))"
   ]
  },
  {
   "cell_type": "code",
   "execution_count": 26,
   "id": "numeric-excitement",
   "metadata": {},
   "outputs": [
    {
     "name": "stdout",
     "output_type": "stream",
     "text": [
      "['01/03/2022', '28/02/2022', '08/02/2022', '01/01/2022', '40-08-2021'] 5\n"
     ]
    }
   ],
   "source": [
    "# Extract valid dates from text\n",
    "text = \"\"\"\n",
    "        ASDFG0987P       \n",
    "        RTYUI67890      \n",
    "        POIUY1346T       \n",
    "        \n",
    "        Dates :\n",
    "        01/03/2022\n",
    "        28/02/2022\n",
    "        08/02/2022\n",
    "        01/01/2022\n",
    "        40-08-2021 \n",
    "        \"\"\"\n",
    "result = re.findall('[0-9]{2}[/-][0-9]{2}[/-][0-9]{4}',text)\n",
    "print(result,len(result))"
   ]
  },
  {
   "cell_type": "markdown",
   "id": "4af5f2ff",
   "metadata": {},
   "source": [
    "# Special sequences"
   ]
  },
  {
   "cell_type": "markdown",
   "id": "4b266885",
   "metadata": {},
   "source": [
    "# 1. \\d"
   ]
  },
  {
   "cell_type": "code",
   "execution_count": null,
   "id": "9385167a",
   "metadata": {},
   "outputs": [],
   "source": [
    "\\d >> [0-9] # (back slash small d)"
   ]
  },
  {
   "cell_type": "code",
   "execution_count": 195,
   "id": "16471248",
   "metadata": {},
   "outputs": [
    {
     "name": "stdout",
     "output_type": "stream",
     "text": [
      "['QWERT5678P', 'QWEYU9876L'] 2\n"
     ]
    }
   ],
   "source": [
    "# Find valid pancard numbers\n",
    "text = \"\"\" QWERT5678P\n",
    "            QWEYU9876L\"\"\"\n",
    "result = re.findall('[A-Z]{5}[0-9]{4}[A-Z]',text)\n",
    "print(result,len(result))"
   ]
  },
  {
   "cell_type": "code",
   "execution_count": 75,
   "id": "fbfde103",
   "metadata": {},
   "outputs": [
    {
     "name": "stdout",
     "output_type": "stream",
     "text": [
      "['QWERT5678P', 'QWEYU9876L'] 2\n"
     ]
    }
   ],
   "source": [
    "# Find valid pancard numbers\n",
    "text = \"\"\" QWERT5678P\n",
    "            QWEYU9876L\"\"\"\n",
    "result = re.findall('[A-Z]{5}\\d{4}[A-Z]{1}',text)\n",
    "print(result,len(result))"
   ]
  },
  {
   "cell_type": "code",
   "execution_count": 198,
   "id": "7662002b",
   "metadata": {},
   "outputs": [
    {
     "name": "stdout",
     "output_type": "stream",
     "text": [
      "['HDFC0009873', 'ASDFG5678', 'RTYQWERT4567'] 3\n"
     ]
    }
   ],
   "source": [
    "# Find valid pancard numbers\n",
    "text = \"\"\" Bank IFSC Code is :\n",
    "            HDFC0009873\n",
    "            9899887766\n",
    "            989988445533\n",
    "            ASDFG5678P\n",
    "            RTYQWERT4567POIUY\"\"\"\n",
    "\n",
    "result = re.findall('[A-Z]{2,10}\\d{2,10}',text)\n",
    "print(result,len(result))"
   ]
  },
  {
   "cell_type": "code",
   "execution_count": 34,
   "id": "27e8564d",
   "metadata": {},
   "outputs": [
    {
     "name": "stdout",
     "output_type": "stream",
     "text": [
      "['QWERT5678P', 'QWEYU9876L'] 2\n",
      "['3456 9876 2345'] 1\n"
     ]
    }
   ],
   "source": [
    "# Find valid aadhar card and pancard numbers\n",
    "text = \"\"\" QWERT5678P\n",
    "            QWEYU9876L\n",
    "            3456 9876 2345\"\"\"\n",
    "pancard = re.findall('[A-Z]{5}\\d{4}[A-Z]',text)\n",
    "print(pancard,len(pancard))\n",
    "\n",
    "Aadharcard = re.findall('\\d{4}[ ]\\d{4}[ ]\\d{4}',text)\n",
    "print(Aadharcard,len(Aadharcard))"
   ]
  },
  {
   "cell_type": "code",
   "execution_count": 36,
   "id": "e63d3dc6",
   "metadata": {},
   "outputs": [
    {
     "name": "stdout",
     "output_type": "stream",
     "text": [
      "['9899887766', '9899884455'] 2\n"
     ]
    }
   ],
   "source": [
    "# Find valid mobile numbers\n",
    "text = \"\"\" Bank IFSC Code is :\n",
    "            HDFC0009873\n",
    "            9899887766\n",
    "            989988445533\n",
    "            ASDFG5678P\n",
    "            QWERT4567POIUY\"\"\"\n",
    "result = re.findall('\\d{10}',text)\n",
    "print(result,len(result))"
   ]
  },
  {
   "cell_type": "markdown",
   "id": "1f0acf6a",
   "metadata": {},
   "source": [
    "# 2. \\D"
   ]
  },
  {
   "cell_type": "code",
   "execution_count": null,
   "id": "82d58290",
   "metadata": {},
   "outputs": [],
   "source": [
    "\\D >> except [0-9] >> [^0-9]"
   ]
  },
  {
   "cell_type": "code",
   "execution_count": 200,
   "id": "03d0eb07",
   "metadata": {},
   "outputs": [
    {
     "name": "stdout",
     "output_type": "stream",
     "text": [
      "['Q', 'W', 'E', 'R', 'T', ' ', 'P', ' ', '@', '#', '$', '%', '^', 'Q', 'W', 'E', 'Y', 'U', 'L', ' ', ' ', ' '] 22\n"
     ]
    }
   ],
   "source": [
    "# Find 1 occurence of sequence having \\D\n",
    "text = \"\"\"QWERT 5678P @#$%^QWEYU9876L 3456 9876 2345\"\"\"\n",
    "result = re.findall('\\D{1}',text)\n",
    "print(result,len(result))"
   ]
  },
  {
   "cell_type": "code",
   "execution_count": 40,
   "id": "6d693098",
   "metadata": {},
   "outputs": [
    {
     "name": "stdout",
     "output_type": "stream",
     "text": [
      "['Q', 'W', 'E', 'R', 'T', 'P', ' ', 'Q', 'W', 'E', 'Y', 'U', 'L', ' ', ' ', ' '] 16\n"
     ]
    }
   ],
   "source": [
    "# Find 1 occurence of sequence having \\D\n",
    "text = \"\"\"QWERT5678P QWEYU9876L 3456 9876 2345\"\"\"\n",
    "result = re.findall('[^0-9]',text)\n",
    "print(result,len(result))"
   ]
  },
  {
   "cell_type": "code",
   "execution_count": 41,
   "id": "7d047e4b",
   "metadata": {},
   "outputs": [
    {
     "name": "stdout",
     "output_type": "stream",
     "text": [
      "['Data scien', 'ce is an i', 'nterdiscip', 'linary fie', 'ld that us', 'es scienti', 'fic method', 's, \\nproces', 'ses, algor', 'ithms and ', 'systems to', ' extract k', 'nowledge a', 'nd insight', 's from noi', 'sy, \\nstruc', 'tured and ', 'unstructur', 'ed data, a', 'nd apply k', 'nowledge a', 'nd actiona', 'ble insigh', 'ts from \\nd', 'ata across', ' a broad r', 'ange of ap', 'plication ', 'domains \\nQ', 'P\\n        ', 'L\\n        '] 31\n"
     ]
    }
   ],
   "source": [
    "# Find 10 occurences of sequence having \\D\n",
    "text = \"\"\"Data science is an interdisciplinary field that uses scientific methods, \n",
    "processes, algorithms and systems to extract knowledge and insights from noisy, \n",
    "structured and unstructured data, and apply knowledge and actionable insights from \n",
    "data across a broad range of application domains \n",
    "QWERT5678P\n",
    "            QWEYU9876L\n",
    "            3456 9876 2345\"\"\"\n",
    "result = re.findall('\\D{10}',text)\n",
    "print(result,len(result))"
   ]
  },
  {
   "cell_type": "markdown",
   "id": "ed42d66a",
   "metadata": {},
   "source": [
    "# 3. \\s"
   ]
  },
  {
   "cell_type": "code",
   "execution_count": null,
   "id": "89e2b893",
   "metadata": {},
   "outputs": [],
   "source": [
    "\\s >> [ ] >> "
   ]
  },
  {
   "cell_type": "code",
   "execution_count": 203,
   "id": "898a32d9",
   "metadata": {},
   "outputs": [
    {
     "name": "stdout",
     "output_type": "stream",
     "text": [
      "['\\n            ', '\\n            ']\n"
     ]
    }
   ],
   "source": [
    "# Find valid aadhar number (use [ ])\n",
    "text = \"\"\" QWERT5678P\n",
    "            QWEYU9876L\n",
    "            3456 9876 2345\"\"\"\n",
    "result = re.findall('\\s{2,20}',text)\n",
    "print(result)"
   ]
  },
  {
   "cell_type": "code",
   "execution_count": 84,
   "id": "b593e596",
   "metadata": {},
   "outputs": [
    {
     "name": "stdout",
     "output_type": "stream",
     "text": [
      "['3456 9876 2345']\n"
     ]
    }
   ],
   "source": [
    "# Find valid aadhar number (use [ ])\n",
    "text = \"\"\" QWERT5678P\n",
    "            QWEYU9876L\n",
    "            3456 9876 2345\"\"\"\n",
    "result = re.findall('\\d{4}\\s{1}\\d{4}\\s{1}\\d{4}',text)\n",
    "print(result)"
   ]
  },
  {
   "cell_type": "code",
   "execution_count": 44,
   "id": "356283b8",
   "metadata": {},
   "outputs": [
    {
     "name": "stdout",
     "output_type": "stream",
     "text": [
      "['3456 9876 2345']\n"
     ]
    }
   ],
   "source": [
    "# Find valid aadhar number (use  )\n",
    "text = \"\"\" QWERT5678P\n",
    "            QWEYU9876L\n",
    "            3456 9876 2345\"\"\"\n",
    "result = re.findall('\\d{4} \\d{4} \\d{4}',text)\n",
    "print(result)"
   ]
  },
  {
   "cell_type": "code",
   "execution_count": 43,
   "id": "90fb732c",
   "metadata": {},
   "outputs": [
    {
     "name": "stdout",
     "output_type": "stream",
     "text": [
      "['3456 9876 2345']\n"
     ]
    }
   ],
   "source": [
    "# Find valid aadhar number (use \\s)\n",
    "text = \"\"\" QWERT5678P\n",
    "            QWEYU9876L\n",
    "            3456 9876 2345\"\"\"\n",
    "result = re.findall('\\d{4}\\s\\d{4}\\s\\d{4}',text)\n",
    "print(result)"
   ]
  },
  {
   "cell_type": "markdown",
   "id": "e3b84b56",
   "metadata": {},
   "source": [
    "# 4. \\S"
   ]
  },
  {
   "cell_type": "code",
   "execution_count": null,
   "id": "ead2027b",
   "metadata": {},
   "outputs": [],
   "source": [
    "\\S >> Except space >> [^ ]"
   ]
  },
  {
   "cell_type": "code",
   "execution_count": 206,
   "id": "b8607d0f",
   "metadata": {},
   "outputs": [
    {
     "name": "stdout",
     "output_type": "stream",
     "text": [
      "['Q', 'W', 'E', 'R', 'T', '5', '6', '7', '8', 'P', 'Q', 'W', 'E', 'Y', 'U', '9', '8', '7', '6', 'L', '3', '@', '#', '$', 'A', '$', '4', '5', '6', '9', '8', '7', '6', '2', '3', '4', '5']\n"
     ]
    }
   ],
   "source": [
    "# Find 1 occurence of everything except space \n",
    "text = \"\"\" QWERT5678P QWEYU9876L 3@#$A$456 9876 2345\"\"\"\n",
    "result = re.findall('\\S',text)\n",
    "print(result)"
   ]
  },
  {
   "cell_type": "markdown",
   "id": "aebe1bcd",
   "metadata": {},
   "source": [
    "# 5. \\w"
   ]
  },
  {
   "cell_type": "code",
   "execution_count": null,
   "id": "d3fa372b",
   "metadata": {},
   "outputs": [],
   "source": [
    "\\w >> [a-zA-Z0-9]"
   ]
  },
  {
   "cell_type": "code",
   "execution_count": 2,
   "id": "4c9e5c0e",
   "metadata": {},
   "outputs": [
    {
     "name": "stdout",
     "output_type": "stream",
     "text": [
      "['Data', '', 'science', '', 'is', '', 'an', '', 'interdiscipl', 'inary', '', 'field', '', 'that', '', 'uses', '', 'scientific', '', 'methods', '', '', '', 'processes', '', '', 'algorithms', '', 'and', '', 'systems', '', 'to', '', 'extract', '', 'knowledge', '', 'and', '', 'insights', '', 'from', '', 'noisy', '', '', '', 'structured', '', 'and', '', 'unstructured', '', 'data', '', '', 'and', '', 'apply', '', 'knowledge', '', 'and', '', 'actionable', '', 'insights', '', 'from', '', '', 'data', '', 'across', '', 'a', '', 'broad', '', 'range', '', 'of', '', 'application', '', 'domains', '', '', '', 'ASDFGHJKLR', '', 'QWERT5678P', '', '', '', '9988776655', '', '1234467789', '', 'QWEYU9876L', '', '3456', '', '9876', '', '2345', '']\n"
     ]
    }
   ],
   "source": [
    "import re\n",
    "# Find \\w sequence for 5 occurence\n",
    "text = \"\"\"Data science is an interdisciplinary field that uses scientific methods, \n",
    "processes, algorithms and systems to extract knowledge and insights from noisy, \n",
    "structured and unstructured data, and apply knowledge and actionable insights from \n",
    "data across a broad range of application domains \n",
    "\n",
    "ASDFGHJKLR\n",
    "QWERT5678P  \n",
    "9988776655\n",
    "1234467789\n",
    "QWEYU9876L\n",
    "3456 9876 2345\"\"\"\n",
    "\n",
    "result = re.findall('\\w{0,12}',text)\n",
    "print(result)"
   ]
  },
  {
   "cell_type": "code",
   "execution_count": 210,
   "id": "587a254f",
   "metadata": {},
   "outputs": [
    {
     "name": "stdout",
     "output_type": "stream",
     "text": [
      "['science', 'interdi', 'sciplin', 'scienti', 'methods', 'process', 'algorit', 'systems', 'extract', 'knowled', 'insight', 'structu', 'unstruc', 'knowled', 'actiona', 'insight', 'applica', 'domains', 'ASDFGHJ', 'QWERT56', '9988776', '1234467', 'QWEYU98']\n"
     ]
    }
   ],
   "source": [
    "# Find \\w sequence for 10 occurence\n",
    "text = \"\"\"Data science is an interdisciplinary field that uses scientific methods, \n",
    "processes, algorithms and systems to extract knowledge and insights from noisy, \n",
    "structured and unstructured data, and apply knowledge and actionable insights from \n",
    "data across a broad range of application domains \n",
    "\n",
    "ASDFGHJKLR\n",
    "QWERT5678P  \n",
    "9988776655\n",
    "1234467789\n",
    "QWEYU9876L\n",
    "3456 9876 2345\"\"\"\n",
    "\n",
    "\n",
    "result = re.findall('\\w{7}',text)\n",
    "print(result)"
   ]
  },
  {
   "cell_type": "markdown",
   "id": "791ecf27",
   "metadata": {},
   "source": [
    "# 6. \\W"
   ]
  },
  {
   "cell_type": "code",
   "execution_count": null,
   "id": "952ae9d1",
   "metadata": {},
   "outputs": [],
   "source": [
    "\\W >> Except [a-zA-Z0-9] >> [^a-zA-Z0-9]"
   ]
  },
  {
   "cell_type": "code",
   "execution_count": 51,
   "id": "40b3c223",
   "metadata": {},
   "outputs": [
    {
     "name": "stdout",
     "output_type": "stream",
     "text": [
      "[' ', ' ', ' ', ' ', ' ', ' ', ' ', ' ', ' ', ',', ' ', '\\n', ',', ' ', ' ', ' ', ' ', ' ', ' ', ' ', ' ', ' ', ' ', ',', ' ', '\\n', ' ', ' ', ' ', ',', ' ', ' ', ' ', ' ', ' ', ' ', ' ', ' ', '\\n', ' ', ' ', ' ', ' ', ' ', ' ', ' ', ' ', '\\n', '\\n', '@', '#', '$', '%', '^', '&', '*', '\\n', '\\n', ' ', ' ', '\\n', '\\n', '\\n', '\\n', ' ', ' ']\n"
     ]
    }
   ],
   "source": [
    "# Find \\W sequence for 1 occurence\n",
    "text = \"\"\"Data science is an Interdisciplinary field that uses scientific methods, \n",
    "processes, algorithms and systems to extract knowledge and insights from noisy, \n",
    "structured and unstructured data, and apply knowledge and actionable insights from \n",
    "data across a broad range of application domains \n",
    "\n",
    "@#$%^&*\n",
    "ASDFGHJKLR\n",
    "QWERT5678P  \n",
    "9988776655\n",
    "1234467789\n",
    "QWEYU9876L\n",
    "3456 9876 2345\"\"\"\n",
    "\n",
    "result = re.findall('\\W',text)\n",
    "print(result)"
   ]
  },
  {
   "cell_type": "code",
   "execution_count": 53,
   "id": "32abf058",
   "metadata": {},
   "outputs": [
    {
     "name": "stdout",
     "output_type": "stream",
     "text": [
      "[' \\n\\n@#', '$%^&*']\n"
     ]
    }
   ],
   "source": [
    "# Find \\W sequence for 5 occurence\n",
    "text = \"\"\"Data science is an Interdisciplinary field that uses scientific methods, \n",
    "processes, algorithms and systems to extract knowledge and insights from noisy, \n",
    "structured and unstructured data, and apply knowledge and actionable insights from \n",
    "data across a broad range of application domains \n",
    "\n",
    "@#$%^&*\n",
    "ASDFGHJKLR\n",
    "QWERT5678P  \n",
    "9988776655\n",
    "1234467789\n",
    "QWEYU9876L\n",
    "3456 9876 2345\"\"\"\n",
    "\n",
    "\n",
    "result = re.findall('\\W{5}',text)\n",
    "print(result)"
   ]
  },
  {
   "cell_type": "code",
   "execution_count": 54,
   "id": "ff6efacb",
   "metadata": {},
   "outputs": [
    {
     "name": "stdout",
     "output_type": "stream",
     "text": [
      "[' ', ' ', ' ', ' ', ' ', ' ', ' ', ' ', ' ', ',', ' ', '\\n', ',', ' ', ' ', ' ', ' ', ' ', ' ', ' ', ' ', ' ', ' ', ',', ' ', '\\n', ' ', ' ', ' ', ',', ' ', ' ', ' ', ' ', ' ', ' ', ' ', ' ', '\\n', ' ', ' ', ' ', ' ', ' ', ' ', ' ', ' ', '\\n', '\\n', '@', '#', '$', '%', '^', '&', '*', '\\n', '\\n', ' ', ' ', '\\n', '\\n', '\\n', '\\n', ' ', ' ', ' ', ' ', ' ', ' ', '\\n', ' ', ' ', ' ', ' ', ' ', ' ', ' ', ' ', ' ', ' ', ' ', ' ', ' ']\n"
     ]
    }
   ],
   "source": [
    "# Find \\W sequence for 1 occurence (use [^a-zA-Z0-9])\n",
    "text = \"\"\"Data science is an Interdisciplinary field that uses scientific methods, \n",
    "processes, algorithms and systems to extract knowledge and insights from noisy, \n",
    "structured and unstructured data, and apply knowledge and actionable insights from \n",
    "data across a broad range of application domains \n",
    "\n",
    "@#$%^&*\n",
    "ASDFGHJKLR\n",
    "QWERT5678P  \n",
    "9988776655\n",
    "1234467789\n",
    "QWEYU9876L\n",
    "      \n",
    "3456 9876 2345           \"\"\"\n",
    "\n",
    "result = re.findall('[^a-zA-Z0-9]',text)\n",
    "print(result)"
   ]
  },
  {
   "cell_type": "markdown",
   "id": "84c86163",
   "metadata": {},
   "source": [
    "# 7.\\b"
   ]
  },
  {
   "cell_type": "markdown",
   "id": "a931809e",
   "metadata": {},
   "source": [
    "- It will check for characters at the begining of word or end of word\n",
    "- **Use raw string(r) when using \\b**"
   ]
  },
  {
   "cell_type": "code",
   "execution_count": 218,
   "id": "650dd93f",
   "metadata": {},
   "outputs": [
    {
     "name": "stdout",
     "output_type": "stream",
     "text": [
      "['ASDFG5678P']\n"
     ]
    }
   ],
   "source": [
    "# Find valid pancard numbers   (use \\b at starting)\n",
    "text = \"\"\" Bank IFSC Code is :\n",
    "            HDFC0009873\n",
    "            9899887766\n",
    "            989988445533\n",
    "            \n",
    "            ASDFG5678P\n",
    "            \n",
    "            BFDFG5566PQWERTYUI\n",
    "            \n",
    "            RTYQWERT4567POIUY\"\"\"\n",
    "\n",
    "result = re.findall(r'\\b[A-Z]{5}[0-9]{4}[A-Z]\\b',text)\n",
    "print(result)"
   ]
  },
  {
   "cell_type": "code",
   "execution_count": 132,
   "id": "ffc350f3",
   "metadata": {},
   "outputs": [
    {
     "name": "stdout",
     "output_type": "stream",
     "text": [
      "['9899887766', 'ASDFG5678P']\n"
     ]
    }
   ],
   "source": [
    "# Find valid pancard numbers   (use \\b at starting)\n",
    "text = \"\"\" Bank IFSC Code is :\n",
    "            HDFC0009873\n",
    "            9899887766\n",
    "            989988445533\n",
    "            \n",
    "            ASDFG5678P\n",
    "            \n",
    "            BFDFG5566PQWERTYUI\n",
    "            \n",
    "            RTYQWERT4567POIUY\"\"\"\n",
    "\n",
    "result = re.findall(r'\\b[A-Z{10}\\b',text)\n",
    "print(result)"
   ]
  },
  {
   "cell_type": "code",
   "execution_count": 89,
   "id": "572ecffc",
   "metadata": {},
   "outputs": [
    {
     "name": "stdout",
     "output_type": "stream",
     "text": [
      "['ASDFG5678P']\n"
     ]
    }
   ],
   "source": [
    "# Find valid pancard numbers   (use \\b at starting and ending)\n",
    "text = \"\"\" Bank IFSC Code is :\n",
    "            HDFC0009873W\n",
    "            9899887766W\n",
    "            989988445533W\n",
    "            \n",
    "            ASDFG5678P\n",
    "            \n",
    "            BFDFG5566PQWERTYUI\n",
    "            \n",
    "            RTYQWERT4567POIUY\"\"\"\n",
    "result = re.findall(r'\\b[A-Z]{5}\\d{4}[A-Z]\\b',text)\n",
    "print(result)"
   ]
  },
  {
   "cell_type": "code",
   "execution_count": 61,
   "id": "f35abcfa",
   "metadata": {},
   "outputs": [
    {
     "name": "stdout",
     "output_type": "stream",
     "text": [
      "['9899887766']\n"
     ]
    }
   ],
   "source": [
    "# Find valid mobile numbers\n",
    "text = \"\"\" Bank IFSC Code is :\n",
    "            HDFC0009873\n",
    "            9899887766\n",
    "            989988445533\n",
    "            \n",
    "            ASDFG5678P\n",
    "            \n",
    "            BFDFG5566PQWERTYUI\n",
    "            \n",
    "            RTYQWERT4567POIUY\"\"\"\n",
    "result = re.findall(r'\\b\\d{10}\\b',text)\n",
    "print(result)"
   ]
  },
  {
   "cell_type": "code",
   "execution_count": 154,
   "id": "18159afb",
   "metadata": {},
   "outputs": [
    {
     "name": "stdout",
     "output_type": "stream",
     "text": [
      "['ASDFG5678P']\n"
     ]
    }
   ],
   "source": [
    "# Find valid ISFC code    (dont use /b)\n",
    "text = \"\"\" Bank IFSC Code is :\n",
    "            HDFC0009873\n",
    "            HDFC0034098733456789\n",
    "            9899887766\n",
    "            989988445533\n",
    "            \n",
    "            ASDFG5678P\n",
    "            \n",
    "            BFDFG5566PQWERTYUI\n",
    "            \n",
    "            RTYQWERT4567POIUY\"\"\"\n",
    "result = re.findall(r'[A-Z]{5}[0-9]{4}[A-Z]\\b',text)\n",
    "print(result)"
   ]
  },
  {
   "cell_type": "code",
   "execution_count": 64,
   "id": "143cc93d",
   "metadata": {},
   "outputs": [
    {
     "name": "stdout",
     "output_type": "stream",
     "text": [
      "['HDFC0009873']\n"
     ]
    }
   ],
   "source": [
    "# Find valid ISFC code   (use /b)\n",
    "text = \"\"\" Bank IFSC Code is :\n",
    "            HDFC0009873\n",
    "            HDFC0034098733456789\n",
    "            9899887766\n",
    "            989988445533\n",
    "            \n",
    "            ASDFG5678P\n",
    "            \n",
    "            BFDFG5566PQWERTYUI\n",
    "            \n",
    "            RTYQWERT4567POIUY\"\"\"\n",
    "result = re.findall(r'\\b[A-Z]{4}\\d{7}\\b',text)\n",
    "print(result)"
   ]
  },
  {
   "cell_type": "markdown",
   "id": "3683e73b",
   "metadata": {},
   "source": [
    "# OCR"
   ]
  },
  {
   "cell_type": "code",
   "execution_count": 7,
   "id": "67a0a865",
   "metadata": {},
   "outputs": [
    {
     "name": "stdout",
     "output_type": "stream",
     "text": [
      "Requirement already satisfied: pytesseract in c:\\users\\sushilchikane\\anaconda3\\lib\\site-packages (0.3.8)Note: you may need to restart the kernel to use updated packages.\n",
      "\n",
      "Requirement already satisfied: Pillow in c:\\users\\sushilchikane\\anaconda3\\lib\\site-packages (from pytesseract) (8.4.0)\n",
      "\n",
      "[notice] A new release of pip available: 22.2 -> 22.2.2\n",
      "[notice] To update, run: python.exe -m pip install --upgrade pip\n"
     ]
    }
   ],
   "source": [
    "pip install pytesseract"
   ]
  },
  {
   "cell_type": "code",
   "execution_count": 6,
   "id": "34049c8d",
   "metadata": {},
   "outputs": [
    {
     "name": "stdout",
     "output_type": "stream",
     "text": [
      "Requirement already satisfied: tesseract in c:\\users\\sushilchikane\\anaconda3\\lib\\site-packages (0.1.3)\n",
      "\n",
      "[notice] A new release of pip available: 22.2 -> 22.2.2\n",
      "[notice] To update, run: python.exe -m pip install --upgrade pip\n",
      "Note: you may need to restart the kernel to use updated packages.\n"
     ]
    }
   ],
   "source": [
    "pip install tesseract"
   ]
  },
  {
   "cell_type": "code",
   "execution_count": 1,
   "id": "fd33c00e",
   "metadata": {},
   "outputs": [],
   "source": [
    "import pytesseract"
   ]
  },
  {
   "cell_type": "code",
   "execution_count": 3,
   "id": "dcf8ed9b",
   "metadata": {},
   "outputs": [
    {
     "data": {
      "text/plain": [
       "'C:\\\\Program Files\\\\Tesseract-OCR\\\\tesseract.exe'"
      ]
     },
     "execution_count": 3,
     "metadata": {},
     "output_type": "execute_result"
    }
   ],
   "source": [
    "# path\n",
    "path = r'C:\\Program Files\\Tesseract-OCR\\tesseract.exe'\n",
    "path"
   ]
  },
  {
   "cell_type": "code",
   "execution_count": 5,
   "id": "8739d78b",
   "metadata": {},
   "outputs": [
    {
     "name": "stdout",
     "output_type": "stream",
     "text": [
      "INCOME TAX DEPARTMENT GOVT. OF Uhl\n",
      "MONIKA MAHADEV SHINDE\n",
      "MAHADEV SHINDE\n",
      "31/10/1992\n",
      "\n",
      "Permanent Account Number\n",
      "\n",
      "EJAPS0276M *\n",
      "MonuIkA 74 <sHINDE\n",
      "\n",
      "\n"
     ]
    }
   ],
   "source": [
    "pytesseract.pytesseract.tesseract_cmd = path\n",
    "result = pytesseract.image_to_string('pan2.jpeg')\n",
    "print(result)"
   ]
  },
  {
   "cell_type": "code",
   "execution_count": 4,
   "id": "dc615dc3",
   "metadata": {},
   "outputs": [
    {
     "name": "stdout",
     "output_type": "stream",
     "text": [
      "26 DE ENERO 2022\n",
      "APELACION\n",
      "\n",
      "PARA. OPTIMUN HEALTH CARE, INC\n",
      "\n",
      "P.0.BOX 152772\n",
      "\n",
      ".\n",
      "\n",
      "DE ‘MICKEY DONALD\n",
      "\n",
      "MEMBER NUMBER-T123456\n",
      "\n",
      "123 MAINST. PORT RICHEY, FL. 34668\n",
      "\n",
      "CELULAR. 410-123-1236\n",
      "\n",
      "PRESENTO ESTA APELACION. RECIBI CARTA CON FECHA DE ENERO 4 DEL 2022 DONDE\n",
      "‘SE ME INFORMA QUE DOS SERVICIOS RECIBIDOS E. 08/27/2021 CON CODIGO 92004\n",
      "NO SERAN CUBIERTOS POR MI PLAN DE SALUD OPTIMUM.\n",
      "\n",
      "LOS SERVICIOS RECBIDOS POR PERICH EYE CENTER EN SEVEN SPRINGS BOULEVARD,\n",
      "NEW PORT RICHEY FL. CON EL NUMERO DEL TELEFONO 727-372-1311 ESTAN EN SU\n",
      "DIRECTORIO DE PROVEEDORES, CUANDO LLAME ME INDICARON QUE ACEPTABAN EL.\n",
      "PLAN MEDICO, POR LO QUE TOME ESTA OPCION PARA RECIBIR EL SERVICIO DEL\n",
      "‘CUIDADO DE MIS OJOS.\n",
      "\n"
     ]
    },
    {
     "ename": "AttributeError",
     "evalue": "'str' object has no attribute 'to_txt'",
     "output_type": "error",
     "traceback": [
      "\u001b[1;31m---------------------------------------------------------------------------\u001b[0m",
      "\u001b[1;31mAttributeError\u001b[0m                            Traceback (most recent call last)",
      "\u001b[1;32mC:\\Users\\SUSHIL~1\\AppData\\Local\\Temp/ipykernel_12076/2541002188.py\u001b[0m in \u001b[0;36m<module>\u001b[1;34m\u001b[0m\n\u001b[0;32m      2\u001b[0m \u001b[0mresult\u001b[0m \u001b[1;33m=\u001b[0m \u001b[0mpytesseract\u001b[0m\u001b[1;33m.\u001b[0m\u001b[0mimage_to_string\u001b[0m\u001b[1;33m(\u001b[0m\u001b[1;34m'Capture.JPG'\u001b[0m\u001b[1;33m)\u001b[0m\u001b[1;33m\u001b[0m\u001b[1;33m\u001b[0m\u001b[0m\n\u001b[0;32m      3\u001b[0m \u001b[0mprint\u001b[0m\u001b[1;33m(\u001b[0m\u001b[0mresult\u001b[0m\u001b[1;33m)\u001b[0m\u001b[1;33m\u001b[0m\u001b[1;33m\u001b[0m\u001b[0m\n\u001b[1;32m----> 4\u001b[1;33m \u001b[0mresult\u001b[0m\u001b[1;33m.\u001b[0m\u001b[0mto_txt\u001b[0m\u001b[1;33m(\u001b[0m\u001b[1;34m'1.txt'\u001b[0m\u001b[1;33m)\u001b[0m\u001b[1;33m\u001b[0m\u001b[1;33m\u001b[0m\u001b[0m\n\u001b[0m",
      "\u001b[1;31mAttributeError\u001b[0m: 'str' object has no attribute 'to_txt'"
     ]
    }
   ],
   "source": [
    "pytesseract.pytesseract.tesseract_cmd = path\n",
    "result = pytesseract.image_to_string('Capture.JPG')\n",
    "print(result)\n",
    "result.to_txt('1.txt')\n"
   ]
  },
  {
   "cell_type": "code",
   "execution_count": 133,
   "id": "5b3aa5be",
   "metadata": {},
   "outputs": [
    {
     "name": "stdout",
     "output_type": "stream",
     "text": [
      "EJAPS0276M\n"
     ]
    }
   ],
   "source": [
    "# Extract valid pancard number from data\n",
    "pancard_no = re.findall(r'\\b[A-Z]{5}\\d{4}[A-Z]\\b',result)\n",
    "print(pancard_no[0])"
   ]
  },
  {
   "cell_type": "code",
   "execution_count": 134,
   "id": "2a31f63f",
   "metadata": {},
   "outputs": [
    {
     "name": "stdout",
     "output_type": "stream",
     "text": [
      "31/10/1992\n"
     ]
    }
   ],
   "source": [
    "# Extract valid DOB from data\n",
    "DOB = re.findall(r'\\b\\d{2}[/]\\d{2}[/]\\d{4}\\b',result)\n",
    "print(DOB[0])"
   ]
  },
  {
   "cell_type": "code",
   "execution_count": 135,
   "id": "6373b393",
   "metadata": {},
   "outputs": [
    {
     "name": "stdout",
     "output_type": "stream",
     "text": [
      "image_name :: pan2.jpeg\n",
      "Date of birth is : 31/10/1992\n",
      "Pan car number is : EJAPS0276M\n",
      "************************************************************\n",
      "image_name :: pan3.jpeg\n",
      "Date of birth is : 31/10/1992\n",
      "Pan car number is : EJAPS0276M\n",
      "************************************************************\n",
      "image_name :: pan4.jpeg\n",
      "Date of birth is : 31/10/1992\n",
      "Pan car number is : EJAPS0276M\n",
      "************************************************************\n",
      "image_name :: pan5.jpeg\n",
      "Date of birth is : 31/10/1992\n",
      "Pan car number is : EJAPS0276M\n",
      "************************************************************\n",
      "image_name :: pan6.jpeg\n",
      "Date of birth is : 31/10/1992\n",
      "Pan car number is : EJAPS0276M\n",
      "************************************************************\n",
      "image_name :: pan7.jpeg\n",
      "Date of birth is : 31/10/1992\n",
      "Pan car number is : EJAPS0276M\n",
      "************************************************************\n",
      "image_name :: pan8.jpeg\n",
      "Date of birth is : 31/10/1992\n",
      "Pan car number is : EJAPS0276M\n",
      "************************************************************\n",
      "image_name :: pancard1.jpg\n",
      "Date of birth is : 16/07/1986\n",
      "Pan car number is : BNZPM2501F\n",
      "************************************************************\n"
     ]
    }
   ],
   "source": [
    "import os \n",
    "folder_path = 'pan_card_data'\n",
    "file_names_list = os.listdir(folder_path)\n",
    "for image_name in file_names_list:\n",
    "    print(\"image_name ::\",image_name)\n",
    "    image_name = os.path.join(folder_path,image_name)\n",
    "    pan_data = pytesseract.image_to_string(image_name)\n",
    "    dob = re.findall('\\d{2}[/]\\d{2}[/]\\d{4}',pan_data)\n",
    "    if dob:\n",
    "        print(\"Date of birth is :\",dob[0])\n",
    "\n",
    "    pan_num = re.findall('[A-Z]{5}\\d{4}[A-Z]',pan_data)\n",
    "    if pan_num:\n",
    "        print(\"Pan car number is :\",pan_num[0])\n",
    "    print(\"*\"*60)"
   ]
  },
  {
   "cell_type": "code",
   "execution_count": 144,
   "id": "99a5b1f0",
   "metadata": {},
   "outputs": [
    {
     "name": "stdout",
     "output_type": "stream",
     "text": [
      "image_name :: pan2.jpeg\n",
      "pan_card_data\\pan2.jpeg\n",
      "Date of birth is : 31/10/1992\n",
      "Pan car number is : EJAPS0276M\n",
      "************************************************************\n",
      "image_name :: pan3.jpeg\n",
      "pan_card_data\\pan3.jpeg\n",
      "Date of birth is : 31/10/1992\n",
      "Pan car number is : EJAPS0276M\n",
      "************************************************************\n",
      "image_name :: pan4.jpeg\n",
      "pan_card_data\\pan4.jpeg\n",
      "Date of birth is : 31/10/1992\n",
      "Pan car number is : EJAPS0276M\n",
      "************************************************************\n",
      "image_name :: pan5.jpeg\n",
      "pan_card_data\\pan5.jpeg\n",
      "Date of birth is : 31/10/1992\n",
      "Pan car number is : EJAPS0276M\n",
      "************************************************************\n",
      "image_name :: pan6.jpeg\n",
      "pan_card_data\\pan6.jpeg\n",
      "Date of birth is : 31/10/1992\n",
      "Pan car number is : EJAPS0276M\n",
      "************************************************************\n",
      "image_name :: pan7.jpeg\n",
      "pan_card_data\\pan7.jpeg\n",
      "Date of birth is : 31/10/1992\n",
      "Pan car number is : EJAPS0276M\n",
      "************************************************************\n",
      "image_name :: pan8.jpeg\n",
      "pan_card_data\\pan8.jpeg\n",
      "Date of birth is : 31/10/1992\n",
      "Pan car number is : EJAPS0276M\n",
      "************************************************************\n",
      "image_name :: pancard1.jpg\n",
      "pan_card_data\\pancard1.jpg\n",
      "Date of birth is : 16/07/1986\n",
      "Pan car number is : BNZPM2501F\n",
      "************************************************************\n"
     ]
    }
   ],
   "source": [
    "import os \n",
    "import pandas as pd\n",
    "folder_path = 'pan_card_data'\n",
    "\n",
    "file_names_list = os.listdir(folder_path)\n",
    "# print(file_names_list)\n",
    "\n",
    "image_names_list = []\n",
    "dob_list = []\n",
    "pan_num_list = []\n",
    "for image_name in file_names_list:\n",
    "    print(\"image_name ::\",image_name)\n",
    "    image_names_list.append(image_name)\n",
    "    image_name = os.path.join(folder_path,image_name)\n",
    "    print(image_name)\n",
    "    pan_data = pytesseract.image_to_string(image_name)\n",
    "    dob = re.findall('\\d{2}[/]\\d{2}[/]\\d{4}',pan_data)\n",
    "    if dob:\n",
    "        print(\"Date of birth is :\",dob[0])\n",
    "        dob_list.append(dob[0])\n",
    "\n",
    "    else:\n",
    "        dob_list.append('')\n",
    "        \n",
    "    pan_num = re.findall('[A-Z]{5}\\d{4}[A-Z]',pan_data)\n",
    "    if pan_num:\n",
    "        print(\"Pan car number is :\",pan_num[0])\n",
    "        pan_num_list.append(pan_num[0])\n",
    "    else:\n",
    "        pan_num_list.append('')\n",
    "    print(\"*\"*60)\n",
    "    \n",
    "result = {\"Image Name\":image_names_list,\n",
    "                  \"Date of Birth\":dob_list,\n",
    "                  \"PAN Card Number\": pan_num_list}\n",
    "\n",
    "\n",
    "df = pd.DataFrame(result)\n",
    "df.to_csv(\"PAN_Result.csv\")   "
   ]
  }
 ],
 "metadata": {
  "kernelspec": {
   "display_name": "Python 3 (ipykernel)",
   "language": "python",
   "name": "python3"
  },
  "language_info": {
   "codemirror_mode": {
    "name": "ipython",
    "version": 3
   },
   "file_extension": ".py",
   "mimetype": "text/x-python",
   "name": "python",
   "nbconvert_exporter": "python",
   "pygments_lexer": "ipython3",
   "version": "3.12.4"
  }
 },
 "nbformat": 4,
 "nbformat_minor": 5
}
