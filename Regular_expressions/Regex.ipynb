{
 "cells": [
  {
   "cell_type": "markdown",
   "id": "640ed8c0-9e68-437c-9ffa-002880c7f47c",
   "metadata": {},
   "source": [
    "A Regular Expression (RegEx) is a sequence of characters that defines a search pattern"
   ]
  },
  {
   "cell_type": "markdown",
   "id": "25b77c55-512e-4109-b6d3-c6eb58720c10",
   "metadata": {
    "tags": []
   },
   "source": [
    "##### ^P.....N$ this defines a RegEx pattern\n",
    "##### this defines a pattern that is 7 lettered word which starts from P and ends with N "
   ]
  },
  {
   "cell_type": "markdown",
   "id": "1d874979-b7e5-4eed-b802-e9fd4a468e8f",
   "metadata": {},
   "source": [
    "^ this is symbol is called caret"
   ]
  },
  {
   "cell_type": "code",
   "execution_count": 9,
   "id": "3afcc19d-6615-42b9-8fc2-dfc6d9bacb6e",
   "metadata": {
    "tags": []
   },
   "outputs": [],
   "source": [
    "import re"
   ]
  },
  {
   "cell_type": "code",
   "execution_count": 10,
   "id": "253114a2-64a5-4a75-9320-006922b2d57e",
   "metadata": {
    "tags": []
   },
   "outputs": [
    {
     "name": "stdout",
     "output_type": "stream",
     "text": [
      "search successfull\n"
     ]
    }
   ],
   "source": [
    "pattern = '^a...s$'\n",
    "test_string=\"abyss\"\n",
    "returns = re.match(pattern,test_string)\n",
    "if returns:\n",
    "    print(\"search successfull\")\n",
    "else:\n",
    "    print(\"search unsuccessfull\")"
   ]
  },
  {
   "cell_type": "code",
   "execution_count": 11,
   "id": "de887f13-8cdf-4734-94ae-438d9bc1a4d5",
   "metadata": {
    "tags": []
   },
   "outputs": [
    {
     "name": "stdout",
     "output_type": "stream",
     "text": [
      "Search successful\n"
     ]
    }
   ],
   "source": [
    "import re\n",
    "\n",
    "pattern = '^a...s$'\n",
    "test_string = \"Abyss\"\n",
    "returns = re.match(pattern, test_string, re.I)\n",
    "\n",
    "if returns:\n",
    "    print(\"Search successful\")\n",
    "else:\n",
    "    print(\"Search unsuccessful\")\n"
   ]
  },
  {
   "cell_type": "markdown",
   "id": "7618ce9a-4167-478e-9233-f90dfa58e337",
   "metadata": {},
   "source": [
    "## in general python is case sensitive but we can make it insennsitive with using re.IGNORECASE"
   ]
  },
  {
   "cell_type": "markdown",
   "id": "1ffd07b9-f0d2-489f-9f50-771c72511952",
   "metadata": {},
   "source": [
    "here we use raw strings and how is it different is answered below"
   ]
  },
  {
   "cell_type": "code",
   "execution_count": 12,
   "id": "6d1f9357-4e38-4a13-ad4d-e1e61928172f",
   "metadata": {
    "tags": []
   },
   "outputs": [
    {
     "name": "stdout",
     "output_type": "stream",
     "text": [
      "\tTab\n"
     ]
    }
   ],
   "source": [
    "print(\"\\tTab\")"
   ]
  },
  {
   "cell_type": "code",
   "execution_count": 13,
   "id": "cb0374c3-3493-47b2-8f86-4a3185fe5bc7",
   "metadata": {
    "tags": []
   },
   "outputs": [
    {
     "name": "stdout",
     "output_type": "stream",
     "text": [
      "\\tTab\n"
     ]
    }
   ],
   "source": [
    "print(r\"\\tTab\")"
   ]
  },
  {
   "cell_type": "markdown",
   "id": "91842047-f95d-44fa-87e0-d73d153c0170",
   "metadata": {},
   "source": [
    "so raw string just prints the complete string without caring about the backslashes"
   ]
  },
  {
   "cell_type": "code",
   "execution_count": 14,
   "id": "92a9d792-f95f-4ac7-a899-09f8378d46c3",
   "metadata": {
    "tags": []
   },
   "outputs": [
    {
     "name": "stderr",
     "output_type": "stream",
     "text": [
      "<>:1: SyntaxWarning: invalid escape sequence '\\ '\n",
      "<>:1: SyntaxWarning: invalid escape sequence '\\ '\n",
      "C:\\Users\\hp\\AppData\\Local\\Temp\\ipykernel_15088\\1146709023.py:1: SyntaxWarning: invalid escape sequence '\\ '\n",
      "  text='''\n"
     ]
    }
   ],
   "source": [
    "text='''\n",
    "abcdefghijklmnopqrstuvwxyz\n",
    "ABCDEFGHIJKLMNOPGQRSTUVWXYZ\n",
    "0123456789\n",
    "swayamswarup.com\n",
    "Ha HaHa\n",
    "metcharacters \n",
    ". ^ $ * + ? { } [ ] \\ | ( )\n",
    "122-243-3434\n",
    "123.234.5678\n",
    "123*234*5678\n",
    "Mr.Swayam\n",
    "Mr.Swarup\n",
    "'''"
   ]
  },
  {
   "cell_type": "code",
   "execution_count": 15,
   "id": "48265b5d-bf08-4d27-9101-181c0a1cf80e",
   "metadata": {
    "tags": []
   },
   "outputs": [],
   "source": [
    "sentence=\"start of a sentence and end of string\""
   ]
  },
  {
   "cell_type": "code",
   "execution_count": 16,
   "id": "c4a1f5df-a5a6-4a61-8755-2324cf35b36b",
   "metadata": {
    "tags": []
   },
   "outputs": [],
   "source": [
    "pattern = re.compile(r\"abc\")\n",
    "# pattern = re.compile(r\".\")\n",
    "# if we use . it prints everything"
   ]
  },
  {
   "cell_type": "code",
   "execution_count": 17,
   "id": "9c6cb1cd-87a0-4e9c-8dc0-2a0a3db3545a",
   "metadata": {
    "tags": []
   },
   "outputs": [],
   "source": [
    "matches = pattern.finditer(text)"
   ]
  },
  {
   "cell_type": "code",
   "execution_count": 18,
   "id": "ea145c4c-950d-427d-8e65-7dc552071d6a",
   "metadata": {
    "tags": []
   },
   "outputs": [
    {
     "name": "stdout",
     "output_type": "stream",
     "text": [
      "<re.Match object; span=(1, 4), match='abc'>\n"
     ]
    }
   ],
   "source": [
    "for match in matches:\n",
    "    print(match)"
   ]
  },
  {
   "cell_type": "code",
   "execution_count": 19,
   "id": "3ba2af9d-97aa-4a9a-9dd9-c9adc1292e42",
   "metadata": {
    "tags": []
   },
   "outputs": [
    {
     "data": {
      "text/plain": [
       "'abc'"
      ]
     },
     "execution_count": 19,
     "metadata": {},
     "output_type": "execute_result"
    }
   ],
   "source": [
    "text[1:4]"
   ]
  },
  {
   "cell_type": "code",
   "execution_count": 20,
   "id": "f44b24d8-9d2d-40f6-856f-bfc5701a5156",
   "metadata": {
    "tags": []
   },
   "outputs": [],
   "source": [
    "pattern = re.compile(r\"\\.\") # so using backslash just gave us better seacrh results as it ignores everything else"
   ]
  },
  {
   "cell_type": "code",
   "execution_count": 21,
   "id": "6e1b866e-93f3-40cc-82dd-a8bfc9167888",
   "metadata": {
    "tags": []
   },
   "outputs": [],
   "source": [
    "matches=pattern.finditer(text)"
   ]
  },
  {
   "cell_type": "code",
   "execution_count": 22,
   "id": "83ed1167-e77d-4ad6-a1a8-d1dcb93069b2",
   "metadata": {
    "tags": []
   },
   "outputs": [
    {
     "name": "stdout",
     "output_type": "stream",
     "text": [
      "<re.Match object; span=(79, 80), match='.'>\n",
      "<re.Match object; span=(107, 108), match='.'>\n",
      "<re.Match object; span=(151, 152), match='.'>\n",
      "<re.Match object; span=(155, 156), match='.'>\n",
      "<re.Match object; span=(176, 177), match='.'>\n",
      "<re.Match object; span=(186, 187), match='.'>\n"
     ]
    }
   ],
   "source": [
    "for match in matches:\n",
    "    print(match)"
   ]
  },
  {
   "cell_type": "markdown",
   "id": "60a64139-f780-4a54-888d-a1eaed385d04",
   "metadata": {
    "tags": []
   },
   "source": [
    "##### . for all charcters except new line\n",
    "##### \\d for all the digits from 0-9\n",
    "##### \\D not digits\n",
    "##### \\w for a word character(a-z,A-Z,0-9,__)\n",
    "##### \\W for a word character\n",
    "##### \\s Whitespace(space,tab,newline)\n",
    "##### \\S not a whitespace\n",
    "##### \\b word boundary\n",
    "##### \\B not a word boundary\n",
    "##### ^ beginning of a string\n",
    "##### $ end of a string\n",
    "##### [] matches character in brackets\n",
    "##### [^ ] matches not charcaters in  brackets\n",
    "##### |       - Either Or\n",
    "##### ( )     - Group\n",
    "\n",
    "##### Quantifiers:\n",
    "##### *       - 0 or More\n",
    "##### +       - 1 or More\n",
    "##### ?       - 0 or One\n",
    "##### {3}     - Exact Number\n",
    "##### {3,4}   - Range of Numbers (Minimum, Maximum)"
   ]
  },
  {
   "cell_type": "code",
   "execution_count": 23,
   "id": "ecb5d7b5-c762-45d6-b207-9daacf276b0a",
   "metadata": {
    "tags": []
   },
   "outputs": [
    {
     "name": "stdout",
     "output_type": "stream",
     "text": [
      "<re.Match object; span=(135, 147), match='122-243-3434'>\n",
      "<re.Match object; span=(148, 160), match='123.234.5678'>\n",
      "<re.Match object; span=(161, 173), match='123*234*5678'>\n"
     ]
    }
   ],
   "source": [
    "pattern = re.compile(r\"\\d\\d\\d.\\d\\d\\d.\\d\\d\\d\\d\") ## the dot searches for evrything as a separtor\n",
    "matches=pattern.finditer(text)\n",
    "for match in matches:\n",
    "    print(match)"
   ]
  },
  {
   "cell_type": "code",
   "execution_count": 24,
   "id": "7db5c60b-0eca-4055-84f8-65193e0f5dfe",
   "metadata": {
    "tags": []
   },
   "outputs": [
    {
     "name": "stdout",
     "output_type": "stream",
     "text": [
      "<re.Match object; span=(135, 147), match='122-243-3434'>\n",
      "<re.Match object; span=(148, 160), match='123.234.5678'>\n"
     ]
    }
   ],
   "source": [
    "pattern = re.compile(r\"\\d\\d\\d[-.]\\d\\d\\d[-.]\\d\\d\\d\\d\") # we used a charcter set which contains -. and only shows those which have the separtor as - or .\n",
    "## here we donthave to use \\. as . will not included everything if present inside a character set\n",
    "matches=pattern.finditer(text)\n",
    "for match in matches:\n",
    "    print(match)"
   ]
  },
  {
   "cell_type": "code",
   "execution_count": 25,
   "id": "4fd36f08-e8e9-4c2c-a1c6-6d70f72fb76e",
   "metadata": {
    "tags": []
   },
   "outputs": [
    {
     "name": "stderr",
     "output_type": "stream",
     "text": [
      "<>:1: SyntaxWarning: invalid escape sequence '\\ '\n",
      "<>:1: SyntaxWarning: invalid escape sequence '\\ '\n",
      "C:\\Users\\hp\\AppData\\Local\\Temp\\ipykernel_15088\\1652767477.py:1: SyntaxWarning: invalid escape sequence '\\ '\n",
      "  text='''\n"
     ]
    }
   ],
   "source": [
    "text='''\n",
    "abcdefghijklmnopqrstuvwxyz\n",
    "ABCDEFGHIJKLMNOPGQRSTUVWXYZ\n",
    "0123456789\n",
    "swayamswarup.com\n",
    "Ha HaHa\n",
    "metcharacters \n",
    ". ^ $ * + ? { } [ ] \\ | ( )\n",
    "122-243-3434\n",
    "123.234.5678\n",
    "123*234*5678\n",
    "800-234-5454\n",
    "900-343-5346\n",
    "Mr.Swayam\n",
    "Mr.Swarup\n",
    "'''"
   ]
  },
  {
   "cell_type": "code",
   "execution_count": 26,
   "id": "84f2d0ae-ef8e-4896-b7da-f38820f7552e",
   "metadata": {
    "tags": []
   },
   "outputs": [
    {
     "name": "stdout",
     "output_type": "stream",
     "text": [
      "<re.Match object; span=(174, 186), match='800-234-5454'>\n",
      "<re.Match object; span=(187, 199), match='900-343-5346'>\n"
     ]
    }
   ],
   "source": [
    "pattern = re.compile(r\"[89]00[-.]\\d\\d\\d[-.]\\d\\d\\d\\d\") #only number which starts with 800 or 900\n",
    "matches=pattern.finditer(text)\n",
    "for match in matches:\n",
    "    print(match)"
   ]
  },
  {
   "cell_type": "code",
   "execution_count": 27,
   "id": "7003c2b5-e7ae-4d18-933b-f55f582d95ca",
   "metadata": {
    "tags": []
   },
   "outputs": [],
   "source": [
    "import re"
   ]
  },
  {
   "cell_type": "code",
   "execution_count": 28,
   "id": "90a36e3b-0dcf-49fc-9063-a53a78ef90e9",
   "metadata": {
    "tags": []
   },
   "outputs": [
    {
     "name": "stdout",
     "output_type": "stream",
     "text": [
      "<re.Match object; span=(1, 2), match='a'>\n",
      "<re.Match object; span=(2, 3), match='b'>\n",
      "<re.Match object; span=(3, 4), match='c'>\n",
      "<re.Match object; span=(4, 5), match='d'>\n",
      "<re.Match object; span=(5, 6), match='e'>\n",
      "<re.Match object; span=(6, 7), match='f'>\n",
      "<re.Match object; span=(7, 8), match='g'>\n",
      "<re.Match object; span=(8, 9), match='h'>\n",
      "<re.Match object; span=(9, 10), match='i'>\n",
      "<re.Match object; span=(10, 11), match='j'>\n",
      "<re.Match object; span=(11, 12), match='k'>\n",
      "<re.Match object; span=(12, 13), match='l'>\n",
      "<re.Match object; span=(13, 14), match='m'>\n",
      "<re.Match object; span=(14, 15), match='n'>\n",
      "<re.Match object; span=(15, 16), match='o'>\n",
      "<re.Match object; span=(16, 17), match='p'>\n",
      "<re.Match object; span=(17, 18), match='q'>\n",
      "<re.Match object; span=(18, 19), match='r'>\n",
      "<re.Match object; span=(19, 20), match='s'>\n",
      "<re.Match object; span=(20, 21), match='t'>\n",
      "<re.Match object; span=(21, 22), match='u'>\n",
      "<re.Match object; span=(22, 23), match='v'>\n",
      "<re.Match object; span=(23, 24), match='w'>\n",
      "<re.Match object; span=(24, 25), match='x'>\n",
      "<re.Match object; span=(25, 26), match='y'>\n",
      "<re.Match object; span=(26, 27), match='z'>\n",
      "<re.Match object; span=(28, 29), match='A'>\n",
      "<re.Match object; span=(29, 30), match='B'>\n",
      "<re.Match object; span=(30, 31), match='C'>\n",
      "<re.Match object; span=(31, 32), match='D'>\n",
      "<re.Match object; span=(32, 33), match='E'>\n",
      "<re.Match object; span=(33, 34), match='F'>\n",
      "<re.Match object; span=(34, 35), match='G'>\n",
      "<re.Match object; span=(35, 36), match='H'>\n",
      "<re.Match object; span=(36, 37), match='I'>\n",
      "<re.Match object; span=(37, 38), match='J'>\n",
      "<re.Match object; span=(38, 39), match='K'>\n",
      "<re.Match object; span=(39, 40), match='L'>\n",
      "<re.Match object; span=(40, 41), match='M'>\n",
      "<re.Match object; span=(41, 42), match='N'>\n",
      "<re.Match object; span=(42, 43), match='O'>\n",
      "<re.Match object; span=(43, 44), match='P'>\n",
      "<re.Match object; span=(44, 45), match='G'>\n",
      "<re.Match object; span=(45, 46), match='Q'>\n",
      "<re.Match object; span=(46, 47), match='R'>\n",
      "<re.Match object; span=(47, 48), match='S'>\n",
      "<re.Match object; span=(48, 49), match='T'>\n",
      "<re.Match object; span=(49, 50), match='U'>\n",
      "<re.Match object; span=(50, 51), match='V'>\n",
      "<re.Match object; span=(51, 52), match='W'>\n",
      "<re.Match object; span=(52, 53), match='X'>\n",
      "<re.Match object; span=(53, 54), match='Y'>\n",
      "<re.Match object; span=(54, 55), match='Z'>\n",
      "<re.Match object; span=(67, 68), match='s'>\n",
      "<re.Match object; span=(68, 69), match='w'>\n",
      "<re.Match object; span=(69, 70), match='a'>\n",
      "<re.Match object; span=(70, 71), match='y'>\n",
      "<re.Match object; span=(71, 72), match='a'>\n",
      "<re.Match object; span=(72, 73), match='m'>\n",
      "<re.Match object; span=(73, 74), match='s'>\n",
      "<re.Match object; span=(74, 75), match='w'>\n",
      "<re.Match object; span=(75, 76), match='a'>\n",
      "<re.Match object; span=(76, 77), match='r'>\n",
      "<re.Match object; span=(77, 78), match='u'>\n",
      "<re.Match object; span=(78, 79), match='p'>\n",
      "<re.Match object; span=(80, 81), match='c'>\n",
      "<re.Match object; span=(81, 82), match='o'>\n",
      "<re.Match object; span=(82, 83), match='m'>\n",
      "<re.Match object; span=(84, 85), match='H'>\n",
      "<re.Match object; span=(85, 86), match='a'>\n",
      "<re.Match object; span=(87, 88), match='H'>\n",
      "<re.Match object; span=(88, 89), match='a'>\n",
      "<re.Match object; span=(89, 90), match='H'>\n",
      "<re.Match object; span=(90, 91), match='a'>\n",
      "<re.Match object; span=(92, 93), match='m'>\n",
      "<re.Match object; span=(93, 94), match='e'>\n",
      "<re.Match object; span=(94, 95), match='t'>\n",
      "<re.Match object; span=(95, 96), match='c'>\n",
      "<re.Match object; span=(96, 97), match='h'>\n",
      "<re.Match object; span=(97, 98), match='a'>\n",
      "<re.Match object; span=(98, 99), match='r'>\n",
      "<re.Match object; span=(99, 100), match='a'>\n",
      "<re.Match object; span=(100, 101), match='c'>\n",
      "<re.Match object; span=(101, 102), match='t'>\n",
      "<re.Match object; span=(102, 103), match='e'>\n",
      "<re.Match object; span=(103, 104), match='r'>\n",
      "<re.Match object; span=(104, 105), match='s'>\n",
      "<re.Match object; span=(200, 201), match='M'>\n",
      "<re.Match object; span=(201, 202), match='r'>\n",
      "<re.Match object; span=(203, 204), match='S'>\n",
      "<re.Match object; span=(204, 205), match='w'>\n",
      "<re.Match object; span=(205, 206), match='a'>\n",
      "<re.Match object; span=(206, 207), match='y'>\n",
      "<re.Match object; span=(207, 208), match='a'>\n",
      "<re.Match object; span=(208, 209), match='m'>\n",
      "<re.Match object; span=(210, 211), match='M'>\n",
      "<re.Match object; span=(211, 212), match='r'>\n",
      "<re.Match object; span=(213, 214), match='S'>\n",
      "<re.Match object; span=(214, 215), match='w'>\n",
      "<re.Match object; span=(215, 216), match='a'>\n",
      "<re.Match object; span=(216, 217), match='r'>\n",
      "<re.Match object; span=(217, 218), match='u'>\n",
      "<re.Match object; span=(218, 219), match='p'>\n"
     ]
    }
   ],
   "source": [
    "pattern = re.compile(r\"[a-zA-Z]\")  ## a range from a-z\n",
    "matches=pattern.finditer(text)\n",
    "for match in matches:\n",
    "    print(match)"
   ]
  },
  {
   "cell_type": "code",
   "execution_count": 29,
   "id": "912de4ac-39ef-4475-ad93-fce8076f8c68",
   "metadata": {},
   "outputs": [
    {
     "name": "stdout",
     "output_type": "stream",
     "text": [
      "<re.Match object; span=(0, 1), match='\\n'>\n",
      "<re.Match object; span=(27, 28), match='\\n'>\n",
      "<re.Match object; span=(55, 56), match='\\n'>\n",
      "<re.Match object; span=(56, 57), match='0'>\n",
      "<re.Match object; span=(57, 58), match='1'>\n",
      "<re.Match object; span=(58, 59), match='2'>\n",
      "<re.Match object; span=(59, 60), match='3'>\n",
      "<re.Match object; span=(60, 61), match='4'>\n",
      "<re.Match object; span=(61, 62), match='5'>\n",
      "<re.Match object; span=(62, 63), match='6'>\n",
      "<re.Match object; span=(63, 64), match='7'>\n",
      "<re.Match object; span=(64, 65), match='8'>\n",
      "<re.Match object; span=(65, 66), match='9'>\n",
      "<re.Match object; span=(66, 67), match='\\n'>\n",
      "<re.Match object; span=(79, 80), match='.'>\n",
      "<re.Match object; span=(83, 84), match='\\n'>\n",
      "<re.Match object; span=(86, 87), match=' '>\n",
      "<re.Match object; span=(91, 92), match='\\n'>\n",
      "<re.Match object; span=(105, 106), match=' '>\n",
      "<re.Match object; span=(106, 107), match='\\n'>\n",
      "<re.Match object; span=(107, 108), match='.'>\n",
      "<re.Match object; span=(108, 109), match=' '>\n",
      "<re.Match object; span=(110, 111), match=' '>\n",
      "<re.Match object; span=(111, 112), match='$'>\n",
      "<re.Match object; span=(112, 113), match=' '>\n",
      "<re.Match object; span=(113, 114), match='*'>\n",
      "<re.Match object; span=(114, 115), match=' '>\n",
      "<re.Match object; span=(115, 116), match='+'>\n",
      "<re.Match object; span=(116, 117), match=' '>\n",
      "<re.Match object; span=(117, 118), match='?'>\n",
      "<re.Match object; span=(118, 119), match=' '>\n",
      "<re.Match object; span=(119, 120), match='{'>\n",
      "<re.Match object; span=(120, 121), match=' '>\n",
      "<re.Match object; span=(121, 122), match='}'>\n",
      "<re.Match object; span=(122, 123), match=' '>\n",
      "<re.Match object; span=(124, 125), match=' '>\n",
      "<re.Match object; span=(126, 127), match=' '>\n",
      "<re.Match object; span=(128, 129), match=' '>\n",
      "<re.Match object; span=(129, 130), match='|'>\n",
      "<re.Match object; span=(130, 131), match=' '>\n",
      "<re.Match object; span=(131, 132), match='('>\n",
      "<re.Match object; span=(132, 133), match=' '>\n",
      "<re.Match object; span=(133, 134), match=')'>\n",
      "<re.Match object; span=(134, 135), match='\\n'>\n",
      "<re.Match object; span=(135, 136), match='1'>\n",
      "<re.Match object; span=(136, 137), match='2'>\n",
      "<re.Match object; span=(137, 138), match='2'>\n",
      "<re.Match object; span=(138, 139), match='-'>\n",
      "<re.Match object; span=(139, 140), match='2'>\n",
      "<re.Match object; span=(140, 141), match='4'>\n",
      "<re.Match object; span=(141, 142), match='3'>\n",
      "<re.Match object; span=(142, 143), match='-'>\n",
      "<re.Match object; span=(143, 144), match='3'>\n",
      "<re.Match object; span=(144, 145), match='4'>\n",
      "<re.Match object; span=(145, 146), match='3'>\n",
      "<re.Match object; span=(146, 147), match='4'>\n",
      "<re.Match object; span=(147, 148), match='\\n'>\n",
      "<re.Match object; span=(148, 149), match='1'>\n",
      "<re.Match object; span=(149, 150), match='2'>\n",
      "<re.Match object; span=(150, 151), match='3'>\n",
      "<re.Match object; span=(151, 152), match='.'>\n",
      "<re.Match object; span=(152, 153), match='2'>\n",
      "<re.Match object; span=(153, 154), match='3'>\n",
      "<re.Match object; span=(154, 155), match='4'>\n",
      "<re.Match object; span=(155, 156), match='.'>\n",
      "<re.Match object; span=(156, 157), match='5'>\n",
      "<re.Match object; span=(157, 158), match='6'>\n",
      "<re.Match object; span=(158, 159), match='7'>\n",
      "<re.Match object; span=(159, 160), match='8'>\n",
      "<re.Match object; span=(160, 161), match='\\n'>\n",
      "<re.Match object; span=(161, 162), match='1'>\n",
      "<re.Match object; span=(162, 163), match='2'>\n",
      "<re.Match object; span=(163, 164), match='3'>\n",
      "<re.Match object; span=(164, 165), match='*'>\n",
      "<re.Match object; span=(165, 166), match='2'>\n",
      "<re.Match object; span=(166, 167), match='3'>\n",
      "<re.Match object; span=(167, 168), match='4'>\n",
      "<re.Match object; span=(168, 169), match='*'>\n",
      "<re.Match object; span=(169, 170), match='5'>\n",
      "<re.Match object; span=(170, 171), match='6'>\n",
      "<re.Match object; span=(171, 172), match='7'>\n",
      "<re.Match object; span=(172, 173), match='8'>\n",
      "<re.Match object; span=(173, 174), match='\\n'>\n",
      "<re.Match object; span=(174, 175), match='8'>\n",
      "<re.Match object; span=(175, 176), match='0'>\n",
      "<re.Match object; span=(176, 177), match='0'>\n",
      "<re.Match object; span=(177, 178), match='-'>\n",
      "<re.Match object; span=(178, 179), match='2'>\n",
      "<re.Match object; span=(179, 180), match='3'>\n",
      "<re.Match object; span=(180, 181), match='4'>\n",
      "<re.Match object; span=(181, 182), match='-'>\n",
      "<re.Match object; span=(182, 183), match='5'>\n",
      "<re.Match object; span=(183, 184), match='4'>\n",
      "<re.Match object; span=(184, 185), match='5'>\n",
      "<re.Match object; span=(185, 186), match='4'>\n",
      "<re.Match object; span=(186, 187), match='\\n'>\n",
      "<re.Match object; span=(187, 188), match='9'>\n",
      "<re.Match object; span=(188, 189), match='0'>\n",
      "<re.Match object; span=(189, 190), match='0'>\n",
      "<re.Match object; span=(190, 191), match='-'>\n",
      "<re.Match object; span=(191, 192), match='3'>\n",
      "<re.Match object; span=(192, 193), match='4'>\n",
      "<re.Match object; span=(193, 194), match='3'>\n",
      "<re.Match object; span=(194, 195), match='-'>\n",
      "<re.Match object; span=(195, 196), match='5'>\n",
      "<re.Match object; span=(196, 197), match='3'>\n",
      "<re.Match object; span=(197, 198), match='4'>\n",
      "<re.Match object; span=(198, 199), match='6'>\n",
      "<re.Match object; span=(199, 200), match='\\n'>\n",
      "<re.Match object; span=(202, 203), match='.'>\n",
      "<re.Match object; span=(209, 210), match='\\n'>\n",
      "<re.Match object; span=(212, 213), match='.'>\n",
      "<re.Match object; span=(219, 220), match='\\n'>\n"
     ]
    }
   ],
   "source": [
    "pattern = re.compile(r\"[^a-zA-z]\")  ## it searches for evrything except the given ranges so [^  ] negates the values of [ ]\n",
    "matches=pattern.finditer(text)\n",
    "for match in matches:\n",
    "    print(match)"
   ]
  },
  {
   "cell_type": "code",
   "execution_count": 30,
   "id": "cdb6807f-b131-4de7-a17a-fcfcb85604f5",
   "metadata": {
    "tags": []
   },
   "outputs": [
    {
     "name": "stderr",
     "output_type": "stream",
     "text": [
      "<>:1: SyntaxWarning: invalid escape sequence '\\ '\n",
      "<>:1: SyntaxWarning: invalid escape sequence '\\ '\n",
      "C:\\Users\\hp\\AppData\\Local\\Temp\\ipykernel_15088\\372883565.py:1: SyntaxWarning: invalid escape sequence '\\ '\n",
      "  text='''\n"
     ]
    }
   ],
   "source": [
    "text='''\n",
    "abcdefghijklmnopqrstuvwxyz\n",
    "ABCDEFGHIJKLMNOPGQRSTUVWXYZ\n",
    "0123456789\n",
    "swayamswarup.com\n",
    "Ha HaHa\n",
    "metcharacters \n",
    ". ^ $ * + ? { } [ ] \\ | ( )\n",
    "122-243-3434\n",
    "123.234.5678\n",
    "123*234*5678\n",
    "800-234-5454\n",
    "900-343-5346\n",
    "Mr. Swayam\n",
    "Mr. Swarup\n",
    "Mr. BArik\n",
    "Mr barik\n",
    "Mrs. neha\n",
    "Ms. David\n",
    "Mr. T\n",
    "bat\n",
    "cat\n",
    "mat\n",
    "tat\n",
    "rat\n",
    "'''"
   ]
  },
  {
   "cell_type": "code",
   "execution_count": 31,
   "id": "bfcac493-570d-45e2-9263-d2864375102f",
   "metadata": {
    "tags": []
   },
   "outputs": [
    {
     "name": "stdout",
     "output_type": "stream",
     "text": [
      "<re.Match object; span=(267, 270), match='bat'>\n",
      "<re.Match object; span=(271, 274), match='cat'>\n",
      "<re.Match object; span=(275, 278), match='mat'>\n",
      "<re.Match object; span=(279, 282), match='tat'>\n",
      "<re.Match object; span=(283, 286), match='rat'>\n"
     ]
    }
   ],
   "source": [
    "pattern = re.compile(r\"[a-z]at\")  ## only bat does not get printed\n",
    "matches=pattern.finditer(text)\n",
    "for match in matches:\n",
    "    print(match)"
   ]
  },
  {
   "cell_type": "code",
   "execution_count": 32,
   "id": "97a28e8b-dde7-4c3d-8eaf-b8c55a88397f",
   "metadata": {
    "tags": []
   },
   "outputs": [
    {
     "name": "stdout",
     "output_type": "stream",
     "text": [
      "<re.Match object; span=(135, 147), match='122-243-3434'>\n",
      "<re.Match object; span=(148, 160), match='123.234.5678'>\n",
      "<re.Match object; span=(161, 173), match='123*234*5678'>\n",
      "<re.Match object; span=(174, 186), match='800-234-5454'>\n",
      "<re.Match object; span=(187, 199), match='900-343-5346'>\n"
     ]
    }
   ],
   "source": [
    "pattern = re.compile(r\"\\d\\d\\d.\\d\\d\\d.\\d\\d\\d\\d\") ## the dot searches for evrything as a separtor\n",
    "matches=pattern.finditer(text)\n",
    "for match in matches:\n",
    "    print(match)"
   ]
  },
  {
   "cell_type": "code",
   "execution_count": 33,
   "id": "27f861b0-4ed4-4d90-a6b5-9d60e948f34d",
   "metadata": {
    "tags": []
   },
   "outputs": [
    {
     "ename": "FileNotFoundError",
     "evalue": "[Errno 2] No such file or directory: 'data.txt'",
     "output_type": "error",
     "traceback": [
      "\u001b[1;31m---------------------------------------------------------------------------\u001b[0m",
      "\u001b[1;31mFileNotFoundError\u001b[0m                         Traceback (most recent call last)",
      "Cell \u001b[1;32mIn[33], line 1\u001b[0m\n\u001b[1;32m----> 1\u001b[0m \u001b[38;5;28;01mwith\u001b[39;00m \u001b[38;5;28mopen\u001b[39m(\u001b[38;5;124m'\u001b[39m\u001b[38;5;124mdata.txt\u001b[39m\u001b[38;5;124m'\u001b[39m,\u001b[38;5;124m'\u001b[39m\u001b[38;5;124mr\u001b[39m\u001b[38;5;124m'\u001b[39m) \u001b[38;5;28;01mas\u001b[39;00m f:\n\u001b[0;32m      2\u001b[0m     contents \u001b[38;5;241m=\u001b[39m f\u001b[38;5;241m.\u001b[39mread()\n\u001b[0;32m      3\u001b[0m     matches \u001b[38;5;241m=\u001b[39m pattern\u001b[38;5;241m.\u001b[39mfinditer(contents)\n",
      "File \u001b[1;32mc:\\Users\\hp\\anaconda3\\Lib\\site-packages\\IPython\\core\\interactiveshell.py:324\u001b[0m, in \u001b[0;36m_modified_open\u001b[1;34m(file, *args, **kwargs)\u001b[0m\n\u001b[0;32m    317\u001b[0m \u001b[38;5;28;01mif\u001b[39;00m file \u001b[38;5;129;01min\u001b[39;00m {\u001b[38;5;241m0\u001b[39m, \u001b[38;5;241m1\u001b[39m, \u001b[38;5;241m2\u001b[39m}:\n\u001b[0;32m    318\u001b[0m     \u001b[38;5;28;01mraise\u001b[39;00m \u001b[38;5;167;01mValueError\u001b[39;00m(\n\u001b[0;32m    319\u001b[0m         \u001b[38;5;124mf\u001b[39m\u001b[38;5;124m\"\u001b[39m\u001b[38;5;124mIPython won\u001b[39m\u001b[38;5;124m'\u001b[39m\u001b[38;5;124mt let you open fd=\u001b[39m\u001b[38;5;132;01m{\u001b[39;00mfile\u001b[38;5;132;01m}\u001b[39;00m\u001b[38;5;124m by default \u001b[39m\u001b[38;5;124m\"\u001b[39m\n\u001b[0;32m    320\u001b[0m         \u001b[38;5;124m\"\u001b[39m\u001b[38;5;124mas it is likely to crash IPython. If you know what you are doing, \u001b[39m\u001b[38;5;124m\"\u001b[39m\n\u001b[0;32m    321\u001b[0m         \u001b[38;5;124m\"\u001b[39m\u001b[38;5;124myou can use builtins\u001b[39m\u001b[38;5;124m'\u001b[39m\u001b[38;5;124m open.\u001b[39m\u001b[38;5;124m\"\u001b[39m\n\u001b[0;32m    322\u001b[0m     )\n\u001b[1;32m--> 324\u001b[0m \u001b[38;5;28;01mreturn\u001b[39;00m io_open(file, \u001b[38;5;241m*\u001b[39margs, \u001b[38;5;241m*\u001b[39m\u001b[38;5;241m*\u001b[39mkwargs)\n",
      "\u001b[1;31mFileNotFoundError\u001b[0m: [Errno 2] No such file or directory: 'data.txt'"
     ]
    }
   ],
   "source": [
    "with open('data.txt','r') as f:\n",
    "    contents = f.read()\n",
    "    matches = pattern.finditer(contents)\n",
    "    for match in matches:\n",
    "        print(match)"
   ]
  },
  {
   "cell_type": "code",
   "execution_count": null,
   "id": "5704db49-55c7-4a82-80bd-8e477100affb",
   "metadata": {
    "tags": []
   },
   "outputs": [
    {
     "name": "stdout",
     "output_type": "stream",
     "text": [
      "<re.Match object; span=(200, 210), match='Mr. Swayam'>\n",
      "<re.Match object; span=(211, 221), match='Mr. Swarup'>\n",
      "<re.Match object; span=(222, 231), match='Mr. BArik'>\n",
      "<re.Match object; span=(261, 266), match='Mr. T'>\n"
     ]
    }
   ],
   "source": [
    "pattern = re.compile(r\"Mr\\.?\\s[A-Z]\\w*\") \n",
    "matches=pattern.finditer(text)\n",
    "for match in matches:\n",
    "    print(match)"
   ]
  },
  {
   "cell_type": "code",
   "execution_count": null,
   "id": "8d7dad14-66f6-4cde-b67f-957f86a858ba",
   "metadata": {
    "tags": []
   },
   "outputs": [
    {
     "name": "stdout",
     "output_type": "stream",
     "text": [
      "<re.Match object; span=(200, 210), match='Mr. Swayam'>\n",
      "<re.Match object; span=(211, 221), match='Mr. Swarup'>\n",
      "<re.Match object; span=(222, 231), match='Mr. BArik'>\n",
      "<re.Match object; span=(232, 240), match='Mr barik'>\n",
      "<re.Match object; span=(241, 250), match='Mrs. neha'>\n",
      "<re.Match object; span=(251, 260), match='Ms. David'>\n"
     ]
    }
   ],
   "source": [
    "pattern = re.compile(r\"(Mr|Ms|Mrs)[.]?\\s\\s?([a-z]|[A-Z])\\w+\") \n",
    "matches=pattern.finditer(text)\n",
    "for match in matches:\n",
    "    print(match)"
   ]
  },
  {
   "cell_type": "code",
   "execution_count": 36,
   "id": "b3f3161f-0269-4629-87e6-e2e2bf4e3d84",
   "metadata": {
    "tags": []
   },
   "outputs": [
    {
     "name": "stdout",
     "output_type": "stream",
     "text": [
      "Pattern exists in the text.\n"
     ]
    }
   ],
   "source": [
    "\n",
    "pattern = r'(Mr|Ms|Mrs)\\.?\\s+([a-zA-Z]+)\\b'\n",
    "\n",
    "if re.search(pattern, text):\n",
    "    print(\"Pattern exists in the text.\")\n",
    "else:\n",
    "    print(\"Pattern does not exist in the text.\")\n"
   ]
  },
  {
   "cell_type": "code",
   "execution_count": null,
   "id": "155c2c01-8224-461b-b415-1b71b44462ac",
   "metadata": {
    "tags": []
   },
   "outputs": [],
   "source": [
    "emails = '''\n",
    "CoreyMSchafer@gmail.com\n",
    "corey.schafer@university.edu\n",
    "corey-321-schafer@my-work.net\n",
    "'''"
   ]
  },
  {
   "cell_type": "code",
   "execution_count": null,
   "id": "a42d9eee-e960-43ff-a361-0464ead044d5",
   "metadata": {
    "tags": []
   },
   "outputs": [
    {
     "name": "stdout",
     "output_type": "stream",
     "text": [
      "<re.Match object; span=(1, 24), match='CoreyMSchafer@gmail.com'>\n",
      "<re.Match object; span=(25, 53), match='corey.schafer@university.edu'>\n",
      "<re.Match object; span=(64, 83), match='schafer@my-work.net'>\n"
     ]
    }
   ],
   "source": [
    "pattern = re.compile(r\"[(a-z)|(A-Z)]\\w*[(A-z)|(a-z)|.|-]\\w*[@]\\w*[-]*[a-z]*[.]\\w*\")\n",
    "matches = pattern.finditer(emails)\n",
    "for match in matches:\n",
    "    print(match)"
   ]
  },
  {
   "cell_type": "markdown",
   "id": "d3f16410-804d-4b30-ae74-95221ab3ab51",
   "metadata": {},
   "source": [
    "## optimal way to write "
   ]
  },
  {
   "cell_type": "code",
   "execution_count": null,
   "id": "b881b786-0b6e-43ff-92a8-bf64b5af8ee5",
   "metadata": {
    "tags": []
   },
   "outputs": [
    {
     "name": "stdout",
     "output_type": "stream",
     "text": [
      "<re.Match object; span=(1, 24), match='CoreyMSchafer@gmail.com'>\n",
      "<re.Match object; span=(25, 53), match='corey.schafer@university.edu'>\n",
      "<re.Match object; span=(54, 83), match='corey-321-schafer@my-work.net'>\n"
     ]
    }
   ],
   "source": [
    "pattern=re.compile(r'[a-zA-Z0-9_.-]+@[a-zA-Z0-9-]+\\.[a-zA-Z]+')\n",
    "matches = pattern.finditer(emails)\n",
    "for match in matches:\n",
    "    print(match)"
   ]
  },
  {
   "cell_type": "code",
   "execution_count": null,
   "id": "9229a422-ce8e-4b16-9b8d-5f9935f6967d",
   "metadata": {
    "tags": []
   },
   "outputs": [],
   "source": [
    "urls = '''\n",
    "https://www.google.com\n",
    "http://coreyms.com\n",
    "https://youtube.com\n",
    "https://www.nasa.gov\n",
    "'''"
   ]
  },
  {
   "cell_type": "code",
   "execution_count": null,
   "id": "c13f03c8-b34c-444f-aa6d-038168296eb2",
   "metadata": {
    "tags": []
   },
   "outputs": [
    {
     "name": "stdout",
     "output_type": "stream",
     "text": [
      "<re.Match object; span=(12, 23), match='.google.com'>\n",
      "<re.Match object; span=(31, 42), match='coreyms.com'>\n",
      "<re.Match object; span=(51, 62), match='youtube.com'>\n",
      "<re.Match object; span=(74, 83), match='.nasa.gov'>\n"
     ]
    }
   ],
   "source": [
    "pattern = re.compile(r\"[^https://][^www.]\\w*\\.(com|gov)\")\n",
    "matches = pattern.finditer(urls)\n",
    "for match in matches:\n",
    "    print(match)"
   ]
  },
  {
   "cell_type": "markdown",
   "id": "27b93c18-8b04-4042-a435-d9e17d0ed572",
   "metadata": {},
   "source": [
    "### Another way"
   ]
  },
  {
   "cell_type": "code",
   "execution_count": null,
   "id": "2a6c5aa3-b804-450c-b096-91be2df2de32",
   "metadata": {
    "tags": []
   },
   "outputs": [
    {
     "name": "stdout",
     "output_type": "stream",
     "text": [
      "\n",
      "google.com\n",
      "coreyms.com\n",
      "youtube.com\n",
      "nasa.gov\n",
      "\n"
     ]
    }
   ],
   "source": [
    "pattern = re.compile(r'https?://(www\\.)?(\\w+)(\\.\\w+)')\n",
    "subbed_urls = pattern.sub(r'\\2\\3', urls)\n",
    "## sub here means substitution\n",
    "print(subbed_urls)"
   ]
  },
  {
   "cell_type": "code",
   "execution_count": null,
   "id": "2be9fa25-f2a4-452f-871c-bbb3f9785c9c",
   "metadata": {
    "tags": []
   },
   "outputs": [
    {
     "name": "stdout",
     "output_type": "stream",
     "text": [
      "google.com\n",
      "coreyms.com\n",
      "youtube.com\n",
      "nasa.gov\n"
     ]
    }
   ],
   "source": [
    "import re\n",
    "\n",
    "pattern = re.compile(r\"https?://(?:www\\.)?(\\w+\\.(?:com|gov))\")\n",
    "urls = '''\n",
    "https://www.google.com\n",
    "http://coreyms.com\n",
    "https://youtube.com\n",
    "https://www.nasa.gov\n",
    "https://www.nasa.edu\n",
    "'''\n",
    "\n",
    "matches = pattern.finditer(urls)\n",
    "\n",
    "for match in matches:\n",
    "    print(match.group(1))\n"
   ]
  },
  {
   "cell_type": "code",
   "execution_count": null,
   "id": "e1ca46ae-9d1b-4c60-9b5a-36850b6db649",
   "metadata": {
    "tags": []
   },
   "outputs": [
    {
     "name": "stdout",
     "output_type": "stream",
     "text": [
      "<re.Match object; span=(1, 24), match='CoreyMSchafer@gmail.com'>\n",
      "<re.Match object; span=(25, 53), match='corey.schafer@university.edu'>\n",
      "<re.Match object; span=(54, 83), match='corey-321-schafer@my-work.net'>\n"
     ]
    }
   ],
   "source": [
    "pattern=re.compile(r'[a-zA-Z0-9_.+-]+@[a-zA-Z0-9-]+\\.[a-zA-Z0-9-.]+')\n",
    "matches = pattern.finditer(emails)\n",
    "for match in matches:\n",
    "    print(match)"
   ]
  },
  {
   "cell_type": "markdown",
   "id": "98ef1b8a-92f0-499b-b9f4-3f094d40b9a1",
   "metadata": {},
   "source": [
    "### findall method in regex"
   ]
  },
  {
   "cell_type": "code",
   "execution_count": null,
   "id": "c0ab397c-f156-40c9-811a-dcbc75d1ded0",
   "metadata": {
    "tags": []
   },
   "outputs": [
    {
     "name": "stdout",
     "output_type": "stream",
     "text": [
      "CoreyMSchafer@gmail.com\n",
      "corey.schafer@university.edu\n",
      "corey-321-schafer@my-work.net\n"
     ]
    }
   ],
   "source": [
    "pattern=re.compile(r'[a-zA-Z0-9_.+-]+@[a-zA-Z0-9-]+\\.[a-zA-Z0-9-.]+')\n",
    "matches = pattern.findall(emails)\n",
    "for match in matches:\n",
    "    print(match)"
   ]
  },
  {
   "cell_type": "code",
   "execution_count": null,
   "id": "f41e8dd0-b7af-4a10-9020-5c43177257ea",
   "metadata": {
    "tags": []
   },
   "outputs": [
    {
     "name": "stdout",
     "output_type": "stream",
     "text": [
      "<re.Match object; span=(135, 147), match='122-243-3434'>\n",
      "<re.Match object; span=(148, 160), match='123.234.5678'>\n",
      "<re.Match object; span=(161, 173), match='123*234*5678'>\n",
      "<re.Match object; span=(174, 186), match='800-234-5454'>\n",
      "<re.Match object; span=(187, 199), match='900-343-5346'>\n"
     ]
    }
   ],
   "source": [
    "pattern=re.compile(r'\\d{3}.\\d{3}.\\d{4}')\n",
    "matches = pattern.finditer(text)\n",
    "for match in matches:\n",
    "    print(match)"
   ]
  },
  {
   "cell_type": "code",
   "execution_count": null,
   "id": "a33b618f-5de2-4e5f-a792-58a00c997a61",
   "metadata": {
    "tags": []
   },
   "outputs": [
    {
     "name": "stdout",
     "output_type": "stream",
     "text": [
      "122-243-3434\n",
      "123.234.5678\n",
      "123*234*5678\n",
      "800-234-5454\n",
      "900-343-5346\n"
     ]
    }
   ],
   "source": [
    "pattern=re.compile(r'\\d{3}.\\d{3}.\\d{4}')\n",
    "matches = pattern.findall(text)\n",
    "for match in matches:\n",
    "    print(match)"
   ]
  },
  {
   "cell_type": "code",
   "execution_count": null,
   "id": "343ced8e-bf01-4cd6-9ef5-560351b9562c",
   "metadata": {
    "tags": []
   },
   "outputs": [
    {
     "name": "stdout",
     "output_type": "stream",
     "text": [
      "Successful\n"
     ]
    }
   ],
   "source": [
    "import re\n",
    "\n",
    "pattern = r'\\d{3}.\\d{3}.\\d{4}'\n",
    "text = '''\n",
    "abcdefghijklmnopqrstuvwxyz\n",
    "ABCDEFGHIJKLMNOPGQRSTUVWXYZ\n",
    "0123456789\n",
    "swayamswarup.com\n",
    "Ha HaHa\n",
    "metcharacters \n",
    ". ^ $ * + ? { } [ ] \\ | ( )\n",
    "122-243-3434\n",
    "123.234.5678\n",
    "123*234*5678\n",
    "800-234-5454\n",
    "900-343-5346\n",
    "Mr. Swayam\n",
    "Mr. Swarup\n",
    "Mr. BArik\n",
    "Mr barik\n",
    "Mrs. neha\n",
    "Ms. David\n",
    "Mr. T\n",
    "bat\n",
    "cat\n",
    "mat\n",
    "tat\n",
    "rat\n",
    "'''\n",
    "\n",
    "results = re.search(pattern, text)\n",
    "if results:\n",
    "    print(\"Successful\")\n",
    "else:\n",
    "    print(\"Unsuccessful\")\n"
   ]
  },
  {
   "cell_type": "markdown",
   "id": "4303392a-038a-4bb0-a819-eb328b2036a4",
   "metadata": {},
   "source": [
    "## re.I is just re.IGNORECASE"
   ]
  },
  {
   "cell_type": "code",
   "execution_count": null,
   "id": "6c05c1b2-aaf5-4d6c-b72c-513fe3c9750f",
   "metadata": {
    "tags": []
   },
   "outputs": [
    {
     "name": "stdout",
     "output_type": "stream",
     "text": [
      "Match found in text1.\n",
      "Match found in text2.\n"
     ]
    }
   ],
   "source": [
    "import re\n",
    "\n",
    "pattern = re.compile(r'hello', re.I)\n",
    "\n",
    "text1 = 'Hello, World!'\n",
    "text2 = 'HELLO, WORLD!'\n",
    "\n",
    "match1 = pattern.search(text1)\n",
    "match2 = pattern.search(text2)\n",
    "\n",
    "if match1:\n",
    "    print(\"Match found in text1.\")\n",
    "else:\n",
    "    print(\"No match found in text1.\")\n",
    "\n",
    "if match2:\n",
    "    print(\"Match found in text2.\")\n",
    "else:\n",
    "    print(\"No match found in text2.\")\n"
   ]
  },
  {
   "cell_type": "markdown",
   "id": "c0496ce4",
   "metadata": {},
   "source": [
    "### Q1.Given some UPI IDs, the task is to check if they are valid or not using regular expressions. Rules for the valid UPI ID: \n",
    "\n",
    "#### UPI ID is an alphanumeric String i.e., formed using digits(0-9), alphabets (A-Z and a-z), and other special characters.\n",
    "#### It must contain ‘@’.\n",
    "#### It should not contain whitespace.\n",
    "#### It may or may not contain a dot (.) or hyphen (-).\n",
    "/** Input: str = ”9136812895@ybl?\n",
    "Output: True\n",
    "\n",
    "Input: str = ”MH05DL9023 ”\n",
    "Output: false\n",
    "Explanation: It does not contain the “@” symbol.\n",
    "\n",
    "Input: str = ”ViratKohli101@paytm?\n",
    "Output: true\n",
    "\n",
    "Input: str =”rahul.12chauhan1998-1@okicici?\n",
    "Output: true\n",
    "\n",
    "Input: str = ”1234567890@upi123456?\n",
    "Output: true\n",
    "\n",
    "Input: str = ”Akanksha  @ybl ”\n",
    "Output: false\n",
    "Explanation: It contains a whitespace. **/"
   ]
  },
  {
   "cell_type": "code",
   "execution_count": null,
   "id": "86a6af95",
   "metadata": {
    "tags": []
   },
   "outputs": [
    {
     "name": "stdout",
     "output_type": "stream",
     "text": [
      "enter your upi id 1234567890@upi123456\n"
     ]
    },
    {
     "name": "stdout",
     "output_type": "stream",
     "text": [
      "true\n"
     ]
    }
   ],
   "source": [
    "import re \n",
    "pattern = re.compile(r\"[a-zA-Z0-9.-_]+@[a-zA-Z0-9]+\")\n",
    "text=input(\"enter your upi id\")\n",
    "result=re.search(pattern,text)\n",
    "if result:\n",
    "    print(\"true\")\n",
    "else:\n",
    "    print(\"false\")\n",
    "## i had to incliude + to include one or more occurences of character is allowed"
   ]
  },
  {
   "cell_type": "code",
   "execution_count": null,
   "id": "7a7d0ad8",
   "metadata": {
    "tags": []
   },
   "outputs": [],
   "source": [
    "import re\n",
    "\n",
    "pattern = re.compile(r\"[a-zA-Z0-9._-]+\\s@[a-zA-Z0-9.-]+\")\n",
    "\n",
    "text = input(\"Enter your UPI ID: \")\n",
    "result = re.match(pattern, text)\n",
    "\n",
    "if result:\n",
    "    print(\"True\")\n",
    "else:\n",
    "    print(\"False\")\n"
   ]
  },
  {
   "cell_type": "code",
   "execution_count": null,
   "id": "2dd7c3ca",
   "metadata": {
    "tags": []
   },
   "outputs": [],
   "source": [
    "import re"
   ]
  },
  {
   "cell_type": "code",
   "execution_count": null,
   "id": "b7d85d91-730d-4bfc-8b13-d6dba8c80cc7",
   "metadata": {
    "tags": []
   },
   "outputs": [
    {
     "name": "stdout",
     "output_type": "stream",
     "text": [
      "bat\n"
     ]
    }
   ],
   "source": [
    "pattern=re.compile(\"^b.t$\",re.MULTILINE)\n",
    "text='''\n",
    "bat\n",
    "cat\n",
    "'''\n",
    "matches=pattern.finditer(text)\n",
    "for i in matches:\n",
    "    print(i.group())"
   ]
  },
  {
   "cell_type": "code",
   "execution_count": null,
   "id": "492fc299-3bf8-4cfe-b3b8-c3c6e0f9127c",
   "metadata": {
    "tags": []
   },
   "outputs": [
    {
     "name": "stdout",
     "output_type": "stream",
     "text": [
      "false\n"
     ]
    }
   ],
   "source": [
    "pattern=re.compile(\"[^b]at\")\n",
    "text=\"bat\"\n",
    "matches=re.match(pattern,text)\n",
    "if matches:\n",
    "    print(\"true\")\n",
    "else:\n",
    "    print(\"false\")"
   ]
  },
  {
   "cell_type": "code",
   "execution_count": null,
   "id": "a8fe3484-199e-49b1-ab7d-04e1b646b3c3",
   "metadata": {},
   "outputs": [],
   "source": []
  }
 ],
 "metadata": {
  "kernelspec": {
   "display_name": "base",
   "language": "python",
   "name": "python3"
  },
  "language_info": {
   "codemirror_mode": {
    "name": "ipython",
    "version": 3
   },
   "file_extension": ".py",
   "mimetype": "text/x-python",
   "name": "python",
   "nbconvert_exporter": "python",
   "pygments_lexer": "ipython3",
   "version": "3.12.4"
  }
 },
 "nbformat": 4,
 "nbformat_minor": 5
}
