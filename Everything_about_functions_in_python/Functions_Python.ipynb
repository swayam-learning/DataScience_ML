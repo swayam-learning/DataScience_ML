{
 "cells": [
  {
   "cell_type": "markdown",
   "id": "527bd2e2",
   "metadata": {},
   "source": [
    "## Functions in python are treated as first class  functions because\n",
    "### 1. function can be passed as an argument to another fucntion\n",
    "### 2.function are objects\n",
    "### 3.function can return another functions"
   ]
  },
  {
   "cell_type": "code",
   "execution_count": 1,
   "id": "d319c39d",
   "metadata": {},
   "outputs": [],
   "source": [
    "## function as an argument to another function\n",
    "def greet(text):\n",
    "    return text.upper()\n",
    "def greetings(func):\n",
    "    greetings=func(\"world\")\n",
    "    print(greetings)"
   ]
  },
  {
   "cell_type": "code",
   "execution_count": 2,
   "id": "c9958323",
   "metadata": {},
   "outputs": [
    {
     "name": "stdout",
     "output_type": "stream",
     "text": [
      "WORLD\n"
     ]
    }
   ],
   "source": [
    "greetings(greet)"
   ]
  },
  {
   "cell_type": "code",
   "execution_count": 2,
   "id": "f58765cd",
   "metadata": {},
   "outputs": [
    {
     "name": "stdout",
     "output_type": "stream",
     "text": [
      "Ayo!wassup\n",
      "My g\n"
     ]
    }
   ],
   "source": [
    "## functions are objects\n",
    "def yo(text):\n",
    "    return text.capitalize()\n",
    "print(yo(\"Ayo!Wassup\"))\n",
    "ya=yo(\"my g\")\n",
    "print(ya)"
   ]
  },
  {
   "cell_type": "code",
   "execution_count": 4,
   "id": "cf61735f",
   "metadata": {
    "tags": []
   },
   "outputs": [
    {
     "name": "stdout",
     "output_type": "stream",
     "text": [
      "Ayyo!wassup my g\n"
     ]
    }
   ],
   "source": [
    "# function can return another function\n",
    "def test1(text):\n",
    "    def test2(text2):\n",
    "        return text+text2\n",
    "    return test2\n",
    "ya=test1(\"Ayyo!wassup\")\n",
    "print(ya(\" my g\"))"
   ]
  },
  {
   "cell_type": "code",
   "execution_count": 86,
   "id": "7fed512c",
   "metadata": {
    "tags": []
   },
   "outputs": [
    {
     "name": "stdout",
     "output_type": "stream",
     "text": [
      "Ayyo!wassup my g\n"
     ]
    }
   ],
   "source": [
    "ya=test1(\"Ayyo!wassup\")\n",
    "print(ya(\" my g\"))"
   ]
  },
  {
   "cell_type": "code",
   "execution_count": 1,
   "id": "104a8d44-649f-4808-84e4-930d42a8daa3",
   "metadata": {
    "tags": []
   },
   "outputs": [],
   "source": [
    "def hello_func():\n",
    "    pass"
   ]
  },
  {
   "cell_type": "code",
   "execution_count": 2,
   "id": "9f56015a-00d1-41a3-86c5-519e13830f45",
   "metadata": {
    "tags": []
   },
   "outputs": [],
   "source": [
    "hello_func()"
   ]
  },
  {
   "cell_type": "code",
   "execution_count": 3,
   "id": "a32e1981-eea4-4307-b4b0-575e112ca736",
   "metadata": {
    "tags": []
   },
   "outputs": [],
   "source": [
    "def test():\n",
    "    print(\"this is my very first function\")"
   ]
  },
  {
   "cell_type": "code",
   "execution_count": 4,
   "id": "64a90160-7f2a-41c9-a473-b9c5cb997e83",
   "metadata": {
    "tags": []
   },
   "outputs": [
    {
     "name": "stdout",
     "output_type": "stream",
     "text": [
      "this is my very first function\n"
     ]
    }
   ],
   "source": [
    "test() #calling of the function increasing the reusabilty of code"
   ]
  },
  {
   "cell_type": "code",
   "execution_count": 5,
   "id": "adc49bb5",
   "metadata": {},
   "outputs": [
    {
     "name": "stdout",
     "output_type": "stream",
     "text": [
      "this is my very first function\n",
      "<class 'NoneType'>\n"
     ]
    }
   ],
   "source": [
    "print(type(test()))"
   ]
  },
  {
   "cell_type": "code",
   "execution_count": 9,
   "id": "8620a080",
   "metadata": {},
   "outputs": [
    {
     "ename": "TypeError",
     "evalue": "unsupported operand type(s) for +: 'function' and 'str'",
     "output_type": "error",
     "traceback": [
      "\u001b[1;31m---------------------------------------------------------------------------\u001b[0m",
      "\u001b[1;31mTypeError\u001b[0m                                 Traceback (most recent call last)",
      "Cell \u001b[1;32mIn[9], line 1\u001b[0m\n\u001b[1;32m----> 1\u001b[0m test\u001b[38;5;241m+\u001b[39m\u001b[38;5;124m\"\u001b[39m\u001b[38;5;124mokkay\u001b[39m\u001b[38;5;124m\"\u001b[39m\n",
      "\u001b[1;31mTypeError\u001b[0m: unsupported operand type(s) for +: 'function' and 'str'"
     ]
    }
   ],
   "source": [
    "test+\"okkay\""
   ]
  },
  {
   "cell_type": "code",
   "execution_count": 5,
   "id": "2df777e6-a9bf-4190-b6ca-f71fa61f51a7",
   "metadata": {
    "tags": []
   },
   "outputs": [],
   "source": [
    "#print always return NoneType datatype"
   ]
  },
  {
   "cell_type": "code",
   "execution_count": 6,
   "id": "2413b597-f671-4e58-9e7c-c543820f78d4",
   "metadata": {
    "tags": []
   },
   "outputs": [],
   "source": [
    "def test2():\n",
    "    return \"this is my second function\"\n",
    "## when we use return it return the same datatype"
   ]
  },
  {
   "cell_type": "code",
   "execution_count": 7,
   "id": "79c426a2-217a-4932-a7ef-96c3f8217272",
   "metadata": {
    "tags": []
   },
   "outputs": [
    {
     "data": {
      "text/plain": [
       "'this is my second function'"
      ]
     },
     "execution_count": 7,
     "metadata": {},
     "output_type": "execute_result"
    }
   ],
   "source": [
    "test2()"
   ]
  },
  {
   "cell_type": "code",
   "execution_count": 8,
   "id": "69698912",
   "metadata": {},
   "outputs": [
    {
     "name": "stdout",
     "output_type": "stream",
     "text": [
      "<class 'str'>\n"
     ]
    }
   ],
   "source": [
    "print(type(test2()))"
   ]
  },
  {
   "cell_type": "code",
   "execution_count": 12,
   "id": "98bc0006-165f-4ac7-a3fd-c550fc5a67bd",
   "metadata": {
    "tags": []
   },
   "outputs": [
    {
     "data": {
      "text/plain": [
       "'this is my second function,Okay'"
      ]
     },
     "execution_count": 12,
     "metadata": {},
     "output_type": "execute_result"
    }
   ],
   "source": [
    "test2()+\",Okay\""
   ]
  },
  {
   "cell_type": "code",
   "execution_count": 13,
   "id": "97043308-9785-41c1-9c03-0838878809da",
   "metadata": {
    "tags": []
   },
   "outputs": [],
   "source": [
    "def test3():\n",
    "    return \"swayam\",23,345.55,[1,2,3]"
   ]
  },
  {
   "cell_type": "code",
   "execution_count": 14,
   "id": "0e6fe8bd-1577-4ea6-b363-ad3475cf25ea",
   "metadata": {
    "tags": []
   },
   "outputs": [
    {
     "data": {
      "text/plain": [
       "('swayam', 23, 345.55, [1, 2, 3])"
      ]
     },
     "execution_count": 14,
     "metadata": {},
     "output_type": "execute_result"
    }
   ],
   "source": [
    "test3() # it will return tuple type"
   ]
  },
  {
   "cell_type": "code",
   "execution_count": 13,
   "id": "83fdeab1-b3af-4714-a535-97db297540cc",
   "metadata": {
    "tags": []
   },
   "outputs": [],
   "source": [
    "a,b,c,d=test3() # we can hold it in multiple values"
   ]
  },
  {
   "cell_type": "code",
   "execution_count": 14,
   "id": "a1a3cdff-6149-405f-9148-25ff771864dc",
   "metadata": {
    "tags": []
   },
   "outputs": [
    {
     "data": {
      "text/plain": [
       "'swayam'"
      ]
     },
     "execution_count": 14,
     "metadata": {},
     "output_type": "execute_result"
    }
   ],
   "source": [
    "a"
   ]
  },
  {
   "cell_type": "code",
   "execution_count": 15,
   "id": "41dfa47e-db19-4ce3-ac18-36ca6a73570f",
   "metadata": {
    "tags": []
   },
   "outputs": [
    {
     "data": {
      "text/plain": [
       "23"
      ]
     },
     "execution_count": 15,
     "metadata": {},
     "output_type": "execute_result"
    }
   ],
   "source": [
    "b"
   ]
  },
  {
   "cell_type": "code",
   "execution_count": 16,
   "id": "f5793b6e-3e2c-4001-b9a2-bf566054186b",
   "metadata": {
    "tags": []
   },
   "outputs": [
    {
     "data": {
      "text/plain": [
       "345.55"
      ]
     },
     "execution_count": 16,
     "metadata": {},
     "output_type": "execute_result"
    }
   ],
   "source": [
    "c"
   ]
  },
  {
   "cell_type": "code",
   "execution_count": 17,
   "id": "2978bb01-bf2b-4aee-90f9-b93f564c846d",
   "metadata": {
    "tags": []
   },
   "outputs": [
    {
     "data": {
      "text/plain": [
       "[1, 2, 3]"
      ]
     },
     "execution_count": 17,
     "metadata": {},
     "output_type": "execute_result"
    }
   ],
   "source": [
    "d"
   ]
  },
  {
   "cell_type": "code",
   "execution_count": 15,
   "id": "0057585d-566d-4bf2-acaa-92fd74621c17",
   "metadata": {
    "tags": []
   },
   "outputs": [],
   "source": [
    "def test4():\n",
    "    a = int(input(\"enter your number\"))\n",
    "    return a"
   ]
  },
  {
   "cell_type": "code",
   "execution_count": 16,
   "id": "0f31186f-9392-4278-9c05-ad20c1bade38",
   "metadata": {
    "tags": []
   },
   "outputs": [
    {
     "data": {
      "text/plain": [
       "25"
      ]
     },
     "execution_count": 16,
     "metadata": {},
     "output_type": "execute_result"
    }
   ],
   "source": [
    "test4()"
   ]
  },
  {
   "cell_type": "code",
   "execution_count": 17,
   "id": "e03ebff5-6433-43f0-a872-e676e0bb9e23",
   "metadata": {
    "tags": []
   },
   "outputs": [],
   "source": [
    "def test5(a,b,c):\n",
    "    d=a+b*c\n",
    "    return d"
   ]
  },
  {
   "cell_type": "code",
   "execution_count": 18,
   "id": "7c49075d-b2b5-42ed-a9e2-874b8f7f54e2",
   "metadata": {
    "tags": []
   },
   "outputs": [
    {
     "data": {
      "text/plain": [
       "14"
      ]
     },
     "execution_count": 18,
     "metadata": {},
     "output_type": "execute_result"
    }
   ],
   "source": [
    "test5(2,3,4)"
   ]
  },
  {
   "cell_type": "code",
   "execution_count": 19,
   "id": "d21ff576-1a2b-4c26-978c-7e66aa1d291c",
   "metadata": {
    "tags": []
   },
   "outputs": [
    {
     "data": {
      "text/plain": [
       "'swayam swarup swarup swarup '"
      ]
     },
     "execution_count": 19,
     "metadata": {},
     "output_type": "execute_result"
    }
   ],
   "source": [
    "test5(\"swayam \",\"swarup \",3)"
   ]
  },
  {
   "cell_type": "code",
   "execution_count": 20,
   "id": "fd3b4712-f936-433f-a9ed-9f1c00931806",
   "metadata": {
    "tags": []
   },
   "outputs": [],
   "source": [
    "l1=[1,2,3,4,\"swayam\",\"swarup\",[11,22,39,43]] #make a new lkist of only numbers"
   ]
  },
  {
   "cell_type": "code",
   "execution_count": 21,
   "id": "1d5402c2-9946-4569-a7cf-b5fdb17fe898",
   "metadata": {
    "tags": []
   },
   "outputs": [],
   "source": [
    "def test6():\n",
    "    l2=[]\n",
    "    list([l2.append(i) for i in l1 if (type(i)==int or type(i)==float)])\n",
    "    return l2"
   ]
  },
  {
   "cell_type": "code",
   "execution_count": 22,
   "id": "db118d6f-4280-4c41-be4d-94c74539be45",
   "metadata": {
    "tags": []
   },
   "outputs": [
    {
     "data": {
      "text/plain": [
       "[1, 2, 3, 4]"
      ]
     },
     "execution_count": 22,
     "metadata": {},
     "output_type": "execute_result"
    }
   ],
   "source": [
    "test6()"
   ]
  },
  {
   "cell_type": "code",
   "execution_count": 23,
   "id": "d4105667-e3a9-4175-875c-1c56b5a7ed0b",
   "metadata": {},
   "outputs": [],
   "source": [
    "def test7():\n",
    "    \"\"\"well this is called doctring in genral when we call function it doesnot have any doctring if it is user made but since i have created a docstring this message will visible as it's documenation\"\"\"\n",
    "    l2=[]\n",
    "    list([l2.append(i) for i in l1 if (type(i)==int or type(i)==float)])\n",
    "    list([l2.append(j) for i in l1 if type(i) == list for j in i if type(j)==int or type(j)==float])\n",
    "    return l2"
   ]
  },
  {
   "cell_type": "code",
   "execution_count": 25,
   "id": "eb4018d1",
   "metadata": {},
   "outputs": [],
   "source": [
    "l2=[]\n",
    "for i in l1:\n",
    "    if type(i) == list:\n",
    "        for j in i:\n",
    "            if type(j)==int or type(j)==float:\n",
    "                l2.append(j)"
   ]
  },
  {
   "cell_type": "code",
   "execution_count": 64,
   "id": "cbb45529-a725-4ac8-bad0-09789f2fa619",
   "metadata": {
    "tags": []
   },
   "outputs": [
    {
     "data": {
      "text/plain": [
       "[1, 2, 3, 4, 11, 22, 39, 43]"
      ]
     },
     "execution_count": 64,
     "metadata": {},
     "output_type": "execute_result"
    }
   ],
   "source": [
    "test7()##it is shown how the docstring value works"
   ]
  },
  {
   "attachments": {
    "7c8d91cf-ef35-4d6d-b7a5-923bd2a4c616.png": {
     "image/png": "[encoded data removed]"
    }
   },
   "cell_type": "markdown",
   "id": "5c133bfb-e2be-406e-9d6c-4619770093cc",
   "metadata": {},
   "source": [
    "![image.png](attachment:7c8d91cf-ef35-4d6d-b7a5-923bd2a4c616.png)"
   ]
  },
  {
   "cell_type": "code",
   "execution_count": 28,
   "id": "eedf8f8b-cc0e-459c-b11f-a273a2d8e6f3",
   "metadata": {
    "tags": []
   },
   "outputs": [],
   "source": [
    "def test6(*args):#it can be name anything\n",
    "    return args ## this will return tuple"
   ]
  },
  {
   "cell_type": "code",
   "execution_count": 27,
   "id": "6cc0ce72-ca35-48aa-9bf3-61b325ea3112",
   "metadata": {
    "tags": []
   },
   "outputs": [
    {
     "data": {
      "text/plain": [
       "('swaenjfdbnf', 324.32535, 24, 'swasfsfs')"
      ]
     },
     "execution_count": 27,
     "metadata": {},
     "output_type": "execute_result"
    }
   ],
   "source": [
    "test6(\"swaenjfdbnf\",324.32535,24,\"swasfsfs\")"
   ]
  },
  {
   "cell_type": "code",
   "execution_count": 33,
   "id": "2fc83edd-c2a9-457e-be8b-92ac11dd3de3",
   "metadata": {
    "tags": []
   },
   "outputs": [],
   "source": [
    "def test7(c,d,e=40,a=40,b=30):\n",
    "    return a,b,c,d,e"
   ]
  },
  {
   "cell_type": "code",
   "execution_count": 37,
   "id": "5b55b198-a070-4307-96c5-dec92e724dfc",
   "metadata": {
    "tags": []
   },
   "outputs": [
    {
     "data": {
      "text/plain": [
       "(40, 30, 23, 'swayam', 40)"
      ]
     },
     "execution_count": 37,
     "metadata": {},
     "output_type": "execute_result"
    }
   ],
   "source": [
    "test7(23,\"swayam\")"
   ]
  },
  {
   "cell_type": "code",
   "execution_count": 40,
   "id": "d14736bd-d839-471d-9cc8-7dcc62d3cdd0",
   "metadata": {
    "tags": []
   },
   "outputs": [
    {
     "data": {
      "text/plain": [
       "(70, 90, 'swayam', 34, 69)"
      ]
     },
     "execution_count": 40,
     "metadata": {},
     "output_type": "execute_result"
    }
   ],
   "source": [
    "test7(\"swayam\",34,69,70,90) # so we can override the deafult value"
   ]
  },
  {
   "cell_type": "code",
   "execution_count": 90,
   "id": "3d549738-1d69-4204-9572-9aefd5170827",
   "metadata": {
    "tags": []
   },
   "outputs": [],
   "source": [
    "def test9(*args):\n",
    "    return args"
   ]
  },
  {
   "cell_type": "code",
   "execution_count": 91,
   "id": "e8d32a1c-9a6e-40ab-bdab-e242b7ebc9d6",
   "metadata": {
    "tags": []
   },
   "outputs": [
    {
     "data": {
      "text/plain": [
       "(12, 234, 243, 'swasdsuo', 325345.54654)"
      ]
     },
     "execution_count": 91,
     "metadata": {},
     "output_type": "execute_result"
    }
   ],
   "source": [
    "test9(12,234,243,\"swasdsuo\",325345.54654)"
   ]
  },
  {
   "cell_type": "code",
   "execution_count": 72,
   "id": "7399d2b0-77cb-43f3-bee4-e70e87440cd9",
   "metadata": {
    "tags": []
   },
   "outputs": [],
   "source": [
    "def test8(**kwargs):\n",
    "    return kwargs #this will return dictionary"
   ]
  },
  {
   "cell_type": "code",
   "execution_count": 73,
   "id": "90ba4196-ff1a-49c8-9a73-bb26091420a8",
   "metadata": {
    "tags": []
   },
   "outputs": [
    {
     "data": {
      "text/plain": [
       "{'a': 23, 'b': 'swayam', 'c': 35345.454, 'd': (5+6j)}"
      ]
     },
     "execution_count": 73,
     "metadata": {},
     "output_type": "execute_result"
    }
   ],
   "source": [
    "test8(a=23,b=\"swayam\",c=35345.454,d=5+6j)"
   ]
  },
  {
   "cell_type": "markdown",
   "id": "3711c952-3af4-482b-9c35-401421fb8793",
   "metadata": {},
   "source": [
    "### postional argument vs keyword argument\n",
    "#### positional argument is the one that doesnot have = sign but in case of keyword argument has = or has a default value\n",
    "#### a keyword argument follows a positional argument."
   ]
  },
  {
   "cell_type": "markdown",
   "id": "11936035-1a36-4815-a09d-8c725683234e",
   "metadata": {},
   "source": [
    "### *args is used to pass a variable number of arguments to a function\n",
    "### **kwargs is used as a dictionary of keys and values"
   ]
  },
  {
   "cell_type": "markdown",
   "id": "14595d09-757e-4ec5-a5ba-08d07d3c27de",
   "metadata": {},
   "source": [
    "## Generator Functions"
   ]
  },
  {
   "cell_type": "code",
   "execution_count": 41,
   "id": "ad0478b7-ac6a-4182-a615-2a2e99c7e483",
   "metadata": {
    "tags": []
   },
   "outputs": [],
   "source": [
    "def testgen(n):\n",
    "    a=0\n",
    "    b=1\n",
    "    for i in range(n):\n",
    "        yield a\n",
    "        a,b=b,a+b\n",
    "\n",
    "        # a=b\n",
    "        # b=a+b"
   ]
  },
  {
   "cell_type": "code",
   "execution_count": 42,
   "id": "5b0a5b90-8543-4f7a-af62-1654ab42e84a",
   "metadata": {
    "tags": []
   },
   "outputs": [
    {
     "data": {
      "text/plain": [
       "<generator object testgen at 0x000001D44E12F220>"
      ]
     },
     "execution_count": 42,
     "metadata": {},
     "output_type": "execute_result"
    }
   ],
   "source": [
    "testgen(10)"
   ]
  },
  {
   "cell_type": "code",
   "execution_count": 47,
   "id": "c88eeb3c",
   "metadata": {},
   "outputs": [
    {
     "name": "stdout",
     "output_type": "stream",
     "text": [
      "0\n",
      "1\n",
      "1\n",
      "2\n",
      "3\n",
      "5\n",
      "8\n",
      "13\n",
      "21\n",
      "34\n"
     ]
    }
   ],
   "source": [
    "for i in testgen(10):\n",
    "    print(i)"
   ]
  },
  {
   "cell_type": "code",
   "execution_count": 46,
   "id": "00f05c28-1135-4f6e-af4b-27920df4bc0d",
   "metadata": {
    "tags": []
   },
   "outputs": [
    {
     "data": {
      "text/plain": [
       "[0, 1, 1, 2, 3, 5, 8, 13, 21, 34]"
      ]
     },
     "execution_count": 46,
     "metadata": {},
     "output_type": "execute_result"
    }
   ],
   "source": [
    "list(testgen(10))"
   ]
  },
  {
   "cell_type": "markdown",
   "id": "1ff7d2a2-0009-417e-ae95-294621a152c7",
   "metadata": {
    "tags": []
   },
   "source": [
    "### yield vs return\n",
    "#### yield is used when we need to iterate over an expression\n",
    "#### return can't be used when we need to iterate over any expression inside a function\n",
    "#### when we use yield the function becomes a generator function"
   ]
  },
  {
   "cell_type": "markdown",
   "id": "2a49659c-fa91-40bd-8e4e-9a1ebc6d3282",
   "metadata": {},
   "source": [
    "#### yield is a keyword in Python used in the context of defining generator functions. A generator function is a special type of function that allows you to iterate over a potentially large sequence of data, producing one value at a time, and keeping its state between calls.\n",
    "\n",
    "Internally, when a function containing the yield keyword is called, it doesn't execute the function immediately; instead, \n",
    "#### it returns a generator object. This generator object can be iterated over using a for loop or by calling the next() function explicitly.\n",
    "\n",
    "Here's a simplified explanation of how yield works internally:\n",
    "\n",
    "Function Execution Paused:\n",
    "\n",
    "When the generator function encounters a yield statement, the function's state is saved, and the yielded value is returned to the caller.\n",
    "The function is paused at this point, and its local variables and state are retained.\n",
    "Generator Object Returned:\n",
    "\n",
    "The functiondoesn't complete execution; instead, it returns a generator object.\n",
    "This generator object can be used to control the execution of the generator function.\n",
    "Resume Execution:\n",
    "\n",
    "When you iterate over the generator (using a for loop or next()), the function resumes its execution from where it was paused, continuing until it encounters the next yield statement or until the function completes.\n",
    "State Retained:\n",
    "\n",
    "The local variables and the state of the function are retained between successive calls to yield, allowing the function to remember where it left off."
   ]
  },
  {
   "cell_type": "code",
   "execution_count": 5,
   "id": "4ae01643-b34b-44be-be82-bdad515dd3d6",
   "metadata": {
    "tags": []
   },
   "outputs": [
    {
     "ename": "TypeError",
     "evalue": "'int' object is not iterable",
     "output_type": "error",
     "traceback": [
      "\u001b[1;31m---------------------------------------------------------------------------\u001b[0m",
      "\u001b[1;31mTypeError\u001b[0m                                 Traceback (most recent call last)",
      "Cell \u001b[1;32mIn[5], line 20\u001b[0m\n\u001b[0;32m     14\u001b[0m \t\ti \u001b[38;5;241m+\u001b[39m\u001b[38;5;241m=\u001b[39m \u001b[38;5;241m1\u001b[39m \u001b[38;5;66;03m# Next execution resumes\u001b[39;00m\n\u001b[0;32m     15\u001b[0m \t\t\u001b[38;5;66;03m# from this point\u001b[39;00m\n\u001b[0;32m     16\u001b[0m \n\u001b[0;32m     17\u001b[0m \n\u001b[0;32m     18\u001b[0m \u001b[38;5;66;03m# Driver code to test above generator\u001b[39;00m\n\u001b[0;32m     19\u001b[0m \u001b[38;5;66;03m# function\u001b[39;00m\n\u001b[1;32m---> 20\u001b[0m \u001b[38;5;28;43;01mfor\u001b[39;49;00m\u001b[43m \u001b[49m\u001b[43mnum\u001b[49m\u001b[43m \u001b[49m\u001b[38;5;129;43;01min\u001b[39;49;00m\u001b[43m \u001b[49m\u001b[43mnextSquare\u001b[49m\u001b[43m(\u001b[49m\u001b[43m)\u001b[49m\u001b[43m:\u001b[49m\n\u001b[0;32m     21\u001b[0m \u001b[43m\t\u001b[49m\u001b[38;5;28;43;01mif\u001b[39;49;00m\u001b[43m \u001b[49m\u001b[43mnum\u001b[49m\u001b[43m \u001b[49m\u001b[38;5;241;43m>\u001b[39;49m\u001b[43m \u001b[49m\u001b[38;5;241;43m100\u001b[39;49m\u001b[43m:\u001b[49m\n\u001b[0;32m     22\u001b[0m \u001b[43m\t\t\u001b[49m\u001b[38;5;28;43;01mbreak\u001b[39;49;00m\n",
      "\u001b[1;31mTypeError\u001b[0m: 'int' object is not iterable"
     ]
    }
   ],
   "source": [
    "# A Python program to generate squares from 1\n",
    "# to 100 using yield and therefore generator\n",
    "\n",
    "# An infinite generator function that prints\n",
    "# next square number. It starts with 1\n",
    "\n",
    "\n",
    "def nextSquare():\n",
    "\ti = 1\n",
    "\n",
    "\t# An Infinite loop to generate squares\n",
    "\twhile True:\n",
    "\t\treturn i*i\n",
    "\t\ti += 1 # Next execution resumes\n",
    "\t\t# from this point\n",
    "\n",
    "\n",
    "# Driver code to test above generator\n",
    "# function\n",
    "for num in nextSquare():\n",
    "\tif num > 100:\n",
    "\t\tbreak\n",
    "\tprint(num)\n"
   ]
  },
  {
   "cell_type": "code",
   "execution_count": 79,
   "id": "6e9b8b21-5095-42e2-89fb-03b99935be60",
   "metadata": {
    "tags": []
   },
   "outputs": [
    {
     "name": "stdout",
     "output_type": "stream",
     "text": [
      "1\n",
      "4\n",
      "9\n",
      "16\n",
      "25\n",
      "36\n",
      "49\n",
      "64\n",
      "81\n",
      "100\n"
     ]
    }
   ],
   "source": [
    "# A Python program to generate squares from 1\n",
    "# to 100 using return (this will create an error)\n",
    "\n",
    "# An infinite generator function that prints\n",
    "# next square number. It starts with 1\n",
    "\n",
    "\n",
    "def nextSquare():\n",
    "\ti = 1\n",
    "\n",
    "\t# An Infinite loop to generate squares\n",
    "\twhile True:\n",
    "\t\tyield i*i ## return a genrator object which is iterable\n",
    "\t\ti += 1 # Next execution resumes\n",
    "\t\t# from this point\n",
    "\n",
    "\n",
    "# Driver code to test above generator\n",
    "# function\n",
    "for num in nextSquare():\n",
    "\tif num > 100:\n",
    "\t\tbreak\n",
    "\tprint(num)\n"
   ]
  },
  {
   "cell_type": "code",
   "execution_count": 80,
   "id": "1018a331-5780-4ad2-baa9-f3551d9c1759",
   "metadata": {
    "tags": []
   },
   "outputs": [
    {
     "name": "stdout",
     "output_type": "stream",
     "text": [
      "how long does the series need to be?  10\n",
      "0\n",
      "1\n",
      "1\n",
      "2\n",
      "3\n",
      "5\n",
      "8\n"
     ]
    }
   ],
   "source": [
    "def fibo(start):\n",
    "    a,b=0,1\n",
    "    while a < start:\n",
    "        yield a\n",
    "        a,b=b,a+b  ##similar to this statement  #temp=a\n",
    "                                                #a=b\n",
    "                                                #b=temp+b\n",
    "\n",
    "start=int(input(\"how long does the series need to be? \"))\n",
    "for i in fibo(start):\n",
    "    print(i)"
   ]
  },
  {
   "cell_type": "code",
   "execution_count": 87,
   "id": "84344fe4-5b88-4834-b343-2c7e2ed96d5b",
   "metadata": {
    "tags": []
   },
   "outputs": [
    {
     "name": "stdout",
     "output_type": "stream",
     "text": [
      "0\n",
      "1\n",
      "1\n",
      "2\n",
      "3\n",
      "5\n",
      "8\n",
      "13\n",
      "21\n",
      "34\n"
     ]
    }
   ],
   "source": [
    "def fibo():\n",
    "    a,b=0,1\n",
    "    while True:\n",
    "        yield a\n",
    "        a,b=b,a+b  ##similar to this statement  #temp=a\n",
    "                                                #a=b\n",
    "                                                #b=temp+b\n",
    "\n",
    "##start=int(input(\"how long does the series need to be? \"))\n",
    "fib=fibo()##object of fibo created \n",
    "for i in range(10):\n",
    "    print(next(fib))"
   ]
  },
  {
   "cell_type": "code",
   "execution_count": 96,
   "id": "4914a869-dc7b-46bd-840c-56d6d1be658f",
   "metadata": {
    "tags": []
   },
   "outputs": [],
   "source": [
    "name=\"swayam\""
   ]
  },
  {
   "cell_type": "code",
   "execution_count": 53,
   "id": "d04fa00b-a163-419b-ab94-ea9e218d5bc9",
   "metadata": {
    "tags": []
   },
   "outputs": [
    {
     "ename": "TypeError",
     "evalue": "'int' object is not an iterator",
     "output_type": "error",
     "traceback": [
      "\u001b[1;31m---------------------------------------------------------------------------\u001b[0m",
      "\u001b[1;31mTypeError\u001b[0m                                 Traceback (most recent call last)",
      "Cell \u001b[1;32mIn[53], line 1\u001b[0m\n\u001b[1;32m----> 1\u001b[0m \u001b[38;5;28mnext\u001b[39m(name)\n",
      "\u001b[1;31mTypeError\u001b[0m: 'int' object is not an iterator"
     ]
    }
   ],
   "source": [
    "next(name) #'str' object is not an iterator"
   ]
  },
  {
   "cell_type": "code",
   "execution_count": 98,
   "id": "aebd0293-1a83-4160-ba4d-efc25dc22477",
   "metadata": {
    "tags": []
   },
   "outputs": [],
   "source": [
    "stre=iter(name)"
   ]
  },
  {
   "cell_type": "code",
   "execution_count": 99,
   "id": "9dc37219-5c54-42ab-a329-e979f32ea49d",
   "metadata": {
    "tags": []
   },
   "outputs": [
    {
     "data": {
      "text/plain": [
       "'s'"
      ]
     },
     "execution_count": 99,
     "metadata": {},
     "output_type": "execute_result"
    }
   ],
   "source": [
    "next(stre)"
   ]
  },
  {
   "cell_type": "code",
   "execution_count": 100,
   "id": "773e1628-b848-4999-9ad0-0378ec5d962a",
   "metadata": {
    "tags": []
   },
   "outputs": [
    {
     "data": {
      "text/plain": [
       "'w'"
      ]
     },
     "execution_count": 100,
     "metadata": {},
     "output_type": "execute_result"
    }
   ],
   "source": [
    "next(stre)"
   ]
  },
  {
   "cell_type": "code",
   "execution_count": 101,
   "id": "b18f78aa-5a46-43cd-98bf-dd66bda43186",
   "metadata": {
    "tags": []
   },
   "outputs": [
    {
     "data": {
      "text/plain": [
       "'a'"
      ]
     },
     "execution_count": 101,
     "metadata": {},
     "output_type": "execute_result"
    }
   ],
   "source": [
    "next(stre)"
   ]
  },
  {
   "cell_type": "markdown",
   "id": "f3921cb0-c5d3-43a8-9d28-cfa40d565133",
   "metadata": {},
   "source": [
    "#### so basically next shift cursor over any iterable now string was not an iterable so we converted it into one by using iter and then used next"
   ]
  },
  {
   "cell_type": "code",
   "execution_count": 102,
   "id": "d837e724-c163-4c89-8ecb-5ffe650a6edf",
   "metadata": {
    "tags": []
   },
   "outputs": [],
   "source": [
    "def test():\n",
    "    print(\"Swayam\")"
   ]
  },
  {
   "cell_type": "code",
   "execution_count": 103,
   "id": "892ccbef-838b-4418-9c5d-40b26637e8b6",
   "metadata": {
    "tags": []
   },
   "outputs": [
    {
     "name": "stdout",
     "output_type": "stream",
     "text": [
      "Swayam\n"
     ]
    }
   ],
   "source": [
    "test()"
   ]
  },
  {
   "cell_type": "code",
   "execution_count": 104,
   "id": "bb504c31-658f-4cb4-af74-0641490632e5",
   "metadata": {
    "tags": []
   },
   "outputs": [],
   "source": [
    "def test1(a,b):\n",
    "    return a+b"
   ]
  },
  {
   "cell_type": "code",
   "execution_count": 106,
   "id": "041a8288-f738-45e3-9af6-33a2cd528458",
   "metadata": {
    "tags": []
   },
   "outputs": [
    {
     "data": {
      "text/plain": [
       "22"
      ]
     },
     "execution_count": 106,
     "metadata": {},
     "output_type": "execute_result"
    }
   ],
   "source": [
    "test1(12,10)"
   ]
  },
  {
   "cell_type": "code",
   "execution_count": 110,
   "id": "0cc26a05-3055-49f8-b59a-3a872cb1e407",
   "metadata": {
    "tags": []
   },
   "outputs": [],
   "source": [
    "def test2(a,b=10,c=20,d=30):\n",
    "    return a+b/c+d"
   ]
  },
  {
   "cell_type": "code",
   "execution_count": 111,
   "id": "9983e859-e74a-43db-802e-4462994b8963",
   "metadata": {
    "tags": []
   },
   "outputs": [
    {
     "data": {
      "text/plain": [
       "42.5"
      ]
     },
     "execution_count": 111,
     "metadata": {},
     "output_type": "execute_result"
    }
   ],
   "source": [
    "test2(12)"
   ]
  },
  {
   "cell_type": "code",
   "execution_count": 112,
   "id": "74ef8ec3-e393-4de8-909b-762204daade0",
   "metadata": {
    "tags": []
   },
   "outputs": [
    {
     "data": {
      "text/plain": [
       "43.0"
      ]
     },
     "execution_count": 112,
     "metadata": {},
     "output_type": "execute_result"
    }
   ],
   "source": [
    "test2(12,20) ## default argument value can be overriden"
   ]
  },
  {
   "cell_type": "code",
   "execution_count": 128,
   "id": "8b938bf1-af7f-4435-a6a6-90569b4bb5c3",
   "metadata": {
    "tags": []
   },
   "outputs": [],
   "source": [
    "def test5(*args):\n",
    "    return args"
   ]
  },
  {
   "cell_type": "code",
   "execution_count": 129,
   "id": "d8adfd0e-ee49-4dfa-b180-fa6c9c54cffd",
   "metadata": {
    "tags": []
   },
   "outputs": [],
   "source": [
    "#args == arguments"
   ]
  },
  {
   "cell_type": "code",
   "execution_count": 130,
   "id": "71af2092-7f21-4625-8dbe-7e3646165b25",
   "metadata": {
    "tags": []
   },
   "outputs": [
    {
     "data": {
      "text/plain": [
       "(12, 234, 'swssdfd', (5+8j), 69.69)"
      ]
     },
     "execution_count": 130,
     "metadata": {},
     "output_type": "execute_result"
    }
   ],
   "source": [
    "test5(12,234,\"swssdfd\",5+8j,69.69)"
   ]
  },
  {
   "cell_type": "code",
   "execution_count": 131,
   "id": "c1f3e6c1-e6fa-4567-b14b-2e9f93b7bc7a",
   "metadata": {
    "tags": []
   },
   "outputs": [],
   "source": [
    "def test6(*swayam):\n",
    "    return swayam"
   ]
  },
  {
   "cell_type": "code",
   "execution_count": 132,
   "id": "0a1d2089-0501-4080-8a61-38d5fb201eb3",
   "metadata": {
    "tags": []
   },
   "outputs": [
    {
     "data": {
      "text/plain": [
       "(12, 234, 'swssdfd', (5+8j), 69.69)"
      ]
     },
     "execution_count": 132,
     "metadata": {},
     "output_type": "execute_result"
    }
   ],
   "source": [
    "test6(12,234,\"swssdfd\",5+8j,69.69)"
   ]
  },
  {
   "cell_type": "code",
   "execution_count": 136,
   "id": "4f6bf360-8d76-40e6-8b6f-0720befec64c",
   "metadata": {
    "tags": []
   },
   "outputs": [],
   "source": [
    "def test7(**kwargs):\n",
    "    return kwargs"
   ]
  },
  {
   "cell_type": "code",
   "execution_count": 137,
   "id": "a6683760-3727-41c7-ad89-b7e09cee5ad9",
   "metadata": {
    "tags": []
   },
   "outputs": [
    {
     "data": {
      "text/plain": [
       "{'key1': 2, 'key2': 23, 'key3': 'swahwds'}"
      ]
     },
     "execution_count": 137,
     "metadata": {},
     "output_type": "execute_result"
    }
   ],
   "source": [
    "test7(key1=2,key2=23,key3=\"swahwds\")"
   ]
  },
  {
   "cell_type": "code",
   "execution_count": 141,
   "id": "e2b73dad-135e-4bf7-9bc7-efd6573b1735",
   "metadata": {
    "tags": []
   },
   "outputs": [],
   "source": [
    "def testgen(n):\n",
    "    yield n"
   ]
  },
  {
   "cell_type": "code",
   "execution_count": 142,
   "id": "2ae21d72-ed5d-4b03-8882-40d2f116c131",
   "metadata": {
    "tags": []
   },
   "outputs": [
    {
     "data": {
      "text/plain": [
       "<generator object testgen at 0x000002309D814580>"
      ]
     },
     "execution_count": 142,
     "metadata": {},
     "output_type": "execute_result"
    }
   ],
   "source": [
    "testgen(10)"
   ]
  },
  {
   "cell_type": "code",
   "execution_count": 150,
   "id": "4bbeaf9f-4371-44ec-ae92-8414aa0dbf00",
   "metadata": {
    "tags": []
   },
   "outputs": [],
   "source": [
    "def test():\n",
    "    for i in range(10):\n",
    "        yield i"
   ]
  },
  {
   "cell_type": "code",
   "execution_count": 152,
   "id": "f40bea32-e9cd-45ce-9db4-f552c36c6dfb",
   "metadata": {
    "tags": []
   },
   "outputs": [
    {
     "data": {
      "text/plain": [
       "[0, 1, 2, 3, 4, 5, 6, 7, 8, 9]"
      ]
     },
     "execution_count": 152,
     "metadata": {},
     "output_type": "execute_result"
    }
   ],
   "source": [
    "list(test())"
   ]
  },
  {
   "cell_type": "markdown",
   "id": "e29430aa-3285-47ab-b48c-8e1b7ced6c43",
   "metadata": {},
   "source": [
    "## Lambda Functions "
   ]
  },
  {
   "cell_type": "code",
   "execution_count": null,
   "id": "649025a5",
   "metadata": {},
   "outputs": [],
   "source": [
    "def a(n,p):\n",
    "    return n**p"
   ]
  },
  {
   "cell_type": "code",
   "execution_count": 2,
   "id": "820859fd-a170-48f9-8e9f-2d32705e7704",
   "metadata": {
    "tags": []
   },
   "outputs": [],
   "source": [
    "a = lambda n,p:n**p"
   ]
  },
  {
   "cell_type": "code",
   "execution_count": 3,
   "id": "d75eebcb-3cea-42b5-b59c-3601d5584fa1",
   "metadata": {
    "tags": []
   },
   "outputs": [
    {
     "data": {
      "text/plain": [
       "9"
      ]
     },
     "execution_count": 3,
     "metadata": {},
     "output_type": "execute_result"
    }
   ],
   "source": [
    "a(3,2)"
   ]
  },
  {
   "cell_type": "code",
   "execution_count": 98,
   "id": "eb1c3c77-39d3-4af1-9364-11d2b0284da4",
   "metadata": {
    "tags": []
   },
   "outputs": [
    {
     "data": {
      "text/plain": [
       "69"
      ]
     },
     "execution_count": 98,
     "metadata": {},
     "output_type": "execute_result"
    }
   ],
   "source": [
    "def add(x,y):\n",
    "    return x+y\n",
    "add(45,24)       ## lambda function"
   ]
  },
  {
   "cell_type": "code",
   "execution_count": 4,
   "id": "69cce02b-99c9-46bb-95e9-a85ba4b442bf",
   "metadata": {
    "tags": []
   },
   "outputs": [],
   "source": [
    "add = lambda x,y:x+y"
   ]
  },
  {
   "cell_type": "code",
   "execution_count": 5,
   "id": "f796fcdc-6796-45ea-8103-f1a1f48255b9",
   "metadata": {
    "tags": []
   },
   "outputs": [
    {
     "data": {
      "text/plain": [
       "69"
      ]
     },
     "execution_count": 5,
     "metadata": {},
     "output_type": "execute_result"
    }
   ],
   "source": [
    "add(45,24)"
   ]
  },
  {
   "cell_type": "code",
   "execution_count": 99,
   "id": "cd1243a2-6317-4382-b26f-44f748389167",
   "metadata": {
    "tags": []
   },
   "outputs": [
    {
     "data": {
      "text/plain": [
       "93.2"
      ]
     },
     "execution_count": 99,
     "metadata": {},
     "output_type": "execute_result"
    }
   ],
   "source": [
    "def temp(celsius):\n",
    "    return (9/5)*celsius+32\n",
    "temp(34)"
   ]
  },
  {
   "cell_type": "code",
   "execution_count": 8,
   "id": "a6faa313-3788-4574-9d09-d62d9bd36eb5",
   "metadata": {
    "tags": []
   },
   "outputs": [],
   "source": [
    "temp = lambda celsius :(9/5)*celsius+32"
   ]
  },
  {
   "cell_type": "code",
   "execution_count": 9,
   "id": "83492d99-1c1d-42de-93e0-f6f4530947f6",
   "metadata": {
    "tags": []
   },
   "outputs": [
    {
     "data": {
      "text/plain": [
       "93.2"
      ]
     },
     "execution_count": 9,
     "metadata": {},
     "output_type": "execute_result"
    }
   ],
   "source": [
    "temp(34)"
   ]
  },
  {
   "cell_type": "code",
   "execution_count": 100,
   "id": "af48116e-f8e2-45fa-91b1-ab92c6e57ac9",
   "metadata": {
    "tags": []
   },
   "outputs": [
    {
     "data": {
      "text/plain": [
       "67"
      ]
     },
     "execution_count": 100,
     "metadata": {},
     "output_type": "execute_result"
    }
   ],
   "source": [
    "def maxval(x,y):\n",
    "    if(x>y):\n",
    "        return x\n",
    "    else:\n",
    "        return y\n",
    "\n",
    "maxval(34,67)"
   ]
  },
  {
   "cell_type": "code",
   "execution_count": 18,
   "id": "ac5653c4-af6c-4e97-81f3-a1aa58875890",
   "metadata": {
    "tags": []
   },
   "outputs": [],
   "source": [
    "maxval= lambda x,y: x if x>y else y"
   ]
  },
  {
   "cell_type": "code",
   "execution_count": 20,
   "id": "94ff20d7-f235-47c8-b8a1-0fbf90d7937d",
   "metadata": {
    "tags": []
   },
   "outputs": [
    {
     "data": {
      "text/plain": [
       "67"
      ]
     },
     "execution_count": 20,
     "metadata": {},
     "output_type": "execute_result"
    }
   ],
   "source": [
    "maxval(34,67)"
   ]
  },
  {
   "cell_type": "markdown",
   "id": "a5b0f3e9-38f8-4a55-b9bf-f41e5472c681",
   "metadata": {},
   "source": [
    "## Map,Filter,Reduce"
   ]
  },
  {
   "cell_type": "code",
   "execution_count": 104,
   "id": "2e4c9d6d-9f68-4b4f-a1e9-81e7e0757b71",
   "metadata": {
    "tags": []
   },
   "outputs": [],
   "source": [
    "l=[2,3,4,5,6]"
   ]
  },
  {
   "cell_type": "code",
   "execution_count": 54,
   "id": "2af69c0c-5351-4fdc-806e-786a9632c1ae",
   "metadata": {
    "tags": []
   },
   "outputs": [],
   "source": [
    "def test5(x):\n",
    "    return x**2"
   ]
  },
  {
   "cell_type": "code",
   "execution_count": 55,
   "id": "be7c3216-3349-4939-ad7f-57aec51b7b80",
   "metadata": {
    "tags": []
   },
   "outputs": [],
   "source": [
    "test5=lambda x: x**2"
   ]
  },
  {
   "cell_type": "code",
   "execution_count": 56,
   "id": "897df76a-7964-4840-837a-9d9c46ec7359",
   "metadata": {
    "tags": []
   },
   "outputs": [
    {
     "data": {
      "text/plain": [
       "4"
      ]
     },
     "execution_count": 56,
     "metadata": {},
     "output_type": "execute_result"
    }
   ],
   "source": [
    "test5(2)"
   ]
  },
  {
   "cell_type": "code",
   "execution_count": 107,
   "id": "19f4cfa6-391f-44c6-80c0-b19ba41f15db",
   "metadata": {
    "tags": []
   },
   "outputs": [
    {
     "data": {
      "text/plain": [
       "[4, 9, 16, 25, 36]"
      ]
     },
     "execution_count": 107,
     "metadata": {},
     "output_type": "execute_result"
    }
   ],
   "source": [
    "list(map(test5,l))  # map(function,iterable)"
   ]
  },
  {
   "cell_type": "code",
   "execution_count": 113,
   "id": "0436ed5c-6088-4882-a297-443dda500ae6",
   "metadata": {
    "tags": []
   },
   "outputs": [
    {
     "data": {
      "text/plain": [
       "(4, 9, 16, 25, 36)"
      ]
     },
     "execution_count": 113,
     "metadata": {},
     "output_type": "execute_result"
    }
   ],
   "source": [
    "tuple(map(lambda x:x**2 ,l))"
   ]
  },
  {
   "cell_type": "code",
   "execution_count": 115,
   "id": "08fc3c2e-c4ee-46a1-865c-fe4f36285fc1",
   "metadata": {
    "tags": []
   },
   "outputs": [],
   "source": [
    "l1=[1,323,353,54,544,3535]\n",
    "l2=[4543,4654,6456,5454,334]"
   ]
  },
  {
   "cell_type": "code",
   "execution_count": 117,
   "id": "9d1c8b74-3877-46f3-8eb4-b31f1bb6cd67",
   "metadata": {
    "tags": []
   },
   "outputs": [
    {
     "data": {
      "text/plain": [
       "[4544, 4977, 6809, 5508, 878]"
      ]
     },
     "execution_count": 117,
     "metadata": {},
     "output_type": "execute_result"
    }
   ],
   "source": [
    "list(map((lambda l1,l2:l1+l2),l1,l2))"
   ]
  },
  {
   "cell_type": "markdown",
   "id": "a3bb2e56-5f1b-4759-b636-3c2756a75f65",
   "metadata": {},
   "source": [
    "## Reduce"
   ]
  },
  {
   "cell_type": "code",
   "execution_count": 59,
   "id": "98c18570-fad7-45e7-ab73-fe832934500d",
   "metadata": {
    "tags": []
   },
   "outputs": [],
   "source": [
    "from functools import reduce"
   ]
  },
  {
   "cell_type": "code",
   "execution_count": 60,
   "id": "e6583499-56f0-425d-b0e5-ffe8378d4ba3",
   "metadata": {
    "tags": []
   },
   "outputs": [],
   "source": [
    "l=[1,2,3,3,4,5]"
   ]
  },
  {
   "cell_type": "code",
   "execution_count": 61,
   "id": "2367081a-6261-465c-8147-816ea54b8dfd",
   "metadata": {
    "tags": []
   },
   "outputs": [
    {
     "data": {
      "text/plain": [
       "18"
      ]
     },
     "execution_count": 61,
     "metadata": {},
     "output_type": "execute_result"
    }
   ],
   "source": [
    "reduce((lambda x,y:x+y),l)## can only be used for atmost two values\n",
    "##that is only for x,y we cannot have x,y,z"
   ]
  },
  {
   "attachments": {
    "fa7bb544-5d8f-4363-b78c-9e9f5cbeda77.jpg": {
     "image/jpeg": "[encoded data removed]"
    }
   },
   "cell_type": "markdown",
   "id": "20144b08-b9b8-4fbc-9811-8dde3880e404",
   "metadata": {},
   "source": [
    "![WhatsApp Image 2023-12-17 at 20.17.12_73246905.jpg](attachment:fa7bb544-5d8f-4363-b78c-9e9f5cbeda77.jpg)"
   ]
  },
  {
   "cell_type": "code",
   "execution_count": 68,
   "id": "dd32887d-a38b-43ff-8fd4-92626bf30c3c",
   "metadata": {
    "tags": []
   },
   "outputs": [],
   "source": [
    "l1=[1]  "
   ]
  },
  {
   "cell_type": "code",
   "execution_count": 70,
   "id": "75d015bd-728b-4e1d-a894-cc9deed0f814",
   "metadata": {
    "tags": []
   },
   "outputs": [
    {
     "data": {
      "text/plain": [
       "1"
      ]
     },
     "execution_count": 70,
     "metadata": {},
     "output_type": "execute_result"
    }
   ],
   "source": [
    "reduce(lambda x,y,z:x+y+z,l1) ## cannot have null iterable"
   ]
  },
  {
   "cell_type": "code",
   "execution_count": 71,
   "id": "17b3d579",
   "metadata": {},
   "outputs": [
    {
     "data": {
      "text/plain": [
       "[1, 2, 3, 3, 4, 5]"
      ]
     },
     "execution_count": 71,
     "metadata": {},
     "output_type": "execute_result"
    }
   ],
   "source": [
    "l"
   ]
  },
  {
   "cell_type": "code",
   "execution_count": 75,
   "id": "bf442180-f710-4282-8d27-f1e349ad1eb7",
   "metadata": {
    "tags": []
   },
   "outputs": [
    {
     "data": {
      "text/plain": [
       "[False, True, False, False, True, False]"
      ]
     },
     "execution_count": 75,
     "metadata": {},
     "output_type": "execute_result"
    }
   ],
   "source": [
    "list(map((lambda x:x%2==0),l))"
   ]
  },
  {
   "cell_type": "code",
   "execution_count": 135,
   "id": "73a95862-2af4-4bf8-a5d6-a972e39a7688",
   "metadata": {
    "tags": []
   },
   "outputs": [],
   "source": [
    "l=[1,2,3,3,4,5]"
   ]
  },
  {
   "cell_type": "code",
   "execution_count": 73,
   "id": "6537cab8-70fb-4e81-8e26-78335d72e68d",
   "metadata": {
    "tags": []
   },
   "outputs": [
    {
     "data": {
      "text/plain": [
       "[2, 4]"
      ]
     },
     "execution_count": 73,
     "metadata": {},
     "output_type": "execute_result"
    }
   ],
   "source": [
    "list(filter(lambda x:x%2==0,l))"
   ]
  },
  {
   "cell_type": "code",
   "execution_count": 76,
   "id": "fd22cbea-754f-4a4a-8344-79b800108f02",
   "metadata": {
    "tags": []
   },
   "outputs": [],
   "source": [
    "l=[1,2,343,-35,543-45654,35434,4354-32549,464]"
   ]
  },
  {
   "cell_type": "code",
   "execution_count": 77,
   "id": "fb898cc6-3740-4de3-8506-e02e95dcabe0",
   "metadata": {
    "tags": []
   },
   "outputs": [
    {
     "data": {
      "text/plain": [
       "[-35, -45111, -28195]"
      ]
     },
     "execution_count": 77,
     "metadata": {},
     "output_type": "execute_result"
    }
   ],
   "source": [
    "list(filter(lambda x:x<0,l))"
   ]
  },
  {
   "cell_type": "code",
   "execution_count": 63,
   "id": "5fd9badd-494b-4a5a-b96a-a16b47e20588",
   "metadata": {
    "tags": []
   },
   "outputs": [
    {
     "name": "stdout",
     "output_type": "stream",
     "text": [
      "enter your number 209\n"
     ]
    }
   ],
   "source": [
    "a= int(input(\"enter your number\"))\n",
    "def func(a):\n",
    "    if(a%2==0):\n",
    "        return \"even\"\n",
    "    return \"odd\""
   ]
  },
  {
   "cell_type": "code",
   "execution_count": 64,
   "id": "0fc49e86-a91c-4655-b975-fc8dfeeccb23",
   "metadata": {
    "tags": []
   },
   "outputs": [
    {
     "data": {
      "text/plain": [
       "'odd'"
      ]
     },
     "execution_count": 64,
     "metadata": {},
     "output_type": "execute_result"
    }
   ],
   "source": [
    "func(a)"
   ]
  },
  {
   "cell_type": "code",
   "execution_count": 87,
   "id": "037ca9aa-a23d-4a50-a118-506a0cadd413",
   "metadata": {
    "tags": []
   },
   "outputs": [
    {
     "name": "stdout",
     "output_type": "stream",
     "text": [
      "The given number 153 is an Armstrong number.\n"
     ]
    }
   ],
   "source": [
    "def is_armstrong_number(num):\n",
    "    '''well this function to calculate whether a number is armstrong or not'''\n",
    "    s = num\n",
    "    b = len(str(num))\n",
    "    sum1 = 0\n",
    "\n",
    "    while num != 0:\n",
    "        r = num % 10\n",
    "        sum1 = sum1 + (r ** b)\n",
    "        num = num // 10\n",
    "\n",
    "    return s == sum1\n",
    "number = 153\n",
    "if is_armstrong_number(number):\n",
    "    print(f\"The given number {number} is an Armstrong number.\")\n",
    "else:\n",
    "    print(f\"The given number {number} is not an Armstrong number.\")\n"
   ]
  },
  {
   "cell_type": "code",
   "execution_count": null,
   "id": "afd29f92-8888-4adf-bd6d-4f6a39921fb3",
   "metadata": {},
   "outputs": [],
   "source": [
    "is_armstrong_number()"
   ]
  },
  {
   "cell_type": "markdown",
   "id": "bbf1eb90-9b90-4b74-aa02-05362733790b",
   "metadata": {},
   "source": [
    "# ZIP"
   ]
  },
  {
   "cell_type": "code",
   "execution_count": 96,
   "id": "033e7d00",
   "metadata": {},
   "outputs": [
    {
     "name": "stdout",
     "output_type": "stream",
     "text": [
      "('s', 'S', 'B')\n",
      "('w', 'w', 'a')\n",
      "('a', 'a', 'r')\n",
      "('y', 'r', 'i')\n",
      "('a', 'u', 'k')\n",
      "('m', 'p', 's')\n"
     ]
    }
   ],
   "source": [
    "lst1 = [\"swayam\",\"Swarup\",\"Bariksx\"]\n",
    "for i in zip(*lst1):\n",
    "    print(i)\n"
   ]
  },
  {
   "cell_type": "code",
   "execution_count": 89,
   "id": "10bbdd7d-9a5d-4216-8785-9183d15e4aed",
   "metadata": {},
   "outputs": [
    {
     "name": "stdout",
     "output_type": "stream",
     "text": [
      "[('swayam', 25), ('Swarup', 37), ('Barik', 52)]\n",
      "[['s', 'S', 'B'], ['w', 'w', 'a'], ['a', 'a', 'r'], ['y', 'r', 'i'], ['a', 'u', 'k']]\n"
     ]
    }
   ],
   "source": [
    "lst1 = [\"swayam\",\"Swarup\",\"Barik\"]\n",
    "# lst1=[\"barik\"]\n",
    "lst2 =[25,37,52]\n",
    "print(list(zip(lst1,lst2)))\n",
    "print([list(i) for i in zip(*lst1)]) ## transpose"
   ]
  },
  {
   "cell_type": "code",
   "execution_count": 97,
   "id": "004319fb-366b-4266-997f-7a6917d20f7d",
   "metadata": {},
   "outputs": [
    {
     "name": "stdout",
     "output_type": "stream",
     "text": [
      "[([1, 2, 3],), ([4, 5, 6],), ([7, 8, 9],)]\n"
     ]
    }
   ],
   "source": [
    "matrix = [[1,2,3],\n",
    "          [4,5,6],\n",
    "          [7,8,9]]\n",
    "print([i for i in zip(matrix)])"
   ]
  },
  {
   "cell_type": "code",
   "execution_count": 95,
   "id": "b4858847",
   "metadata": {},
   "outputs": [
    {
     "data": {
      "text/plain": [
       "list"
      ]
     },
     "execution_count": 95,
     "metadata": {},
     "output_type": "execute_result"
    }
   ],
   "source": [
    "type(matrix)"
   ]
  },
  {
   "cell_type": "code",
   "execution_count": 7,
   "id": "99234848-cfbb-4476-8af2-34dc8d9a6612",
   "metadata": {},
   "outputs": [
    {
     "name": "stdout",
     "output_type": "stream",
     "text": [
      "[[1, 4, 7], [2, 5, 8], [3, 6, 9]]\n"
     ]
    }
   ],
   "source": [
    "print([list(i) for i in zip(*matrix)]) ## transpose of the matrix"
   ]
  },
  {
   "cell_type": "code",
   "execution_count": 19,
   "id": "870e1150-3ca4-4b9d-87d0-066a0239989f",
   "metadata": {},
   "outputs": [
    {
     "name": "stdout",
     "output_type": "stream",
     "text": [
      "[[1, 2, 3], [4, 5, 6], [7, 8, 9]]\n"
     ]
    }
   ],
   "source": [
    "print([list(i) for i in zip(*[list(i) for i in zip(*matrix)])]) ## transpose of transpose"
   ]
  },
  {
   "cell_type": "code",
   "execution_count": 21,
   "id": "84a059b6-ec55-495a-873c-e9163c1e7b8d",
   "metadata": {},
   "outputs": [
    {
     "name": "stdout",
     "output_type": "stream",
     "text": [
      "[64, 3888, 82688]\n"
     ]
    }
   ],
   "source": [
    "lst1 = [2,12,34]\n",
    "lst2 = [32,324,2432]\n",
    "print(list(i*j for i,j in zip(lst1,lst2)))"
   ]
  },
  {
   "cell_type": "code",
   "execution_count": 100,
   "id": "4f0843cc-55e6-424d-9a0d-2997ac135cb3",
   "metadata": {},
   "outputs": [],
   "source": [
    "lst1=[3234,767,2144,5765,33532,34514]\n",
    "def isOdd(n):\n",
    "    if n%2 != 0:\n",
    "        return True\n",
    "    else:\n",
    "        return False"
   ]
  },
  {
   "cell_type": "code",
   "execution_count": 104,
   "id": "37f066ca-4877-4f4f-a27b-e7a77c24d3bf",
   "metadata": {},
   "outputs": [
    {
     "data": {
      "text/plain": [
       "[False, True, False, True, False, False]"
      ]
     },
     "execution_count": 104,
     "metadata": {},
     "output_type": "execute_result"
    }
   ],
   "source": [
    "list(map(isOdd,lst1))"
   ]
  },
  {
   "cell_type": "code",
   "execution_count": 29,
   "id": "91061431-aef7-4e50-83d9-39d6d7e7a876",
   "metadata": {},
   "outputs": [
    {
     "data": {
      "text/plain": [
       "(767, 5765)"
      ]
     },
     "execution_count": 29,
     "metadata": {},
     "output_type": "execute_result"
    }
   ],
   "source": [
    "tuple(filter(lambda x:x%2!=0,lst1))"
   ]
  },
  {
   "cell_type": "markdown",
   "id": "3d2dc82a-cfea-47fa-81f2-14fdaccae2b8",
   "metadata": {},
   "source": [
    "## ASCII"
   ]
  },
  {
   "cell_type": "markdown",
   "id": "2cee31c0-1156-4345-948d-35cd8dc6f63a",
   "metadata": {},
   "source": [
    "#### 0 - 9 ---> 48-57\n",
    "#### A - Z ---> 65 - 90\n",
    "#### a -z ----> 97-122"
   ]
  },
  {
   "cell_type": "code",
   "execution_count": 30,
   "id": "ed7a9c98-83ab-43bf-a329-ec19c1ed2495",
   "metadata": {},
   "outputs": [
    {
     "name": "stdout",
     "output_type": "stream",
     "text": [
      "65\n"
     ]
    }
   ],
   "source": [
    "print(ord(\"A\"))"
   ]
  },
  {
   "cell_type": "code",
   "execution_count": 31,
   "id": "d10a02ec-702b-4fff-835f-3ff8af5945f5",
   "metadata": {},
   "outputs": [
    {
     "name": "stdout",
     "output_type": "stream",
     "text": [
      "90\n"
     ]
    }
   ],
   "source": [
    "print(ord(\"Z\"))"
   ]
  },
  {
   "cell_type": "code",
   "execution_count": 32,
   "id": "635492f7-a795-4688-8782-1ab8ac9fb82d",
   "metadata": {},
   "outputs": [
    {
     "name": "stdout",
     "output_type": "stream",
     "text": [
      "91\n"
     ]
    }
   ],
   "source": [
    "print(ord(\"[\"))"
   ]
  },
  {
   "cell_type": "code",
   "execution_count": 33,
   "id": "2e1718c7-2da8-43ff-9537-6c551231f99a",
   "metadata": {},
   "outputs": [
    {
     "name": "stdout",
     "output_type": "stream",
     "text": [
      "0\n"
     ]
    }
   ],
   "source": [
    "print(chr(48))"
   ]
  },
  {
   "cell_type": "code",
   "execution_count": 111,
   "id": "ef44db69-d375-4ad0-8bcc-127309ede430",
   "metadata": {},
   "outputs": [],
   "source": [
    "text = \"Python\"\n",
    "ascii_values = tuple(ord(char) for char in text)"
   ]
  },
  {
   "cell_type": "code",
   "execution_count": 112,
   "id": "cbde7d88-6889-4202-a4d2-316aaad934c6",
   "metadata": {},
   "outputs": [
    {
     "data": {
      "text/plain": [
       "(80, 121, 116, 104, 111, 110)"
      ]
     },
     "execution_count": 112,
     "metadata": {},
     "output_type": "execute_result"
    }
   ],
   "source": [
    "ascii_values"
   ]
  },
  {
   "cell_type": "code",
   "execution_count": null,
   "id": "c8c563fd-4d32-4a08-bb57-fa98e4867e20",
   "metadata": {},
   "outputs": [],
   "source": []
  }
 ],
 "metadata": {
  "kernelspec": {
   "display_name": "base",
   "language": "python",
   "name": "python3"
  },
  "language_info": {
   "codemirror_mode": {
    "name": "ipython",
    "version": 3
   },
   "file_extension": ".py",
   "mimetype": "text/x-python",
   "name": "python",
   "nbconvert_exporter": "python",
   "pygments_lexer": "ipython3",
   "version": "3.12.4"
  }
 },
 "nbformat": 4,
 "nbformat_minor": 5
}
