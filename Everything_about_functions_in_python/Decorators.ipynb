{
 "cells": [
  {
   "cell_type": "code",
   "execution_count": 1,
   "id": "51aee296",
   "metadata": {
    "tags": []
   },
   "outputs": [
    {
     "name": "stdout",
     "output_type": "stream",
     "text": [
      "Wlcome\n",
      "our wrapper executed this before display function\n",
      "display function ran\n"
     ]
    }
   ],
   "source": [
    "def decorator_function(og_function):\n",
    "    def wrapper_function():\n",
    "        print(\"Wlcome\")\n",
    "        print(\"our wrapper executed this before {} function\".format(og_function.__name__))\n",
    "        return og_function()\n",
    "    return wrapper_function ### concepts of closures\n",
    "def display():\n",
    "    print('display function ran')\n",
    "decorated_display=decorator_function(display)  #display == og_function\n",
    "decorated_display()"
   ]
  },
  {
   "cell_type": "code",
   "execution_count": 4,
   "id": "5d39591c",
   "metadata": {
    "tags": []
   },
   "outputs": [],
   "source": [
    "def decorator_function(og_function):\n",
    "    def wrapper_function():\n",
    "        print(\"our wrapper executed this before {} function\".format(og_function.__name__))\n",
    "        return og_function()\n",
    "    return wrapper_function\n",
    "\n",
    "@decorator_function\n",
    "def display():\n",
    "    print('display function ran')\n"
   ]
  },
  {
   "cell_type": "code",
   "execution_count": 5,
   "id": "2739bdc5",
   "metadata": {
    "tags": []
   },
   "outputs": [
    {
     "name": "stdout",
     "output_type": "stream",
     "text": [
      "our wrapper executed this before display function\n",
      "display function ran\n"
     ]
    }
   ],
   "source": [
    "display()"
   ]
  },
  {
   "cell_type": "markdown",
   "id": "a200dcde",
   "metadata": {},
   "source": [
    "#### @decorator_function\n",
    "#### def display():\n",
    "##### is exactly same as \n",
    "#### decorated_display=decorator_function(display)"
   ]
  },
  {
   "cell_type": "code",
   "execution_count": 34,
   "id": "4376a42d",
   "metadata": {},
   "outputs": [],
   "source": [
    "def decorator_function(add):\n",
    "    def wrapper_function(*args):\n",
    "        print(\"welcome to the calculator\")\n",
    "        result= add(*args)\n",
    "        print(\"thnaks for visiting us\")\n",
    "        return result\n",
    "    return wrapper_function"
   ]
  },
  {
   "cell_type": "code",
   "execution_count": 35,
   "id": "7c793411",
   "metadata": {},
   "outputs": [],
   "source": [
    "@decorator_function\n",
    "def add(a,b):\n",
    "    print(a+b)"
   ]
  },
  {
   "cell_type": "code",
   "execution_count": 36,
   "id": "3872fc99",
   "metadata": {},
   "outputs": [],
   "source": [
    "@decorator_function\n",
    "def sub(a,b):\n",
    "    print(a-b)\n"
   ]
  },
  {
   "cell_type": "code",
   "execution_count": 37,
   "id": "8344d324",
   "metadata": {},
   "outputs": [
    {
     "name": "stdout",
     "output_type": "stream",
     "text": [
      "welcome to the calculator\n",
      "10\n",
      "thnaks for visiting us\n"
     ]
    }
   ],
   "source": [
    "sub(20,10)"
   ]
  },
  {
   "cell_type": "code",
   "execution_count": 38,
   "id": "a6a4873a",
   "metadata": {},
   "outputs": [
    {
     "name": "stdout",
     "output_type": "stream",
     "text": [
      "welcome to the calculator\n",
      "25\n",
      "thnaks for visiting us\n"
     ]
    }
   ],
   "source": [
    "add(10,15)"
   ]
  },
  {
   "cell_type": "code",
   "execution_count": 6,
   "id": "22098a1f",
   "metadata": {
    "tags": []
   },
   "outputs": [],
   "source": [
    "@decorator_function\n",
    "def display_info(name,age):\n",
    "    print(\"the name is {0} and the age is {1}\".format(name,age))"
   ]
  },
  {
   "cell_type": "code",
   "execution_count": 7,
   "id": "08ab3b41",
   "metadata": {
    "tags": []
   },
   "outputs": [
    {
     "ename": "TypeError",
     "evalue": "decorator_function.<locals>.wrapper_function() takes 0 positional arguments but 2 were given",
     "output_type": "error",
     "traceback": [
      "\u001b[1;31m---------------------------------------------------------------------------\u001b[0m",
      "\u001b[1;31mTypeError\u001b[0m                                 Traceback (most recent call last)",
      "Cell \u001b[1;32mIn[7], line 1\u001b[0m\n\u001b[1;32m----> 1\u001b[0m \u001b[43mdisplay_info\u001b[49m\u001b[43m(\u001b[49m\u001b[38;5;124;43m\"\u001b[39;49m\u001b[38;5;124;43mswayam\u001b[39;49m\u001b[38;5;124;43m\"\u001b[39;49m\u001b[43m,\u001b[49m\u001b[38;5;241;43m20\u001b[39;49m\u001b[43m)\u001b[49m\n",
      "\u001b[1;31mTypeError\u001b[0m: decorator_function.<locals>.wrapper_function() takes 0 positional arguments but 2 were given"
     ]
    }
   ],
   "source": [
    "display_info(\"swayam\",20)"
   ]
  },
  {
   "cell_type": "code",
   "execution_count": 8,
   "id": "487bf848",
   "metadata": {
    "tags": []
   },
   "outputs": [],
   "source": [
    "def decorator_function(og_function):\n",
    "    def wrapper_function(*args,**kwargs):\n",
    "        print(\"our wrapper executed this before {} function\".format(og_function.__name__))\n",
    "        result=og_function(*args,**kwargs)\n",
    "        print(\"thank you\")\n",
    "        return result\n",
    "    return wrapper_function"
   ]
  },
  {
   "cell_type": "code",
   "execution_count": 9,
   "id": "924a48dc",
   "metadata": {
    "tags": []
   },
   "outputs": [],
   "source": [
    "@decorator_function\n",
    "def display_info(name,age):\n",
    "    print(\"the name is {} and the age is {}\".format(name,age))"
   ]
  },
  {
   "cell_type": "code",
   "execution_count": 10,
   "id": "0802c463",
   "metadata": {
    "tags": []
   },
   "outputs": [
    {
     "name": "stdout",
     "output_type": "stream",
     "text": [
      "our wrapper executed this before display_info function\n",
      "the name is swayam and the age is 20\n",
      "thank you\n"
     ]
    }
   ],
   "source": [
    "display_info(\"swayam\",20)"
   ]
  },
  {
   "cell_type": "code",
   "execution_count": 12,
   "id": "c09c4281",
   "metadata": {
    "tags": []
   },
   "outputs": [],
   "source": [
    "class decorator_class(object):\n",
    "    def __init__(self,og_func):\n",
    "        self.og_func=og_func\n",
    "    def __call__(self,*args,**kwargs):\n",
    "            print(\"call method executed this before {}\".format(self.og_func.__name__))\n",
    "            return self.og_func(*args,**kwargs)\n",
    "@decorator_class\n",
    "def display():\n",
    "    print('display function ran')\n",
    "@decorator_class\n",
    "def display_info(name,age):\n",
    "    print(\"the name is {0} and the age is {1}\".format(name,age))"
   ]
  },
  {
   "cell_type": "code",
   "execution_count": 13,
   "id": "41b14e29",
   "metadata": {
    "tags": []
   },
   "outputs": [
    {
     "name": "stdout",
     "output_type": "stream",
     "text": [
      "call method executed this before display\n",
      "display function ran\n"
     ]
    }
   ],
   "source": [
    "display()"
   ]
  },
  {
   "cell_type": "code",
   "execution_count": 14,
   "id": "2a9b13f7",
   "metadata": {
    "tags": []
   },
   "outputs": [
    {
     "name": "stdout",
     "output_type": "stream",
     "text": [
      "call method executed this before display_info\n",
      "the name is swayam and the age is 22\n"
     ]
    }
   ],
   "source": [
    "display_info(\"swayam\",22)"
   ]
  },
  {
   "cell_type": "markdown",
   "id": "db486069",
   "metadata": {},
   "source": [
    "###  __init__: Initializes the object when it is created (constructor).\n",
    "###  __call__: Enables the object to be called like a function."
   ]
  },
  {
   "cell_type": "markdown",
   "id": "398f45a2",
   "metadata": {},
   "source": [
    "### we can change the name of _ _ call_ _ but then we will have to call that during function call"
   ]
  },
  {
   "cell_type": "code",
   "execution_count": 15,
   "id": "2460f766",
   "metadata": {
    "tags": []
   },
   "outputs": [
    {
     "name": "stdout",
     "output_type": "stream",
     "text": [
      "Execute method executed this before display_info\n",
      "The name is swayam and the age is 20\n"
     ]
    }
   ],
   "source": [
    "## for example here we have changed __class__ to execute\n",
    "class DecoratorClass:\n",
    "    def __init__(self, og_func):\n",
    "        self.og_func = og_func\n",
    "    \n",
    "    def execute(self, *args, **kwargs):\n",
    "        print(\"Execute method executed this before {}\".format(self.og_func.__name__))\n",
    "        return self.og_func(*args, **kwargs)\n",
    "\n",
    "# Usage\n",
    "@DecoratorClass\n",
    "def display_info(name, age):\n",
    "    print(\"The name is {0} and the age is {1}\".format(name, age))\n",
    "\n",
    "# Call the decorated function\n",
    "display_info.execute(\"swayam\", 20)\n"
   ]
  },
  {
   "cell_type": "code",
   "execution_count": 16,
   "id": "898b1bfa",
   "metadata": {
    "tags": []
   },
   "outputs": [],
   "source": [
    "import time\n",
    "\n",
    "class time_test:\n",
    "    def __init__(self,func):\n",
    "        self.func = func\n",
    "\n",
    "    def __call__(self,*args,**kwargs):\n",
    "        self.start = time.time()\n",
    "        result=self.func(*args,**kwargs)\n",
    "        self.end = time.time()\n",
    "        print(self.end - self.start)\n",
    "        return result\n",
    "        \n",
    "@time_test\n",
    "def time_testing(n):\n",
    "    return fibo(n)\n",
    "\n",
    "def fibo(n):\n",
    "    if n < 2:\n",
    "        return n\n",
    "    return fibo(n - 1) + fibo(n - 2)"
   ]
  },
  {
   "cell_type": "code",
   "execution_count": null,
   "id": "1340c664",
   "metadata": {
    "tags": []
   },
   "outputs": [],
   "source": [
    "time_testing(100)"
   ]
  },
  {
   "cell_type": "code",
   "execution_count": 14,
   "id": "17ee5bbc",
   "metadata": {},
   "outputs": [],
   "source": [
    "def decorator_func(original_func):\n",
    "    def wrapper_function():\n",
    "        print(\"welcome to the project\")\n",
    "        return original_func()\n",
    "        # print(\"thank you\")\n",
    "    return wrapper_function ##closures\n",
    "\n",
    "@decorator_func\n",
    "def add():\n",
    "    return 23+45\n",
    "def sub():\n",
    "    return 23-45\n",
    "    "
   ]
  },
  {
   "cell_type": "code",
   "execution_count": 15,
   "id": "7462cb28-888d-41a2-9a4a-5e8d06ccbf4d",
   "metadata": {
    "tags": []
   },
   "outputs": [
    {
     "name": "stdout",
     "output_type": "stream",
     "text": [
      "welcome to the project\n"
     ]
    },
    {
     "data": {
      "text/plain": [
       "68"
      ]
     },
     "execution_count": 15,
     "metadata": {},
     "output_type": "execute_result"
    }
   ],
   "source": [
    "add()"
   ]
  },
  {
   "cell_type": "code",
   "execution_count": 16,
   "id": "dc0bf366-ae77-464d-8d8e-2410bb661f08",
   "metadata": {
    "tags": []
   },
   "outputs": [
    {
     "data": {
      "text/plain": [
       "-22"
      ]
     },
     "execution_count": 16,
     "metadata": {},
     "output_type": "execute_result"
    }
   ],
   "source": [
    "sub()"
   ]
  },
  {
   "cell_type": "code",
   "execution_count": 19,
   "id": "b19ba645-baeb-472e-a58b-75244e5dfadf",
   "metadata": {
    "tags": []
   },
   "outputs": [],
   "source": [
    "@decorator_func\n",
    "def mul():\n",
    "    return 233*45"
   ]
  },
  {
   "cell_type": "code",
   "execution_count": 20,
   "id": "f11113f6-d7ac-40b2-b5da-35b6544d1b20",
   "metadata": {
    "tags": []
   },
   "outputs": [
    {
     "name": "stdout",
     "output_type": "stream",
     "text": [
      "welcome to the project\n"
     ]
    },
    {
     "data": {
      "text/plain": [
       "10485"
      ]
     },
     "execution_count": 20,
     "metadata": {},
     "output_type": "execute_result"
    }
   ],
   "source": [
    "mul()"
   ]
  },
  {
   "cell_type": "markdown",
   "id": "f9575a23-f1e2-4f45-bf65-a4c9d37d90cd",
   "metadata": {},
   "source": [
    "### implementing decorators using function and classes , in case of classes we have two cases "
   ]
  },
  {
   "cell_type": "code",
   "execution_count": 38,
   "id": "c39af6c4-371d-43bd-8f7f-6ec7551fa211",
   "metadata": {
    "tags": []
   },
   "outputs": [],
   "source": [
    "def decorator_function(original_function):\n",
    "    def wrapper_function(*args,**kwargs):\n",
    "        print(\"hello welcome to our app\")\n",
    "        result = original_function(*args,**kwargs)\n",
    "        print(\"thank you for trusting us\")\n",
    "        return result\n",
    "    return wrapper_function"
   ]
  },
  {
   "cell_type": "code",
   "execution_count": 47,
   "id": "e7bcc5fc-9849-484d-a2cd-b1ba05b22a40",
   "metadata": {
    "tags": []
   },
   "outputs": [],
   "source": [
    "@decorator_function\n",
    "def view_expenses():\n",
    "    print(\"your expense is\")"
   ]
  },
  {
   "cell_type": "code",
   "execution_count": 50,
   "id": "2ae289d2-e28d-4164-a6fd-b67b382a6575",
   "metadata": {
    "tags": []
   },
   "outputs": [
    {
     "name": "stdout",
     "output_type": "stream",
     "text": [
      "hello welcome to our app\n",
      "your expense is\n",
      "thank you for trusting us\n"
     ]
    }
   ],
   "source": [
    "view_expenses()"
   ]
  },
  {
   "cell_type": "code",
   "execution_count": 9,
   "id": "b404603a-04dd-417b-bb9c-32269100f409",
   "metadata": {},
   "outputs": [],
   "source": [
    "class decorator_class:                                                                  \n",
    "    def __init__(self,og_function):\n",
    "        self.og_function=og_function\n",
    "    def bulawa(self,*args,**kwargs):\n",
    "        print(\"hello welcome to our app\")\n",
    "        result= self.og_function(*args,**kwargs)\n",
    "        print(\"thank you for trusting us\")\n",
    "        return result"
   ]
  },
  {
   "cell_type": "code",
   "execution_count": 13,
   "id": "0eb8b013-0241-48f6-8089-ced97792162a",
   "metadata": {},
   "outputs": [
    {
     "name": "stdout",
     "output_type": "stream",
     "text": [
      "hello welcome to our app\n",
      "your expense is\n",
      "thank you for trusting us\n"
     ]
    }
   ],
   "source": [
    "@decorator_class\n",
    "def view_expenses():\n",
    "    print(\"your expense is\")\n",
    "\n",
    "view_expenses.bulawa()"
   ]
  },
  {
   "cell_type": "code",
   "execution_count": 18,
   "id": "04d493bd-7a09-4c9a-8fad-e245d5f8737a",
   "metadata": {},
   "outputs": [],
   "source": [
    "class decorator_class:\n",
    "    def __init__(self,og_function):\n",
    "        self.og_function=og_function\n",
    "    def __call__(self,*args,**kwargs):\n",
    "        print(\"hello welcome to our app\")\n",
    "        result= self.og_function(*args,**kwargs)\n",
    "        print(\"thank you for trusting us\")\n",
    "        return result"
   ]
  },
  {
   "cell_type": "code",
   "execution_count": 19,
   "id": "a9e41f01-1f0b-4f16-ba40-39911729ab07",
   "metadata": {},
   "outputs": [],
   "source": [
    "@decorator_class\n",
    "def view_expenses():\n",
    "    print(\"your expense is\")"
   ]
  },
  {
   "cell_type": "code",
   "execution_count": 20,
   "id": "2cd785db-04b4-4d20-b09f-bda7efb52abf",
   "metadata": {},
   "outputs": [
    {
     "name": "stdout",
     "output_type": "stream",
     "text": [
      "hello welcome to our app\n",
      "your expense is\n",
      "thank you for trusting us\n"
     ]
    }
   ],
   "source": [
    "view_expenses()"
   ]
  },
  {
   "cell_type": "code",
   "execution_count": null,
   "id": "c95be180-7861-4f09-af26-5cb5776d4895",
   "metadata": {},
   "outputs": [],
   "source": []
  }
 ],
 "metadata": {
  "kernelspec": {
   "display_name": "base",
   "language": "python",
   "name": "python3"
  },
  "language_info": {
   "codemirror_mode": {
    "name": "ipython",
    "version": 3
   },
   "file_extension": ".py",
   "mimetype": "text/x-python",
   "name": "python",
   "nbconvert_exporter": "python",
   "pygments_lexer": "ipython3",
   "version": "3.12.4"
  }
 },
 "nbformat": 4,
 "nbformat_minor": 5
}
