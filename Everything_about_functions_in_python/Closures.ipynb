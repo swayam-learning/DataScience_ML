{
 "cells": [
  {
   "cell_type": "markdown",
   "id": "fcdaf88f",
   "metadata": {},
   "source": [
    "'''A closure is an inner function that remembers and has access to variables \n",
    "in the local scope in which it was created even after the outer function \n",
    "has completed its execution'''"
   ]
  },
  {
   "cell_type": "code",
   "execution_count": 1,
   "id": "5c37c6d9",
   "metadata": {
    "tags": []
   },
   "outputs": [],
   "source": [
    "def outerfunc():\n",
    "    message=\"Hi,coder\"\n",
    "    def innerfunc():\n",
    "        print(message)   \n",
    "    return innerfunc\n",
    "# outerfunc()"
   ]
  },
  {
   "cell_type": "code",
   "execution_count": 2,
   "id": "e68fb681-21dc-4977-acbd-0c4e546a401c",
   "metadata": {
    "tags": []
   },
   "outputs": [],
   "source": [
    "variable_object=outerfunc()"
   ]
  },
  {
   "cell_type": "code",
   "execution_count": 3,
   "id": "e98d0380-7a5f-464d-a73e-5dccbca2d7ff",
   "metadata": {
    "tags": []
   },
   "outputs": [
    {
     "name": "stdout",
     "output_type": "stream",
     "text": [
      "Hi,coder\n"
     ]
    }
   ],
   "source": [
    "variable_object()"
   ]
  },
  {
   "cell_type": "code",
   "execution_count": 25,
   "id": "f54fb195",
   "metadata": {
    "tags": []
   },
   "outputs": [],
   "source": [
    "def outerfunc():\n",
    "    message=\"Hi,coder\"\n",
    "    def innerfunc():\n",
    "        print(message)\n",
    "    \n",
    "    return innerfunc ##here w/o the () it is not executed rather stored\n",
    "myclosure=outerfunc() ## this doesnot return anything"
   ]
  },
  {
   "cell_type": "code",
   "execution_count": 26,
   "id": "81df2853",
   "metadata": {
    "tags": []
   },
   "outputs": [
    {
     "data": {
      "text/plain": [
       "<function __main__.outerfunc.<locals>.innerfunc()>"
      ]
     },
     "execution_count": 26,
     "metadata": {},
     "output_type": "execute_result"
    }
   ],
   "source": [
    "myclosure # it remebers that it stores a refernece to the innerfunc function"
   ]
  },
  {
   "cell_type": "code",
   "execution_count": 27,
   "id": "9d8b90e7",
   "metadata": {},
   "outputs": [
    {
     "name": "stdout",
     "output_type": "stream",
     "text": [
      "Hi,coder\n"
     ]
    }
   ],
   "source": [
    "myclosure()"
   ]
  },
  {
   "cell_type": "code",
   "execution_count": 28,
   "id": "413a97a1",
   "metadata": {},
   "outputs": [
    {
     "data": {
      "text/plain": [
       "'innerfunc'"
      ]
     },
     "execution_count": 28,
     "metadata": {},
     "output_type": "execute_result"
    }
   ],
   "source": [
    "myclosure.__name__ ##the name of the function is innerfunc"
   ]
  },
  {
   "cell_type": "code",
   "execution_count": 29,
   "id": "32ef0981",
   "metadata": {},
   "outputs": [
    {
     "name": "stdout",
     "output_type": "stream",
     "text": [
      "Hi,coder\n"
     ]
    }
   ],
   "source": [
    "myclosure() ##now it actually executes the function__name__"
   ]
  },
  {
   "cell_type": "code",
   "execution_count": 30,
   "id": "3812d083",
   "metadata": {
    "tags": []
   },
   "outputs": [],
   "source": [
    "def outerfunc(msg):\n",
    "    # message=msg\n",
    "    def innerfunc():\n",
    "        print(msg)\n",
    "    \n",
    "    return innerfunc\n",
    "hi_func=outerfunc(\"Hi\") ## innerfunction ka object\n",
    "hello_func=outerfunc(\"Hello\")"
   ]
  },
  {
   "cell_type": "code",
   "execution_count": 31,
   "id": "5608f4ba",
   "metadata": {
    "tags": []
   },
   "outputs": [
    {
     "name": "stdout",
     "output_type": "stream",
     "text": [
      "Hi\n"
     ]
    }
   ],
   "source": [
    "hi_func()"
   ]
  },
  {
   "cell_type": "code",
   "execution_count": 32,
   "id": "fc91637a",
   "metadata": {},
   "outputs": [
    {
     "name": "stdout",
     "output_type": "stream",
     "text": [
      "Hello\n"
     ]
    }
   ],
   "source": [
    "hello_func()"
   ]
  },
  {
   "cell_type": "markdown",
   "id": "3a41bc6f",
   "metadata": {},
   "source": [
    "#### A closure closes over the free variable present in the enviorment in this case it would be message variable"
   ]
  }
 ],
 "metadata": {
  "kernelspec": {
   "display_name": "base",
   "language": "python",
   "name": "python3"
  },
  "language_info": {
   "codemirror_mode": {
    "name": "ipython",
    "version": 3
   },
   "file_extension": ".py",
   "mimetype": "text/x-python",
   "name": "python",
   "nbconvert_exporter": "python",
   "pygments_lexer": "ipython3",
   "version": "3.12.4"
  }
 },
 "nbformat": 4,
 "nbformat_minor": 5
}
