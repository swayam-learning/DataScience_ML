{
 "cells": [
  {
   "cell_type": "markdown",
   "id": "70d47cc4-4694-4ed0-84ca-396bcc19ffcf",
   "metadata": {},
   "source": [
    "### packages allow for heirarchical structuring in python language"
   ]
  },
  {
   "cell_type": "code",
   "execution_count": 1,
   "id": "975dc6b7-5390-4cc3-8947-241f556f772b",
   "metadata": {
    "tags": []
   },
   "outputs": [],
   "source": [
    "import package.module1"
   ]
  },
  {
   "cell_type": "code",
   "execution_count": 2,
   "id": "6d5d01fd-7d6a-4a9f-9e71-f1979cc6db4c",
   "metadata": {
    "tags": []
   },
   "outputs": [
    {
     "data": {
      "text/plain": [
       "25"
      ]
     },
     "execution_count": 2,
     "metadata": {},
     "output_type": "execute_result"
    }
   ],
   "source": [
    "package.module1.add(10,15)"
   ]
  },
  {
   "cell_type": "code",
   "execution_count": 3,
   "id": "057b7991-b14e-4e59-b2d1-b8ef45dd63ac",
   "metadata": {
    "tags": []
   },
   "outputs": [
    {
     "ename": "AttributeError",
     "evalue": "module 'package' has no attribute 'module2'",
     "output_type": "error",
     "traceback": [
      "\u001b[1;31m---------------------------------------------------------------------------\u001b[0m",
      "\u001b[1;31mAttributeError\u001b[0m                            Traceback (most recent call last)",
      "Cell \u001b[1;32mIn[3], line 1\u001b[0m\n\u001b[1;32m----> 1\u001b[0m package\u001b[38;5;241m.\u001b[39mmodule2\u001b[38;5;241m.\u001b[39mmod2()\n",
      "\u001b[1;31mAttributeError\u001b[0m: module 'package' has no attribute 'module2'"
     ]
    }
   ],
   "source": [
    "package.module2.mod2() ## we didnot declare it while importing so error"
   ]
  },
  {
   "cell_type": "code",
   "execution_count": 12,
   "id": "6669013e-4027-43f9-a7f1-bcd02adff6f9",
   "metadata": {
    "tags": []
   },
   "outputs": [],
   "source": [
    "import package.module2"
   ]
  },
  {
   "cell_type": "code",
   "execution_count": 13,
   "id": "977d381b-e0a4-44b1-8b60-fd1caae5f944",
   "metadata": {
    "tags": []
   },
   "outputs": [
    {
     "name": "stdout",
     "output_type": "stream",
     "text": [
      "this is the module 2 getting printed\n"
     ]
    }
   ],
   "source": [
    "package.module2.mod2() # no error"
   ]
  },
  {
   "cell_type": "code",
   "execution_count": 1,
   "id": "1185b1dd-d583-4a85-84c2-b8a057e078c5",
   "metadata": {
    "tags": []
   },
   "outputs": [],
   "source": [
    "## if we simply write import package it will be not useful\n",
    "import package\n",
    "## after this statement restart kernel without executning above statements"
   ]
  },
  {
   "cell_type": "code",
   "execution_count": 2,
   "id": "9ec5e99b-9cfb-496c-9513-ae6165829bc5",
   "metadata": {
    "tags": []
   },
   "outputs": [
    {
     "ename": "AttributeError",
     "evalue": "module 'package' has no attribute 'module1'",
     "output_type": "error",
     "traceback": [
      "\u001b[1;31m---------------------------------------------------------------------------\u001b[0m",
      "\u001b[1;31mAttributeError\u001b[0m                            Traceback (most recent call last)",
      "Cell \u001b[1;32mIn[2], line 1\u001b[0m\n\u001b[1;32m----> 1\u001b[0m package\u001b[38;5;241m.\u001b[39mmodule1\n",
      "\u001b[1;31mAttributeError\u001b[0m: module 'package' has no attribute 'module1'"
     ]
    }
   ],
   "source": [
    "package.module1 ## error "
   ]
  },
  {
   "cell_type": "code",
   "execution_count": 16,
   "id": "b44c5071-8434-43c9-bdd1-9d92fc924c25",
   "metadata": {
    "tags": []
   },
   "outputs": [],
   "source": [
    "import package.module1"
   ]
  },
  {
   "cell_type": "code",
   "execution_count": 17,
   "id": "54ec24a1-b526-4a09-afee-d08d4554c0de",
   "metadata": {
    "tags": []
   },
   "outputs": [
    {
     "name": "stdout",
     "output_type": "stream",
     "text": [
      "well this is the module 1 getting printed\n"
     ]
    }
   ],
   "source": [
    "package.module1.mod1()"
   ]
  },
  {
   "cell_type": "markdown",
   "id": "7be986ff-e296-4f25-9da8-1b492d219f93",
   "metadata": {},
   "source": [
    "#### if we want to create a package make all the modules and also declare __init__.py file even if it is empty it tells python to take it as a package"
   ]
  },
  {
   "cell_type": "code",
   "execution_count": 18,
   "id": "95a17f3c-1993-4502-bcad-fd78bc147d68",
   "metadata": {
    "tags": []
   },
   "outputs": [],
   "source": [
    "from package.module1 import * # this is to import all the functions ,we can also use , to invoke selected multiple functions from module"
   ]
  },
  {
   "cell_type": "code",
   "execution_count": 19,
   "id": "7172cc51-31af-4cb0-a328-e073c028bbfd",
   "metadata": {
    "tags": []
   },
   "outputs": [
    {
     "data": {
      "text/plain": [
       "['__builtins__',\n",
       " '__cached__',\n",
       " '__doc__',\n",
       " '__file__',\n",
       " '__loader__',\n",
       " '__name__',\n",
       " '__package__',\n",
       " '__path__',\n",
       " '__spec__',\n",
       " 'module1',\n",
       " 'module2']"
      ]
     },
     "execution_count": 19,
     "metadata": {},
     "output_type": "execute_result"
    }
   ],
   "source": [
    "dir(package)"
   ]
  },
  {
   "cell_type": "code",
   "execution_count": 20,
   "id": "c1154a68-b3aa-45e1-ad9e-6cd45df84316",
   "metadata": {
    "tags": []
   },
   "outputs": [
    {
     "data": {
      "text/plain": [
       "['In',\n",
       " 'Out',\n",
       " '_',\n",
       " '_15',\n",
       " '_19',\n",
       " '_6',\n",
       " '_8',\n",
       " '__',\n",
       " '___',\n",
       " '__builtin__',\n",
       " '__builtins__',\n",
       " '__doc__',\n",
       " '__loader__',\n",
       " '__name__',\n",
       " '__package__',\n",
       " '__spec__',\n",
       " '_dh',\n",
       " '_i',\n",
       " '_i1',\n",
       " '_i10',\n",
       " '_i11',\n",
       " '_i12',\n",
       " '_i13',\n",
       " '_i14',\n",
       " '_i15',\n",
       " '_i16',\n",
       " '_i17',\n",
       " '_i18',\n",
       " '_i19',\n",
       " '_i2',\n",
       " '_i20',\n",
       " '_i3',\n",
       " '_i4',\n",
       " '_i5',\n",
       " '_i6',\n",
       " '_i7',\n",
       " '_i8',\n",
       " '_i9',\n",
       " '_ih',\n",
       " '_ii',\n",
       " '_iii',\n",
       " '_oh',\n",
       " 'exit',\n",
       " 'get_ipython',\n",
       " 'mod1',\n",
       " 'open',\n",
       " 'package',\n",
       " 'quit']"
      ]
     },
     "execution_count": 20,
     "metadata": {},
     "output_type": "execute_result"
    }
   ],
   "source": [
    "dir()"
   ]
  },
  {
   "cell_type": "code",
   "execution_count": null,
   "id": "f38d9897-370d-454e-bbcc-412bfffebff1",
   "metadata": {},
   "outputs": [],
   "source": []
  },
  {
   "cell_type": "code",
   "execution_count": null,
   "id": "8f79f8ea-45e0-4c74-a8db-8297449e39b4",
   "metadata": {},
   "outputs": [],
   "source": []
  }
 ],
 "metadata": {
  "kernelspec": {
   "display_name": "base",
   "language": "python",
   "name": "python3"
  },
  "language_info": {
   "codemirror_mode": {
    "name": "ipython",
    "version": 3
   },
   "file_extension": ".py",
   "mimetype": "text/x-python",
   "name": "python",
   "nbconvert_exporter": "python",
   "pygments_lexer": "ipython3",
   "version": "3.12.4"
  }
 },
 "nbformat": 4,
 "nbformat_minor": 5
}
