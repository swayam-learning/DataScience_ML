{
 "cells": [
  {
   "cell_type": "code",
   "execution_count": 1,
   "id": "3362b164-28e9-486f-b504-b4b90387e513",
   "metadata": {},
   "outputs": [],
   "source": [
    "import numpy as np"
   ]
  },
  {
   "cell_type": "code",
   "execution_count": 2,
   "id": "3ba21c7d",
   "metadata": {},
   "outputs": [],
   "source": [
    "x = np.arange(-5,5)"
   ]
  },
  {
   "cell_type": "code",
   "execution_count": 4,
   "id": "33e667d4",
   "metadata": {},
   "outputs": [],
   "source": [
    "a= np.tanh(x)"
   ]
  },
  {
   "cell_type": "code",
   "execution_count": 6,
   "id": "4b9950dc",
   "metadata": {},
   "outputs": [
    {
     "data": {
      "text/plain": [
       "[<matplotlib.lines.Line2D at 0x25f2ac59ac0>]"
      ]
     },
     "execution_count": 6,
     "metadata": {},
     "output_type": "execute_result"
    },
    {
     "data": {
      "image/png": "[encoded data removed]",
      "text/plain": [
       "<Figure size 640x480 with 1 Axes>"
      ]
     },
     "metadata": {},
     "output_type": "display_data"
    }
   ],
   "source": [
    "import matplotlib.pyplot as plt\n",
    "plt.plot(a)"
   ]
  },
  {
   "cell_type": "code",
   "execution_count": 6,
   "id": "074b14de-8318-4c5b-b204-f81e776227f4",
   "metadata": {},
   "outputs": [],
   "source": [
    "l=[1,2,3,4]"
   ]
  },
  {
   "cell_type": "code",
   "execution_count": 7,
   "id": "45525b78-da37-4823-b1b4-95fec5aa7cb6",
   "metadata": {},
   "outputs": [],
   "source": [
    "ar = np.array(l)"
   ]
  },
  {
   "cell_type": "code",
   "execution_count": 8,
   "id": "aad9b886-b6c8-486e-b07c-33015d579f7c",
   "metadata": {},
   "outputs": [
    {
     "data": {
      "text/plain": [
       "array([1, 2, 3, 4])"
      ]
     },
     "execution_count": 8,
     "metadata": {},
     "output_type": "execute_result"
    }
   ],
   "source": [
    "ar"
   ]
  },
  {
   "cell_type": "code",
   "execution_count": 9,
   "id": "e6b5a30c-0ef8-48d0-a7f4-8180836c8a49",
   "metadata": {},
   "outputs": [
    {
     "data": {
      "text/plain": [
       "numpy.ndarray"
      ]
     },
     "execution_count": 9,
     "metadata": {},
     "output_type": "execute_result"
    }
   ],
   "source": [
    "type(ar) ##ndarray -- means ndimensional array"
   ]
  },
  {
   "cell_type": "code",
   "execution_count": 10,
   "id": "67e3d2c2-6df7-4a6c-bfd3-479393d59e6d",
   "metadata": {},
   "outputs": [
    {
     "data": {
      "text/plain": [
       "array([[1, 2],\n",
       "       [3, 4]])"
      ]
     },
     "execution_count": 10,
     "metadata": {},
     "output_type": "execute_result"
    }
   ],
   "source": [
    "np.array([[1,2],[3,4]]) ## two-dimensional array"
   ]
  },
  {
   "cell_type": "code",
   "execution_count": 11,
   "id": "851d056f-5e64-4cd6-9003-85c1b8fdfa77",
   "metadata": {},
   "outputs": [
    {
     "data": {
      "text/plain": [
       "array([1, 2, 3, 4])"
      ]
     },
     "execution_count": 11,
     "metadata": {},
     "output_type": "execute_result"
    }
   ],
   "source": [
    "np.asarray(l)"
   ]
  },
  {
   "cell_type": "code",
   "execution_count": 12,
   "id": "f0da17f8-7ba9-468f-b865-e8425a5a6c77",
   "metadata": {},
   "outputs": [],
   "source": [
    "ar2 = np.array([[[1,2]],[[3,4]],[[5,6]]]) ## three dimensional array"
   ]
  },
  {
   "cell_type": "code",
   "execution_count": 13,
   "id": "926db5d2-562a-4cbe-9750-240d3580aeb6",
   "metadata": {},
   "outputs": [
    {
     "data": {
      "text/plain": [
       "array([[[1, 2]],\n",
       "\n",
       "       [[3, 4]],\n",
       "\n",
       "       [[5, 6]]])"
      ]
     },
     "execution_count": 13,
     "metadata": {},
     "output_type": "execute_result"
    }
   ],
   "source": [
    "ar2"
   ]
  },
  {
   "cell_type": "code",
   "execution_count": 14,
   "id": "2e82e0f8-64c0-4b06-a63d-242ff76a2bdd",
   "metadata": {},
   "outputs": [
    {
     "data": {
      "text/plain": [
       "array([1, 2, 3, 4])"
      ]
     },
     "execution_count": 14,
     "metadata": {},
     "output_type": "execute_result"
    }
   ],
   "source": [
    "np.asanyarray(l)"
   ]
  },
  {
   "cell_type": "code",
   "execution_count": 15,
   "id": "72844823-d63c-4bba-a3d0-123a2440ffcd",
   "metadata": {},
   "outputs": [],
   "source": [
    "b=np.matrix(l) ## matrix by default two dimenional"
   ]
  },
  {
   "cell_type": "code",
   "execution_count": 16,
   "id": "0b717c5f-6e4e-40a7-b04d-4dfa19fe62b3",
   "metadata": {},
   "outputs": [
    {
     "data": {
      "text/plain": [
       "matrix([[1, 2, 3, 4]])"
      ]
     },
     "execution_count": 16,
     "metadata": {},
     "output_type": "execute_result"
    }
   ],
   "source": [
    "b"
   ]
  },
  {
   "cell_type": "code",
   "execution_count": 17,
   "id": "2aadea3b-5e63-4c24-ac23-512de280875f",
   "metadata": {},
   "outputs": [
    {
     "data": {
      "text/plain": [
       "matrix([[1, 2, 3, 4]])"
      ]
     },
     "execution_count": 17,
     "metadata": {},
     "output_type": "execute_result"
    }
   ],
   "source": [
    "np.asanyarray(b) ##asanyarray won't change a matrix because by default it is an array"
   ]
  },
  {
   "cell_type": "code",
   "execution_count": 18,
   "id": "c08ee585-90ca-43be-9aa3-2f1a749da539",
   "metadata": {},
   "outputs": [],
   "source": [
    "l=np.array([1,2,3,4])\n",
    "l1 = l"
   ]
  },
  {
   "cell_type": "code",
   "execution_count": 19,
   "id": "09fae5db-deb2-433a-a3c1-4d2d52539cd6",
   "metadata": {},
   "outputs": [
    {
     "data": {
      "text/plain": [
       "array([1, 2, 3, 4])"
      ]
     },
     "execution_count": 19,
     "metadata": {},
     "output_type": "execute_result"
    }
   ],
   "source": [
    "l1"
   ]
  },
  {
   "cell_type": "code",
   "execution_count": 20,
   "id": "5e02c1a0-ad5b-477f-9586-27a84152747f",
   "metadata": {},
   "outputs": [
    {
     "data": {
      "text/plain": [
       "array([1, 2, 3, 4])"
      ]
     },
     "execution_count": 20,
     "metadata": {},
     "output_type": "execute_result"
    }
   ],
   "source": [
    "l"
   ]
  },
  {
   "cell_type": "code",
   "execution_count": 21,
   "id": "8e70d7de-b1c7-4770-b750-03ea7b8abb7d",
   "metadata": {},
   "outputs": [],
   "source": [
    "l1[0] = 100\n"
   ]
  },
  {
   "cell_type": "code",
   "execution_count": 22,
   "id": "1f22172f-4534-436b-9ab6-4851715df1ce",
   "metadata": {},
   "outputs": [
    {
     "data": {
      "text/plain": [
       "array([100,   2,   3,   4])"
      ]
     },
     "execution_count": 22,
     "metadata": {},
     "output_type": "execute_result"
    }
   ],
   "source": [
    "l1"
   ]
  },
  {
   "cell_type": "code",
   "execution_count": 23,
   "id": "34899a9a-186e-49b7-9dd1-12bd3f4d9ebf",
   "metadata": {},
   "outputs": [
    {
     "data": {
      "text/plain": [
       "array([100,   2,   3,   4])"
      ]
     },
     "execution_count": 23,
     "metadata": {},
     "output_type": "execute_result"
    }
   ],
   "source": [
    "l"
   ]
  },
  {
   "cell_type": "markdown",
   "id": "f11a60c2-c81c-4d3b-8217-7921b6f2b84a",
   "metadata": {},
   "source": [
    "because both were pointing to the same copy so both changes this is called shallow copy"
   ]
  },
  {
   "cell_type": "markdown",
   "id": "78bcfabe-d744-4240-bac4-3b66006f7593",
   "metadata": {},
   "source": [
    "## now if we dont want this to happen we can use np.copy()"
   ]
  },
  {
   "cell_type": "code",
   "execution_count": 26,
   "id": "9c0cfe4f-3bb5-4011-9868-b0af1e6e5795",
   "metadata": {},
   "outputs": [],
   "source": [
    "d = np.copy(l1)"
   ]
  },
  {
   "cell_type": "code",
   "execution_count": 27,
   "id": "4a85c7be-23fe-437c-b21b-efa8640caa40",
   "metadata": {},
   "outputs": [],
   "source": [
    "d[1] = 200"
   ]
  },
  {
   "cell_type": "code",
   "execution_count": 28,
   "id": "04288163-b0af-46dd-a848-04b29d291e72",
   "metadata": {},
   "outputs": [
    {
     "data": {
      "text/plain": [
       "array([100, 200,   3,   4])"
      ]
     },
     "execution_count": 28,
     "metadata": {},
     "output_type": "execute_result"
    }
   ],
   "source": [
    "d"
   ]
  },
  {
   "cell_type": "code",
   "execution_count": 29,
   "id": "ad79e340-3a50-4372-baa8-ec1ca5fe5d6c",
   "metadata": {},
   "outputs": [
    {
     "data": {
      "text/plain": [
       "array([100,   2,   3,   4])"
      ]
     },
     "execution_count": 29,
     "metadata": {},
     "output_type": "execute_result"
    }
   ],
   "source": [
    "l1"
   ]
  },
  {
   "cell_type": "code",
   "execution_count": 30,
   "id": "d2e9df2c-1ae7-4638-b28c-c8b0459a430f",
   "metadata": {},
   "outputs": [
    {
     "data": {
      "text/plain": [
       "array([100,   2,   3,   4])"
      ]
     },
     "execution_count": 30,
     "metadata": {},
     "output_type": "execute_result"
    }
   ],
   "source": [
    "l"
   ]
  },
  {
   "cell_type": "markdown",
   "id": "105242ac-c348-4c5b-b17e-a4fdf0b447ec",
   "metadata": {},
   "source": [
    "## creating an array on basis of a function"
   ]
  },
  {
   "cell_type": "code",
   "execution_count": 32,
   "id": "5d8943e3-fee6-447c-b476-521e07cf310c",
   "metadata": {},
   "outputs": [
    {
     "data": {
      "text/plain": [
       "array([[ True, False, False],\n",
       "       [False,  True, False],\n",
       "       [False, False,  True]])"
      ]
     },
     "execution_count": 32,
     "metadata": {},
     "output_type": "execute_result"
    }
   ],
   "source": [
    "np.fromfunction(lambda i,j : i==j,(3,3)) ## 3x3 matrix"
   ]
  },
  {
   "cell_type": "code",
   "execution_count": 33,
   "id": "31f5e674-3d26-4493-a0ef-b8f3ec5c183b",
   "metadata": {},
   "outputs": [
    {
     "data": {
      "text/plain": [
       "array([[0., 0., 0.],\n",
       "       [0., 1., 2.],\n",
       "       [0., 2., 4.]])"
      ]
     },
     "execution_count": 33,
     "metadata": {},
     "output_type": "execute_result"
    }
   ],
   "source": [
    "np.fromfunction(lambda i,j:i*j,(3,3))"
   ]
  },
  {
   "cell_type": "code",
   "execution_count": 34,
   "id": "7cb01368-f5fb-4b26-9a38-ca1d821dacfe",
   "metadata": {},
   "outputs": [],
   "source": [
    "iterable = (i*i for i in range(5))"
   ]
  },
  {
   "cell_type": "code",
   "execution_count": 35,
   "id": "21f0a58f-e625-40c1-ad2e-26f8a92a9289",
   "metadata": {},
   "outputs": [
    {
     "data": {
      "text/plain": [
       "array([ 0.,  1.,  4.,  9., 16.])"
      ]
     },
     "execution_count": 35,
     "metadata": {},
     "output_type": "execute_result"
    }
   ],
   "source": [
    "np.fromiter(iterable,float)"
   ]
  },
  {
   "cell_type": "code",
   "execution_count": 36,
   "id": "4011cbb8-80fe-4704-a767-a05da16a0b17",
   "metadata": {},
   "outputs": [
    {
     "data": {
      "text/plain": [
       "array([ 234., 3434.])"
      ]
     },
     "execution_count": 36,
     "metadata": {},
     "output_type": "execute_result"
    }
   ],
   "source": [
    "np.fromstring(\"234 3434\",sep=\" \") ## fromstring on basis of a separator returns an array"
   ]
  },
  {
   "cell_type": "markdown",
   "id": "f648a522-e2c5-4754-8159-82775591ce7a",
   "metadata": {},
   "source": [
    "### Numpy -data types"
   ]
  },
  {
   "cell_type": "code",
   "execution_count": 38,
   "id": "b5759f8c-c75d-4445-a887-6d43c3fe6977",
   "metadata": {},
   "outputs": [],
   "source": [
    "ar = np.array(l)"
   ]
  },
  {
   "cell_type": "code",
   "execution_count": 39,
   "id": "4b398369-e11a-4d7c-9955-e71040291a7e",
   "metadata": {},
   "outputs": [
    {
     "data": {
      "text/plain": [
       "array([100,   2,   3,   4])"
      ]
     },
     "execution_count": 39,
     "metadata": {},
     "output_type": "execute_result"
    }
   ],
   "source": [
    "ar"
   ]
  },
  {
   "cell_type": "code",
   "execution_count": 40,
   "id": "4b374f7a-8da3-4ce1-88a8-04250c373f9b",
   "metadata": {},
   "outputs": [
    {
     "data": {
      "text/plain": [
       "1"
      ]
     },
     "execution_count": 40,
     "metadata": {},
     "output_type": "execute_result"
    }
   ],
   "source": [
    "ar.ndim"
   ]
  },
  {
   "cell_type": "code",
   "execution_count": 41,
   "id": "8173d5db-997d-40e4-9e08-68777e98be14",
   "metadata": {},
   "outputs": [],
   "source": [
    "ar2 = np.array([[[1,2]],[[3,4]],[[5,6]]])"
   ]
  },
  {
   "cell_type": "code",
   "execution_count": 42,
   "id": "6f1fe94e-9d8f-405c-9480-96b9a526ffc5",
   "metadata": {},
   "outputs": [
    {
     "data": {
      "text/plain": [
       "3"
      ]
     },
     "execution_count": 42,
     "metadata": {},
     "output_type": "execute_result"
    }
   ],
   "source": [
    "ar2.ndim"
   ]
  },
  {
   "cell_type": "code",
   "execution_count": 43,
   "id": "131c8bc4-c56b-4ff7-8850-06003f9f8d58",
   "metadata": {},
   "outputs": [
    {
     "data": {
      "text/plain": [
       "dtype('int64')"
      ]
     },
     "execution_count": 43,
     "metadata": {},
     "output_type": "execute_result"
    }
   ],
   "source": [
    "ar2.dtype"
   ]
  },
  {
   "cell_type": "code",
   "execution_count": 44,
   "id": "97a66813-b940-43e8-854b-53664ed9a289",
   "metadata": {},
   "outputs": [],
   "source": [
    "ar22 = np.array([(24.3,1.2,3),(32.4,43,35)])"
   ]
  },
  {
   "cell_type": "code",
   "execution_count": 45,
   "id": "69a0a8ca-4f41-4b3c-b58b-0cacc2cf8955",
   "metadata": {},
   "outputs": [
    {
     "data": {
      "text/plain": [
       "array([[24.3,  1.2,  3. ],\n",
       "       [32.4, 43. , 35. ]])"
      ]
     },
     "execution_count": 45,
     "metadata": {},
     "output_type": "execute_result"
    }
   ],
   "source": [
    "ar22"
   ]
  },
  {
   "cell_type": "code",
   "execution_count": 46,
   "id": "2397867b-0fd4-46e9-9f85-1f7f1f109f1e",
   "metadata": {},
   "outputs": [
    {
     "data": {
      "text/plain": [
       "dtype('float64')"
      ]
     },
     "execution_count": 46,
     "metadata": {},
     "output_type": "execute_result"
    }
   ],
   "source": [
    "ar22.dtype"
   ]
  },
  {
   "cell_type": "markdown",
   "id": "e15f35b1-7bef-4235-8c1f-dc26e24285f2",
   "metadata": {},
   "source": [
    "#### the range functions in python don't allow in decimals but numpy allows that"
   ]
  },
  {
   "cell_type": "code",
   "execution_count": 48,
   "id": "dac86dcb-672f-4250-8bb1-92b5669feece",
   "metadata": {},
   "outputs": [
    {
     "data": {
      "text/plain": [
       "array([2.3, 3.3, 4.3, 5.3])"
      ]
     },
     "execution_count": 48,
     "metadata": {},
     "output_type": "execute_result"
    }
   ],
   "source": [
    "np.arange(2.3,5.6)"
   ]
  },
  {
   "cell_type": "code",
   "execution_count": 49,
   "id": "8dd039c5-3fe2-4d9c-86e8-1213b2afd24a",
   "metadata": {},
   "outputs": [
    {
     "data": {
      "text/plain": [
       "array([2.3, 2.5, 2.7, 2.9, 3.1, 3.3, 3.5, 3.7, 3.9, 4.1, 4.3, 4.5, 4.7,\n",
       "       4.9, 5.1, 5.3, 5.5])"
      ]
     },
     "execution_count": 49,
     "metadata": {},
     "output_type": "execute_result"
    }
   ],
   "source": [
    "np.arange(2.3,5.6,0.2)\n"
   ]
  },
  {
   "cell_type": "code",
   "execution_count": 50,
   "id": "2fd3822a-9b08-4e07-ae25-5c208e2df899",
   "metadata": {},
   "outputs": [
    {
     "data": {
      "text/plain": [
       "array([1.        , 1.44444444, 1.88888889, 2.33333333, 2.77777778,\n",
       "       3.22222222, 3.66666667, 4.11111111, 4.55555556, 5.        ])"
      ]
     },
     "execution_count": 50,
     "metadata": {},
     "output_type": "execute_result"
    }
   ],
   "source": [
    "np.linspace(1,5,10) # it will generate evenly spaced numbers "
   ]
  },
  {
   "cell_type": "code",
   "execution_count": 51,
   "id": "ee102cfe-23fc-4dd7-a5a9-a9eb48b93590",
   "metadata": {},
   "outputs": [
    {
     "data": {
      "text/plain": [
       "array([0., 0., 0., 0., 0.])"
      ]
     },
     "execution_count": 51,
     "metadata": {},
     "output_type": "execute_result"
    }
   ],
   "source": [
    "np.zeros(5)"
   ]
  },
  {
   "cell_type": "code",
   "execution_count": 52,
   "id": "89516ad4-6612-4109-b3d0-a30a03bba13a",
   "metadata": {},
   "outputs": [
    {
     "data": {
      "text/plain": [
       "array([[0., 0., 0., 0.],\n",
       "       [0., 0., 0., 0.],\n",
       "       [0., 0., 0., 0.]])"
      ]
     },
     "execution_count": 52,
     "metadata": {},
     "output_type": "execute_result"
    }
   ],
   "source": [
    "np.zeros((3,4))"
   ]
  },
  {
   "attachments": {
    "f8299fc9-944f-43ee-833a-ddb541bba7f9.png": {
     "image/png": "[encoded data removed]"
    }
   },
   "cell_type": "markdown",
   "id": "ddcaf8bd-851c-4bdc-8079-0556030dfa37",
   "metadata": {},
   "source": [
    "![image.png](attachment:f8299fc9-944f-43ee-833a-ddb541bba7f9.png)"
   ]
  },
  {
   "cell_type": "code",
   "execution_count": 54,
   "id": "a430f3bd-b147-4e0f-bd3d-a2b75b353ebb",
   "metadata": {},
   "outputs": [
    {
     "data": {
      "text/plain": [
       "array([[[0., 0.],\n",
       "        [0., 0.],\n",
       "        [0., 0.],\n",
       "        [0., 0.]],\n",
       "\n",
       "       [[0., 0.],\n",
       "        [0., 0.],\n",
       "        [0., 0.],\n",
       "        [0., 0.]],\n",
       "\n",
       "       [[0., 0.],\n",
       "        [0., 0.],\n",
       "        [0., 0.],\n",
       "        [0., 0.]]])"
      ]
     },
     "execution_count": 54,
     "metadata": {},
     "output_type": "execute_result"
    }
   ],
   "source": [
    "np.zeros((3,4,2)) ## we have 4x2 and 3 such type of arrays"
   ]
  },
  {
   "attachments": {
    "05ab04a4-976b-4af7-b041-eb9a1af64546.png": {
     "image/png": "[encoded data removed]"
    }
   },
   "cell_type": "markdown",
   "id": "7327dee3-82a4-4edf-b11a-fe914b832384",
   "metadata": {},
   "source": [
    "![image.png](attachment:05ab04a4-976b-4af7-b041-eb9a1af64546.png)"
   ]
  },
  {
   "cell_type": "code",
   "execution_count": 56,
   "id": "aa0c937c-5be7-4092-ac95-2a18c5b268cb",
   "metadata": {},
   "outputs": [],
   "source": [
    "ar4=np.zeros((3,4,2,3))"
   ]
  },
  {
   "cell_type": "code",
   "execution_count": 57,
   "id": "a2ca3806-ea69-42da-8cb1-e6848f2e0a50",
   "metadata": {},
   "outputs": [
    {
     "data": {
      "text/plain": [
       "array([[[[0., 0., 0.],\n",
       "         [0., 0., 0.]],\n",
       "\n",
       "        [[0., 0., 0.],\n",
       "         [0., 0., 0.]],\n",
       "\n",
       "        [[0., 0., 0.],\n",
       "         [0., 0., 0.]],\n",
       "\n",
       "        [[0., 0., 0.],\n",
       "         [0., 0., 0.]]],\n",
       "\n",
       "\n",
       "       [[[0., 0., 0.],\n",
       "         [0., 0., 0.]],\n",
       "\n",
       "        [[0., 0., 0.],\n",
       "         [0., 0., 0.]],\n",
       "\n",
       "        [[0., 0., 0.],\n",
       "         [0., 0., 0.]],\n",
       "\n",
       "        [[0., 0., 0.],\n",
       "         [0., 0., 0.]]],\n",
       "\n",
       "\n",
       "       [[[0., 0., 0.],\n",
       "         [0., 0., 0.]],\n",
       "\n",
       "        [[0., 0., 0.],\n",
       "         [0., 0., 0.]],\n",
       "\n",
       "        [[0., 0., 0.],\n",
       "         [0., 0., 0.]],\n",
       "\n",
       "        [[0., 0., 0.],\n",
       "         [0., 0., 0.]]]])"
      ]
     },
     "execution_count": 57,
     "metadata": {},
     "output_type": "execute_result"
    }
   ],
   "source": [
    "ar4"
   ]
  },
  {
   "cell_type": "code",
   "execution_count": 58,
   "id": "8a8f0981-df1c-4bad-8297-57d4902005ab",
   "metadata": {},
   "outputs": [],
   "source": [
    "one  = np.ones((2,3,2))"
   ]
  },
  {
   "cell_type": "code",
   "execution_count": 59,
   "id": "fb0ba5fb-7165-4e67-8556-d01d77fe0dbd",
   "metadata": {},
   "outputs": [
    {
     "data": {
      "text/plain": [
       "array([[[5., 5.],\n",
       "        [5., 5.],\n",
       "        [5., 5.]],\n",
       "\n",
       "       [[5., 5.],\n",
       "        [5., 5.],\n",
       "        [5., 5.]]])"
      ]
     },
     "execution_count": 59,
     "metadata": {},
     "output_type": "execute_result"
    }
   ],
   "source": [
    "one*5"
   ]
  },
  {
   "cell_type": "code",
   "execution_count": 60,
   "id": "fd1a4094-d65d-4a3c-ab00-2f30aa9b4315",
   "metadata": {},
   "outputs": [
    {
     "data": {
      "text/plain": [
       "array([[6.23042070e-307, 4.67296746e-307, 1.69121096e-306,\n",
       "        6.23058707e-307],\n",
       "       [2.22522597e-306, 1.33511969e-306, 1.37962320e-306,\n",
       "        9.34604358e-307],\n",
       "       [9.79101082e-307, 1.78020576e-306, 1.69119873e-306,\n",
       "        2.22522868e-306],\n",
       "       [1.24611809e-306, 8.06632139e-308, 1.60221208e-306,\n",
       "        2.29178686e-312]])"
      ]
     },
     "execution_count": 60,
     "metadata": {},
     "output_type": "execute_result"
    }
   ],
   "source": [
    "np.empty((4,4)) ##empty array"
   ]
  },
  {
   "cell_type": "code",
   "execution_count": 61,
   "id": "7275c62d-da83-49d4-8cc3-c2a192167aee",
   "metadata": {},
   "outputs": [
    {
     "data": {
      "text/plain": [
       "array([[1., 0., 0., 0.],\n",
       "       [0., 1., 0., 0.],\n",
       "       [0., 0., 1., 0.],\n",
       "       [0., 0., 0., 1.]])"
      ]
     },
     "execution_count": 61,
     "metadata": {},
     "output_type": "execute_result"
    }
   ],
   "source": [
    "np.eye(4) #identity matrix"
   ]
  },
  {
   "cell_type": "code",
   "execution_count": 62,
   "id": "232f45b9-9c91-41a9-b462-533c13a8aabd",
   "metadata": {},
   "outputs": [
    {
     "data": {
      "text/plain": [
       "array([2.        , 2.10526316, 2.21052632, 2.31578947, 2.42105263,\n",
       "       2.52631579, 2.63157895, 2.73684211, 2.84210526, 2.94736842,\n",
       "       3.05263158, 3.15789474, 3.26315789, 3.36842105, 3.47368421,\n",
       "       3.57894737, 3.68421053, 3.78947368, 3.89473684, 4.        ])"
      ]
     },
     "execution_count": 62,
     "metadata": {},
     "output_type": "execute_result"
    }
   ],
   "source": [
    "np.linspace(2,4,20)"
   ]
  },
  {
   "cell_type": "code",
   "execution_count": 63,
   "id": "3c7f7784-3182-44db-9b70-e220bfcd8fde",
   "metadata": {},
   "outputs": [
    {
     "data": {
      "text/plain": [
       "array([ 4.        ,  5.0396842 ,  6.34960421,  8.        , 10.0793684 ,\n",
       "       12.69920842, 16.        , 20.1587368 , 25.39841683, 32.        ])"
      ]
     },
     "execution_count": 63,
     "metadata": {},
     "output_type": "execute_result"
    }
   ],
   "source": [
    "np.logspace(2,5,10,base=2) #(starting expo,end expon,no of samples,base)"
   ]
  },
  {
   "cell_type": "code",
   "execution_count": 64,
   "id": "b2129d6a-31f0-4cbe-a510-4e7dc62c6709",
   "metadata": {},
   "outputs": [],
   "source": [
    "arr = np.random.randn(3,4)"
   ]
  },
  {
   "cell_type": "code",
   "execution_count": 65,
   "id": "d93baff8-5928-4bed-87ce-47691ad947ee",
   "metadata": {},
   "outputs": [
    {
     "data": {
      "text/plain": [
       "array([[-0.07031403, -0.83654271, -2.19764851, -1.93595622],\n",
       "       [-0.25733554, -1.20507525, -1.98277942, -1.18567677],\n",
       "       [ 0.06735263,  0.41902703, -0.06808657, -0.08958896]])"
      ]
     },
     "execution_count": 65,
     "metadata": {},
     "output_type": "execute_result"
    }
   ],
   "source": [
    "arr"
   ]
  },
  {
   "cell_type": "code",
   "execution_count": 66,
   "id": "eb0818e8-588f-4840-947c-2b02a0b26113",
   "metadata": {},
   "outputs": [],
   "source": [
    "import pandas as pd"
   ]
  },
  {
   "cell_type": "code",
   "execution_count": 67,
   "id": "2fa49478-690a-4b79-b187-9b77a83e0479",
   "metadata": {},
   "outputs": [
    {
     "data": {
      "text/html": [
       "<div>\n",
       "<style scoped>\n",
       "    .dataframe tbody tr th:only-of-type {\n",
       "        vertical-align: middle;\n",
       "    }\n",
       "\n",
       "    .dataframe tbody tr th {\n",
       "        vertical-align: top;\n",
       "    }\n",
       "\n",
       "    .dataframe thead th {\n",
       "        text-align: right;\n",
       "    }\n",
       "</style>\n",
       "<table border=\"1\" class=\"dataframe\">\n",
       "  <thead>\n",
       "    <tr style=\"text-align: right;\">\n",
       "      <th></th>\n",
       "      <th>0</th>\n",
       "      <th>1</th>\n",
       "      <th>2</th>\n",
       "      <th>3</th>\n",
       "    </tr>\n",
       "  </thead>\n",
       "  <tbody>\n",
       "    <tr>\n",
       "      <th>0</th>\n",
       "      <td>-0.070314</td>\n",
       "      <td>-0.836543</td>\n",
       "      <td>-2.197649</td>\n",
       "      <td>-1.935956</td>\n",
       "    </tr>\n",
       "    <tr>\n",
       "      <th>1</th>\n",
       "      <td>-0.257336</td>\n",
       "      <td>-1.205075</td>\n",
       "      <td>-1.982779</td>\n",
       "      <td>-1.185677</td>\n",
       "    </tr>\n",
       "    <tr>\n",
       "      <th>2</th>\n",
       "      <td>0.067353</td>\n",
       "      <td>0.419027</td>\n",
       "      <td>-0.068087</td>\n",
       "      <td>-0.089589</td>\n",
       "    </tr>\n",
       "  </tbody>\n",
       "</table>\n",
       "</div>"
      ],
      "text/plain": [
       "          0         1         2         3\n",
       "0 -0.070314 -0.836543 -2.197649 -1.935956\n",
       "1 -0.257336 -1.205075 -1.982779 -1.185677\n",
       "2  0.067353  0.419027 -0.068087 -0.089589"
      ]
     },
     "execution_count": 67,
     "metadata": {},
     "output_type": "execute_result"
    }
   ],
   "source": [
    "pd.DataFrame(arr)"
   ]
  },
  {
   "cell_type": "code",
   "execution_count": 68,
   "id": "30c92809-7300-425b-b88d-9e4d090ae4cb",
   "metadata": {},
   "outputs": [],
   "source": [
    "arr1 = np.random.rand(3,4) # 3x4 matrix"
   ]
  },
  {
   "cell_type": "code",
   "execution_count": 69,
   "id": "48e295ef-6ade-47a6-9f91-5b0f1fcc4183",
   "metadata": {},
   "outputs": [
    {
     "data": {
      "text/html": [
       "<div>\n",
       "<style scoped>\n",
       "    .dataframe tbody tr th:only-of-type {\n",
       "        vertical-align: middle;\n",
       "    }\n",
       "\n",
       "    .dataframe tbody tr th {\n",
       "        vertical-align: top;\n",
       "    }\n",
       "\n",
       "    .dataframe thead th {\n",
       "        text-align: right;\n",
       "    }\n",
       "</style>\n",
       "<table border=\"1\" class=\"dataframe\">\n",
       "  <thead>\n",
       "    <tr style=\"text-align: right;\">\n",
       "      <th></th>\n",
       "      <th>0</th>\n",
       "      <th>1</th>\n",
       "      <th>2</th>\n",
       "      <th>3</th>\n",
       "    </tr>\n",
       "  </thead>\n",
       "  <tbody>\n",
       "    <tr>\n",
       "      <th>0</th>\n",
       "      <td>0.140672</td>\n",
       "      <td>0.684825</td>\n",
       "      <td>0.693825</td>\n",
       "      <td>0.609028</td>\n",
       "    </tr>\n",
       "    <tr>\n",
       "      <th>1</th>\n",
       "      <td>0.060192</td>\n",
       "      <td>0.326876</td>\n",
       "      <td>0.425010</td>\n",
       "      <td>0.948782</td>\n",
       "    </tr>\n",
       "    <tr>\n",
       "      <th>2</th>\n",
       "      <td>0.751280</td>\n",
       "      <td>0.679181</td>\n",
       "      <td>0.097607</td>\n",
       "      <td>0.012635</td>\n",
       "    </tr>\n",
       "  </tbody>\n",
       "</table>\n",
       "</div>"
      ],
      "text/plain": [
       "          0         1         2         3\n",
       "0  0.140672  0.684825  0.693825  0.609028\n",
       "1  0.060192  0.326876  0.425010  0.948782\n",
       "2  0.751280  0.679181  0.097607  0.012635"
      ]
     },
     "execution_count": 69,
     "metadata": {},
     "output_type": "execute_result"
    }
   ],
   "source": [
    "pd.DataFrame(arr1)"
   ]
  },
  {
   "cell_type": "markdown",
   "id": "151bfb5a-b238-4ab9-b4cf-86537311a1e1",
   "metadata": {},
   "source": [
    "### Randn v/s Rand"
   ]
  },
  {
   "cell_type": "markdown",
   "id": "81624dfa-ca77-4de1-b2b7-e6ce6091523a",
   "metadata": {},
   "source": [
    "##### randn : the data is generated where mean is equal to zero and standard deviation will be 1 standard distribution\n",
    "##### rand : is producing data"
   ]
  },
  {
   "cell_type": "code",
   "execution_count": 72,
   "id": "0d0fb930-12d1-45d6-ace1-62c358d3bd79",
   "metadata": {},
   "outputs": [],
   "source": [
    "arr2 = np.random.randint(1,50,(200,500)) ## data between 1 to 50 and matrix of 2x5"
   ]
  },
  {
   "cell_type": "code",
   "execution_count": 73,
   "id": "0d9905fe-9058-41ff-8b61-8598e0365ced",
   "metadata": {},
   "outputs": [
    {
     "data": {
      "text/html": [
       "<div>\n",
       "<style scoped>\n",
       "    .dataframe tbody tr th:only-of-type {\n",
       "        vertical-align: middle;\n",
       "    }\n",
       "\n",
       "    .dataframe tbody tr th {\n",
       "        vertical-align: top;\n",
       "    }\n",
       "\n",
       "    .dataframe thead th {\n",
       "        text-align: right;\n",
       "    }\n",
       "</style>\n",
       "<table border=\"1\" class=\"dataframe\">\n",
       "  <thead>\n",
       "    <tr style=\"text-align: right;\">\n",
       "      <th></th>\n",
       "      <th>0</th>\n",
       "      <th>1</th>\n",
       "      <th>2</th>\n",
       "      <th>3</th>\n",
       "      <th>4</th>\n",
       "      <th>5</th>\n",
       "      <th>6</th>\n",
       "      <th>7</th>\n",
       "      <th>8</th>\n",
       "      <th>9</th>\n",
       "      <th>...</th>\n",
       "      <th>490</th>\n",
       "      <th>491</th>\n",
       "      <th>492</th>\n",
       "      <th>493</th>\n",
       "      <th>494</th>\n",
       "      <th>495</th>\n",
       "      <th>496</th>\n",
       "      <th>497</th>\n",
       "      <th>498</th>\n",
       "      <th>499</th>\n",
       "    </tr>\n",
       "  </thead>\n",
       "  <tbody>\n",
       "    <tr>\n",
       "      <th>0</th>\n",
       "      <td>26</td>\n",
       "      <td>34</td>\n",
       "      <td>23</td>\n",
       "      <td>17</td>\n",
       "      <td>41</td>\n",
       "      <td>43</td>\n",
       "      <td>23</td>\n",
       "      <td>13</td>\n",
       "      <td>12</td>\n",
       "      <td>25</td>\n",
       "      <td>...</td>\n",
       "      <td>26</td>\n",
       "      <td>22</td>\n",
       "      <td>8</td>\n",
       "      <td>12</td>\n",
       "      <td>36</td>\n",
       "      <td>13</td>\n",
       "      <td>20</td>\n",
       "      <td>22</td>\n",
       "      <td>9</td>\n",
       "      <td>34</td>\n",
       "    </tr>\n",
       "    <tr>\n",
       "      <th>1</th>\n",
       "      <td>15</td>\n",
       "      <td>18</td>\n",
       "      <td>10</td>\n",
       "      <td>27</td>\n",
       "      <td>31</td>\n",
       "      <td>43</td>\n",
       "      <td>35</td>\n",
       "      <td>3</td>\n",
       "      <td>5</td>\n",
       "      <td>15</td>\n",
       "      <td>...</td>\n",
       "      <td>29</td>\n",
       "      <td>49</td>\n",
       "      <td>41</td>\n",
       "      <td>30</td>\n",
       "      <td>8</td>\n",
       "      <td>25</td>\n",
       "      <td>39</td>\n",
       "      <td>43</td>\n",
       "      <td>10</td>\n",
       "      <td>8</td>\n",
       "    </tr>\n",
       "    <tr>\n",
       "      <th>2</th>\n",
       "      <td>1</td>\n",
       "      <td>37</td>\n",
       "      <td>27</td>\n",
       "      <td>17</td>\n",
       "      <td>1</td>\n",
       "      <td>21</td>\n",
       "      <td>38</td>\n",
       "      <td>20</td>\n",
       "      <td>26</td>\n",
       "      <td>37</td>\n",
       "      <td>...</td>\n",
       "      <td>37</td>\n",
       "      <td>44</td>\n",
       "      <td>28</td>\n",
       "      <td>19</td>\n",
       "      <td>22</td>\n",
       "      <td>2</td>\n",
       "      <td>2</td>\n",
       "      <td>31</td>\n",
       "      <td>44</td>\n",
       "      <td>29</td>\n",
       "    </tr>\n",
       "    <tr>\n",
       "      <th>3</th>\n",
       "      <td>36</td>\n",
       "      <td>32</td>\n",
       "      <td>16</td>\n",
       "      <td>42</td>\n",
       "      <td>7</td>\n",
       "      <td>37</td>\n",
       "      <td>34</td>\n",
       "      <td>13</td>\n",
       "      <td>7</td>\n",
       "      <td>44</td>\n",
       "      <td>...</td>\n",
       "      <td>18</td>\n",
       "      <td>26</td>\n",
       "      <td>43</td>\n",
       "      <td>5</td>\n",
       "      <td>44</td>\n",
       "      <td>29</td>\n",
       "      <td>39</td>\n",
       "      <td>19</td>\n",
       "      <td>29</td>\n",
       "      <td>16</td>\n",
       "    </tr>\n",
       "    <tr>\n",
       "      <th>4</th>\n",
       "      <td>26</td>\n",
       "      <td>45</td>\n",
       "      <td>42</td>\n",
       "      <td>36</td>\n",
       "      <td>4</td>\n",
       "      <td>28</td>\n",
       "      <td>19</td>\n",
       "      <td>9</td>\n",
       "      <td>28</td>\n",
       "      <td>17</td>\n",
       "      <td>...</td>\n",
       "      <td>9</td>\n",
       "      <td>37</td>\n",
       "      <td>26</td>\n",
       "      <td>48</td>\n",
       "      <td>27</td>\n",
       "      <td>17</td>\n",
       "      <td>45</td>\n",
       "      <td>29</td>\n",
       "      <td>49</td>\n",
       "      <td>40</td>\n",
       "    </tr>\n",
       "    <tr>\n",
       "      <th>...</th>\n",
       "      <td>...</td>\n",
       "      <td>...</td>\n",
       "      <td>...</td>\n",
       "      <td>...</td>\n",
       "      <td>...</td>\n",
       "      <td>...</td>\n",
       "      <td>...</td>\n",
       "      <td>...</td>\n",
       "      <td>...</td>\n",
       "      <td>...</td>\n",
       "      <td>...</td>\n",
       "      <td>...</td>\n",
       "      <td>...</td>\n",
       "      <td>...</td>\n",
       "      <td>...</td>\n",
       "      <td>...</td>\n",
       "      <td>...</td>\n",
       "      <td>...</td>\n",
       "      <td>...</td>\n",
       "      <td>...</td>\n",
       "      <td>...</td>\n",
       "    </tr>\n",
       "    <tr>\n",
       "      <th>195</th>\n",
       "      <td>17</td>\n",
       "      <td>43</td>\n",
       "      <td>32</td>\n",
       "      <td>43</td>\n",
       "      <td>19</td>\n",
       "      <td>18</td>\n",
       "      <td>31</td>\n",
       "      <td>25</td>\n",
       "      <td>7</td>\n",
       "      <td>16</td>\n",
       "      <td>...</td>\n",
       "      <td>6</td>\n",
       "      <td>46</td>\n",
       "      <td>18</td>\n",
       "      <td>18</td>\n",
       "      <td>28</td>\n",
       "      <td>13</td>\n",
       "      <td>18</td>\n",
       "      <td>7</td>\n",
       "      <td>36</td>\n",
       "      <td>10</td>\n",
       "    </tr>\n",
       "    <tr>\n",
       "      <th>196</th>\n",
       "      <td>1</td>\n",
       "      <td>13</td>\n",
       "      <td>44</td>\n",
       "      <td>27</td>\n",
       "      <td>6</td>\n",
       "      <td>14</td>\n",
       "      <td>4</td>\n",
       "      <td>16</td>\n",
       "      <td>15</td>\n",
       "      <td>1</td>\n",
       "      <td>...</td>\n",
       "      <td>5</td>\n",
       "      <td>1</td>\n",
       "      <td>32</td>\n",
       "      <td>48</td>\n",
       "      <td>49</td>\n",
       "      <td>43</td>\n",
       "      <td>1</td>\n",
       "      <td>7</td>\n",
       "      <td>40</td>\n",
       "      <td>27</td>\n",
       "    </tr>\n",
       "    <tr>\n",
       "      <th>197</th>\n",
       "      <td>15</td>\n",
       "      <td>40</td>\n",
       "      <td>22</td>\n",
       "      <td>31</td>\n",
       "      <td>26</td>\n",
       "      <td>9</td>\n",
       "      <td>41</td>\n",
       "      <td>14</td>\n",
       "      <td>3</td>\n",
       "      <td>47</td>\n",
       "      <td>...</td>\n",
       "      <td>5</td>\n",
       "      <td>19</td>\n",
       "      <td>31</td>\n",
       "      <td>3</td>\n",
       "      <td>47</td>\n",
       "      <td>32</td>\n",
       "      <td>31</td>\n",
       "      <td>32</td>\n",
       "      <td>39</td>\n",
       "      <td>2</td>\n",
       "    </tr>\n",
       "    <tr>\n",
       "      <th>198</th>\n",
       "      <td>13</td>\n",
       "      <td>29</td>\n",
       "      <td>14</td>\n",
       "      <td>6</td>\n",
       "      <td>36</td>\n",
       "      <td>39</td>\n",
       "      <td>36</td>\n",
       "      <td>8</td>\n",
       "      <td>17</td>\n",
       "      <td>25</td>\n",
       "      <td>...</td>\n",
       "      <td>34</td>\n",
       "      <td>18</td>\n",
       "      <td>16</td>\n",
       "      <td>35</td>\n",
       "      <td>30</td>\n",
       "      <td>39</td>\n",
       "      <td>5</td>\n",
       "      <td>2</td>\n",
       "      <td>1</td>\n",
       "      <td>49</td>\n",
       "    </tr>\n",
       "    <tr>\n",
       "      <th>199</th>\n",
       "      <td>37</td>\n",
       "      <td>27</td>\n",
       "      <td>28</td>\n",
       "      <td>16</td>\n",
       "      <td>7</td>\n",
       "      <td>45</td>\n",
       "      <td>9</td>\n",
       "      <td>19</td>\n",
       "      <td>38</td>\n",
       "      <td>41</td>\n",
       "      <td>...</td>\n",
       "      <td>25</td>\n",
       "      <td>42</td>\n",
       "      <td>1</td>\n",
       "      <td>12</td>\n",
       "      <td>26</td>\n",
       "      <td>32</td>\n",
       "      <td>13</td>\n",
       "      <td>6</td>\n",
       "      <td>24</td>\n",
       "      <td>35</td>\n",
       "    </tr>\n",
       "  </tbody>\n",
       "</table>\n",
       "<p>200 rows × 500 columns</p>\n",
       "</div>"
      ],
      "text/plain": [
       "     0    1    2    3    4    5    6    7    8    9    ...  490  491  492  \\\n",
       "0     26   34   23   17   41   43   23   13   12   25  ...   26   22    8   \n",
       "1     15   18   10   27   31   43   35    3    5   15  ...   29   49   41   \n",
       "2      1   37   27   17    1   21   38   20   26   37  ...   37   44   28   \n",
       "3     36   32   16   42    7   37   34   13    7   44  ...   18   26   43   \n",
       "4     26   45   42   36    4   28   19    9   28   17  ...    9   37   26   \n",
       "..   ...  ...  ...  ...  ...  ...  ...  ...  ...  ...  ...  ...  ...  ...   \n",
       "195   17   43   32   43   19   18   31   25    7   16  ...    6   46   18   \n",
       "196    1   13   44   27    6   14    4   16   15    1  ...    5    1   32   \n",
       "197   15   40   22   31   26    9   41   14    3   47  ...    5   19   31   \n",
       "198   13   29   14    6   36   39   36    8   17   25  ...   34   18   16   \n",
       "199   37   27   28   16    7   45    9   19   38   41  ...   25   42    1   \n",
       "\n",
       "     493  494  495  496  497  498  499  \n",
       "0     12   36   13   20   22    9   34  \n",
       "1     30    8   25   39   43   10    8  \n",
       "2     19   22    2    2   31   44   29  \n",
       "3      5   44   29   39   19   29   16  \n",
       "4     48   27   17   45   29   49   40  \n",
       "..   ...  ...  ...  ...  ...  ...  ...  \n",
       "195   18   28   13   18    7   36   10  \n",
       "196   48   49   43    1    7   40   27  \n",
       "197    3   47   32   31   32   39    2  \n",
       "198   35   30   39    5    2    1   49  \n",
       "199   12   26   32   13    6   24   35  \n",
       "\n",
       "[200 rows x 500 columns]"
      ]
     },
     "execution_count": 73,
     "metadata": {},
     "output_type": "execute_result"
    }
   ],
   "source": [
    "pd.DataFrame(arr2)"
   ]
  },
  {
   "cell_type": "code",
   "execution_count": 74,
   "id": "54064229-a91e-4ad2-81a3-10182e35add9",
   "metadata": {},
   "outputs": [],
   "source": [
    "pd.DataFrame(arr2).to_csv(\"test.csv\")"
   ]
  },
  {
   "cell_type": "markdown",
   "id": "066f2c32-11d6-4713-84a7-f9447046247c",
   "metadata": {},
   "source": [
    "### We can reshape the array but the size defined should be the same like for arr2 it was 200X500 eauls to 10,000 the reshape should also be of same size "
   ]
  },
  {
   "cell_type": "code",
   "execution_count": 76,
   "id": "baf64d12-c215-465e-a541-4a8b940a62a4",
   "metadata": {},
   "outputs": [],
   "source": [
    "pd.DataFrame(arr2.reshape(100,1000)).to_csv(\"test1.csv\")"
   ]
  },
  {
   "cell_type": "markdown",
   "id": "9e26bf95-6f58-4425-83ed-f40abc016e8d",
   "metadata": {},
   "source": [
    "#### Slicing of numpy arrays"
   ]
  },
  {
   "cell_type": "code",
   "execution_count": 78,
   "id": "fe063436-f8b8-4e1c-a265-e256358b6a88",
   "metadata": {},
   "outputs": [],
   "source": [
    "arr3 = np.random.randn(2,5)"
   ]
  },
  {
   "cell_type": "code",
   "execution_count": 79,
   "id": "65530196-fc01-43b0-a6af-39a9405b5614",
   "metadata": {},
   "outputs": [
    {
     "data": {
      "text/plain": [
       "array([[ 0.90205742,  1.92657   ,  0.54663089,  1.5641633 , -0.42108583],\n",
       "       [-1.45180698, -2.53159818,  0.72762182, -0.54577123, -0.37101734]])"
      ]
     },
     "execution_count": 79,
     "metadata": {},
     "output_type": "execute_result"
    }
   ],
   "source": [
    "arr3"
   ]
  },
  {
   "cell_type": "code",
   "execution_count": 80,
   "id": "6168ec75-bd99-453e-bb47-a9a2b674bfef",
   "metadata": {},
   "outputs": [
    {
     "data": {
      "text/plain": [
       "array([ 0.90205742,  1.92657   ,  0.54663089,  1.5641633 , -0.42108583])"
      ]
     },
     "execution_count": 80,
     "metadata": {},
     "output_type": "execute_result"
    }
   ],
   "source": [
    "arr3[0] ##zeroth row"
   ]
  },
  {
   "cell_type": "code",
   "execution_count": 81,
   "id": "f069aa79-15ac-4b57-9786-6847ce944d4c",
   "metadata": {},
   "outputs": [
    {
     "data": {
      "text/plain": [
       "np.float64(0.54663088924733)"
      ]
     },
     "execution_count": 81,
     "metadata": {},
     "output_type": "execute_result"
    }
   ],
   "source": [
    "arr3[0][2]"
   ]
  },
  {
   "cell_type": "code",
   "execution_count": 82,
   "id": "bce66ca4-293d-4a99-9762-1ce20999886b",
   "metadata": {},
   "outputs": [],
   "source": [
    "arr = np.random.randint(1,100,(5,5))"
   ]
  },
  {
   "cell_type": "code",
   "execution_count": 83,
   "id": "c4c9eac1-b176-47f6-8cf0-8a49fca2f268",
   "metadata": {},
   "outputs": [
    {
     "data": {
      "text/plain": [
       "array([[41, 41, 29, 89, 93],\n",
       "       [37, 63, 97, 93, 99],\n",
       "       [31, 66, 99, 93, 73],\n",
       "       [47, 59, 53, 55, 66],\n",
       "       [45, 20, 68, 75, 72]], dtype=int32)"
      ]
     },
     "execution_count": 83,
     "metadata": {},
     "output_type": "execute_result"
    }
   ],
   "source": [
    "arr"
   ]
  },
  {
   "cell_type": "markdown",
   "id": "9898a9b4-6189-42ad-89c7-b677080ea041",
   "metadata": {},
   "source": [
    "#### Find values greater than 50"
   ]
  },
  {
   "cell_type": "code",
   "execution_count": 85,
   "id": "b6cc66e7-5ed9-4ce0-99c7-b240c53bd6e3",
   "metadata": {},
   "outputs": [
    {
     "data": {
      "text/plain": [
       "array([89, 93, 63, 97, 93, 99, 66, 99, 93, 73, 59, 53, 55, 66, 68, 75, 72],\n",
       "      dtype=int32)"
      ]
     },
     "execution_count": 85,
     "metadata": {},
     "output_type": "execute_result"
    }
   ],
   "source": [
    "arr[arr>50]"
   ]
  },
  {
   "cell_type": "code",
   "execution_count": 86,
   "id": "a92e88f8-63e4-4e2b-aaec-dd2537467978",
   "metadata": {},
   "outputs": [
    {
     "data": {
      "text/plain": [
       "array([[66, 99],\n",
       "       [59, 53]], dtype=int32)"
      ]
     },
     "execution_count": 86,
     "metadata": {},
     "output_type": "execute_result"
    }
   ],
   "source": [
    "arr[2:4,[1,2]] ## rows ,columns"
   ]
  },
  {
   "cell_type": "code",
   "execution_count": 87,
   "id": "a0c1ed1a-08dc-4b4a-8587-99efbb6da271",
   "metadata": {},
   "outputs": [],
   "source": [
    "arr[0][0] = 200 ## data reassignment possible"
   ]
  },
  {
   "cell_type": "code",
   "execution_count": 88,
   "id": "a4b611c0-76bf-4ce6-ae11-6208be7c96d1",
   "metadata": {},
   "outputs": [
    {
     "data": {
      "text/plain": [
       "array([[200,  41,  29,  89,  93],\n",
       "       [ 37,  63,  97,  93,  99],\n",
       "       [ 31,  66,  99,  93,  73],\n",
       "       [ 47,  59,  53,  55,  66],\n",
       "       [ 45,  20,  68,  75,  72]], dtype=int32)"
      ]
     },
     "execution_count": 88,
     "metadata": {},
     "output_type": "execute_result"
    }
   ],
   "source": [
    "arr"
   ]
  },
  {
   "cell_type": "code",
   "execution_count": 89,
   "id": "569d2e53-f462-4f1b-b030-b7d6a058e90c",
   "metadata": {},
   "outputs": [],
   "source": [
    "arr1 = np.random.randint(3,5,(5,5))"
   ]
  },
  {
   "cell_type": "code",
   "execution_count": 90,
   "id": "87965ef5-2b8f-4ecc-a4ae-051fc159f8bc",
   "metadata": {},
   "outputs": [],
   "source": [
    "arr2 = np.random.randint(3,6,(5,5))"
   ]
  },
  {
   "cell_type": "markdown",
   "id": "1d4c3bcf-68de-4cde-a19d-fbc1cfa7d019",
   "metadata": {},
   "source": [
    "### Index Multiplication"
   ]
  },
  {
   "cell_type": "code",
   "execution_count": 92,
   "id": "66f51b37-ae16-412d-807a-9a35d0c9ae6e",
   "metadata": {},
   "outputs": [
    {
     "data": {
      "text/plain": [
       "array([[12, 16,  9, 16, 12],\n",
       "       [15,  9, 12, 12,  9],\n",
       "       [15, 12, 20, 12, 20],\n",
       "       [12,  9, 12, 12, 16],\n",
       "       [16,  9, 12, 12, 12]], dtype=int32)"
      ]
     },
     "execution_count": 92,
     "metadata": {},
     "output_type": "execute_result"
    }
   ],
   "source": [
    "arr1 * arr2"
   ]
  },
  {
   "cell_type": "markdown",
   "id": "1611ebea-9f4f-49d1-a43a-afe4fe1ce680",
   "metadata": {},
   "source": [
    "### Matrix Multiplication"
   ]
  },
  {
   "cell_type": "code",
   "execution_count": 94,
   "id": "9a6a5bcf-6a8c-4d42-839f-b307a2aae33c",
   "metadata": {},
   "outputs": [
    {
     "data": {
      "text/plain": [
       "array([[75, 54, 68, 57, 67],\n",
       "       [70, 51, 64, 54, 64],\n",
       "       [80, 57, 73, 61, 72],\n",
       "       [74, 54, 68, 57, 68],\n",
       "       [74, 55, 67, 58, 68]], dtype=int32)"
      ]
     },
     "execution_count": 94,
     "metadata": {},
     "output_type": "execute_result"
    }
   ],
   "source": [
    "arr1 @ arr2"
   ]
  },
  {
   "cell_type": "code",
   "execution_count": 95,
   "id": "a6b6e6cb-609e-4661-a008-754aefaef682",
   "metadata": {},
   "outputs": [
    {
     "name": "stderr",
     "output_type": "stream",
     "text": [
      "C:\\Users\\hp\\AppData\\Local\\Temp\\ipykernel_8056\\492221683.py:1: RuntimeWarning: divide by zero encountered in divide\n",
      "  arr1/0 #in numpy it does not give error\n"
     ]
    },
    {
     "data": {
      "text/plain": [
       "array([[inf, inf, inf, inf, inf],\n",
       "       [inf, inf, inf, inf, inf],\n",
       "       [inf, inf, inf, inf, inf],\n",
       "       [inf, inf, inf, inf, inf],\n",
       "       [inf, inf, inf, inf, inf]])"
      ]
     },
     "execution_count": 95,
     "metadata": {},
     "output_type": "execute_result"
    }
   ],
   "source": [
    "arr1/0 #in numpy it does not give error"
   ]
  },
  {
   "cell_type": "markdown",
   "id": "738071c0-969e-4bff-8576-32d9cc446571",
   "metadata": {},
   "source": [
    "#### Numpy - Broadcasting"
   ]
  },
  {
   "cell_type": "code",
   "execution_count": 97,
   "id": "4816e950-4cf6-4479-9e60-2362088d5b0d",
   "metadata": {},
   "outputs": [],
   "source": [
    "arr = np.zeros((4,4))"
   ]
  },
  {
   "cell_type": "code",
   "execution_count": 98,
   "id": "22c2935b-38cf-4ea5-8b02-28030042debc",
   "metadata": {},
   "outputs": [
    {
     "data": {
      "text/plain": [
       "array([[0., 0., 0., 0.],\n",
       "       [0., 0., 0., 0.],\n",
       "       [0., 0., 0., 0.],\n",
       "       [0., 0., 0., 0.]])"
      ]
     },
     "execution_count": 98,
     "metadata": {},
     "output_type": "execute_result"
    }
   ],
   "source": [
    "arr"
   ]
  },
  {
   "cell_type": "code",
   "execution_count": 99,
   "id": "920daa81-d113-4b45-8414-3096823a83c5",
   "metadata": {},
   "outputs": [],
   "source": [
    "row = np.array([1,2,3,4])"
   ]
  },
  {
   "cell_type": "code",
   "execution_count": 100,
   "id": "9e3830ca-64fe-4b50-89ba-4fe0639a7bbc",
   "metadata": {},
   "outputs": [
    {
     "data": {
      "text/plain": [
       "array([1, 2, 3, 4])"
      ]
     },
     "execution_count": 100,
     "metadata": {},
     "output_type": "execute_result"
    }
   ],
   "source": [
    "row"
   ]
  },
  {
   "cell_type": "code",
   "execution_count": 101,
   "id": "3fe61b5d-ac3b-438c-b0cb-9e169cb54afc",
   "metadata": {},
   "outputs": [
    {
     "data": {
      "text/plain": [
       "array([[1., 2., 3., 4.],\n",
       "       [1., 2., 3., 4.],\n",
       "       [1., 2., 3., 4.],\n",
       "       [1., 2., 3., 4.]])"
      ]
     },
     "execution_count": 101,
     "metadata": {},
     "output_type": "execute_result"
    }
   ],
   "source": [
    "arr + row ## row wise addition this is called broadcasting"
   ]
  },
  {
   "cell_type": "markdown",
   "id": "2fe16d10-be7b-4e19-8664-cfbaaf92b9a5",
   "metadata": {},
   "source": [
    "#### Transposing an array , it does not work on one dimensional array"
   ]
  },
  {
   "cell_type": "code",
   "execution_count": 103,
   "id": "7c1309dc-5dd2-45bd-a5b3-dd93ead3293d",
   "metadata": {},
   "outputs": [],
   "source": [
    "## rotating an array\n",
    "col = np.array([[1,2,3,4]])"
   ]
  },
  {
   "cell_type": "code",
   "execution_count": 104,
   "id": "df6bd6d6-2864-422d-ab99-930337e0d55f",
   "metadata": {},
   "outputs": [
    {
     "data": {
      "text/plain": [
       "array([[1],\n",
       "       [2],\n",
       "       [3],\n",
       "       [4]])"
      ]
     },
     "execution_count": 104,
     "metadata": {},
     "output_type": "execute_result"
    }
   ],
   "source": [
    "col.T"
   ]
  },
  {
   "cell_type": "code",
   "execution_count": 105,
   "id": "bceeae6a-1cbf-4ed4-9fcc-22ffbf9e4c11",
   "metadata": {},
   "outputs": [
    {
     "data": {
      "text/plain": [
       "array([[1., 1., 1., 1.],\n",
       "       [2., 2., 2., 2.],\n",
       "       [3., 3., 3., 3.],\n",
       "       [4., 4., 4., 4.]])"
      ]
     },
     "execution_count": 105,
     "metadata": {},
     "output_type": "execute_result"
    }
   ],
   "source": [
    "col.T + arr  ## column wise boradcasting"
   ]
  },
  {
   "cell_type": "markdown",
   "id": "710bd828-e36f-4d30-9fab-43615807d561",
   "metadata": {},
   "source": [
    "#### Mathematical Functions on Array"
   ]
  },
  {
   "cell_type": "code",
   "execution_count": 107,
   "id": "8bfb3481-add1-4a12-bdcb-f268ac4940de",
   "metadata": {},
   "outputs": [],
   "source": [
    "arr1 = np.random.randint(2,5,(5,5))"
   ]
  },
  {
   "cell_type": "code",
   "execution_count": 108,
   "id": "5962a0e0-bebb-4c0b-afc6-51203332c6d8",
   "metadata": {},
   "outputs": [
    {
     "data": {
      "text/plain": [
       "array([[3, 4, 2, 3, 2],\n",
       "       [2, 2, 3, 3, 3],\n",
       "       [3, 2, 2, 3, 2],\n",
       "       [3, 3, 2, 3, 4],\n",
       "       [2, 3, 2, 4, 3]], dtype=int32)"
      ]
     },
     "execution_count": 108,
     "metadata": {},
     "output_type": "execute_result"
    }
   ],
   "source": [
    "arr1"
   ]
  },
  {
   "cell_type": "code",
   "execution_count": 109,
   "id": "815fb062-4b3f-4f91-adea-24a3873bedac",
   "metadata": {},
   "outputs": [
    {
     "data": {
      "text/plain": [
       "array([[1.73205081, 2.        , 1.41421356, 1.73205081, 1.41421356],\n",
       "       [1.41421356, 1.41421356, 1.73205081, 1.73205081, 1.73205081],\n",
       "       [1.73205081, 1.41421356, 1.41421356, 1.73205081, 1.41421356],\n",
       "       [1.73205081, 1.73205081, 1.41421356, 1.73205081, 2.        ],\n",
       "       [1.41421356, 1.73205081, 1.41421356, 2.        , 1.73205081]])"
      ]
     },
     "execution_count": 109,
     "metadata": {},
     "output_type": "execute_result"
    }
   ],
   "source": [
    "np.sqrt(arr1)"
   ]
  },
  {
   "cell_type": "code",
   "execution_count": 110,
   "id": "b3a0887f-ba04-42a8-8518-9fcc5e988479",
   "metadata": {},
   "outputs": [
    {
     "data": {
      "text/plain": [
       "array([[ 9, 16,  4,  9,  4],\n",
       "       [ 4,  4,  9,  9,  9],\n",
       "       [ 9,  4,  4,  9,  4],\n",
       "       [ 9,  9,  4,  9, 16],\n",
       "       [ 4,  9,  4, 16,  9]], dtype=int32)"
      ]
     },
     "execution_count": 110,
     "metadata": {},
     "output_type": "execute_result"
    }
   ],
   "source": [
    "np.power(arr1,2)"
   ]
  },
  {
   "cell_type": "code",
   "execution_count": 111,
   "id": "e2fb9631-2a2e-4d1f-8fb4-2dc919b5dd97",
   "metadata": {},
   "outputs": [
    {
     "data": {
      "text/plain": [
       "array([[ 0.14112001, -0.7568025 ,  0.90929743,  0.14112001,  0.90929743],\n",
       "       [ 0.90929743,  0.90929743,  0.14112001,  0.14112001,  0.14112001],\n",
       "       [ 0.14112001,  0.90929743,  0.90929743,  0.14112001,  0.90929743],\n",
       "       [ 0.14112001,  0.14112001,  0.90929743,  0.14112001, -0.7568025 ],\n",
       "       [ 0.90929743,  0.14112001,  0.90929743, -0.7568025 ,  0.14112001]])"
      ]
     },
     "execution_count": 111,
     "metadata": {},
     "output_type": "execute_result"
    }
   ],
   "source": [
    "np.sin(arr1)"
   ]
  },
  {
   "cell_type": "markdown",
   "id": "fdcc9b76-04ff-413b-9a32-060afd4baa61",
   "metadata": {},
   "source": [
    "##### Array Manipulation"
   ]
  },
  {
   "cell_type": "code",
   "execution_count": 113,
   "id": "f5e5f0d7-2faa-4ffb-aebc-d5b0c1b8ddde",
   "metadata": {},
   "outputs": [],
   "source": [
    "arr = np.random.randint(2,5,(5,5))"
   ]
  },
  {
   "cell_type": "code",
   "execution_count": 114,
   "id": "c674b612-036c-46e2-8987-ab5c5fb8efc1",
   "metadata": {},
   "outputs": [
    {
     "data": {
      "text/plain": [
       "array([[2, 3, 3, 3, 3],\n",
       "       [4, 2, 3, 4, 4],\n",
       "       [3, 3, 2, 3, 2],\n",
       "       [3, 3, 2, 2, 2],\n",
       "       [4, 2, 2, 2, 2]], dtype=int32)"
      ]
     },
     "execution_count": 114,
     "metadata": {},
     "output_type": "execute_result"
    }
   ],
   "source": [
    "arr"
   ]
  },
  {
   "cell_type": "code",
   "execution_count": 115,
   "id": "bc6792bc-7c96-4395-aea4-b4652eb3032b",
   "metadata": {},
   "outputs": [
    {
     "data": {
      "text/plain": [
       "array([2, 3, 3, 3, 3, 4, 2, 3, 4, 4, 3, 3, 2, 3, 2, 3, 3, 2, 2, 2, 4, 2,\n",
       "       2, 2, 2], dtype=int32)"
      ]
     },
     "execution_count": 115,
     "metadata": {},
     "output_type": "execute_result"
    }
   ],
   "source": [
    "arr.flatten()"
   ]
  },
  {
   "cell_type": "code",
   "execution_count": 116,
   "id": "1e4cb429-430a-4ede-91bf-89b228ad142b",
   "metadata": {},
   "outputs": [],
   "source": [
    "arr1 = np.array([1,2,3,4])"
   ]
  },
  {
   "cell_type": "code",
   "execution_count": 117,
   "id": "3da4a668-035a-4356-bd26-13978a2ee808",
   "metadata": {},
   "outputs": [
    {
     "data": {
      "text/plain": [
       "1"
      ]
     },
     "execution_count": 117,
     "metadata": {},
     "output_type": "execute_result"
    }
   ],
   "source": [
    "arr1.ndim"
   ]
  },
  {
   "cell_type": "code",
   "execution_count": 118,
   "id": "c2b84af6-7384-430e-b3b7-0429abff0aeb",
   "metadata": {},
   "outputs": [],
   "source": [
    "arr=np.expand_dims(arr1,axis=1) # axis=1 for columns "
   ]
  },
  {
   "cell_type": "code",
   "execution_count": 119,
   "id": "66d62b54-9a4a-4294-9c2f-26b4ba29a047",
   "metadata": {},
   "outputs": [
    {
     "data": {
      "text/plain": [
       "array([[1],\n",
       "       [2],\n",
       "       [3],\n",
       "       [4]])"
      ]
     },
     "execution_count": 119,
     "metadata": {},
     "output_type": "execute_result"
    }
   ],
   "source": [
    "arr"
   ]
  },
  {
   "cell_type": "code",
   "execution_count": 120,
   "id": "d57bdadf-5ad9-4a6f-ae49-d8aaf36f691e",
   "metadata": {},
   "outputs": [
    {
     "data": {
      "text/plain": [
       "2"
      ]
     },
     "execution_count": 120,
     "metadata": {},
     "output_type": "execute_result"
    }
   ],
   "source": [
    "arr.ndim"
   ]
  },
  {
   "cell_type": "markdown",
   "id": "6e8d1a25-febd-475b-bcc1-c42a4e039c65",
   "metadata": {},
   "source": [
    "#### Expanding the dimenison of an array"
   ]
  },
  {
   "cell_type": "code",
   "execution_count": 122,
   "id": "6bfdeae6-964c-4679-af12-34998123040b",
   "metadata": {},
   "outputs": [],
   "source": [
    "arr = np.expand_dims(arr1,axis=0)"
   ]
  },
  {
   "cell_type": "code",
   "execution_count": 123,
   "id": "9eb17656-073d-4601-85ac-c3b4f64e7e76",
   "metadata": {},
   "outputs": [
    {
     "data": {
      "text/plain": [
       "array([[1, 2, 3, 4]])"
      ]
     },
     "execution_count": 123,
     "metadata": {},
     "output_type": "execute_result"
    }
   ],
   "source": [
    "arr"
   ]
  },
  {
   "cell_type": "code",
   "execution_count": 124,
   "id": "bfb9bb3e-e954-483b-b502-4b41eb97f9bb",
   "metadata": {},
   "outputs": [
    {
     "data": {
      "text/plain": [
       "2"
      ]
     },
     "execution_count": 124,
     "metadata": {},
     "output_type": "execute_result"
    }
   ],
   "source": [
    "arr.ndim"
   ]
  },
  {
   "cell_type": "code",
   "execution_count": 125,
   "id": "a6eca50a-1458-4587-9ecb-e73973d5670e",
   "metadata": {},
   "outputs": [],
   "source": [
    "data = np.array([[1],[2],[3]])"
   ]
  },
  {
   "cell_type": "code",
   "execution_count": 126,
   "id": "788dce49-233f-4750-9b9a-5401056b4ee5",
   "metadata": {},
   "outputs": [
    {
     "data": {
      "text/plain": [
       "array([[1],\n",
       "       [2],\n",
       "       [3]])"
      ]
     },
     "execution_count": 126,
     "metadata": {},
     "output_type": "execute_result"
    }
   ],
   "source": [
    "data"
   ]
  },
  {
   "cell_type": "markdown",
   "id": "80364dfb-9987-4837-b70e-e78d2da192e0",
   "metadata": {},
   "source": [
    "#### Compressing or squeezing the dimension of an array"
   ]
  },
  {
   "cell_type": "code",
   "execution_count": 128,
   "id": "829b49bb-ef94-45d0-8712-7521d4130dfb",
   "metadata": {},
   "outputs": [
    {
     "data": {
      "text/plain": [
       "array([1, 2, 3])"
      ]
     },
     "execution_count": 128,
     "metadata": {},
     "output_type": "execute_result"
    }
   ],
   "source": [
    "np.squeeze(data)"
   ]
  },
  {
   "cell_type": "code",
   "execution_count": 129,
   "id": "f286f393-0f36-46e3-b631-a2e1e88f7f0e",
   "metadata": {},
   "outputs": [
    {
     "data": {
      "text/plain": [
       "array([1, 1, 1, 2, 2, 2, 3, 3, 3, 4, 4, 4])"
      ]
     },
     "execution_count": 129,
     "metadata": {},
     "output_type": "execute_result"
    }
   ],
   "source": [
    "np.repeat(arr,3) # it repeats the data memebers"
   ]
  },
  {
   "cell_type": "code",
   "execution_count": 130,
   "id": "78014f37-11bf-4ffe-9c87-292304fdea01",
   "metadata": {},
   "outputs": [
    {
     "data": {
      "text/plain": [
       "array([3, 4, 1, 2])"
      ]
     },
     "execution_count": 130,
     "metadata": {},
     "output_type": "execute_result"
    }
   ],
   "source": [
    "np.roll(arr1,2) ## this basically shifts the data in position like here it shifts evry meber by 2 position"
   ]
  },
  {
   "cell_type": "code",
   "execution_count": 131,
   "id": "10c3598a-099c-4d4b-9937-9a56f5c32218",
   "metadata": {},
   "outputs": [
    {
     "data": {
      "text/plain": [
       "array([[1, 0, 0, 0],\n",
       "       [0, 2, 0, 0],\n",
       "       [0, 0, 3, 0],\n",
       "       [0, 0, 0, 4]])"
      ]
     },
     "execution_count": 131,
     "metadata": {},
     "output_type": "execute_result"
    }
   ],
   "source": [
    "np.diag(arr1) ##keeps all the elements of 1d in diagonal"
   ]
  },
  {
   "cell_type": "code",
   "execution_count": 132,
   "id": "2326e48a-b1d6-4db2-b654-ef02de8ee83c",
   "metadata": {},
   "outputs": [],
   "source": [
    "ar1 = np.random.randint(1,10,(4,4))"
   ]
  },
  {
   "cell_type": "code",
   "execution_count": 133,
   "id": "a79de247-5877-4962-ab97-d3fe5bfd1393",
   "metadata": {},
   "outputs": [
    {
     "data": {
      "text/plain": [
       "array([[1, 5, 8, 1],\n",
       "       [7, 9, 5, 4],\n",
       "       [6, 8, 6, 3],\n",
       "       [6, 4, 1, 1]], dtype=int32)"
      ]
     },
     "execution_count": 133,
     "metadata": {},
     "output_type": "execute_result"
    }
   ],
   "source": [
    "ar1"
   ]
  },
  {
   "cell_type": "code",
   "execution_count": 134,
   "id": "4281dee3-dd9d-46af-b6aa-8afbe047a8d5",
   "metadata": {},
   "outputs": [],
   "source": [
    "ar2 = np.random.randint(1,10,(4,4))"
   ]
  },
  {
   "cell_type": "code",
   "execution_count": 135,
   "id": "0bf034af-2d1d-4101-8590-f410d488c09e",
   "metadata": {},
   "outputs": [
    {
     "data": {
      "text/plain": [
       "array([[8, 8, 1, 3],\n",
       "       [2, 2, 9, 3],\n",
       "       [5, 4, 3, 1],\n",
       "       [6, 6, 6, 9]], dtype=int32)"
      ]
     },
     "execution_count": 135,
     "metadata": {},
     "output_type": "execute_result"
    }
   ],
   "source": [
    "ar2"
   ]
  },
  {
   "cell_type": "code",
   "execution_count": 136,
   "id": "85727bbb-b163-4bb6-be35-722772a60a5a",
   "metadata": {},
   "outputs": [
    {
     "data": {
      "text/plain": [
       "array([[ 8, 40,  8,  3],\n",
       "       [14, 18, 45, 12],\n",
       "       [30, 32, 18,  3],\n",
       "       [36, 24,  6,  9]], dtype=int32)"
      ]
     },
     "execution_count": 136,
     "metadata": {},
     "output_type": "execute_result"
    }
   ],
   "source": [
    "ar1*ar2"
   ]
  },
  {
   "cell_type": "code",
   "execution_count": 137,
   "id": "73dc7d19-f14e-43cf-a30b-64b23de336aa",
   "metadata": {},
   "outputs": [
    {
     "data": {
      "text/plain": [
       "array([[0.125     , 0.625     , 8.        , 0.33333333],\n",
       "       [3.5       , 4.5       , 0.55555556, 1.33333333],\n",
       "       [1.2       , 2.        , 2.        , 3.        ],\n",
       "       [1.        , 0.66666667, 0.16666667, 0.11111111]])"
      ]
     },
     "execution_count": 137,
     "metadata": {},
     "output_type": "execute_result"
    }
   ],
   "source": [
    "ar1/ar2"
   ]
  },
  {
   "cell_type": "code",
   "execution_count": 138,
   "id": "373eade6-6c76-43f0-98da-31123d78e69f",
   "metadata": {},
   "outputs": [
    {
     "data": {
      "text/plain": [
       "array([[ 64,  56,  76,  35],\n",
       "       [123, 118, 127,  89],\n",
       "       [112, 106, 114,  75],\n",
       "       [ 67,  66,  51,  40]], dtype=int32)"
      ]
     },
     "execution_count": 138,
     "metadata": {},
     "output_type": "execute_result"
    }
   ],
   "source": [
    "ar1@ar2"
   ]
  },
  {
   "cell_type": "code",
   "execution_count": 139,
   "id": "ce51520a-f072-4aea-8ab1-c6700f46372b",
   "metadata": {},
   "outputs": [
    {
     "data": {
      "text/plain": [
       "array([[1, 5, 0, 1],\n",
       "       [1, 1, 5, 1],\n",
       "       [1, 0, 0, 0],\n",
       "       [0, 4, 1, 1]], dtype=int32)"
      ]
     },
     "execution_count": 139,
     "metadata": {},
     "output_type": "execute_result"
    }
   ],
   "source": [
    "ar1%ar2"
   ]
  },
  {
   "cell_type": "code",
   "execution_count": 140,
   "id": "c3b396b4-89e2-41c2-898e-c8b8723463cf",
   "metadata": {},
   "outputs": [
    {
     "data": {
      "text/plain": [
       "array([[      1,  390625,       8,       1],\n",
       "       [     49,      81, 1953125,      64],\n",
       "       [   7776,    4096,     216,       3],\n",
       "       [  46656,    4096,       1,       1]], dtype=int32)"
      ]
     },
     "execution_count": 140,
     "metadata": {},
     "output_type": "execute_result"
    }
   ],
   "source": [
    "ar1**ar2"
   ]
  },
  {
   "cell_type": "code",
   "execution_count": 141,
   "id": "29301d79-8456-4cfc-9641-9e3e0a934193",
   "metadata": {},
   "outputs": [
    {
     "data": {
      "text/plain": [
       "array([[0, 0, 0, 1],\n",
       "       [2, 0, 1, 0],\n",
       "       [4, 0, 2, 1],\n",
       "       [6, 4, 0, 1]], dtype=int32)"
      ]
     },
     "execution_count": 141,
     "metadata": {},
     "output_type": "execute_result"
    }
   ],
   "source": [
    "ar1 & ar2"
   ]
  },
  {
   "cell_type": "code",
   "execution_count": 142,
   "id": "970bcce4-c84a-4c78-a173-2451b097964e",
   "metadata": {},
   "outputs": [
    {
     "data": {
      "text/plain": [
       "array([[ 9, 13,  9,  3],\n",
       "       [ 7, 11, 13,  7],\n",
       "       [ 7, 12,  7,  3],\n",
       "       [ 6,  6,  7,  9]], dtype=int32)"
      ]
     },
     "execution_count": 142,
     "metadata": {},
     "output_type": "execute_result"
    }
   ],
   "source": [
    "ar1 | ar2"
   ]
  },
  {
   "cell_type": "code",
   "execution_count": 143,
   "id": "1521412d-1df4-451f-bd91-43f25ef5157b",
   "metadata": {},
   "outputs": [
    {
     "data": {
      "text/plain": [
       "array([[ -2,  -6,  -9,  -2],\n",
       "       [ -8, -10,  -6,  -5],\n",
       "       [ -7,  -9,  -7,  -4],\n",
       "       [ -7,  -5,  -2,  -2]], dtype=int32)"
      ]
     },
     "execution_count": 143,
     "metadata": {},
     "output_type": "execute_result"
    }
   ],
   "source": [
    "~ar1"
   ]
  },
  {
   "cell_type": "code",
   "execution_count": 144,
   "id": "0bc13f6e-e240-4e63-9453-98af55e2f983",
   "metadata": {},
   "outputs": [
    {
     "data": {
      "text/plain": [
       "array([[False, False,  True, False],\n",
       "       [ True,  True, False,  True],\n",
       "       [ True,  True,  True,  True],\n",
       "       [False, False, False, False]])"
      ]
     },
     "execution_count": 144,
     "metadata": {},
     "output_type": "execute_result"
    }
   ],
   "source": [
    "ar1 > ar2"
   ]
  },
  {
   "cell_type": "code",
   "execution_count": 145,
   "id": "8ca7e977-6a72-48b2-8646-6f098e627581",
   "metadata": {},
   "outputs": [],
   "source": [
    "arr = np.array([\"swayam\",\"swarup\"])"
   ]
  },
  {
   "cell_type": "code",
   "execution_count": 146,
   "id": "cc43ec6a-70e9-4bfc-a7d1-1d8fc9d132e1",
   "metadata": {},
   "outputs": [
    {
     "data": {
      "text/plain": [
       "array(['SWAYAM', 'SWARUP'], dtype='<U6')"
      ]
     },
     "execution_count": 146,
     "metadata": {},
     "output_type": "execute_result"
    }
   ],
   "source": [
    "np.char.upper(arr)"
   ]
  },
  {
   "cell_type": "code",
   "execution_count": 147,
   "id": "ca191120-771f-4991-818f-8acd348a743e",
   "metadata": {},
   "outputs": [
    {
     "data": {
      "text/plain": [
       "array(['Swayam', 'Swarup'], dtype='<U6')"
      ]
     },
     "execution_count": 147,
     "metadata": {},
     "output_type": "execute_result"
    }
   ],
   "source": [
    "np.char.capitalize(arr)"
   ]
  },
  {
   "cell_type": "code",
   "execution_count": 148,
   "id": "d6930f42-a536-4684-ac4e-b2b121f01520",
   "metadata": {},
   "outputs": [
    {
     "data": {
      "text/plain": [
       "array([[ 0.84147098, -0.95892427,  0.98935825,  0.84147098],\n",
       "       [ 0.6569866 ,  0.41211849, -0.95892427, -0.7568025 ],\n",
       "       [-0.2794155 ,  0.98935825, -0.2794155 ,  0.14112001],\n",
       "       [-0.2794155 , -0.7568025 ,  0.84147098,  0.84147098]])"
      ]
     },
     "execution_count": 148,
     "metadata": {},
     "output_type": "execute_result"
    }
   ],
   "source": [
    "np.sin(ar1)"
   ]
  },
  {
   "cell_type": "code",
   "execution_count": 149,
   "id": "1516c3af-235f-415f-bf29-fafbc48ce7c8",
   "metadata": {},
   "outputs": [
    {
     "data": {
      "text/plain": [
       "array([[ 1.55740772, -3.38051501, -6.79971146,  1.55740772],\n",
       "       [ 0.87144798, -0.45231566, -3.38051501,  1.15782128],\n",
       "       [-0.29100619, -6.79971146, -0.29100619, -0.14254654],\n",
       "       [-0.29100619,  1.15782128,  1.55740772,  1.55740772]])"
      ]
     },
     "execution_count": 149,
     "metadata": {},
     "output_type": "execute_result"
    }
   ],
   "source": [
    "np.tan(ar1)"
   ]
  },
  {
   "cell_type": "code",
   "execution_count": 150,
   "id": "c54d126d-2feb-4c9a-8723-229f17f77802",
   "metadata": {},
   "outputs": [
    {
     "data": {
      "text/plain": [
       "array([[0.        , 0.69897   , 0.90308999, 0.        ],\n",
       "       [0.84509804, 0.95424251, 0.69897   , 0.60205999],\n",
       "       [0.77815125, 0.90308999, 0.77815125, 0.47712125],\n",
       "       [0.77815125, 0.60205999, 0.        , 0.        ]])"
      ]
     },
     "execution_count": 150,
     "metadata": {},
     "output_type": "execute_result"
    }
   ],
   "source": [
    "np.log10(ar1)"
   ]
  },
  {
   "cell_type": "code",
   "execution_count": 151,
   "id": "dce06bc7-7f9c-4c9f-b0c0-d26d2d5b5156",
   "metadata": {},
   "outputs": [
    {
     "data": {
      "text/plain": [
       "np.float64(4.6875)"
      ]
     },
     "execution_count": 151,
     "metadata": {},
     "output_type": "execute_result"
    }
   ],
   "source": [
    "np.mean(ar1)"
   ]
  },
  {
   "cell_type": "code",
   "execution_count": 152,
   "id": "3f62ebd2-68a4-47de-95e4-aeb29609baec",
   "metadata": {},
   "outputs": [
    {
     "data": {
      "text/plain": [
       "np.float64(5.0)"
      ]
     },
     "execution_count": 152,
     "metadata": {},
     "output_type": "execute_result"
    }
   ],
   "source": [
    "np.median(ar1)"
   ]
  },
  {
   "cell_type": "code",
   "execution_count": 153,
   "id": "ecf1cdff-8a5c-44f1-80eb-d8ed17dc649e",
   "metadata": {},
   "outputs": [
    {
     "data": {
      "text/plain": [
       "np.int32(1)"
      ]
     },
     "execution_count": 153,
     "metadata": {},
     "output_type": "execute_result"
    }
   ],
   "source": [
    "np.min(ar1)\n"
   ]
  },
  {
   "cell_type": "code",
   "execution_count": 154,
   "id": "8a494bbc-1553-4ea1-be37-b7150df93b01",
   "metadata": {},
   "outputs": [
    {
     "data": {
      "text/plain": [
       "np.float64(6.83984375)"
      ]
     },
     "execution_count": 154,
     "metadata": {},
     "output_type": "execute_result"
    }
   ],
   "source": [
    "np.var(ar1)"
   ]
  },
  {
   "cell_type": "code",
   "execution_count": 155,
   "id": "43ac6f29-b5a6-4f89-b7d6-642302b22c2e",
   "metadata": {},
   "outputs": [
    {
     "data": {
      "text/plain": [
       "np.int32(9)"
      ]
     },
     "execution_count": 155,
     "metadata": {},
     "output_type": "execute_result"
    }
   ],
   "source": [
    "np.max(ar1)"
   ]
  },
  {
   "cell_type": "markdown",
   "id": "744d981c-96fc-4d49-8577-064e82c49210",
   "metadata": {},
   "source": [
    "#### Sort , Search & Counting Functions"
   ]
  },
  {
   "cell_type": "code",
   "execution_count": 157,
   "id": "242f99c1-0861-48ca-98d1-67a44acbffa6",
   "metadata": {},
   "outputs": [],
   "source": [
    "arr = np.array([4,3,6,78,34,23,10,54,7,3,9,100,0,0,0,0,0])"
   ]
  },
  {
   "cell_type": "code",
   "execution_count": 158,
   "id": "3723c6b9-38b9-4793-a85d-4038bcf95297",
   "metadata": {},
   "outputs": [],
   "source": [
    "arr1=np.sort(arr)"
   ]
  },
  {
   "cell_type": "code",
   "execution_count": 159,
   "id": "6cf860be-459c-4995-9576-273f4d9312d0",
   "metadata": {},
   "outputs": [
    {
     "data": {
      "text/plain": [
       "array([  0,   0,   0,   0,   0,   3,   3,   4,   6,   7,   9,  10,  23,\n",
       "        34,  54,  78, 100])"
      ]
     },
     "execution_count": 159,
     "metadata": {},
     "output_type": "execute_result"
    }
   ],
   "source": [
    "arr1"
   ]
  },
  {
   "cell_type": "code",
   "execution_count": 160,
   "id": "6246edcc-d1f7-40a9-9864-7e4b69b1652d",
   "metadata": {},
   "outputs": [
    {
     "data": {
      "text/plain": [
       "np.int64(12)"
      ]
     },
     "execution_count": 160,
     "metadata": {},
     "output_type": "execute_result"
    }
   ],
   "source": [
    "np.searchsorted(arr1,22,side=\"right\") # if we didn't provide sorted array the answer would have been different"
   ]
  },
  {
   "cell_type": "code",
   "execution_count": 161,
   "id": "4fa3fffb-42f0-44bb-b748-0fafb12c0f4e",
   "metadata": {},
   "outputs": [
    {
     "data": {
      "text/plain": [
       "12"
      ]
     },
     "execution_count": 161,
     "metadata": {},
     "output_type": "execute_result"
    }
   ],
   "source": [
    "np.count_nonzero(arr1)"
   ]
  },
  {
   "cell_type": "code",
   "execution_count": 162,
   "id": "f44c3d92-b309-4d7e-a34d-7e66e694ecc8",
   "metadata": {},
   "outputs": [
    {
     "data": {
      "text/plain": [
       "(array([ 9, 10, 11, 12, 13, 14, 15, 16]),)"
      ]
     },
     "execution_count": 162,
     "metadata": {},
     "output_type": "execute_result"
    }
   ],
   "source": [
    "np.where(arr1>6) # to find index"
   ]
  },
  {
   "cell_type": "code",
   "execution_count": 163,
   "id": "049054fe-ffe8-4f6f-8645-f08bebc6a8a7",
   "metadata": {},
   "outputs": [
    {
     "data": {
      "text/plain": [
       "array([  7,   9,  10,  23,  34,  54,  78, 100])"
      ]
     },
     "execution_count": 163,
     "metadata": {},
     "output_type": "execute_result"
    }
   ],
   "source": [
    "np.extract(arr1>6,arr1) ##extracting the data"
   ]
  },
  {
   "cell_type": "code",
   "execution_count": 164,
   "id": "6d4866fe-ac40-4c3e-a8a9-cc04121a9de3",
   "metadata": {},
   "outputs": [
    {
     "data": {
      "text/plain": [
       "array([                  0,                   0,                   0,\n",
       "                         0,                   0,  216172782113783808,\n",
       "        216172782113783808,  288230376151711744,  432345564227567616,\n",
       "        504403158265495552,  648518346341351424,  720575940379279360,\n",
       "       1657324662872342528, 2449958197289549824, 3891110078048108544,\n",
       "       5620492334958379008, 7205759403792793600])"
      ]
     },
     "execution_count": 164,
     "metadata": {},
     "output_type": "execute_result"
    }
   ],
   "source": [
    "arr1.byteswap()"
   ]
  },
  {
   "cell_type": "markdown",
   "id": "24e6dbbb-6d93-4143-84de-7ce16e45c764",
   "metadata": {},
   "source": [
    "### Copies and Views"
   ]
  },
  {
   "cell_type": "code",
   "execution_count": 166,
   "id": "35886edf-ab96-4f68-9fe5-e8eaaf414001",
   "metadata": {},
   "outputs": [],
   "source": [
    "a = np.copy(arr1) ##deep copy"
   ]
  },
  {
   "cell_type": "code",
   "execution_count": 167,
   "id": "84b1e14c-7014-4547-966d-a298d634f878",
   "metadata": {},
   "outputs": [
    {
     "data": {
      "text/plain": [
       "array([  0,   0,   0,   0,   0,   3,   3,   4,   6,   7,   9,  10,  23,\n",
       "        34,  54,  78, 100])"
      ]
     },
     "execution_count": 167,
     "metadata": {},
     "output_type": "execute_result"
    }
   ],
   "source": [
    "a"
   ]
  },
  {
   "cell_type": "code",
   "execution_count": 168,
   "id": "e7b3b407-71eb-4e3a-abc9-4ec6800fa3c7",
   "metadata": {},
   "outputs": [],
   "source": [
    "b = arr1.view() ##shallow copy "
   ]
  },
  {
   "cell_type": "code",
   "execution_count": 169,
   "id": "6ea4a82e-f3f8-4200-a993-bb3457b2737e",
   "metadata": {},
   "outputs": [],
   "source": [
    "b[5] =65"
   ]
  },
  {
   "cell_type": "code",
   "execution_count": 170,
   "id": "2ce57223-57e6-4309-8620-91936f1bbc64",
   "metadata": {},
   "outputs": [
    {
     "data": {
      "text/plain": [
       "array([  0,   0,   0,   0,   0,  65,   3,   4,   6,   7,   9,  10,  23,\n",
       "        34,  54,  78, 100])"
      ]
     },
     "execution_count": 170,
     "metadata": {},
     "output_type": "execute_result"
    }
   ],
   "source": [
    "b"
   ]
  },
  {
   "cell_type": "code",
   "execution_count": 171,
   "id": "1aa3341c-0046-4abd-b887-a86caf6aa53a",
   "metadata": {},
   "outputs": [
    {
     "data": {
      "text/plain": [
       "array([  0,   0,   0,   0,   0,  65,   3,   4,   6,   7,   9,  10,  23,\n",
       "        34,  54,  78, 100])"
      ]
     },
     "execution_count": 171,
     "metadata": {},
     "output_type": "execute_result"
    }
   ],
   "source": [
    "arr1"
   ]
  },
  {
   "cell_type": "markdown",
   "id": "e6081081-7945-4be8-b91b-8c9c32e9d6c3",
   "metadata": {},
   "source": [
    "### Matrix Library"
   ]
  },
  {
   "cell_type": "code",
   "execution_count": 173,
   "id": "3d3ee03c-85de-4ba6-b65f-ed19e22dfee7",
   "metadata": {},
   "outputs": [],
   "source": [
    "import numpy.matlib as nm"
   ]
  },
  {
   "cell_type": "code",
   "execution_count": 174,
   "id": "b6c5385f-7f79-499a-b541-85575e081af9",
   "metadata": {},
   "outputs": [
    {
     "data": {
      "text/plain": [
       "matrix([[0., 0., 0., 0., 0.]])"
      ]
     },
     "execution_count": 174,
     "metadata": {},
     "output_type": "execute_result"
    }
   ],
   "source": [
    "nm.zeros(5)"
   ]
  },
  {
   "cell_type": "code",
   "execution_count": 175,
   "id": "58daa80a-ab3f-472b-9866-2199fca3b672",
   "metadata": {},
   "outputs": [
    {
     "data": {
      "text/plain": [
       "matrix([[  0,   0,   0,   0,   0,  65,   3,   4,   6,   7,   9,  10,  23,\n",
       "          34,  54,  78, 100]])"
      ]
     },
     "execution_count": 175,
     "metadata": {},
     "output_type": "execute_result"
    }
   ],
   "source": [
    "nm.matrix(arr1)"
   ]
  },
  {
   "cell_type": "markdown",
   "id": "52d6474b-180f-455c-b677-62dcdaf9a1d8",
   "metadata": {},
   "source": [
    "#### LINEAR ALGEBRA"
   ]
  },
  {
   "cell_type": "code",
   "execution_count": 177,
   "id": "deb0845f-76c5-494f-9bcf-8c727759127e",
   "metadata": {},
   "outputs": [],
   "source": [
    "arr1 = np.array([[1,2,4],[3,5,6],[7,8,9]])"
   ]
  },
  {
   "cell_type": "code",
   "execution_count": 178,
   "id": "b481e7d5-e1ad-47b9-b6d7-c904bc96210a",
   "metadata": {},
   "outputs": [
    {
     "data": {
      "text/plain": [
       "array([16.34363271, -1.89308522,  0.54945251])"
      ]
     },
     "execution_count": 178,
     "metadata": {},
     "output_type": "execute_result"
    }
   ],
   "source": [
    "np.linalg.eigvals(arr1)"
   ]
  },
  {
   "cell_type": "code",
   "execution_count": 179,
   "id": "2e66c049-8e99-49b1-bfd7-6c3e80f1f368",
   "metadata": {},
   "outputs": [
    {
     "data": {
      "text/plain": [
       "np.int64(3)"
      ]
     },
     "execution_count": 179,
     "metadata": {},
     "output_type": "execute_result"
    }
   ],
   "source": [
    "np.linalg.matrix_rank(arr1)"
   ]
  },
  {
   "cell_type": "markdown",
   "id": "bfb64520-e8ef-448b-8f51-8401d65a7e51",
   "metadata": {},
   "source": [
    "#### Append and Delete"
   ]
  },
  {
   "cell_type": "code",
   "execution_count": 181,
   "id": "c2c94ce2-8801-4511-94b1-05d8df09fcec",
   "metadata": {},
   "outputs": [],
   "source": [
    "ar1 = np.random.randint(1,10,(4,4))"
   ]
  },
  {
   "cell_type": "code",
   "execution_count": 182,
   "id": "0e50518c-7b25-403f-9c8a-7b81010fe280",
   "metadata": {},
   "outputs": [
    {
     "data": {
      "text/plain": [
       "array([[2, 9, 8, 1],\n",
       "       [2, 4, 7, 7],\n",
       "       [6, 7, 4, 4],\n",
       "       [6, 8, 9, 1]], dtype=int32)"
      ]
     },
     "execution_count": 182,
     "metadata": {},
     "output_type": "execute_result"
    }
   ],
   "source": [
    "ar1"
   ]
  },
  {
   "cell_type": "code",
   "execution_count": 183,
   "id": "3d5d04e4-13e9-4d4d-936e-366ec7716665",
   "metadata": {},
   "outputs": [],
   "source": [
    "ar2 = np.random.randint(1,10,(4,4))"
   ]
  },
  {
   "cell_type": "code",
   "execution_count": 184,
   "id": "af099d43-b9df-46f5-b7ea-49b0f14e84a5",
   "metadata": {},
   "outputs": [
    {
     "data": {
      "text/plain": [
       "array([[8, 9, 6, 9],\n",
       "       [1, 3, 1, 3],\n",
       "       [1, 7, 7, 5],\n",
       "       [1, 9, 5, 7]], dtype=int32)"
      ]
     },
     "execution_count": 184,
     "metadata": {},
     "output_type": "execute_result"
    }
   ],
   "source": [
    "ar2"
   ]
  },
  {
   "cell_type": "code",
   "execution_count": 185,
   "id": "f938814a-df10-438b-91c1-ecd588f8fe70",
   "metadata": {},
   "outputs": [
    {
     "data": {
      "text/plain": [
       "array([2, 9, 8, 1, 2, 4, 7, 7, 6, 7, 4, 4, 6, 8, 9, 1, 8, 9, 6, 9, 1, 3,\n",
       "       1, 3, 1, 7, 7, 5, 1, 9, 5, 7], dtype=int32)"
      ]
     },
     "execution_count": 185,
     "metadata": {},
     "output_type": "execute_result"
    }
   ],
   "source": [
    "np.append(ar1,ar2)"
   ]
  },
  {
   "cell_type": "code",
   "execution_count": 186,
   "id": "d20b35b4-4e7b-46ea-997b-b7db279df985",
   "metadata": {},
   "outputs": [
    {
     "data": {
      "text/plain": [
       "matrix([[2, 8, 1, 2, 4, 7, 7, 6, 7, 4, 4, 6, 8, 9, 1]], dtype=int32)"
      ]
     },
     "execution_count": 186,
     "metadata": {},
     "output_type": "execute_result"
    }
   ],
   "source": [
    "nm.matrix(np.delete(ar1,1))"
   ]
  },
  {
   "cell_type": "markdown",
   "id": "5294f191-00af-4996-a233-30b4f27b7451",
   "metadata": {},
   "source": [
    "#### Identify Missing Values"
   ]
  },
  {
   "cell_type": "code",
   "execution_count": 188,
   "id": "10566bb4-d127-402f-9ce2-fb6927e25a00",
   "metadata": {},
   "outputs": [
    {
     "name": "stdout",
     "output_type": "stream",
     "text": [
      "[False False  True False  True False]\n"
     ]
    }
   ],
   "source": [
    "data = np.array([1, 2, np.nan, 4, np.nan, 6])\n",
    "has_missing = np.isnan(data)\n",
    "print(has_missing)"
   ]
  },
  {
   "cell_type": "markdown",
   "id": "12ff661a-6bcc-49d6-8c7b-56eda5cbd51d",
   "metadata": {},
   "source": [
    "####  Combining Arrays"
   ]
  },
  {
   "cell_type": "code",
   "execution_count": 190,
   "id": "dbc8b49f-818a-4316-9851-f844f3cefcf4",
   "metadata": {},
   "outputs": [],
   "source": [
    "arr1 = np.array([1, 2, 3])\n",
    "arr2 = np.array([4, 5, 6])"
   ]
  },
  {
   "cell_type": "code",
   "execution_count": 191,
   "id": "7af9983c-24af-43a5-b8b2-f38a0684272e",
   "metadata": {},
   "outputs": [
    {
     "data": {
      "text/plain": [
       "array([1, 2, 3, 4, 5, 6])"
      ]
     },
     "execution_count": 191,
     "metadata": {},
     "output_type": "execute_result"
    }
   ],
   "source": [
    "np.concatenate((arr1,arr2))"
   ]
  },
  {
   "cell_type": "code",
   "execution_count": 192,
   "id": "71f46300-583d-40bd-9d15-406ece59dd2e",
   "metadata": {},
   "outputs": [
    {
     "data": {
      "text/plain": [
       "array([1, 2, 3, 4, 5, 6])"
      ]
     },
     "execution_count": 192,
     "metadata": {},
     "output_type": "execute_result"
    }
   ],
   "source": [
    "np.hstack((arr1,arr2))"
   ]
  },
  {
   "cell_type": "code",
   "execution_count": 193,
   "id": "a7316a49-f9ac-4f36-9abf-b28369976689",
   "metadata": {},
   "outputs": [
    {
     "data": {
      "text/plain": [
       "array([[1, 2, 3],\n",
       "       [4, 5, 6]])"
      ]
     },
     "execution_count": 193,
     "metadata": {},
     "output_type": "execute_result"
    }
   ],
   "source": [
    "np.vstack((arr1,arr2))"
   ]
  },
  {
   "cell_type": "code",
   "execution_count": 194,
   "id": "95bfdf69-c4ea-4b06-af72-052d41a1fd43",
   "metadata": {},
   "outputs": [],
   "source": [
    "arr1 = np.array([[1,2,3,4], [5,6,7,8]])\n",
    "arr2 = np.array([[8,7,6,5], [4,3,2,1]])"
   ]
  },
  {
   "cell_type": "code",
   "execution_count": 195,
   "id": "df31cfaa-d822-4096-9042-cbf8dc50f78b",
   "metadata": {},
   "outputs": [],
   "source": [
    "arr = np.concatenate((arr1,arr2),axis=0)"
   ]
  },
  {
   "cell_type": "code",
   "execution_count": 196,
   "id": "4af6a464-7250-4cdf-b77d-850e63fe73ec",
   "metadata": {},
   "outputs": [
    {
     "data": {
      "text/plain": [
       "array([[1, 2, 3, 4],\n",
       "       [5, 6, 7, 8],\n",
       "       [8, 7, 6, 5],\n",
       "       [4, 3, 2, 1]])"
      ]
     },
     "execution_count": 196,
     "metadata": {},
     "output_type": "execute_result"
    }
   ],
   "source": [
    "arr"
   ]
  },
  {
   "cell_type": "code",
   "execution_count": 197,
   "id": "8b4e28af-d116-4483-ac1b-238a8af58363",
   "metadata": {},
   "outputs": [
    {
     "data": {
      "text/plain": [
       "[array([[1, 2],\n",
       "        [5, 6],\n",
       "        [8, 7],\n",
       "        [4, 3]]),\n",
       " array([[3, 4],\n",
       "        [7, 8],\n",
       "        [6, 5],\n",
       "        [2, 1]])]"
      ]
     },
     "execution_count": 197,
     "metadata": {},
     "output_type": "execute_result"
    }
   ],
   "source": [
    "np.hsplit(arr,2)"
   ]
  },
  {
   "cell_type": "code",
   "execution_count": 198,
   "id": "0af682b5-2632-424d-84e1-f80b84337bde",
   "metadata": {},
   "outputs": [
    {
     "data": {
      "text/plain": [
       "[array([[1, 2, 3, 4],\n",
       "        [5, 6, 7, 8]]),\n",
       " array([[8, 7, 6, 5],\n",
       "        [4, 3, 2, 1]])]"
      ]
     },
     "execution_count": 198,
     "metadata": {},
     "output_type": "execute_result"
    }
   ],
   "source": [
    "np.vsplit(arr,2)"
   ]
  },
  {
   "cell_type": "markdown",
   "id": "3d39f857-2366-4455-8cf9-3508eaffb0cc",
   "metadata": {},
   "source": [
    "#### Splitting of arrays"
   ]
  },
  {
   "cell_type": "code",
   "execution_count": 200,
   "id": "4f154038-d2e4-4e5f-88c6-b21fbeb7bac1",
   "metadata": {},
   "outputs": [],
   "source": [
    "arr1 = np.array([[1,2,3,4,5,6,7],[8,9,10,11,12,13,14]])"
   ]
  },
  {
   "cell_type": "code",
   "execution_count": 201,
   "id": "fe91766d-eb7e-4804-aa2d-0e796dbcfd7d",
   "metadata": {},
   "outputs": [],
   "source": [
    "arr3 = arr1.flatten()"
   ]
  },
  {
   "cell_type": "code",
   "execution_count": 202,
   "id": "6d38ce60-b9c8-4c1d-8152-6df790204c98",
   "metadata": {},
   "outputs": [
    {
     "data": {
      "text/plain": [
       "array([ 1,  2,  3,  4,  5,  6,  7,  8,  9, 10, 11, 12, 13, 14])"
      ]
     },
     "execution_count": 202,
     "metadata": {},
     "output_type": "execute_result"
    }
   ],
   "source": [
    "arr3"
   ]
  },
  {
   "cell_type": "code",
   "execution_count": 203,
   "id": "130e33b1-61c1-4725-89e0-643ab2527e4a",
   "metadata": {},
   "outputs": [
    {
     "data": {
      "text/plain": [
       "[array([[1, 2, 3, 4, 5, 6, 7]]), array([[ 8,  9, 10, 11, 12, 13, 14]])]"
      ]
     },
     "execution_count": 203,
     "metadata": {},
     "output_type": "execute_result"
    }
   ],
   "source": [
    "np.split(arr1,2)"
   ]
  },
  {
   "cell_type": "code",
   "execution_count": 204,
   "id": "a1dfaa2f-950a-4a99-88ce-f06bf01ef077",
   "metadata": {},
   "outputs": [
    {
     "data": {
      "text/plain": [
       "[array([1, 2]),\n",
       " array([3, 4]),\n",
       " array([5, 6]),\n",
       " array([7, 8]),\n",
       " array([ 9, 10]),\n",
       " array([11, 12]),\n",
       " array([13, 14])]"
      ]
     },
     "execution_count": 204,
     "metadata": {},
     "output_type": "execute_result"
    }
   ],
   "source": [
    "np.split(arr3,7)"
   ]
  },
  {
   "cell_type": "code",
   "execution_count": 205,
   "id": "79339653-05b1-4a67-8edf-994643c18df6",
   "metadata": {},
   "outputs": [],
   "source": [
    "arr1 = np.array([[1,2,3,4], [5,6,7,8]])\n",
    "arr2 = np.array([[8,7,6,5], [4,3,2,1]])"
   ]
  },
  {
   "cell_type": "code",
   "execution_count": 206,
   "id": "cbff8ede-b9b0-472c-91ef-ca80da6babad",
   "metadata": {},
   "outputs": [],
   "source": [
    "arr = np.concatenate((arr1,arr2),axis=0)"
   ]
  },
  {
   "cell_type": "code",
   "execution_count": 207,
   "id": "51e29cd7-65e4-440b-8bf5-705fecbd6fa1",
   "metadata": {},
   "outputs": [
    {
     "data": {
      "text/plain": [
       "array([[1, 2, 3, 4],\n",
       "       [5, 6, 7, 8],\n",
       "       [8, 7, 6, 5],\n",
       "       [4, 3, 2, 1]])"
      ]
     },
     "execution_count": 207,
     "metadata": {},
     "output_type": "execute_result"
    }
   ],
   "source": [
    "arr"
   ]
  },
  {
   "cell_type": "code",
   "execution_count": 208,
   "id": "c7dc3d07-69c5-41c3-85f6-74092fd3e670",
   "metadata": {},
   "outputs": [
    {
     "data": {
      "text/plain": [
       "[array([[1, 2],\n",
       "        [5, 6],\n",
       "        [8, 7],\n",
       "        [4, 3]]),\n",
       " array([[3, 4],\n",
       "        [7, 8],\n",
       "        [6, 5],\n",
       "        [2, 1]])]"
      ]
     },
     "execution_count": 208,
     "metadata": {},
     "output_type": "execute_result"
    }
   ],
   "source": [
    "np.hsplit(arr,2)"
   ]
  },
  {
   "cell_type": "code",
   "execution_count": 209,
   "id": "f220cc4e-7f4a-4e35-b44b-ed0ab9825755",
   "metadata": {},
   "outputs": [
    {
     "data": {
      "text/plain": [
       "[array([[1, 2, 3, 4],\n",
       "        [5, 6, 7, 8]]),\n",
       " array([[8, 7, 6, 5],\n",
       "        [4, 3, 2, 1]])]"
      ]
     },
     "execution_count": 209,
     "metadata": {},
     "output_type": "execute_result"
    }
   ],
   "source": [
    "np.vsplit(arr,2)"
   ]
  },
  {
   "cell_type": "code",
   "execution_count": null,
   "id": "31f62378-d976-413f-b8a0-e8827d2334a5",
   "metadata": {},
   "outputs": [],
   "source": []
  }
 ],
 "metadata": {
  "kernelspec": {
   "display_name": "base",
   "language": "python",
   "name": "python3"
  },
  "language_info": {
   "codemirror_mode": {
    "name": "ipython",
    "version": 3
   },
   "file_extension": ".py",
   "mimetype": "text/x-python",
   "name": "python",
   "nbconvert_exporter": "python",
   "pygments_lexer": "ipython3",
   "version": "3.12.4"
  }
 },
 "nbformat": 4,
 "nbformat_minor": 5
}
