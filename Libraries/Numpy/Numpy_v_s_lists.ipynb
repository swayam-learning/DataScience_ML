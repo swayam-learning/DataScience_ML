{
  "cells": [
    {
      "cell_type": "markdown",
      "metadata": {
        "id": "erTblSWfVIBG"
      },
      "source": [
        "# Numpy v/s PythonLists"
      ]
    },
    {
      "cell_type": "code",
      "execution_count": 2,
      "metadata": {
        "colab": {
          "base_uri": "https://localhost:8080/"
        },
        "id": "nQc2EWHmT6a_",
        "outputId": "d23f6982-db9f-4aa1-f2c3-3da168af71c4"
      },
      "outputs": [
        {
          "name": "stdout",
          "output_type": "stream",
          "text": [
            "0.1669330596923828\n"
          ]
        }
      ],
      "source": [
        "import time\n",
        "a = [i for i in range(1000000)]\n",
        "b = [i for i  in range (1000000)]\n",
        "c = []\n",
        "start_time = time.time()\n",
        "for i in range(len(a)):\n",
        "    c.append(a[i]+b[i])\n",
        "print(time.time()-start_time)"
      ]
    },
    {
      "cell_type": "code",
      "execution_count": 3,
      "metadata": {
        "colab": {
          "base_uri": "https://localhost:8080/"
        },
        "id": "nQHcXyLcUdaB",
        "outputId": "2d0d9328-9320-4b2b-a3f5-5e716ded402f"
      },
      "outputs": [
        {
          "name": "stdout",
          "output_type": "stream",
          "text": [
            "0.008547067642211914\n"
          ]
        }
      ],
      "source": [
        "import numpy as np\n",
        "a = np.array([i for i in range(1000000)])\n",
        "b = np.array([i for i  in range (1000000)])\n",
        "start_time = time.time()\n",
        "c = a+b\n",
        "print(time.time()-start_time)"
      ]
    },
    {
      "cell_type": "code",
      "execution_count": 6,
      "metadata": {
        "id": "Tzi5g3-uU0yt"
      },
      "outputs": [],
      "source": [
        "# numpy is faster"
      ]
    },
    {
      "cell_type": "code",
      "execution_count": null,
      "metadata": {
        "id": "_lu3Gb4MVBGp"
      },
      "outputs": [],
      "source": []
    },
    {
      "cell_type": "markdown",
      "metadata": {
        "id": "K005E5LBVRMl"
      },
      "source": [
        "### Memory difference"
      ]
    },
    {
      "cell_type": "code",
      "execution_count": 7,
      "metadata": {
        "colab": {
          "base_uri": "https://localhost:8080/"
        },
        "id": "MlgVKv6tVVHg",
        "outputId": "7343c52d-d429-40b6-f19d-1e0cfd849c2d"
      },
      "outputs": [
        {
          "data": {
            "text/plain": [
              "8448728"
            ]
          },
          "execution_count": 7,
          "metadata": {},
          "output_type": "execute_result"
        }
      ],
      "source": [
        "import sys\n",
        "a = [i for i in range(1000000)]\n",
        "sys.getsizeof(a)"
      ]
    },
    {
      "cell_type": "code",
      "execution_count": 8,
      "metadata": {
        "colab": {
          "base_uri": "https://localhost:8080/"
        },
        "id": "EhOPceDWVbbJ",
        "outputId": "299f3be4-2c7a-4c4f-96a6-607721077fe6"
      },
      "outputs": [
        {
          "data": {
            "text/plain": [
              "8000112"
            ]
          },
          "execution_count": 8,
          "metadata": {},
          "output_type": "execute_result"
        }
      ],
      "source": [
        "a = np.array([i for i in range(1000000)])\n",
        "sys.getsizeof(a)"
      ]
    },
    {
      "cell_type": "code",
      "execution_count": 9,
      "metadata": {
        "id": "SSUme2BwVhYG"
      },
      "outputs": [],
      "source": [
        "# numpy and lists are at similar memory consumption but we can change the datatypes in numpy for lesser space"
      ]
    },
    {
      "cell_type": "code",
      "execution_count": null,
      "metadata": {
        "id": "J8CnqQbAVv_c"
      },
      "outputs": [],
      "source": []
    }
  ],
  "metadata": {
    "colab": {
      "provenance": []
    },
    "kernelspec": {
      "display_name": "base",
      "language": "python",
      "name": "python3"
    },
    "language_info": {
      "codemirror_mode": {
        "name": "ipython",
        "version": 3
      },
      "file_extension": ".py",
      "mimetype": "text/x-python",
      "name": "python",
      "nbconvert_exporter": "python",
      "pygments_lexer": "ipython3",
      "version": "3.12.4"
    }
  },
  "nbformat": 4,
  "nbformat_minor": 0
}
