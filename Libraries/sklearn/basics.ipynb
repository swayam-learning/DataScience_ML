{
 "cells": [
  {
   "cell_type": "markdown",
   "metadata": {},
   "source": [
    "\n",
    "0. Dataset Preparation: This initial step involves collecting. cleaning, and organizing\n",
    "as data collection, data cleaning (handling missing values, removing duplicates ect.) data transformation (feature engineering, scaling,encoding categorical variables, etc.), and splitting the data into traininöand testing sets.\n",
    "\n",
    "1. Model Instantiation: In this step, you select the appropriate model or algorithm to use for your specific problem. This involves choosing\n",
    "from a variety of machine learning or statistical models such as linear regression, decision trees. neural networks, etc. Additionally, you\n",
    "set up the parameters and configuration of the model.\n",
    "\n",
    "2. Model Fitting or Training: Once the model is instantiated, it needs to be trained on the prepared dataset. During training, the model learns\n",
    "the patterns and relationships within the data. This involves feeding the training data into the model and adjusting the model's parameters\n",
    "iteratively to minimize the difference between the actual values and the predicted values. The goal is to optimize the model's performance\n",
    "on the training data."
   ]
  },
  {
   "cell_type": "code",
   "execution_count": null,
   "metadata": {},
   "outputs": [],
   "source": []
  }
 ],
 "metadata": {
  "kernelspec": {
   "display_name": "base",
   "language": "python",
   "name": "python3"
  },
  "language_info": {
   "name": "python",
   "version": "3.12.4"
  }
 },
 "nbformat": 4,
 "nbformat_minor": 2
}
