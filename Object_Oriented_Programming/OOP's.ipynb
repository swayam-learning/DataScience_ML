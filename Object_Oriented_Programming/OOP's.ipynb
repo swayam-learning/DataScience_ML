{
 "cells": [
  {
   "cell_type": "markdown",
   "id": "d3704a31-7437-4beb-a0d5-8378c70c0a24",
   "metadata": {},
   "source": [
    "## OOP's stands for Object Oriented Programming"
   ]
  },
  {
   "cell_type": "markdown",
   "id": "46458ab4-1156-46f1-9dcd-114bdfa20656",
   "metadata": {},
   "source": [
    "Class is a  **blueprint** for eg:if i tell you to search for a car you would instantly how a car looks it has 4 wheels , two rear view mirrors ,a windshield ,and an engine,wipers front and back ,but when i tell you the color of the car the shape of the car the brand of the car these are the features or attributes of your car similarly **class is the car and it has a certain attributes which we define for that class**"
   ]
  },
  {
   "attachments": {
    "aa604993-e0cd-4e30-b74e-9d6e13426864.png": {
     "image/png": "[encoded data removed]"
    }
   },
   "cell_type": "markdown",
   "id": "04b23e26-a25b-4c2c-9974-36da911b6cc7",
   "metadata": {},
   "source": [
    "Class can also be said as a classification of real world entity but objecst are the real world entity\n",
    "for eg a=1 now it belong class in if we check the type of a and in python evrything is an object but\n",
    "In Python, when you define a = 1, you are creating a variable a and assigning it the value 1. However, in Python, everything is an object, including integers.\n",
    "\n",
    "In this case, 1 is an instance(object) of the int class, which represents integers in Python. When you do a = 1, you are creating an object a that is an instance of the int class with a value of 1.![image.png](attachment:aa604993-e0cd-4e30-b74e-9d6e13426864.png)"
   ]
  },
  {
   "cell_type": "code",
   "execution_count": 3,
   "id": "af42a89b",
   "metadata": {},
   "outputs": [],
   "source": [
    "a=15\n",
    "def learning_global():\n",
    "    a=a+5\n",
    "    print(a)"
   ]
  },
  {
   "cell_type": "code",
   "execution_count": 4,
   "id": "0c033269",
   "metadata": {},
   "outputs": [
    {
     "ename": "UnboundLocalError",
     "evalue": "cannot access local variable 'a' where it is not associated with a value",
     "output_type": "error",
     "traceback": [
      "\u001b[1;31m---------------------------------------------------------------------------\u001b[0m",
      "\u001b[1;31mUnboundLocalError\u001b[0m                         Traceback (most recent call last)",
      "Cell \u001b[1;32mIn[4], line 1\u001b[0m\n\u001b[1;32m----> 1\u001b[0m learning_global()\n",
      "Cell \u001b[1;32mIn[3], line 3\u001b[0m, in \u001b[0;36mlearning_global\u001b[1;34m()\u001b[0m\n\u001b[0;32m      2\u001b[0m \u001b[38;5;28;01mdef\u001b[39;00m \u001b[38;5;21mlearning_global\u001b[39m():\n\u001b[1;32m----> 3\u001b[0m     a\u001b[38;5;241m=\u001b[39ma\u001b[38;5;241m+\u001b[39m\u001b[38;5;241m5\u001b[39m\n\u001b[0;32m      4\u001b[0m     \u001b[38;5;28mprint\u001b[39m(a)\n",
      "\u001b[1;31mUnboundLocalError\u001b[0m: cannot access local variable 'a' where it is not associated with a value"
     ]
    }
   ],
   "source": [
    "learning_global() ## here we are unable to change the global variable in order to do so we use global keyword"
   ]
  },
  {
   "cell_type": "code",
   "execution_count": 5,
   "id": "a873f20a",
   "metadata": {},
   "outputs": [],
   "source": [
    "def learning_global():\n",
    "    global a\n",
    "    a=a+5\n",
    "    print(a)"
   ]
  },
  {
   "cell_type": "code",
   "execution_count": 6,
   "id": "8b3f8c20",
   "metadata": {},
   "outputs": [
    {
     "name": "stdout",
     "output_type": "stream",
     "text": [
      "20\n"
     ]
    }
   ],
   "source": [
    "learning_global()"
   ]
  },
  {
   "cell_type": "code",
   "execution_count": 1,
   "id": "904939c0",
   "metadata": {},
   "outputs": [],
   "source": [
    "arr=[10,20,30]\n"
   ]
  },
  {
   "cell_type": "code",
   "execution_count": 2,
   "id": "35d01674",
   "metadata": {},
   "outputs": [],
   "source": [
    "def learning_global():\n",
    "    arr[1]=40\n",
    "    return arr ## no error because arrays are mutable and we are just reassigning the values"
   ]
  },
  {
   "cell_type": "code",
   "execution_count": 3,
   "id": "65bc215f",
   "metadata": {},
   "outputs": [
    {
     "data": {
      "text/plain": [
       "[10, 40, 30]"
      ]
     },
     "execution_count": 3,
     "metadata": {},
     "output_type": "execute_result"
    }
   ],
   "source": [
    "learning_global()"
   ]
  },
  {
   "cell_type": "code",
   "execution_count": 4,
   "id": "81edbc96-8eda-45bb-9d06-f7d2e59e908f",
   "metadata": {},
   "outputs": [
    {
     "data": {
      "text/plain": [
       "[10, 40, 30]"
      ]
     },
     "execution_count": 4,
     "metadata": {},
     "output_type": "execute_result"
    }
   ],
   "source": [
    "arr"
   ]
  },
  {
   "cell_type": "code",
   "execution_count": 8,
   "id": "25a3b3f3",
   "metadata": {},
   "outputs": [],
   "source": [
    "def learning_global():\n",
    "    arr=[123,3434,3434]\n",
    "    return arr"
   ]
  },
  {
   "cell_type": "code",
   "execution_count": 9,
   "id": "20e93a44",
   "metadata": {},
   "outputs": [
    {
     "data": {
      "text/plain": [
       "[123, 3434, 3434]"
      ]
     },
     "execution_count": 9,
     "metadata": {},
     "output_type": "execute_result"
    }
   ],
   "source": [
    "learning_global()"
   ]
  },
  {
   "cell_type": "code",
   "execution_count": 10,
   "id": "1313b9f2",
   "metadata": {},
   "outputs": [
    {
     "data": {
      "text/plain": [
       "[10, 40, 30]"
      ]
     },
     "execution_count": 10,
     "metadata": {},
     "output_type": "execute_result"
    }
   ],
   "source": [
    "arr ## the actual arr was not changed, inside the function python created another list arr and assigned new values to it \n",
    "## in order to make changes to the original array list we will use global"
   ]
  },
  {
   "cell_type": "code",
   "execution_count": 11,
   "id": "1e30702a",
   "metadata": {},
   "outputs": [],
   "source": [
    "def learning_global():\n",
    "    global arr\n",
    "    arr=[223,242,12432]\n",
    "    return arr"
   ]
  },
  {
   "cell_type": "code",
   "execution_count": 12,
   "id": "0dd2d651",
   "metadata": {},
   "outputs": [
    {
     "data": {
      "text/plain": [
       "[223, 242, 12432]"
      ]
     },
     "execution_count": 12,
     "metadata": {},
     "output_type": "execute_result"
    }
   ],
   "source": [
    "learning_global()"
   ]
  },
  {
   "cell_type": "code",
   "execution_count": 13,
   "id": "fbf91cbf",
   "metadata": {},
   "outputs": [
    {
     "data": {
      "text/plain": [
       "[223, 242, 12432]"
      ]
     },
     "execution_count": 13,
     "metadata": {},
     "output_type": "execute_result"
    }
   ],
   "source": [
    "arr#changed after calling the function because of global keyword"
   ]
  },
  {
   "cell_type": "code",
   "execution_count": 1,
   "id": "75490120-a184-4ed1-a010-bf60d1e08833",
   "metadata": {
    "tags": []
   },
   "outputs": [],
   "source": [
    "a=1"
   ]
  },
  {
   "cell_type": "code",
   "execution_count": 3,
   "id": "36d5b251-ab2e-4ab8-a730-a68332b6fb29",
   "metadata": {
    "tags": []
   },
   "outputs": [
    {
     "name": "stdout",
     "output_type": "stream",
     "text": [
      "<class 'int'>\n"
     ]
    }
   ],
   "source": [
    "print(type(a))"
   ]
  },
  {
   "cell_type": "code",
   "execution_count": 4,
   "id": "ca4d345c-d1a1-477c-9c50-cc2aaf5217a4",
   "metadata": {
    "tags": []
   },
   "outputs": [],
   "source": [
    "class test:\n",
    "    pass"
   ]
  },
  {
   "cell_type": "markdown",
   "id": "2830e71a-c3b1-45cf-a7f0-abe6f4d2c2ed",
   "metadata": {},
   "source": [
    "what is the need of using class?\n",
    "\n",
    "class provides a structure which provides modularity for different functions which is easier to maintain and more scalable,reusable"
   ]
  },
  {
   "cell_type": "code",
   "execution_count": 5,
   "id": "85ee92a4-d227-4e38-a7e2-98c275f5e459",
   "metadata": {
    "tags": []
   },
   "outputs": [],
   "source": [
    "a=test()"
   ]
  },
  {
   "cell_type": "code",
   "execution_count": 6,
   "id": "870c1869-8b85-4ab6-add8-65c118c2983d",
   "metadata": {
    "tags": []
   },
   "outputs": [
    {
     "data": {
      "text/plain": [
       "__main__.test"
      ]
     },
     "execution_count": 6,
     "metadata": {},
     "output_type": "execute_result"
    }
   ],
   "source": [
    "type(a)"
   ]
  },
  {
   "cell_type": "code",
   "execution_count": 7,
   "id": "7154d0ec-84d8-41ae-982b-842f0a40a59d",
   "metadata": {
    "tags": []
   },
   "outputs": [
    {
     "name": "stdout",
     "output_type": "stream",
     "text": [
      "<class '__main__.test'>\n"
     ]
    }
   ],
   "source": [
    "print(type(a))"
   ]
  },
  {
   "cell_type": "markdown",
   "id": "89db3ab5-585d-4ecd-b3a8-d09c7131b1ef",
   "metadata": {},
   "source": [
    "\n",
    "**in the context of oops any function written inside a class is called as method**"
   ]
  },
  {
   "cell_type": "code",
   "execution_count": 12,
   "id": "8479216b-0295-4917-9a02-5f1ec9ebf084",
   "metadata": {
    "tags": []
   },
   "outputs": [],
   "source": [
    "class pwskills:\n",
    "    def welcome_message(self):\n",
    "        print(\"Welcome to pwskills\")"
   ]
  },
  {
   "cell_type": "code",
   "execution_count": 13,
   "id": "f17985b1-3ec4-4a8d-9d71-fbbecdf8670e",
   "metadata": {
    "tags": []
   },
   "outputs": [],
   "source": [
    "swayam = pwskills() ##object swayam created"
   ]
  },
  {
   "cell_type": "code",
   "execution_count": 15,
   "id": "593b70a9-891b-4cf3-886a-99092f1fefc1",
   "metadata": {
    "tags": []
   },
   "outputs": [
    {
     "name": "stdout",
     "output_type": "stream",
     "text": [
      "Welcome to pwskills\n"
     ]
    }
   ],
   "source": [
    "swayam.welcome_message()"
   ]
  },
  {
   "cell_type": "code",
   "execution_count": 16,
   "id": "c53bb5d0-dcd9-44bb-84a2-43263ca0fd2b",
   "metadata": {
    "tags": []
   },
   "outputs": [],
   "source": [
    "rohan=pwskills()"
   ]
  },
  {
   "cell_type": "code",
   "execution_count": 17,
   "id": "16e213d7-5935-4562-a69c-819c785422e7",
   "metadata": {
    "tags": []
   },
   "outputs": [
    {
     "name": "stdout",
     "output_type": "stream",
     "text": [
      "Welcome to pwskills\n"
     ]
    }
   ],
   "source": [
    "rohan.welcome_message()"
   ]
  },
  {
   "cell_type": "code",
   "execution_count": 18,
   "id": "389e93ba-5981-4c04-ae0f-0ee45794af57",
   "metadata": {
    "tags": []
   },
   "outputs": [
    {
     "name": "stdout",
     "output_type": "stream",
     "text": [
      "<class 'int'>\n"
     ]
    }
   ],
   "source": [
    "print(type(1))"
   ]
  },
  {
   "cell_type": "code",
   "execution_count": 6,
   "id": "e72ea68f-f571-4a24-a30f-671aa6fa6190",
   "metadata": {},
   "outputs": [
    {
     "name": "stdout",
     "output_type": "stream",
     "text": [
      "120\n"
     ]
    }
   ],
   "source": [
    "#factorial program in recursion\n",
    "def func1(n):\n",
    "    if(n<=1):\n",
    "        return n\n",
    "    return n*func1(n-1)\n",
    "\n",
    "n=5\n",
    "print(func1(n))"
   ]
  },
  {
   "cell_type": "code",
   "execution_count": 21,
   "id": "b3af9d07-c2b0-479a-9d56-de88c5ce35fb",
   "metadata": {
    "tags": []
   },
   "outputs": [],
   "source": [
    "class pwskills:\n",
    "    def __init__(self,name,age,roll_no):\n",
    "        #init is basically constructor\n",
    "        self.name = name\n",
    "        self.age = age\n",
    "        self.roll_no = roll_no\n",
    "    def return_msg(self):\n",
    "        return self.name,self.age,self.roll_no"
   ]
  },
  {
   "cell_type": "code",
   "execution_count": 22,
   "id": "abb2078f-d579-471c-a086-d0283e3238a1",
   "metadata": {
    "tags": []
   },
   "outputs": [
    {
     "ename": "TypeError",
     "evalue": "pwskills.__init__() missing 3 required positional arguments: 'name', 'age', and 'roll_no'",
     "output_type": "error",
     "traceback": [
      "\u001b[1;31m---------------------------------------------------------------------------\u001b[0m",
      "\u001b[1;31mTypeError\u001b[0m                                 Traceback (most recent call last)",
      "Cell \u001b[1;32mIn[22], line 1\u001b[0m\n\u001b[1;32m----> 1\u001b[0m swayam \u001b[38;5;241m=\u001b[39m pwskills()\n",
      "\u001b[1;31mTypeError\u001b[0m: pwskills.__init__() missing 3 required positional arguments: 'name', 'age', and 'roll_no'"
     ]
    }
   ],
   "source": [
    "swayam = pwskills() #we have to pass the argument"
   ]
  },
  {
   "cell_type": "code",
   "execution_count": 23,
   "id": "9953f975-94ed-4321-8c24-6bafcca9c148",
   "metadata": {
    "tags": []
   },
   "outputs": [],
   "source": [
    "s1 = pwskills(\"swayam\",22,22)"
   ]
  },
  {
   "cell_type": "code",
   "execution_count": 24,
   "id": "14e2ea6d-20bd-4dec-9826-065aab3de8c8",
   "metadata": {
    "tags": []
   },
   "outputs": [
    {
     "data": {
      "text/plain": [
       "('swayam', 22, 22)"
      ]
     },
     "execution_count": 24,
     "metadata": {},
     "output_type": "execute_result"
    }
   ],
   "source": [
    "s1.return_msg()"
   ]
  },
  {
   "cell_type": "markdown",
   "id": "72ce25b7-feda-4c3a-9d00-a4ac79651ad4",
   "metadata": {},
   "source": [
    "##### if we want to access anything inside the class we will have to use self keyword and if we want to access somenthing outside we can use object.variable_name(the variable name should be the one that is associated with the self keyword) to access it"
   ]
  },
  {
   "cell_type": "code",
   "execution_count": 25,
   "id": "f48d26a8-30d9-469e-8473-2a69fd7ccab4",
   "metadata": {
    "tags": []
   },
   "outputs": [
    {
     "data": {
      "text/plain": [
       "'swayam'"
      ]
     },
     "execution_count": 25,
     "metadata": {},
     "output_type": "execute_result"
    }
   ],
   "source": [
    "s1.name"
   ]
  },
  {
   "cell_type": "code",
   "execution_count": 26,
   "id": "ddf54253-eaa3-4620-b259-60139f86e5c2",
   "metadata": {
    "tags": []
   },
   "outputs": [
    {
     "data": {
      "text/plain": [
       "22"
      ]
     },
     "execution_count": 26,
     "metadata": {},
     "output_type": "execute_result"
    }
   ],
   "source": [
    "s1.age"
   ]
  },
  {
   "cell_type": "code",
   "execution_count": 27,
   "id": "41d3f371-bad9-41dc-ab0d-d20f2792e12a",
   "metadata": {
    "tags": []
   },
   "outputs": [
    {
     "data": {
      "text/plain": [
       "22"
      ]
     },
     "execution_count": 27,
     "metadata": {},
     "output_type": "execute_result"
    }
   ],
   "source": [
    "s1.roll_no"
   ]
  },
  {
   "cell_type": "markdown",
   "id": "7195d2a0-a57d-4c75-90eb-3b07bad20a81",
   "metadata": {},
   "source": [
    "##### self is not reserved keyword it basically acts as an pointer which binds the class with the functions and the variables ,we can use any name instead of self aything that will be written first in the def init will be acting like self "
   ]
  },
  {
   "cell_type": "code",
   "execution_count": 58,
   "id": "947ed32a-f7a1-4860-a507-989606dae606",
   "metadata": {
    "tags": []
   },
   "outputs": [],
   "source": [
    "class mathematics:\n",
    "    def __init__(self,num):\n",
    "        self.num=num\n",
    "        \n",
    "    def fact(self):\n",
    "        if(self.num<=1):\n",
    "            return self.num\n",
    "        return self.num*mathematics(self.num-1).fact()"
   ]
  },
  {
   "cell_type": "code",
   "execution_count": 59,
   "id": "d8ab0577-ee39-41aa-b536-f7361c4d70fe",
   "metadata": {
    "tags": []
   },
   "outputs": [],
   "source": [
    "a = mathematics(10)"
   ]
  },
  {
   "cell_type": "code",
   "execution_count": 60,
   "id": "5247afb3-ed7d-4927-96b4-61712a940415",
   "metadata": {
    "tags": []
   },
   "outputs": [
    {
     "data": {
      "text/plain": [
       "3628800"
      ]
     },
     "execution_count": 60,
     "metadata": {},
     "output_type": "execute_result"
    }
   ],
   "source": [
    "a.fact()"
   ]
  },
  {
   "cell_type": "code",
   "execution_count": 66,
   "id": "e4e79370-871f-47e6-ac10-bdf9d27a8bf9",
   "metadata": {},
   "outputs": [],
   "source": [
    "## program to recursively call to fin nth fibonacci number\n",
    "class learning:\n",
    "    def __init__(self,n):\n",
    "        self.num=n\n",
    "    def fibo(self):\n",
    "        if(self.num<2):\n",
    "            return self.num\n",
    "        return learning(self.num-2).fibo()+learning(self.num-1).fibo()"
   ]
  },
  {
   "cell_type": "code",
   "execution_count": 67,
   "id": "692585e7-6a4b-4667-b334-c8360de96d98",
   "metadata": {
    "tags": []
   },
   "outputs": [],
   "source": [
    "a=learning(10)"
   ]
  },
  {
   "cell_type": "code",
   "execution_count": 68,
   "id": "cf4e9004-8016-4452-a395-69cd78ccb2c2",
   "metadata": {
    "tags": []
   },
   "outputs": [
    {
     "data": {
      "text/plain": [
       "55"
      ]
     },
     "execution_count": 68,
     "metadata": {},
     "output_type": "execute_result"
    }
   ],
   "source": [
    "a.fibo()"
   ]
  },
  {
   "cell_type": "markdown",
   "id": "e2bfb606-2c99-4b1d-acea-73be1bf91d30",
   "metadata": {},
   "source": [
    "### Polymorphism"
   ]
  },
  {
   "cell_type": "markdown",
   "id": "5a4257eb-c6af-4846-827f-e90dfae837a8",
   "metadata": {},
   "source": [
    "##### the base entity remains same but the behaviour becomes different accoridng to the requirements"
   ]
  },
  {
   "cell_type": "code",
   "execution_count": 85,
   "id": "e7411ec2-d395-401c-b669-ddbb32b8280b",
   "metadata": {
    "tags": []
   },
   "outputs": [],
   "source": [
    "class data_science:\n",
    "    def syllabus(self):\n",
    "        print(\"this is the syallbus for data science\")"
   ]
  },
  {
   "cell_type": "code",
   "execution_count": 86,
   "id": "96e52303-bce3-409a-a216-dc8d0ec709d9",
   "metadata": {
    "tags": []
   },
   "outputs": [],
   "source": [
    "class web_dev:\n",
    "    def syllabus(self):\n",
    "        print(\"this is the syllabus for web development\")"
   ]
  },
  {
   "cell_type": "code",
   "execution_count": 87,
   "id": "eee0cb17-0ac6-488c-8880-7cc2da7a46f5",
   "metadata": {
    "tags": []
   },
   "outputs": [],
   "source": [
    "def object(class_object):\n",
    "    for i in class_object:\n",
    "        i.syllabus()"
   ]
  },
  {
   "cell_type": "code",
   "execution_count": 88,
   "id": "1fc74330-cf5b-498b-9909-c5cc85cc931c",
   "metadata": {
    "tags": []
   },
   "outputs": [],
   "source": [
    "ds = data_science()"
   ]
  },
  {
   "cell_type": "code",
   "execution_count": 89,
   "id": "45dbdbd6-1ddd-4406-b461-b939d97ea463",
   "metadata": {
    "tags": []
   },
   "outputs": [],
   "source": [
    "wd = web_dev()"
   ]
  },
  {
   "cell_type": "code",
   "execution_count": 90,
   "id": "cac6a5bc-2a98-4c95-b120-49119d65594f",
   "metadata": {
    "tags": []
   },
   "outputs": [],
   "source": [
    "class_object=[ds,wd]"
   ]
  },
  {
   "cell_type": "code",
   "execution_count": 91,
   "id": "010b7d68-85c6-45a5-a58b-41e1b772d128",
   "metadata": {
    "tags": []
   },
   "outputs": [
    {
     "name": "stdout",
     "output_type": "stream",
     "text": [
      "this is the syallbus for data science\n",
      "this is the syllabus for web development\n"
     ]
    }
   ],
   "source": [
    "object(class_object)"
   ]
  },
  {
   "cell_type": "markdown",
   "id": "a591c604-4ac4-4728-b6a8-534c106c84c9",
   "metadata": {},
   "source": [
    "##### the class_object implements the concept of polymorphism by changing its behaviour according to the function called."
   ]
  },
  {
   "cell_type": "markdown",
   "id": "ccae2688-4404-4250-82b8-d183578ff680",
   "metadata": {},
   "source": [
    "### Encapsulation"
   ]
  },
  {
   "cell_type": "code",
   "execution_count": 1,
   "id": "705482e2-c37c-4d97-adbb-d954ba77144d",
   "metadata": {
    "tags": []
   },
   "outputs": [],
   "source": [
    "class test:\n",
    "    def __init__ (self,a,b):\n",
    "        self.a = a\n",
    "        self.b = b"
   ]
  },
  {
   "cell_type": "code",
   "execution_count": 2,
   "id": "60a9e4b6-240a-4aff-bf37-f2fb1ec26498",
   "metadata": {
    "tags": []
   },
   "outputs": [],
   "source": [
    "b = test(12,\"swayam\")"
   ]
  },
  {
   "cell_type": "code",
   "execution_count": 4,
   "id": "b6c84169-a1be-4dc9-b5b0-87f3a27538a9",
   "metadata": {
    "tags": []
   },
   "outputs": [
    {
     "data": {
      "text/plain": [
       "12"
      ]
     },
     "execution_count": 4,
     "metadata": {},
     "output_type": "execute_result"
    }
   ],
   "source": [
    "b.a## on clicking tab here it suggest you the instance variables"
   ]
  },
  {
   "cell_type": "code",
   "execution_count": 5,
   "id": "75b4e0a2-c192-452f-b9b2-706b52fdc32b",
   "metadata": {},
   "outputs": [],
   "source": [
    "class test1:\n",
    "    def __init__(self,year,speed,model,color):\n",
    "        self.__year=year\n",
    "        self.__speed=speed ##__ means they are name-mangled and their names are changed to include class names \n",
    "        self.__model=model\n",
    "        self.__color=color"
   ]
  },
  {
   "cell_type": "code",
   "execution_count": 6,
   "id": "9000622f-9762-4480-9082-24620731fa77",
   "metadata": {
    "tags": []
   },
   "outputs": [],
   "source": [
    "a=test1(2023,0,\"tesla-e\",\"red\")"
   ]
  },
  {
   "cell_type": "code",
   "execution_count": 22,
   "id": "b456f849-23f7-4f04-9d2c-0a96c540f4c6",
   "metadata": {
    "tags": []
   },
   "outputs": [
    {
     "data": {
      "text/plain": [
       "2023"
      ]
     },
     "execution_count": 22,
     "metadata": {},
     "output_type": "execute_result"
    }
   ],
   "source": [
    "a._test1__year ## here when we press tab it won't show you the instances of this class it encapsulates that"
   ]
  },
  {
   "cell_type": "code",
   "execution_count": 17,
   "id": "e01aa661-5054-47e2-9892-309f7f2c6648",
   "metadata": {
    "tags": []
   },
   "outputs": [],
   "source": [
    "class test1:\n",
    "    def __init__(self,year,speed,model,color):\n",
    "        self.__year=year\n",
    "        self.__speed=speed\n",
    "        self.__model=model\n",
    "        self.__color=color\n",
    "    def set_speed(self,speed):\n",
    "        self.__speed = 0 if speed<0 else speed\n",
    "    def get_speed(self):\n",
    "        return self.__speed"
   ]
  },
  {
   "cell_type": "code",
   "execution_count": 18,
   "id": "f7d3c149-6ebe-48e4-b532-65ccc4db5ca0",
   "metadata": {
    "tags": []
   },
   "outputs": [],
   "source": [
    "a=test1(2023,0,\"tesla-e\",\"red\")"
   ]
  },
  {
   "cell_type": "code",
   "execution_count": 24,
   "id": "f130d3f2-a3a4-40dd-8763-e61e5858910d",
   "metadata": {},
   "outputs": [
    {
     "data": {
      "text/plain": [
       "0"
      ]
     },
     "execution_count": 24,
     "metadata": {},
     "output_type": "execute_result"
    }
   ],
   "source": [
    "a._test1__speed"
   ]
  },
  {
   "cell_type": "code",
   "execution_count": 45,
   "id": "137ee91d-9c23-4aaf-9a4a-65e9ea100bca",
   "metadata": {
    "tags": []
   },
   "outputs": [],
   "source": [
    "a.set_speed(20)"
   ]
  },
  {
   "cell_type": "code",
   "execution_count": 46,
   "id": "2b3eda62-84cc-417a-93a5-6765caf47ddf",
   "metadata": {
    "tags": []
   },
   "outputs": [
    {
     "data": {
      "text/plain": [
       "20"
      ]
     },
     "execution_count": 46,
     "metadata": {},
     "output_type": "execute_result"
    }
   ],
   "source": [
    "a.get_speed()"
   ]
  },
  {
   "cell_type": "markdown",
   "id": "3643a430-40e0-4e1e-95c2-e8927f2a8379",
   "metadata": {},
   "source": [
    " in the above code we have hidden the details like model,year,color from the user and \n",
    " when we click tab it does not show the instances but we have made the speed viisble for the users and allowed \n",
    " to change the speed and get the value of speed if the value entered satisfies the conditions"
   ]
  },
  {
   "cell_type": "code",
   "execution_count": 31,
   "id": "5176e48c-12c4-4272-9060-09cd52b788b8",
   "metadata": {
    "tags": []
   },
   "outputs": [],
   "source": [
    "class swayam:\n",
    "    def learning(self,years,speeds,models,colors):\n",
    "        self.__year=years\n",
    "        self.__speed=speeds  \n",
    "        self.__model=models\n",
    "        self.__color=colors"
   ]
  },
  {
   "cell_type": "code",
   "execution_count": 32,
   "id": "2cf5d2a5-be23-40db-ba23-f3218c5aec14",
   "metadata": {
    "tags": []
   },
   "outputs": [],
   "source": [
    "obj=swayam()"
   ]
  },
  {
   "cell_type": "code",
   "execution_count": 29,
   "id": "58abcbb1-e313-413b-ba52-0bff1c3121cc",
   "metadata": {
    "tags": []
   },
   "outputs": [],
   "source": [
    "obj.learning(2023,0,\"tesla-e\",\"red\")"
   ]
  },
  {
   "cell_type": "code",
   "execution_count": 30,
   "id": "078b00e1-bd27-43e0-9f54-01187f6b3c92",
   "metadata": {
    "tags": []
   },
   "outputs": [
    {
     "data": {
      "text/plain": [
       "2023"
      ]
     },
     "execution_count": 30,
     "metadata": {},
     "output_type": "execute_result"
    }
   ],
   "source": [
    "obj._swayam__year"
   ]
  },
  {
   "cell_type": "markdown",
   "id": "ba0f35df-71cb-41f2-87ff-e203291cd860",
   "metadata": {},
   "source": [
    "if we dont use __init__ sometimes we might face problems like Name erro while creating the object so \n",
    "if we want to use any other name as the function name we can first a create an object of that class and then call the function"
   ]
  },
  {
   "cell_type": "markdown",
   "id": "481597c6-cf08-42b0-9ad2-d5f51f62b106",
   "metadata": {},
   "source": [
    "in case of __init__ it is by default called for the python "
   ]
  },
  {
   "cell_type": "code",
   "execution_count": 51,
   "id": "96ea440c-7434-4ac3-b6fe-8ce2c17966a5",
   "metadata": {
    "tags": []
   },
   "outputs": [],
   "source": [
    "class School:\n",
    "    def __init__(self,name,age,roll_no,email_id,phone_no,marks,admission_no):\n",
    "        self.__name=name\n",
    "        self.__age=age\n",
    "        self.__rollno=roll_no\n",
    "        self.__email_id=email_id\n",
    "        self.__marks=marks\n",
    "        self.__phone_no=phone_no\n",
    "        self.__admission_no=admission_no\n",
    "    def admin_changes(self,roll_no,marks,email_id,phone_no):\n",
    "        self.__rollno = roll_no if roll_no<0 else roll_no\n",
    "        self.__marks = marks\n",
    "        self.__email_id = email_id if email_id.isalnum() else print(\"enter email id which is alphanumeric\")\n",
    "        self.__phone_no=phone_no if len(phone_no)==10 else print(\"length of phone is not 10 digits\")\n",
    "        \n",
    "    def shows_changes(self,choice):\n",
    "        match (choice):\n",
    "            case 0:\n",
    "                return self.__rollno\n",
    "            case 1:\n",
    "                return self.__marks\n",
    "            case 2:\n",
    "                return self.__email_id\n",
    "            case 3:\n",
    "                return self.__phone_no\n",
    "        "
   ]
  },
  {
   "cell_type": "code",
   "execution_count": 52,
   "id": "888e8113-7335-4e24-8c6d-61aaf2bbf77e",
   "metadata": {
    "tags": []
   },
   "outputs": [],
   "source": [
    "class_obj=School(\"swayam\",20,22,\"swayamrock25@gmail.com\",\"9348139639\",90,12205790)"
   ]
  },
  {
   "cell_type": "code",
   "execution_count": 53,
   "id": "4726b7d3-a0c7-4716-8a75-01e3705537a0",
   "metadata": {
    "tags": []
   },
   "outputs": [
    {
     "data": {
      "text/plain": [
       "'swayam'"
      ]
     },
     "execution_count": 53,
     "metadata": {},
     "output_type": "execute_result"
    }
   ],
   "source": [
    "class_obj._School__name"
   ]
  },
  {
   "cell_type": "code",
   "execution_count": 54,
   "id": "1efca29c-23d9-462d-bfc7-b41dc360f0f2",
   "metadata": {
    "tags": []
   },
   "outputs": [],
   "source": [
    "class_obj.admin_changes(22,90,\"swayambarik25gmailcom\",\"9999999999\")"
   ]
  },
  {
   "cell_type": "code",
   "execution_count": 55,
   "id": "f8b67a7f-5d1b-4c9b-bf5b-a00c9bbe4f54",
   "metadata": {
    "tags": []
   },
   "outputs": [
    {
     "data": {
      "text/plain": [
       "'swayambarik25gmailcom'"
      ]
     },
     "execution_count": 55,
     "metadata": {},
     "output_type": "execute_result"
    }
   ],
   "source": [
    "class_obj.shows_changes(2)"
   ]
  },
  {
   "cell_type": "code",
   "execution_count": 56,
   "id": "d1b6b753-3ed9-409d-9fdd-f0abeefefb44",
   "metadata": {
    "tags": []
   },
   "outputs": [
    {
     "ename": "AttributeError",
     "evalue": "'School' object has no attribute '__name'",
     "output_type": "error",
     "traceback": [
      "\u001b[1;31m---------------------------------------------------------------------------\u001b[0m",
      "\u001b[1;31mAttributeError\u001b[0m                            Traceback (most recent call last)",
      "Cell \u001b[1;32mIn[56], line 1\u001b[0m\n\u001b[1;32m----> 1\u001b[0m class_obj\u001b[38;5;241m.\u001b[39m__name\n",
      "\u001b[1;31mAttributeError\u001b[0m: 'School' object has no attribute '__name'"
     ]
    }
   ],
   "source": [
    "class_obj.__name \n",
    "## even though School class has an attribute name still it shows it doesnot have it becaseu of hiding it"
   ]
  },
  {
   "cell_type": "markdown",
   "id": "9e7e6e90-8214-4dd8-be76-2caa73466e4a",
   "metadata": {},
   "source": [
    "## Inheritance"
   ]
  },
  {
   "cell_type": "code",
   "execution_count": 57,
   "id": "3cf4384e-0de6-4a98-bbd8-15704537184d",
   "metadata": {
    "tags": []
   },
   "outputs": [],
   "source": [
    "class test:\n",
    "    def test_math(self):\n",
    "        return \"this is my first class\"\n",
    "    "
   ]
  },
  {
   "cell_type": "code",
   "execution_count": 59,
   "id": "c5351ece-c80e-4390-bc4b-220c6e3c8169",
   "metadata": {
    "tags": []
   },
   "outputs": [],
   "source": [
    "class child_test(test):\n",
    "    pass\n",
    "    "
   ]
  },
  {
   "cell_type": "code",
   "execution_count": 60,
   "id": "a64d0097-98d2-460a-8e27-189501908fa4",
   "metadata": {
    "tags": []
   },
   "outputs": [],
   "source": [
    "child_test_obj=child_test()"
   ]
  },
  {
   "cell_type": "code",
   "execution_count": 61,
   "id": "586021c4-247b-4857-8141-145aa31a4389",
   "metadata": {
    "tags": []
   },
   "outputs": [
    {
     "data": {
      "text/plain": [
       "'this is my first class'"
      ]
     },
     "execution_count": 61,
     "metadata": {},
     "output_type": "execute_result"
    }
   ],
   "source": [
    "child_test_obj.test_math()"
   ]
  },
  {
   "cell_type": "markdown",
   "id": "cea9d420-6a46-4383-9796-69a2f404d513",
   "metadata": {},
   "source": [
    "## Multilevel inheritance\n",
    "class1--->class2---->class3\n",
    "so indirectly class3 also inherits class1"
   ]
  },
  {
   "cell_type": "code",
   "execution_count": 90,
   "id": "1181ee5f-276d-47cb-9097-0673e6528ae2",
   "metadata": {
    "tags": []
   },
   "outputs": [],
   "source": [
    "class class1:\n",
    "    def test_class1(self):\n",
    "         return \"this is a method from class1\""
   ]
  },
  {
   "cell_type": "code",
   "execution_count": 91,
   "id": "f549a0ff-c815-4a5c-b6cb-a7c3a237c7cf",
   "metadata": {
    "tags": []
   },
   "outputs": [],
   "source": [
    "class class2(class1):\n",
    "    def test_class2(self):\n",
    "        return \"this is a method from class2\""
   ]
  },
  {
   "cell_type": "code",
   "execution_count": 92,
   "id": "59144f87-8911-482e-9968-160dae272a8c",
   "metadata": {
    "tags": []
   },
   "outputs": [],
   "source": [
    "class class3(class2):\n",
    "    pass"
   ]
  },
  {
   "cell_type": "code",
   "execution_count": 93,
   "id": "b402948a-199f-41ec-a2f0-4699114fbbc2",
   "metadata": {
    "tags": []
   },
   "outputs": [],
   "source": [
    "obj=class3()"
   ]
  },
  {
   "cell_type": "code",
   "execution_count": 94,
   "id": "0e953c7b-8ea0-454f-9980-4591437810c5",
   "metadata": {
    "tags": []
   },
   "outputs": [
    {
     "data": {
      "text/plain": [
       "'this is a method from class1'"
      ]
     },
     "execution_count": 94,
     "metadata": {},
     "output_type": "execute_result"
    }
   ],
   "source": [
    "obj.test_class1()"
   ]
  },
  {
   "cell_type": "code",
   "execution_count": 95,
   "id": "aa627127-8f68-4c55-871a-0a398ff343fe",
   "metadata": {
    "tags": []
   },
   "outputs": [
    {
     "data": {
      "text/plain": [
       "'this is a method from class2'"
      ]
     },
     "execution_count": 95,
     "metadata": {},
     "output_type": "execute_result"
    }
   ],
   "source": [
    "obj.test_class2()"
   ]
  },
  {
   "cell_type": "markdown",
   "id": "56ff1f8a-9487-4839-bdf9-c3cafe5bec8f",
   "metadata": {},
   "source": [
    "## Multiple inheritance"
   ]
  },
  {
   "cell_type": "markdown",
   "id": "cf79f21c-027e-4a3b-bdd5-52b8fd16fd2f",
   "metadata": {},
   "source": [
    "\n",
    "class1,class2------>class3\n",
    "class3 inherits properites from class1 and class2"
   ]
  },
  {
   "cell_type": "code",
   "execution_count": 96,
   "id": "b9f84ad6-7073-40b3-9a95-372a831bdff0",
   "metadata": {
    "tags": []
   },
   "outputs": [],
   "source": [
    "class class1:\n",
    "    def test_class1(self):\n",
    "        return \"this is a method from class 1\""
   ]
  },
  {
   "cell_type": "code",
   "execution_count": 97,
   "id": "1b47f464-99eb-4a2a-a943-f7fd31d52f14",
   "metadata": {
    "tags": []
   },
   "outputs": [],
   "source": [
    "class class2:\n",
    "    def test_class2(self):\n",
    "        return \"this is a method from class2\""
   ]
  },
  {
   "cell_type": "code",
   "execution_count": 98,
   "id": "d7bf0819-9f69-4827-8178-5442d11c3bc7",
   "metadata": {
    "tags": []
   },
   "outputs": [],
   "source": [
    "class class3(class1,class2):\n",
    "    pass"
   ]
  },
  {
   "cell_type": "code",
   "execution_count": 99,
   "id": "7c0dd86b-435e-4e02-9f30-2c4c55778fda",
   "metadata": {
    "tags": []
   },
   "outputs": [],
   "source": [
    "obj=class3()"
   ]
  },
  {
   "cell_type": "code",
   "execution_count": 100,
   "id": "0938b9f5-e5b0-4b3e-9ff9-1d0bba291bcd",
   "metadata": {
    "tags": []
   },
   "outputs": [
    {
     "data": {
      "text/plain": [
       "'this is a method from class 1'"
      ]
     },
     "execution_count": 100,
     "metadata": {},
     "output_type": "execute_result"
    }
   ],
   "source": [
    "obj.test_class1()"
   ]
  },
  {
   "cell_type": "code",
   "execution_count": 101,
   "id": "0eba50ba-0dad-424a-b577-49119303849a",
   "metadata": {
    "tags": []
   },
   "outputs": [
    {
     "data": {
      "text/plain": [
       "'this is a method from class2'"
      ]
     },
     "execution_count": 101,
     "metadata": {},
     "output_type": "execute_result"
    }
   ],
   "source": [
    "obj.test_class2()"
   ]
  },
  {
   "cell_type": "markdown",
   "id": "b0cb96e3-7ee4-40e0-85ca-75aa77236190",
   "metadata": {},
   "source": [
    "## Abstraction"
   ]
  },
  {
   "cell_type": "code",
   "execution_count": 112,
   "id": "23a1baf6-c59f-4ba0-9f86-a822f955bd1b",
   "metadata": {
    "tags": []
   },
   "outputs": [],
   "source": [
    "import abc\n",
    "class pwskills:\n",
    "    def students_details(self):\n",
    "        pass\n",
    "    def students_assiagnments(self):\n",
    "        pass\n",
    "    def student_marks(self):\n",
    "        pass\n",
    "    ## this is abstract class which is just blueprint now anypone can inherit it"
   ]
  },
  {
   "cell_type": "code",
   "execution_count": 113,
   "id": "0183b847-b726-456b-9388-7fdd753b0d44",
   "metadata": {
    "tags": []
   },
   "outputs": [],
   "source": [
    "class student_info(pwskills):\n",
    "    def students_details(self):\n",
    "        return \"this is a method for student details\"\n",
    "    def students_assiagnments(self):\n",
    "        return \"this is a method for student assignment marks\""
   ]
  },
  {
   "cell_type": "code",
   "execution_count": 114,
   "id": "ddba23ed-5905-4071-91b6-1777d6175704",
   "metadata": {
    "tags": []
   },
   "outputs": [],
   "source": [
    "class data_science_masters(pwskills):\n",
    "    def student_details(self):\n",
    "        return \"this is a method for student details for masters\"\n",
    "    def students_assiagnments(self):\n",
    "        return \"this is a method for student assignment marks in masters course\""
   ]
  },
  {
   "cell_type": "code",
   "execution_count": 115,
   "id": "7ccad1f1-cb0e-4123-81ee-3711c58ce1e7",
   "metadata": {
    "tags": []
   },
   "outputs": [],
   "source": [
    "dsm = data_science_masters()"
   ]
  },
  {
   "cell_type": "code",
   "execution_count": 116,
   "id": "a008ecba-693c-45fe-952f-1207106e0fb5",
   "metadata": {
    "tags": []
   },
   "outputs": [
    {
     "data": {
      "text/plain": [
       "'this is a method for student details for masters'"
      ]
     },
     "execution_count": 116,
     "metadata": {},
     "output_type": "execute_result"
    }
   ],
   "source": [
    "dsm.student_details()"
   ]
  },
  {
   "cell_type": "code",
   "execution_count": null,
   "id": "fae23bce-9116-45d6-9ad4-46ca1b200712",
   "metadata": {},
   "outputs": [],
   "source": []
  }
 ],
 "metadata": {
  "kernelspec": {
   "display_name": "base",
   "language": "python",
   "name": "python3"
  },
  "language_info": {
   "codemirror_mode": {
    "name": "ipython",
    "version": 3
   },
   "file_extension": ".py",
   "mimetype": "text/x-python",
   "name": "python",
   "nbconvert_exporter": "python",
   "pygments_lexer": "ipython3",
   "version": "3.12.4"
  }
 },
 "nbformat": 4,
 "nbformat_minor": 5
}
