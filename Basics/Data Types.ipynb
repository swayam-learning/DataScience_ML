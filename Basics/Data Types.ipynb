{
 "cells": [
  {
   "cell_type": "markdown",
   "id": "76cf8e4e",
   "metadata": {},
   "source": [
    "## -----List------\n",
    "#### 1. is a collection of heterogenous data type\n",
    "#### 2. it also supports slicing and indexing\n",
    "#### 3. it is mutable whereas string are immutable"
   ]
  },
  {
   "cell_type": "code",
   "execution_count": 1,
   "id": "950da6bb",
   "metadata": {
    "tags": []
   },
   "outputs": [],
   "source": [
    "l = [1,345,45,\"swayam\",\"true\",5+7j,345.456]"
   ]
  },
  {
   "cell_type": "code",
   "execution_count": 2,
   "id": "1ae840f1",
   "metadata": {
    "tags": []
   },
   "outputs": [
    {
     "name": "stdout",
     "output_type": "stream",
     "text": [
      "<class 'list'>\n"
     ]
    }
   ],
   "source": [
    "print(type(l))"
   ]
  },
  {
   "cell_type": "code",
   "execution_count": 3,
   "id": "a29b60c5",
   "metadata": {
    "tags": []
   },
   "outputs": [
    {
     "data": {
      "text/plain": [
       "345"
      ]
     },
     "execution_count": 3,
     "metadata": {},
     "output_type": "execute_result"
    }
   ],
   "source": [
    "l[1]"
   ]
  },
  {
   "cell_type": "code",
   "execution_count": 4,
   "id": "5f566490",
   "metadata": {
    "tags": []
   },
   "outputs": [
    {
     "data": {
      "text/plain": [
       "345.456"
      ]
     },
     "execution_count": 4,
     "metadata": {},
     "output_type": "execute_result"
    }
   ],
   "source": [
    "l[-1]"
   ]
  },
  {
   "cell_type": "code",
   "execution_count": 25,
   "id": "37f4c94f",
   "metadata": {
    "tags": []
   },
   "outputs": [
    {
     "data": {
      "text/plain": [
       "7"
      ]
     },
     "execution_count": 25,
     "metadata": {},
     "output_type": "execute_result"
    }
   ],
   "source": [
    "len(l)"
   ]
  },
  {
   "cell_type": "code",
   "execution_count": 26,
   "id": "d8656e88",
   "metadata": {
    "tags": []
   },
   "outputs": [
    {
     "data": {
      "text/plain": [
       "[345, 45]"
      ]
     },
     "execution_count": 26,
     "metadata": {},
     "output_type": "execute_result"
    }
   ],
   "source": [
    "l[1:3] ## it also show results till upperbound-1"
   ]
  },
  {
   "cell_type": "code",
   "execution_count": 27,
   "id": "4a8c972c",
   "metadata": {
    "tags": []
   },
   "outputs": [
    {
     "data": {
      "text/plain": [
       "[345.456, (5+7j), 'true', 'swayam', 45, 345, 1]"
      ]
     },
     "execution_count": 27,
     "metadata": {},
     "output_type": "execute_result"
    }
   ],
   "source": [
    "l[::-1]"
   ]
  },
  {
   "cell_type": "code",
   "execution_count": null,
   "id": "88e5085c-b336-455d-bbe2-9b828fe8ac79",
   "metadata": {},
   "outputs": [],
   "source": []
  },
  {
   "cell_type": "code",
   "execution_count": 28,
   "id": "aadf4453",
   "metadata": {
    "tags": []
   },
   "outputs": [],
   "source": [
    "s = \"swayam\""
   ]
  },
  {
   "cell_type": "code",
   "execution_count": 29,
   "id": "f23d0201",
   "metadata": {
    "tags": []
   },
   "outputs": [
    {
     "data": {
      "text/plain": [
       "['s', 'w', 'a', 'y', 'a', 'm']"
      ]
     },
     "execution_count": 29,
     "metadata": {},
     "output_type": "execute_result"
    }
   ],
   "source": [
    "list(s)"
   ]
  },
  {
   "cell_type": "code",
   "execution_count": 30,
   "id": "e47b2851",
   "metadata": {
    "tags": []
   },
   "outputs": [
    {
     "data": {
      "text/plain": [
       "['s', 'w', 'a', 'y', 'a', 'm', 1, 345, 45, 'swayam', 'true', (5+7j), 345.456]"
      ]
     },
     "execution_count": 30,
     "metadata": {},
     "output_type": "execute_result"
    }
   ],
   "source": [
    "list(s)+l"
   ]
  },
  {
   "cell_type": "code",
   "execution_count": 31,
   "id": "f26a6322",
   "metadata": {
    "tags": []
   },
   "outputs": [
    {
     "data": {
      "text/plain": [
       "[1, 345, 45, 'swayam', 'true', (5+7j), 345.456]"
      ]
     },
     "execution_count": 31,
     "metadata": {},
     "output_type": "execute_result"
    }
   ],
   "source": [
    "l"
   ]
  },
  {
   "cell_type": "code",
   "execution_count": 32,
   "id": "84cbe6b5",
   "metadata": {
    "tags": []
   },
   "outputs": [
    {
     "data": {
      "text/plain": [
       "'sw'"
      ]
     },
     "execution_count": 32,
     "metadata": {},
     "output_type": "execute_result"
    }
   ],
   "source": [
    "l[3][0:2]"
   ]
  },
  {
   "cell_type": "code",
   "execution_count": 33,
   "id": "7c9b058c",
   "metadata": {
    "tags": []
   },
   "outputs": [
    {
     "data": {
      "text/plain": [
       "'t'"
      ]
     },
     "execution_count": 33,
     "metadata": {},
     "output_type": "execute_result"
    }
   ],
   "source": [
    "l[4][0] ##not possible because it is an boolean object"
   ]
  },
  {
   "cell_type": "code",
   "execution_count": 34,
   "id": "dcb1141a",
   "metadata": {
    "tags": []
   },
   "outputs": [
    {
     "data": {
      "text/plain": [
       "'t'"
      ]
     },
     "execution_count": 34,
     "metadata": {},
     "output_type": "execute_result"
    }
   ],
   "source": [
    "str(l[4])[0]"
   ]
  },
  {
   "cell_type": "markdown",
   "id": "777d4dc7",
   "metadata": {},
   "source": [
    "##### we can only concatenate a list ot a list"
   ]
  },
  {
   "cell_type": "code",
   "execution_count": 35,
   "id": "91966de2",
   "metadata": {
    "tags": []
   },
   "outputs": [],
   "source": [
    "l1 = [3,4,5]"
   ]
  },
  {
   "cell_type": "code",
   "execution_count": 36,
   "id": "c19175f0",
   "metadata": {
    "tags": []
   },
   "outputs": [
    {
     "data": {
      "text/plain": [
       "[1, 345, 45, 'swayam', 'true', (5+7j), 345.456, 3, 4, 5]"
      ]
     },
     "execution_count": 36,
     "metadata": {},
     "output_type": "execute_result"
    }
   ],
   "source": [
    "l + l1"
   ]
  },
  {
   "cell_type": "code",
   "execution_count": 37,
   "id": "2a3a57b6",
   "metadata": {
    "tags": []
   },
   "outputs": [
    {
     "data": {
      "text/plain": [
       "[3, 4, 5, 3, 4, 5, 3, 4, 5]"
      ]
     },
     "execution_count": 37,
     "metadata": {},
     "output_type": "execute_result"
    }
   ],
   "source": [
    "l1 * 3"
   ]
  },
  {
   "cell_type": "code",
   "execution_count": 38,
   "id": "90685497",
   "metadata": {
    "tags": []
   },
   "outputs": [],
   "source": [
    "l.append(5)"
   ]
  },
  {
   "cell_type": "code",
   "execution_count": 39,
   "id": "8bbaac7e",
   "metadata": {
    "tags": []
   },
   "outputs": [
    {
     "data": {
      "text/plain": [
       "[1, 345, 45, 'swayam', 'true', (5+7j), 345.456, 5]"
      ]
     },
     "execution_count": 39,
     "metadata": {},
     "output_type": "execute_result"
    }
   ],
   "source": [
    "l"
   ]
  },
  {
   "cell_type": "code",
   "execution_count": 21,
   "id": "acb8e61f",
   "metadata": {
    "tags": []
   },
   "outputs": [
    {
     "data": {
      "text/plain": [
       "5"
      ]
     },
     "execution_count": 21,
     "metadata": {},
     "output_type": "execute_result"
    }
   ],
   "source": [
    "l.pop()"
   ]
  },
  {
   "cell_type": "code",
   "execution_count": 22,
   "id": "9c5d844e",
   "metadata": {
    "tags": []
   },
   "outputs": [
    {
     "data": {
      "text/plain": [
       "1"
      ]
     },
     "execution_count": 22,
     "metadata": {},
     "output_type": "execute_result"
    }
   ],
   "source": [
    "l.count(345)"
   ]
  },
  {
   "cell_type": "code",
   "execution_count": 23,
   "id": "46d13d7d",
   "metadata": {
    "tags": []
   },
   "outputs": [],
   "source": [
    "l.reverse()"
   ]
  },
  {
   "cell_type": "code",
   "execution_count": 24,
   "id": "190a3cb8",
   "metadata": {
    "tags": []
   },
   "outputs": [
    {
     "data": {
      "text/plain": [
       "[345.456, (5+7j), True, 'swayam', 45, 345, 1]"
      ]
     },
     "execution_count": 24,
     "metadata": {},
     "output_type": "execute_result"
    }
   ],
   "source": [
    "l"
   ]
  },
  {
   "cell_type": "code",
   "execution_count": 25,
   "id": "2dfd7937",
   "metadata": {
    "tags": []
   },
   "outputs": [],
   "source": [
    "l.append(\"swarup\")"
   ]
  },
  {
   "cell_type": "code",
   "execution_count": 26,
   "id": "8db81cfd",
   "metadata": {
    "tags": []
   },
   "outputs": [],
   "source": [
    "l.append(l1)"
   ]
  },
  {
   "cell_type": "code",
   "execution_count": 27,
   "id": "b2f5f4c5",
   "metadata": {
    "tags": []
   },
   "outputs": [
    {
     "data": {
      "text/plain": [
       "[345.456, (5+7j), True, 'swayam', 45, 345, 1, 'swarup', [3, 4, 5]]"
      ]
     },
     "execution_count": 27,
     "metadata": {},
     "output_type": "execute_result"
    }
   ],
   "source": [
    "l"
   ]
  },
  {
   "cell_type": "markdown",
   "id": "a973e565",
   "metadata": {},
   "source": [
    "#### we can store a list inside a list"
   ]
  },
  {
   "cell_type": "code",
   "execution_count": 28,
   "id": "9af91826",
   "metadata": {
    "tags": []
   },
   "outputs": [
    {
     "data": {
      "text/plain": [
       "3"
      ]
     },
     "execution_count": 28,
     "metadata": {},
     "output_type": "execute_result"
    }
   ],
   "source": [
    "l[-1][0] ## removing a value from list inside a list"
   ]
  },
  {
   "cell_type": "code",
   "execution_count": 29,
   "id": "cf2f8a63",
   "metadata": {
    "tags": []
   },
   "outputs": [
    {
     "ename": "TypeError",
     "evalue": "'int' object is not iterable",
     "output_type": "error",
     "traceback": [
      "\u001b[1;31m---------------------------------------------------------------------------\u001b[0m",
      "\u001b[1;31mTypeError\u001b[0m                                 Traceback (most recent call last)",
      "Cell \u001b[1;32mIn[29], line 1\u001b[0m\n\u001b[1;32m----> 1\u001b[0m l\u001b[38;5;241m.\u001b[39mextend(\u001b[38;5;241m67\u001b[39m)\n",
      "\u001b[1;31mTypeError\u001b[0m: 'int' object is not iterable"
     ]
    }
   ],
   "source": [
    "l.extend(67)  ## the argument should be iterable inside an extend method\n",
    "## int is not iterable"
   ]
  },
  {
   "cell_type": "code",
   "execution_count": 41,
   "id": "e31b87ce",
   "metadata": {
    "tags": []
   },
   "outputs": [],
   "source": [
    "l.extend(\"barik\")"
   ]
  },
  {
   "cell_type": "code",
   "execution_count": 31,
   "id": "dbf76b55",
   "metadata": {
    "tags": []
   },
   "outputs": [
    {
     "data": {
      "text/plain": [
       "[345.456,\n",
       " (5+7j),\n",
       " True,\n",
       " 'swayam',\n",
       " 45,\n",
       " 345,\n",
       " 1,\n",
       " 'swarup',\n",
       " [3, 4, 5],\n",
       " 'b',\n",
       " 'a',\n",
       " 'r',\n",
       " 'i',\n",
       " 'k']"
      ]
     },
     "execution_count": 31,
     "metadata": {},
     "output_type": "execute_result"
    }
   ],
   "source": [
    "l"
   ]
  },
  {
   "cell_type": "code",
   "execution_count": 32,
   "id": "99b98a54",
   "metadata": {
    "tags": []
   },
   "outputs": [],
   "source": [
    "l.extend([345,689,69])"
   ]
  },
  {
   "cell_type": "code",
   "execution_count": 33,
   "id": "cd1984ae",
   "metadata": {
    "tags": []
   },
   "outputs": [
    {
     "data": {
      "text/plain": [
       "[345.456,\n",
       " (5+7j),\n",
       " True,\n",
       " 'swayam',\n",
       " 45,\n",
       " 345,\n",
       " 1,\n",
       " 'swarup',\n",
       " [3, 4, 5],\n",
       " 'b',\n",
       " 'a',\n",
       " 'r',\n",
       " 'i',\n",
       " 'k',\n",
       " 345,\n",
       " 689,\n",
       " 69]"
      ]
     },
     "execution_count": 33,
     "metadata": {},
     "output_type": "execute_result"
    }
   ],
   "source": [
    "l"
   ]
  },
  {
   "cell_type": "code",
   "execution_count": 64,
   "id": "edad67d5",
   "metadata": {
    "tags": []
   },
   "outputs": [],
   "source": [
    "l1=[3,4,5]"
   ]
  },
  {
   "cell_type": "code",
   "execution_count": 65,
   "id": "32ac6272",
   "metadata": {
    "tags": []
   },
   "outputs": [],
   "source": [
    "l1.insert(2,\"great\") # it helps to insert data at any index"
   ]
  },
  {
   "cell_type": "code",
   "execution_count": 66,
   "id": "76b435f8",
   "metadata": {
    "tags": []
   },
   "outputs": [
    {
     "data": {
      "text/plain": [
       "[3, 4, 'great', 5]"
      ]
     },
     "execution_count": 66,
     "metadata": {},
     "output_type": "execute_result"
    }
   ],
   "source": [
    "l1"
   ]
  },
  {
   "cell_type": "code",
   "execution_count": 67,
   "id": "64a70845",
   "metadata": {
    "tags": []
   },
   "outputs": [],
   "source": [
    "l1.remove(\"great\")"
   ]
  },
  {
   "cell_type": "code",
   "execution_count": 68,
   "id": "5862f5b5",
   "metadata": {
    "tags": []
   },
   "outputs": [
    {
     "data": {
      "text/plain": [
       "[3, 4, 5]"
      ]
     },
     "execution_count": 68,
     "metadata": {},
     "output_type": "execute_result"
    }
   ],
   "source": [
    "l1"
   ]
  },
  {
   "cell_type": "code",
   "execution_count": 69,
   "id": "6ae9ea58",
   "metadata": {
    "tags": []
   },
   "outputs": [],
   "source": [
    "l1.insert(3,\"great\")"
   ]
  },
  {
   "cell_type": "code",
   "execution_count": 70,
   "id": "9a746301",
   "metadata": {
    "tags": []
   },
   "outputs": [
    {
     "data": {
      "text/plain": [
       "[3, 4, 5, 'great']"
      ]
     },
     "execution_count": 70,
     "metadata": {},
     "output_type": "execute_result"
    }
   ],
   "source": [
    "l1"
   ]
  },
  {
   "cell_type": "code",
   "execution_count": 71,
   "id": "17aed40f",
   "metadata": {
    "tags": []
   },
   "outputs": [],
   "source": [
    "l1.remove(\"great\") # remobves the first occurence of the value"
   ]
  },
  {
   "cell_type": "code",
   "execution_count": 72,
   "id": "ef4127a2",
   "metadata": {
    "scrolled": true,
    "tags": []
   },
   "outputs": [
    {
     "ename": "ValueError",
     "evalue": "list.remove(x): x not in list",
     "output_type": "error",
     "traceback": [
      "\u001b[1;31m---------------------------------------------------------------------------\u001b[0m",
      "\u001b[1;31mValueError\u001b[0m                                Traceback (most recent call last)",
      "Cell \u001b[1;32mIn[72], line 1\u001b[0m\n\u001b[1;32m----> 1\u001b[0m l1\u001b[38;5;241m.\u001b[39mremove(\u001b[38;5;124m\"\u001b[39m\u001b[38;5;124mgreat\u001b[39m\u001b[38;5;124m\"\u001b[39m)\n",
      "\u001b[1;31mValueError\u001b[0m: list.remove(x): x not in list"
     ]
    }
   ],
   "source": [
    "l1.remove(\"great\")"
   ]
  },
  {
   "cell_type": "code",
   "execution_count": 73,
   "id": "d4ba16e0",
   "metadata": {
    "tags": []
   },
   "outputs": [],
   "source": [
    "l1.insert(-1,45) # the data has been entered into the -1 position but the isue \n",
    "## the other values have been shifted"
   ]
  },
  {
   "cell_type": "code",
   "execution_count": 74,
   "id": "3863fb6c-483e-4fa1-94c6-8e7e0ee7a435",
   "metadata": {
    "tags": []
   },
   "outputs": [
    {
     "data": {
      "text/plain": [
       "[3, 4, 45, 5]"
      ]
     },
     "execution_count": 74,
     "metadata": {},
     "output_type": "execute_result"
    }
   ],
   "source": [
    "l1"
   ]
  },
  {
   "cell_type": "code",
   "execution_count": 75,
   "id": "8c880311",
   "metadata": {
    "tags": []
   },
   "outputs": [],
   "source": [
    "l1.remove(45)"
   ]
  },
  {
   "cell_type": "code",
   "execution_count": 45,
   "id": "12047087",
   "metadata": {
    "tags": []
   },
   "outputs": [
    {
     "data": {
      "text/plain": [
       "[3, 4, 45, 5]"
      ]
     },
     "execution_count": 45,
     "metadata": {},
     "output_type": "execute_result"
    }
   ],
   "source": [
    "l1"
   ]
  },
  {
   "cell_type": "code",
   "execution_count": 46,
   "id": "c12b2832",
   "metadata": {
    "tags": []
   },
   "outputs": [],
   "source": [
    "l1.insert(2,45)"
   ]
  },
  {
   "cell_type": "code",
   "execution_count": 47,
   "id": "e7efea4a",
   "metadata": {
    "tags": []
   },
   "outputs": [],
   "source": [
    "l1.insert(2,\"great\")"
   ]
  },
  {
   "cell_type": "code",
   "execution_count": 48,
   "id": "c0fa435f",
   "metadata": {
    "tags": []
   },
   "outputs": [
    {
     "data": {
      "text/plain": [
       "'great'"
      ]
     },
     "execution_count": 48,
     "metadata": {},
     "output_type": "execute_result"
    }
   ],
   "source": [
    "l1.pop(2) #index position is removed"
   ]
  },
  {
   "cell_type": "code",
   "execution_count": 49,
   "id": "15f8f301",
   "metadata": {
    "tags": []
   },
   "outputs": [
    {
     "ename": "ValueError",
     "evalue": "list.remove(x): x not in list",
     "output_type": "error",
     "traceback": [
      "\u001b[1;31m---------------------------------------------------------------------------\u001b[0m",
      "\u001b[1;31mValueError\u001b[0m                                Traceback (most recent call last)",
      "Cell \u001b[1;32mIn[49], line 1\u001b[0m\n\u001b[1;32m----> 1\u001b[0m l1\u001b[38;5;241m.\u001b[39mremove(\u001b[38;5;124m\"\u001b[39m\u001b[38;5;124mbr\u001b[39m\u001b[38;5;124m\"\u001b[39m)\n",
      "\u001b[1;31mValueError\u001b[0m: list.remove(x): x not in list"
     ]
    }
   ],
   "source": [
    "l1.remove(\"br\") #if there is nothing then ValueError"
   ]
  },
  {
   "cell_type": "code",
   "execution_count": 50,
   "id": "ffe845a8",
   "metadata": {
    "tags": []
   },
   "outputs": [
    {
     "data": {
      "text/plain": [
       "[3, 4, 45, 45, 5]"
      ]
     },
     "execution_count": 50,
     "metadata": {},
     "output_type": "execute_result"
    }
   ],
   "source": [
    "l1"
   ]
  },
  {
   "cell_type": "code",
   "execution_count": 51,
   "id": "5140483b",
   "metadata": {
    "tags": []
   },
   "outputs": [
    {
     "data": {
      "text/plain": [
       "[345.456,\n",
       " (5+7j),\n",
       " True,\n",
       " 'swayam',\n",
       " 45,\n",
       " 345,\n",
       " 1,\n",
       " 'swarup',\n",
       " [3, 4, 45, 45, 5],\n",
       " 'b',\n",
       " 'a',\n",
       " 'r',\n",
       " 'i',\n",
       " 'k',\n",
       " 345,\n",
       " 689,\n",
       " 69]"
      ]
     },
     "execution_count": 51,
     "metadata": {},
     "output_type": "execute_result"
    }
   ],
   "source": [
    "l"
   ]
  },
  {
   "cell_type": "code",
   "execution_count": 53,
   "id": "5a692632",
   "metadata": {
    "tags": []
   },
   "outputs": [
    {
     "ename": "ValueError",
     "evalue": "list.remove(x): x not in list",
     "output_type": "error",
     "traceback": [
      "\u001b[1;31m---------------------------------------------------------------------------\u001b[0m",
      "\u001b[1;31mValueError\u001b[0m                                Traceback (most recent call last)",
      "Cell \u001b[1;32mIn[53], line 1\u001b[0m\n\u001b[1;32m----> 1\u001b[0m l[\u001b[38;5;241m8\u001b[39m]\u001b[38;5;241m.\u001b[39mremove(\u001b[38;5;241m3\u001b[39m)\n",
      "\u001b[1;31mValueError\u001b[0m: list.remove(x): x not in list"
     ]
    }
   ],
   "source": [
    "l[8].remove(3)"
   ]
  },
  {
   "cell_type": "code",
   "execution_count": 95,
   "id": "2ef3001c",
   "metadata": {
    "tags": []
   },
   "outputs": [
    {
     "data": {
      "text/plain": [
       "[345.456,\n",
       " (5+7j),\n",
       " True,\n",
       " 'swayam',\n",
       " 45,\n",
       " 345,\n",
       " 1,\n",
       " 'swarup',\n",
       " [4, 45, 5],\n",
       " 'b',\n",
       " 'a',\n",
       " 'r',\n",
       " 'i',\n",
       " 'k',\n",
       " 345,\n",
       " 689,\n",
       " 69]"
      ]
     },
     "execution_count": 95,
     "metadata": {},
     "output_type": "execute_result"
    }
   ],
   "source": [
    "l"
   ]
  },
  {
   "cell_type": "code",
   "execution_count": 54,
   "id": "f97c3abc-c3d8-492a-b912-bb7f451e7acf",
   "metadata": {
    "tags": []
   },
   "outputs": [],
   "source": [
    "l2=[3,4,5]"
   ]
  },
  {
   "cell_type": "code",
   "execution_count": 55,
   "id": "ccce8ed9-6cd9-40b6-bb31-baf9243e13a1",
   "metadata": {
    "tags": []
   },
   "outputs": [
    {
     "data": {
      "text/plain": [
       "[5, 4, 3]"
      ]
     },
     "execution_count": 55,
     "metadata": {},
     "output_type": "execute_result"
    }
   ],
   "source": [
    "l2[::-1]## cannot change the orginial list"
   ]
  },
  {
   "cell_type": "code",
   "execution_count": 56,
   "id": "c0954b8a-3103-45bc-a040-ed5738c97556",
   "metadata": {
    "tags": []
   },
   "outputs": [
    {
     "data": {
      "text/plain": [
       "[3, 4, 5]"
      ]
     },
     "execution_count": 56,
     "metadata": {},
     "output_type": "execute_result"
    }
   ],
   "source": [
    "l2"
   ]
  },
  {
   "cell_type": "code",
   "execution_count": 57,
   "id": "35995ff8-7247-4da4-9d80-aa021632d86c",
   "metadata": {
    "tags": []
   },
   "outputs": [],
   "source": [
    "l2.reverse()##changes the original list"
   ]
  },
  {
   "cell_type": "code",
   "execution_count": 58,
   "id": "bb7047c2-721f-4444-a252-bd0cbef790a4",
   "metadata": {
    "tags": []
   },
   "outputs": [
    {
     "data": {
      "text/plain": [
       "[5, 4, 3]"
      ]
     },
     "execution_count": 58,
     "metadata": {},
     "output_type": "execute_result"
    }
   ],
   "source": [
    "l2"
   ]
  },
  {
   "cell_type": "markdown",
   "id": "d1c5c08e",
   "metadata": {},
   "source": [
    "l1[::-1] v/s l1.reverse() the first one is just console thing but in the second case it makes changes to the original list"
   ]
  },
  {
   "cell_type": "code",
   "execution_count": 96,
   "id": "fc0f7217",
   "metadata": {
    "tags": []
   },
   "outputs": [],
   "source": [
    "l1.sort(reverse=True) #by default revese = False to do ascending order"
   ]
  },
  {
   "cell_type": "code",
   "execution_count": 97,
   "id": "83ab0014",
   "metadata": {
    "tags": []
   },
   "outputs": [
    {
     "data": {
      "text/plain": [
       "[45, 5, 4]"
      ]
     },
     "execution_count": 97,
     "metadata": {},
     "output_type": "execute_result"
    }
   ],
   "source": [
    "l1"
   ]
  },
  {
   "cell_type": "code",
   "execution_count": 98,
   "id": "b48ddd2c",
   "metadata": {
    "tags": []
   },
   "outputs": [],
   "source": [
    "l2 = ['d','a','z','f','wwdfe']"
   ]
  },
  {
   "cell_type": "code",
   "execution_count": 99,
   "id": "f88bd7e8",
   "metadata": {
    "tags": []
   },
   "outputs": [],
   "source": [
    "l2.sort()"
   ]
  },
  {
   "cell_type": "code",
   "execution_count": 100,
   "id": "95f1a2b5",
   "metadata": {
    "tags": []
   },
   "outputs": [
    {
     "data": {
      "text/plain": [
       "['a', 'd', 'f', 'wwdfe', 'z']"
      ]
     },
     "execution_count": 100,
     "metadata": {},
     "output_type": "execute_result"
    }
   ],
   "source": [
    "l2"
   ]
  },
  {
   "cell_type": "code",
   "execution_count": 101,
   "id": "6cf964a6",
   "metadata": {
    "tags": []
   },
   "outputs": [
    {
     "data": {
      "text/plain": [
       "2"
      ]
     },
     "execution_count": 101,
     "metadata": {},
     "output_type": "execute_result"
    }
   ],
   "source": [
    "l2.index('f')"
   ]
  },
  {
   "cell_type": "code",
   "execution_count": 102,
   "id": "ef5037b3",
   "metadata": {
    "tags": []
   },
   "outputs": [
    {
     "ename": "NameError",
     "evalue": "name 'w' is not defined",
     "output_type": "error",
     "traceback": [
      "\u001b[1;31m---------------------------------------------------------------------------\u001b[0m",
      "\u001b[1;31mNameError\u001b[0m                                 Traceback (most recent call last)",
      "Cell \u001b[1;32mIn[102], line 1\u001b[0m\n\u001b[1;32m----> 1\u001b[0m l2\u001b[38;5;241m.\u001b[39mcount(w)\n",
      "\u001b[1;31mNameError\u001b[0m: name 'w' is not defined"
     ]
    }
   ],
   "source": [
    "l2.count(w)"
   ]
  },
  {
   "cell_type": "code",
   "execution_count": 103,
   "id": "2423a0f7",
   "metadata": {
    "tags": []
   },
   "outputs": [
    {
     "data": {
      "text/plain": [
       "0"
      ]
     },
     "execution_count": 103,
     "metadata": {},
     "output_type": "execute_result"
    }
   ],
   "source": [
    "l2.count('w')"
   ]
  },
  {
   "cell_type": "code",
   "execution_count": 104,
   "id": "648770e1",
   "metadata": {
    "tags": []
   },
   "outputs": [],
   "source": [
    "s = \"swayam\""
   ]
  },
  {
   "cell_type": "code",
   "execution_count": 105,
   "id": "41f01161",
   "metadata": {
    "tags": []
   },
   "outputs": [
    {
     "ename": "TypeError",
     "evalue": "'str' object does not support item assignment",
     "output_type": "error",
     "traceback": [
      "\u001b[1;31m---------------------------------------------------------------------------\u001b[0m",
      "\u001b[1;31mTypeError\u001b[0m                                 Traceback (most recent call last)",
      "Cell \u001b[1;32mIn[105], line 1\u001b[0m\n\u001b[1;32m----> 1\u001b[0m s[\u001b[38;5;241m0\u001b[39m] \u001b[38;5;241m=\u001b[39m \u001b[38;5;124m\"\u001b[39m\u001b[38;5;124mb\u001b[39m\u001b[38;5;124m\"\u001b[39m\n",
      "\u001b[1;31mTypeError\u001b[0m: 'str' object does not support item assignment"
     ]
    }
   ],
   "source": [
    "s[0] = \"b\" ##not possible because strings are immutable"
   ]
  },
  {
   "cell_type": "code",
   "execution_count": 106,
   "id": "1e4a9d71",
   "metadata": {
    "tags": []
   },
   "outputs": [],
   "source": [
    "l1[0] = 30"
   ]
  },
  {
   "cell_type": "code",
   "execution_count": 107,
   "id": "7138bbc6",
   "metadata": {
    "tags": []
   },
   "outputs": [
    {
     "data": {
      "text/plain": [
       "[30, 5, 4]"
      ]
     },
     "execution_count": 107,
     "metadata": {},
     "output_type": "execute_result"
    }
   ],
   "source": [
    "l1 ## lists are immutable"
   ]
  },
  {
   "cell_type": "code",
   "execution_count": 108,
   "id": "3a69ffff",
   "metadata": {
    "tags": []
   },
   "outputs": [],
   "source": [
    "l1.insert(2,31)"
   ]
  },
  {
   "cell_type": "code",
   "execution_count": 109,
   "id": "ab321c90",
   "metadata": {
    "tags": []
   },
   "outputs": [
    {
     "data": {
      "text/plain": [
       "[30, 5, 31, 4]"
      ]
     },
     "execution_count": 109,
     "metadata": {},
     "output_type": "execute_result"
    }
   ],
   "source": [
    "l1"
   ]
  },
  {
   "cell_type": "code",
   "execution_count": 110,
   "id": "04d50f3e",
   "metadata": {
    "tags": []
   },
   "outputs": [
    {
     "data": {
      "text/plain": [
       "'awayam'"
      ]
     },
     "execution_count": 110,
     "metadata": {},
     "output_type": "execute_result"
    }
   ],
   "source": [
    "s.replace('s','a') ## this is not permanent , this creating a completely new object"
   ]
  },
  {
   "cell_type": "code",
   "execution_count": 111,
   "id": "ebf899b6",
   "metadata": {
    "tags": []
   },
   "outputs": [
    {
     "data": {
      "text/plain": [
       "'swayam'"
      ]
     },
     "execution_count": 111,
     "metadata": {},
     "output_type": "execute_result"
    }
   ],
   "source": [
    "s"
   ]
  },
  {
   "cell_type": "code",
   "execution_count": 112,
   "id": "b1c4ce1a",
   "metadata": {
    "tags": []
   },
   "outputs": [],
   "source": [
    "l3=[23,344,54553,3,[43,345,34,545]]"
   ]
  },
  {
   "cell_type": "code",
   "execution_count": 113,
   "id": "f1b24433",
   "metadata": {
    "tags": []
   },
   "outputs": [],
   "source": [
    "l.extend(l3)"
   ]
  },
  {
   "cell_type": "code",
   "execution_count": 114,
   "id": "7a21a13c",
   "metadata": {
    "tags": []
   },
   "outputs": [
    {
     "data": {
      "text/plain": [
       "[345.456,\n",
       " (5+7j),\n",
       " True,\n",
       " 'swayam',\n",
       " 45,\n",
       " 345,\n",
       " 1,\n",
       " 'swarup',\n",
       " [30, 5, 31, 4],\n",
       " 'b',\n",
       " 'a',\n",
       " 'r',\n",
       " 'i',\n",
       " 'k',\n",
       " 345,\n",
       " 689,\n",
       " 69,\n",
       " 23,\n",
       " 344,\n",
       " 54553,\n",
       " 3,\n",
       " [43, 345, 34, 545]]"
      ]
     },
     "execution_count": 114,
     "metadata": {},
     "output_type": "execute_result"
    }
   ],
   "source": [
    "l"
   ]
  },
  {
   "cell_type": "markdown",
   "id": "3c65c2ab-b11f-4cbc-afe4-67ca30740a36",
   "metadata": {},
   "source": [
    "## Copying a list like list1 = list2 any changes will impact both"
   ]
  },
  {
   "cell_type": "code",
   "execution_count": 1,
   "id": "c29f9bf7-cbd4-41cf-9755-93831cda83e7",
   "metadata": {},
   "outputs": [
    {
     "name": "stdout",
     "output_type": "stream",
     "text": [
      "[1, 23, 345, 4]\n",
      "[1, 23, 345, 4]\n"
     ]
    }
   ],
   "source": [
    "list1 = [1,23,3,4]\n",
    "list2 =list1\n",
    "list2[2] = 345\n",
    "print(list2)\n",
    "print(list1)"
   ]
  },
  {
   "cell_type": "markdown",
   "id": "c58e0bdb-a576-4f59-80fe-33e5333728e8",
   "metadata": {},
   "source": [
    "## Alternative solution to this"
   ]
  },
  {
   "cell_type": "code",
   "execution_count": 19,
   "id": "41de8ee1-8da1-458b-9b2a-48362dd6135d",
   "metadata": {},
   "outputs": [
    {
     "name": "stdout",
     "output_type": "stream",
     "text": [
      "[1, 23, 3, 4]\n",
      "[1, 23, 345, 4]\n",
      "[1, 23, 3, 4, 1, 23, 345, 4]\n"
     ]
    }
   ],
   "source": [
    "list1 = [1,23,3,4]\n",
    "list2 = list1.copy() # this has no impact issues\n",
    "list2[2] =345\n",
    "print(list1)\n",
    "print(list2)\n",
    "print(list1 + list2)"
   ]
  },
  {
   "cell_type": "code",
   "execution_count": 5,
   "id": "9c8bcf7a-de50-4e72-a626-9609b3b2af98",
   "metadata": {},
   "outputs": [],
   "source": [
    "list1 = [\"a\",\"A\",\"B\",\"c\",\"d\",\"D\"]"
   ]
  },
  {
   "cell_type": "markdown",
   "id": "798fdd69-a9ce-4063-b60f-e9d919a7e5ec",
   "metadata": {},
   "source": [
    "### by default sorting is in upper case we can change that to lower case"
   ]
  },
  {
   "cell_type": "code",
   "execution_count": 8,
   "id": "73c326c2-0a26-4777-bdf0-c47b3724b7d1",
   "metadata": {},
   "outputs": [
    {
     "name": "stdout",
     "output_type": "stream",
     "text": [
      "['A', 'B', 'D', 'a', 'c', 'd']\n"
     ]
    }
   ],
   "source": [
    "list1.sort()\n",
    "print(list1)"
   ]
  },
  {
   "cell_type": "code",
   "execution_count": 18,
   "id": "ee4aa0e8-9670-40f3-8e09-794b143a87dd",
   "metadata": {},
   "outputs": [
    {
     "name": "stdout",
     "output_type": "stream",
     "text": [
      "['a', 'c', 'd', 'A', 'B', 'D']\n"
     ]
    }
   ],
   "source": [
    "list2 = [\"a\", \"A\", \"B\", \"c\", \"d\", \"D\"]\n",
    "list2.sort(key=lambda x: (x.isupper(), x.lower()))\n",
    "print(list2)"
   ]
  },
  {
   "cell_type": "markdown",
   "id": "311634db",
   "metadata": {},
   "source": [
    "### ---------Tuples----------\n",
    "#### 1. it is used using ( ) and is heterogenous\n",
    "#### 2. supports indexing\n",
    "#### 3. immutable "
   ]
  },
  {
   "cell_type": "code",
   "execution_count": 59,
   "id": "54df8753",
   "metadata": {
    "tags": []
   },
   "outputs": [],
   "source": [
    "t = (2,3,4,\"swayam\",345.89,True,546+678j)"
   ]
  },
  {
   "cell_type": "code",
   "execution_count": 116,
   "id": "e6a5405f",
   "metadata": {
    "tags": []
   },
   "outputs": [
    {
     "data": {
      "text/plain": [
       "tuple"
      ]
     },
     "execution_count": 116,
     "metadata": {},
     "output_type": "execute_result"
    }
   ],
   "source": [
    "type(t)"
   ]
  },
  {
   "cell_type": "code",
   "execution_count": 117,
   "id": "a2fe5506",
   "metadata": {
    "tags": []
   },
   "outputs": [
    {
     "data": {
      "text/plain": [
       "7"
      ]
     },
     "execution_count": 117,
     "metadata": {},
     "output_type": "execute_result"
    }
   ],
   "source": [
    "len(t)"
   ]
  },
  {
   "cell_type": "code",
   "execution_count": 118,
   "id": "d1683ab9",
   "metadata": {
    "tags": []
   },
   "outputs": [
    {
     "data": {
      "text/plain": [
       "(546+678j)"
      ]
     },
     "execution_count": 118,
     "metadata": {},
     "output_type": "execute_result"
    }
   ],
   "source": [
    "t[-1]"
   ]
  },
  {
   "cell_type": "code",
   "execution_count": 119,
   "id": "68b408bf",
   "metadata": {
    "tags": []
   },
   "outputs": [
    {
     "data": {
      "text/plain": [
       "((546+678j), True, 345.89, 'swayam', 4, 3, 2)"
      ]
     },
     "execution_count": 119,
     "metadata": {},
     "output_type": "execute_result"
    }
   ],
   "source": [
    "t[::-1]"
   ]
  },
  {
   "cell_type": "code",
   "execution_count": 120,
   "id": "765cd13d",
   "metadata": {
    "tags": []
   },
   "outputs": [
    {
     "data": {
      "text/plain": [
       "(2, 3, 4, 'swayam', 345.89, True, (546+678j))"
      ]
     },
     "execution_count": 120,
     "metadata": {},
     "output_type": "execute_result"
    }
   ],
   "source": [
    "t"
   ]
  },
  {
   "cell_type": "code",
   "execution_count": 121,
   "id": "3dafbdca",
   "metadata": {
    "tags": []
   },
   "outputs": [
    {
     "ename": "TypeError",
     "evalue": "'tuple' object does not support item assignment",
     "output_type": "error",
     "traceback": [
      "\u001b[1;31m---------------------------------------------------------------------------\u001b[0m",
      "\u001b[1;31mTypeError\u001b[0m                                 Traceback (most recent call last)",
      "Cell \u001b[1;32mIn[121], line 1\u001b[0m\n\u001b[1;32m----> 1\u001b[0m t[\u001b[38;5;241m0\u001b[39m] \u001b[38;5;241m=\u001b[39m \u001b[38;5;241m56\u001b[39m\n",
      "\u001b[1;31mTypeError\u001b[0m: 'tuple' object does not support item assignment"
     ]
    }
   ],
   "source": [
    "t[0] = 56 ## immutable"
   ]
  },
  {
   "cell_type": "markdown",
   "id": "fe54b875",
   "metadata": {},
   "source": [
    "#### we can use tuples to store password as it supports heterogenous value and can't be changed"
   ]
  },
  {
   "cell_type": "code",
   "execution_count": 122,
   "id": "0c053ee9",
   "metadata": {
    "tags": []
   },
   "outputs": [
    {
     "data": {
      "text/plain": [
       "1"
      ]
     },
     "execution_count": 122,
     "metadata": {},
     "output_type": "execute_result"
    }
   ],
   "source": [
    "t.count(3)"
   ]
  },
  {
   "cell_type": "code",
   "execution_count": 123,
   "id": "00455791",
   "metadata": {
    "tags": []
   },
   "outputs": [
    {
     "data": {
      "text/plain": [
       "3"
      ]
     },
     "execution_count": 123,
     "metadata": {},
     "output_type": "execute_result"
    }
   ],
   "source": [
    "t.index(\"swayam\") # if not found then error"
   ]
  },
  {
   "cell_type": "code",
   "execution_count": null,
   "id": "47422f12-dd31-473d-95f3-3da89d32c541",
   "metadata": {},
   "outputs": [],
   "source": [
    "t."
   ]
  },
  {
   "cell_type": "markdown",
   "id": "5b05971d-8c44-4a04-8e76-23f042a37a4a",
   "metadata": {},
   "source": [
    "## empty tuples"
   ]
  },
  {
   "cell_type": "code",
   "execution_count": 20,
   "id": "8df6bd29-0cd1-4abb-8b04-047c1c72af87",
   "metadata": {},
   "outputs": [],
   "source": [
    "tuple1 = ()"
   ]
  },
  {
   "cell_type": "markdown",
   "id": "511094ae-bcee-4e5f-94de-a52885522dde",
   "metadata": {},
   "source": [
    "### Single tuple"
   ]
  },
  {
   "cell_type": "code",
   "execution_count": 23,
   "id": "bfac9c7b-4d18-4fed-a67c-b52c96071355",
   "metadata": {},
   "outputs": [],
   "source": [
    "tuple2 =(2,) # w/o comma it will be a integer"
   ]
  },
  {
   "cell_type": "code",
   "execution_count": 22,
   "id": "46373748-5d7e-4202-8966-17320d778bc3",
   "metadata": {},
   "outputs": [
    {
     "data": {
      "text/plain": [
       "int"
      ]
     },
     "execution_count": 22,
     "metadata": {},
     "output_type": "execute_result"
    }
   ],
   "source": [
    "type(tuple2)"
   ]
  },
  {
   "cell_type": "markdown",
   "id": "a52cdd7f-20f6-4725-93b2-d5f80684cda5",
   "metadata": {},
   "source": [
    "### Packing and Unpacking"
   ]
  },
  {
   "cell_type": "code",
   "execution_count": 26,
   "id": "eaa6ee08-b3cf-4b00-86f2-ad4fe6ed6960",
   "metadata": {},
   "outputs": [
    {
     "name": "stdout",
     "output_type": "stream",
     "text": [
      "(1, 2, 3, 4)\n"
     ]
    },
    {
     "data": {
      "text/plain": [
       "tuple"
      ]
     },
     "execution_count": 26,
     "metadata": {},
     "output_type": "execute_result"
    }
   ],
   "source": [
    "## Packing of tuple\n",
    "tuple3 = (1,2,3,4)\n",
    "## unpakcing to variable m\n",
    "m =  tuple3\n",
    "print(m)\n",
    "type(m)"
   ]
  },
  {
   "cell_type": "code",
   "execution_count": 27,
   "id": "70f6bede-cc44-4ef1-9187-3ab448390430",
   "metadata": {},
   "outputs": [
    {
     "name": "stdout",
     "output_type": "stream",
     "text": [
      "1 2 3 4\n"
     ]
    }
   ],
   "source": [
    "## Unpacking of tuple to multi variables\n",
    "a,b,c,d = tuple3\n",
    "print(a,b,c,d)"
   ]
  },
  {
   "cell_type": "code",
   "execution_count": 35,
   "id": "b69a60f5-b465-4e17-8e06-165f04a84b8c",
   "metadata": {},
   "outputs": [
    {
     "name": "stdout",
     "output_type": "stream",
     "text": [
      "1 [2, 3, 4]\n",
      "<class 'int'>\n",
      "<class 'list'>\n"
     ]
    }
   ],
   "source": [
    "## unpacking using *\n",
    "a , *b=tuple3\n",
    "print(a,b)\n",
    "print(type(a))\n",
    "print(type(b))"
   ]
  },
  {
   "cell_type": "code",
   "execution_count": 37,
   "id": "a9dffb6b-0ac4-423e-9662-d7cba80254b1",
   "metadata": {},
   "outputs": [
    {
     "name": "stdout",
     "output_type": "stream",
     "text": [
      "(1, 2, 3, 4, 2, 'a')\n"
     ]
    }
   ],
   "source": [
    "tuple3 = (1,2,3,4)\n",
    "tuple2 =(2,)\n",
    "tuple4 = (\"a\",)\n",
    "print(tuple3+tuple2+tuple4)"
   ]
  },
  {
   "cell_type": "markdown",
   "id": "1427bc77",
   "metadata": {},
   "source": [
    "### ------------Sets---------------\n",
    "#### 1. it does not contains duplicate values\n",
    "#### 2. it is also a collection of heterogenous values just like list,tuples\n",
    "#### 3.it can store only tuples and not list because set can only contain immutable values\n",
    "#### 4. it doesnot arrange data it always tries to form unordered collection of data\n",
    "#### 5. doesnot support indexing and slicing\n",
    "#### 6.mutable"
   ]
  },
  {
   "cell_type": "code",
   "execution_count": 40,
   "id": "aa394be1",
   "metadata": {
    "tags": []
   },
   "outputs": [],
   "source": [
    "s1={2,3,4,4}"
   ]
  },
  {
   "cell_type": "code",
   "execution_count": 41,
   "id": "9acde43f",
   "metadata": {
    "tags": []
   },
   "outputs": [
    {
     "data": {
      "text/plain": [
       "set"
      ]
     },
     "execution_count": 41,
     "metadata": {},
     "output_type": "execute_result"
    }
   ],
   "source": [
    "type(s1)"
   ]
  },
  {
   "cell_type": "code",
   "execution_count": 42,
   "id": "05b38832",
   "metadata": {
    "tags": []
   },
   "outputs": [
    {
     "data": {
      "text/plain": [
       "{2, 3, 4}"
      ]
     },
     "execution_count": 42,
     "metadata": {},
     "output_type": "execute_result"
    }
   ],
   "source": [
    "s1"
   ]
  },
  {
   "cell_type": "code",
   "execution_count": 43,
   "id": "bbbc54b0",
   "metadata": {
    "tags": []
   },
   "outputs": [],
   "source": [
    "s2={\"swayam\",\"Swayam\"}"
   ]
  },
  {
   "cell_type": "code",
   "execution_count": 44,
   "id": "9274eca6",
   "metadata": {
    "tags": []
   },
   "outputs": [
    {
     "data": {
      "text/plain": [
       "{'Swayam', 'swayam'}"
      ]
     },
     "execution_count": 44,
     "metadata": {},
     "output_type": "execute_result"
    }
   ],
   "source": [
    "s2 ## not removed beacuse python is case sensitive"
   ]
  },
  {
   "cell_type": "code",
   "execution_count": 45,
   "id": "d4c48411",
   "metadata": {},
   "outputs": [],
   "source": [
    "s3={2343,3424,656,'abc',12132,12,434,2}"
   ]
  },
  {
   "cell_type": "code",
   "execution_count": 46,
   "id": "ef8de554",
   "metadata": {},
   "outputs": [
    {
     "data": {
      "text/plain": [
       "{12, 12132, 2, 2343, 3424, 434, 656, 'abc'}"
      ]
     },
     "execution_count": 46,
     "metadata": {},
     "output_type": "execute_result"
    }
   ],
   "source": [
    "s3"
   ]
  },
  {
   "cell_type": "code",
   "execution_count": 47,
   "id": "08fff37a",
   "metadata": {},
   "outputs": [
    {
     "data": {
      "text/plain": [
       "{12, 12132, 2, 2343, 3, 3424, 4, 434, 656, 'abc'}"
      ]
     },
     "execution_count": 47,
     "metadata": {},
     "output_type": "execute_result"
    }
   ],
   "source": [
    "s1.union(s3)"
   ]
  },
  {
   "cell_type": "code",
   "execution_count": 48,
   "id": "33dda997",
   "metadata": {},
   "outputs": [
    {
     "data": {
      "text/plain": [
       "{2}"
      ]
     },
     "execution_count": 48,
     "metadata": {},
     "output_type": "execute_result"
    }
   ],
   "source": [
    "\n",
    "s3.intersection(s1)"
   ]
  },
  {
   "cell_type": "code",
   "execution_count": 49,
   "id": "d6afd6f8",
   "metadata": {},
   "outputs": [
    {
     "data": {
      "text/plain": [
       "{2, 3, 4}"
      ]
     },
     "execution_count": 49,
     "metadata": {},
     "output_type": "execute_result"
    }
   ],
   "source": [
    "s1"
   ]
  },
  {
   "cell_type": "code",
   "execution_count": 50,
   "id": "dc7f9678",
   "metadata": {},
   "outputs": [
    {
     "data": {
      "text/plain": [
       "{12, 12132, 2, 2343, 3424, 434, 656, 'abc'}"
      ]
     },
     "execution_count": 50,
     "metadata": {},
     "output_type": "execute_result"
    }
   ],
   "source": [
    "s3"
   ]
  },
  {
   "cell_type": "code",
   "execution_count": 51,
   "id": "727e263a",
   "metadata": {},
   "outputs": [],
   "source": [
    "s3.add(23)"
   ]
  },
  {
   "cell_type": "code",
   "execution_count": 52,
   "id": "a2fd3451",
   "metadata": {},
   "outputs": [
    {
     "data": {
      "text/plain": [
       "{12, 12132, 2, 23, 2343, 3424, 434, 656, 'abc'}"
      ]
     },
     "execution_count": 52,
     "metadata": {},
     "output_type": "execute_result"
    }
   ],
   "source": [
    "s3"
   ]
  },
  {
   "cell_type": "code",
   "execution_count": 53,
   "id": "78bd1d6a",
   "metadata": {},
   "outputs": [],
   "source": [
    "s3.remove(2)"
   ]
  },
  {
   "cell_type": "code",
   "execution_count": 54,
   "id": "50b60c4d",
   "metadata": {},
   "outputs": [
    {
     "data": {
      "text/plain": [
       "{12, 12132, 23, 2343, 3424, 434, 656, 'abc'}"
      ]
     },
     "execution_count": 54,
     "metadata": {},
     "output_type": "execute_result"
    }
   ],
   "source": [
    "s3"
   ]
  },
  {
   "cell_type": "markdown",
   "id": "5df4d219",
   "metadata": {},
   "source": [
    "s3.sort() not possible "
   ]
  },
  {
   "cell_type": "code",
   "execution_count": 55,
   "id": "1ea3d6ef",
   "metadata": {},
   "outputs": [],
   "source": [
    "pwskills =10"
   ]
  },
  {
   "cell_type": "code",
   "execution_count": 56,
   "id": "b78b52eb",
   "metadata": {},
   "outputs": [
    {
     "ename": "TypeError",
     "evalue": "'set' object is not subscriptable",
     "output_type": "error",
     "traceback": [
      "\u001b[1;31m---------------------------------------------------------------------------\u001b[0m",
      "\u001b[1;31mTypeError\u001b[0m                                 Traceback (most recent call last)",
      "Cell \u001b[1;32mIn[56], line 2\u001b[0m\n\u001b[0;32m      1\u001b[0m \u001b[38;5;28;01mfor\u001b[39;00m i \u001b[38;5;129;01min\u001b[39;00m s1:\n\u001b[1;32m----> 2\u001b[0m     \u001b[38;5;28mprint\u001b[39m(s1[i])\n",
      "\u001b[1;31mTypeError\u001b[0m: 'set' object is not subscriptable"
     ]
    }
   ],
   "source": [
    "for i in s1:\n",
    "    print(s1[i])"
   ]
  },
  {
   "cell_type": "code",
   "execution_count": 57,
   "id": "8357f142",
   "metadata": {},
   "outputs": [
    {
     "data": {
      "text/plain": [
       "'p w s k i l l s'"
      ]
     },
     "execution_count": 57,
     "metadata": {},
     "output_type": "execute_result"
    }
   ],
   "source": [
    "string = \"p w s k i l l s\"\n",
    "\n",
    "\" \".join(string.replace(\" \", \"\"))"
   ]
  },
  {
   "cell_type": "code",
   "execution_count": 58,
   "id": "7e47584c",
   "metadata": {},
   "outputs": [],
   "source": [
    "m=(45,)"
   ]
  },
  {
   "cell_type": "code",
   "execution_count": 59,
   "id": "128225bf",
   "metadata": {},
   "outputs": [
    {
     "data": {
      "text/plain": [
       "tuple"
      ]
     },
     "execution_count": 59,
     "metadata": {},
     "output_type": "execute_result"
    }
   ],
   "source": [
    "type(m)"
   ]
  },
  {
   "cell_type": "code",
   "execution_count": 60,
   "id": "14a0f5b4",
   "metadata": {},
   "outputs": [
    {
     "name": "stdout",
     "output_type": "stream",
     "text": [
      "x is not greater than 10\n"
     ]
    }
   ],
   "source": [
    "x = 5\n",
    "\n",
    "if(x > 10):\n",
    "\n",
    "    print(\"x is greater than 10\")\n",
    "\n",
    "else:\n",
    "\n",
    "    print(\"x is not greater than 10\")"
   ]
  },
  {
   "cell_type": "code",
   "execution_count": 29,
   "id": "07c0c077",
   "metadata": {},
   "outputs": [
    {
     "name": "stdout",
     "output_type": "stream",
     "text": [
      "1\n",
      "2\n",
      "3\n",
      "4\n",
      "5\n",
      "6\n",
      "7\n",
      "8\n",
      "9\n"
     ]
    }
   ],
   "source": [
    "for i in range(1,10):\n",
    "    print(i)\n"
   ]
  },
  {
   "cell_type": "code",
   "execution_count": 2,
   "id": "05ffc348",
   "metadata": {},
   "outputs": [
    {
     "name": "stdout",
     "output_type": "stream",
     "text": [
      "enter your number1\n",
      "1\n",
      "2\n",
      "3\n",
      "4\n"
     ]
    }
   ],
   "source": [
    "i=int(input(\"enter your number\")) #by default input in python is string\n",
    "while(i<5):\n",
    "    print(i)\n",
    "    i=i+1"
   ]
  },
  {
   "cell_type": "code",
   "execution_count": 13,
   "id": "9b5e9f60",
   "metadata": {
    "tags": []
   },
   "outputs": [
    {
     "name": "stdout",
     "output_type": "stream",
     "text": [
      "[1, 4, 9, 16, 25, 36, 49]\n",
      "[False, True, False, True, False, True, False]\n",
      "[2, 4, 6]\n"
     ]
    }
   ],
   "source": [
    "l1=[1,2,3,4,5,6,7]\n",
    "print([i**2 for i in l1])\n",
    "print([i%2==0 for i in l1])\n",
    "print([i for i in l1 if i%2==0])"
   ]
  },
  {
   "cell_type": "code",
   "execution_count": 14,
   "id": "428744bb",
   "metadata": {
    "tags": []
   },
   "outputs": [
    {
     "name": "stdout",
     "output_type": "stream",
     "text": [
      "['Swayam', 'Swarup', 'Barik']\n"
     ]
    }
   ],
   "source": [
    "l1=[\"swayam\",\"swarup\",\"barik\"]\n",
    "print([i.capitalize() for i in l1])"
   ]
  },
  {
   "cell_type": "code",
   "execution_count": 61,
   "id": "97336358",
   "metadata": {
    "tags": []
   },
   "outputs": [],
   "source": [
    "##tuple comprehension is possible but it gives a generator object so we typecast it to lis"
   ]
  },
  {
   "cell_type": "code",
   "execution_count": 62,
   "id": "a5c7f2a7",
   "metadata": {
    "tags": []
   },
   "outputs": [],
   "source": [
    "d={\"key1\":1,\"key2\":2,\"key3\":3}"
   ]
  },
  {
   "cell_type": "code",
   "execution_count": 63,
   "id": "4f144b21-bfa0-4638-9180-2503f78c2a71",
   "metadata": {
    "tags": []
   },
   "outputs": [
    {
     "data": {
      "text/plain": [
       "{'key1': 1, 'key2': 4, 'key3': 9}"
      ]
     },
     "execution_count": 63,
     "metadata": {},
     "output_type": "execute_result"
    }
   ],
   "source": [
    "{key:value**2 for key,value in d.items()}"
   ]
  },
  {
   "cell_type": "code",
   "execution_count": 64,
   "id": "db51a6e2-be09-43eb-b242-b0fa64ae14ce",
   "metadata": {
    "tags": []
   },
   "outputs": [
    {
     "data": {
      "text/plain": [
       "dict_items([('key1', 1), ('key2', 2), ('key3', 3)])"
      ]
     },
     "execution_count": 64,
     "metadata": {},
     "output_type": "execute_result"
    }
   ],
   "source": [
    "d.items()"
   ]
  },
  {
   "cell_type": "code",
   "execution_count": 65,
   "id": "1d86944f-4ab2-4ad0-94d6-9a34adaa4f7f",
   "metadata": {
    "tags": []
   },
   "outputs": [
    {
     "data": {
      "text/plain": [
       "{'key2': 2}"
      ]
     },
     "execution_count": 65,
     "metadata": {},
     "output_type": "execute_result"
    }
   ],
   "source": [
    "({key:value for key,value in d.items() if (value>1  and value%2==0)})"
   ]
  },
  {
   "cell_type": "code",
   "execution_count": 136,
   "id": "374391ae-e7f1-4a75-bb5a-b419a2deca93",
   "metadata": {
    "tags": []
   },
   "outputs": [],
   "source": [
    "l=(2,3,4,5,6,7,8,9)"
   ]
  },
  {
   "cell_type": "code",
   "execution_count": 140,
   "id": "bac44a34-f5ae-4595-8bba-c8dac512867b",
   "metadata": {
    "tags": []
   },
   "outputs": [
    {
     "data": {
      "text/plain": [
       "[4, 16, 36, 64]"
      ]
     },
     "execution_count": 140,
     "metadata": {},
     "output_type": "execute_result"
    }
   ],
   "source": [
    "([i**2 for i in l if(i%2==0)])"
   ]
  },
  {
   "cell_type": "markdown",
   "id": "f9ff2f27-a11f-4c33-8a78-1f469c0a7ed3",
   "metadata": {},
   "source": [
    "List comprehnesion\n",
    "[function for new list in old list if conditon]"
   ]
  },
  {
   "cell_type": "code",
   "execution_count": 77,
   "id": "8311682e-9240-403d-97a0-2a8ef6746f33",
   "metadata": {
    "tags": []
   },
   "outputs": [],
   "source": [
    "l1=[\"swayam\",123,\"swarup\"]"
   ]
  },
  {
   "cell_type": "code",
   "execution_count": 78,
   "id": "19b0aa97-8dd3-44fe-9ccd-a5fb9975c7bc",
   "metadata": {
    "tags": []
   },
   "outputs": [
    {
     "data": {
      "text/plain": [
       "['swarup', 123, 'swayam']"
      ]
     },
     "execution_count": 78,
     "metadata": {},
     "output_type": "execute_result"
    }
   ],
   "source": [
    "l1[::-1]"
   ]
  },
  {
   "cell_type": "code",
   "execution_count": 79,
   "id": "704d2f6c-c067-4c1a-8dcd-6b23980c7687",
   "metadata": {
    "tags": []
   },
   "outputs": [
    {
     "data": {
      "text/plain": [
       "['swayam', 123, 'swarup']"
      ]
     },
     "execution_count": 79,
     "metadata": {},
     "output_type": "execute_result"
    }
   ],
   "source": [
    "l1"
   ]
  },
  {
   "cell_type": "code",
   "execution_count": 80,
   "id": "5aaa041b-318e-46e3-b5d8-5c84bb31b15d",
   "metadata": {
    "tags": []
   },
   "outputs": [],
   "source": [
    "l1.reverse()"
   ]
  },
  {
   "cell_type": "code",
   "execution_count": 67,
   "id": "4d6bbc11-03cb-4450-93d2-5cc37791fb73",
   "metadata": {
    "tags": []
   },
   "outputs": [
    {
     "data": {
      "text/plain": [
       "dict_keys(['key1', 'key2', 'key3'])"
      ]
     },
     "execution_count": 67,
     "metadata": {},
     "output_type": "execute_result"
    }
   ],
   "source": [
    "d.keys()"
   ]
  },
  {
   "cell_type": "code",
   "execution_count": 70,
   "id": "db2561df-f479-4767-979d-c9b401278714",
   "metadata": {
    "tags": []
   },
   "outputs": [
    {
     "name": "stdout",
     "output_type": "stream",
     "text": [
      "swayam swarup\tbarik\n"
     ]
    }
   ],
   "source": [
    "print(\"swayam\",\"swarup\",end=\"\\t\")\n",
    "print(\"barik\")"
   ]
  },
  {
   "cell_type": "code",
   "execution_count": null,
   "id": "dd02af04-e979-4a62-b2f4-db4b79f07253",
   "metadata": {},
   "outputs": [],
   "source": []
  }
 ],
 "metadata": {
  "kernelspec": {
   "display_name": "Python 3 (ipykernel)",
   "language": "python",
   "name": "python3"
  },
  "language_info": {
   "codemirror_mode": {
    "name": "ipython",
    "version": 3
   },
   "file_extension": ".py",
   "mimetype": "text/x-python",
   "name": "python",
   "nbconvert_exporter": "python",
   "pygments_lexer": "ipython3",
   "version": "3.12.4"
  }
 },
 "nbformat": 4,
 "nbformat_minor": 5
}
