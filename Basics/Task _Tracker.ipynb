{
 "cells": [
  {
   "cell_type": "markdown",
   "id": "547ce603-5338-43df-b5c3-d2622b1dea16",
   "metadata": {},
   "source": [
    "\n",
    "Project Idea: Simple Expense Tracker\n",
    "\n",
    "Create a simple command-line expense tracker that helps users manage their daily expenses. This project will allow you to apply concepts such as variables, loops, conditions, functions, and more. Here are the key features:\n",
    "\n",
    "Expense Logging:\n",
    "\n",
    "Users can log their daily expenses by entering the amount spent, a short description, and the date of the expense.\n",
    "Expense Categories:\n",
    "\n",
    "Allow users to categorize their expenses (e.g., groceries, transportation, entertainment).\n",
    "View Expenses:\n",
    "\n",
    "Users can view a list of all their expenses, filter by date, or filter by category.\n",
    "Expense Statistics:\n",
    "\n",
    "Provide basic statistics such as total expenses, average daily expenses, and expenses by category.\n",
    "Budgeting:\n",
    "\n",
    "Allow users to set a monthly budget and display notifications when they are approaching or exceeding their budget.\n",
    "Persistence:\n",
    "\n",
    "Save expense data to a file so that it persists between different program runs.\n",
    "Simple Analysis:\n",
    "\n",
    "Implement simple analysis features, such as finding the highest and lowest expense, or identifying the most common expense category.\n",
    "User Interface:\n",
    "\n",
    "Create a simple text-based interface for users to interact with the expense tracker.\n",
    "Functions:\n",
    "\n",
    "Use functions to handle different aspects of the expense tracker, such as adding expenses, displaying statistics, and reading/writing data to a file.\n",
    "Error Handling:\n",
    "\n",
    "Implement error handling for invalid user inputs.\n",
    "This project will not only reinforce the concepts you've learned but also provide a practical application for managing personal finances. You can start by building a basic version and then enhance it with additional features based on your comfort level and interest."
   ]
  },
  {
   "cell_type": "code",
   "execution_count": 1,
   "id": "d15996e6-5484-483a-a686-c2b95f3f67b4",
   "metadata": {},
   "outputs": [],
   "source": [
    "class Decorator_class:\n",
    "    def __init__(self,og_func):\n",
    "        self.og_func=og_func\n",
    "    def __call__(self):\n",
    "        print(\"Welcome to the expense tracker,we are the best at our job\")\n",
    "        print(\"-------------How can we help you-------------\")\n",
    "        print(\"Enter 1 for Expense Categories\")\n",
    "        print(\"Enter 2 for Budgeting\")\n",
    "        print(\"Enter 3 for View Expenses\")\n",
    "        print(\"Enter 4 for Expense Analysis\")\n",
    "        user_choice=int(input(\"Please enter your choice\"))\n",
    "        result=self.og_func(user_choice)\n",
    "        print(\"thank you for trusting us\")\n",
    "        return result\n",
    "Expense_Tracker={}"
   ]
  },
  {
   "cell_type": "code",
   "execution_count": 2,
   "id": "44b84ed0-b39b-4a9a-a897-08a37e4de1d9",
   "metadata": {},
   "outputs": [],
   "source": [
    "@Decorator_class\n",
    "def choice(user_choice):\n",
    "    if user_choice==1:\n",
    "        Expense_Categories()\n",
    "    if user_choice == 2:\n",
    "        Budeget()\n",
    "    if user_choice == 3:\n",
    "        View_Expenses()\n",
    "    if user_choice == 4:\n",
    "        Expense_Analysis()"
   ]
  },
  {
   "cell_type": "code",
   "execution_count": 3,
   "id": "006ca457-51ee-493e-9a79-906dd1b2154a",
   "metadata": {},
   "outputs": [],
   "source": [
    "def Expense_Categories():\n",
    "        print(\"Choose 1 for adding expense\")\n",
    "        print(\"Choose 2 for Removing expense\")\n",
    "        choose=int(input(\"please enter your choice\"))\n",
    "        global Expense_Tracker\n",
    "        if choose==1:\n",
    "            Category=input(\"Please enter the category of your Expense\")\n",
    "            Expense=float(input(\"Please enter the amount spend on this category\"))\n",
    "            Add_Expense(Category,Expense)"
   ]
  },
  {
   "cell_type": "code",
   "execution_count": 4,
   "id": "96834098-3b72-4fef-9f78-08136e91fef1",
   "metadata": {
    "tags": []
   },
   "outputs": [],
   "source": [
    "from pprint import pprint\n",
    "def Add_Expense(Category,Expense):\n",
    "    global Expense_Tracker\n",
    "    if Category in Expense_Tracker:\n",
    "        Existing_Expenses=sum(Expense_Tracker[Category])\n",
    "        Expense_Tracker[Category]=[Existing_Expenses+Expense]\n",
    "    else:\n",
    "        Expense_Tracker[Category]=[Expense]\n",
    "    pprint(Expense_Tracker)\n"
   ]
  },
  {
   "cell_type": "code",
   "execution_count": 5,
   "id": "aa307c22-1d85-4a9d-a979-3010062fce2c",
   "metadata": {
    "tags": []
   },
   "outputs": [
    {
     "name": "stdout",
     "output_type": "stream",
     "text": [
      "Welcome to the expense tracker,we are the best at our job\n",
      "-------------How can we help you-------------\n",
      "Enter 1 for Expense Categories\n",
      "Enter 2 for Budgeting\n",
      "Enter 3 for View Expenses\n",
      "Enter 4 for Expense Analysis\n"
     ]
    },
    {
     "name": "stdin",
     "output_type": "stream",
     "text": [
      "Please enter your choice 1\n"
     ]
    },
    {
     "name": "stdout",
     "output_type": "stream",
     "text": [
      "Choose 1 for adding expense\n",
      "Choose 2 for Removing expense\n"
     ]
    },
    {
     "name": "stdin",
     "output_type": "stream",
     "text": [
      "please enter your choice 1\n",
      "Please enter the category of your Expense grocery\n",
      "Please enter the amount spend on this category 200\n"
     ]
    },
    {
     "name": "stdout",
     "output_type": "stream",
     "text": [
      "{'grocery': [200.0]}\n",
      "thank you for trusting us\n"
     ]
    }
   ],
   "source": [
    "choice()"
   ]
  },
  {
   "cell_type": "code",
   "execution_count": null,
   "id": "f0ac00a6-312f-4b40-a755-a32df874fd53",
   "metadata": {},
   "outputs": [],
   "source": []
  }
 ],
 "metadata": {
  "kernelspec": {
   "display_name": "Python 3 (ipykernel)",
   "language": "python",
   "name": "python3"
  },
  "language_info": {
   "codemirror_mode": {
    "name": "ipython",
    "version": 3
   },
   "file_extension": ".py",
   "mimetype": "text/x-python",
   "name": "python",
   "nbconvert_exporter": "python",
   "pygments_lexer": "ipython3",
   "version": "3.11.7"
  }
 },
 "nbformat": 4,
 "nbformat_minor": 5
}
