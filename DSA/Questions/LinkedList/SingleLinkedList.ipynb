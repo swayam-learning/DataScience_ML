{
 "cells": [
  {
   "cell_type": "code",
   "execution_count": 1,
   "id": "d0be0e04",
   "metadata": {},
   "outputs": [],
   "source": [
    "class SinglyNode:\n",
    "    def __init__(self,val,next=None):\n",
    "        self.val = val\n",
    "        self.next = next\n",
    "    def __str__(self):\n",
    "        return str(self.val)"
   ]
  },
  {
   "cell_type": "code",
   "execution_count": 2,
   "id": "eefb606d",
   "metadata": {},
   "outputs": [],
   "source": [
    "head = SinglyNode(1)\n",
    "a = SinglyNode(2)\n",
    "b = SinglyNode(3)\n",
    "\n",
    "head.next = a\n",
    "a.next = b\n"
   ]
  },
  {
   "cell_type": "code",
   "execution_count": 3,
   "id": "6f93638f",
   "metadata": {},
   "outputs": [
    {
     "name": "stdout",
     "output_type": "stream",
     "text": [
      "1\n",
      "2\n",
      "3\n"
     ]
    }
   ],
   "source": [
    "# Traversal\n",
    "\n",
    "curr = head\n",
    "while curr:\n",
    "    print(curr)\n",
    "    curr = curr.next"
   ]
  },
  {
   "cell_type": "code",
   "execution_count": 7,
   "id": "c638f384",
   "metadata": {},
   "outputs": [],
   "source": [
    "# Display\n",
    "\n",
    "def display(head):\n",
    "    curr = head\n",
    "    elements = []\n",
    "    while curr:\n",
    "        elements.append(str(curr))\n",
    "        curr = curr.next\n",
    "    return \"--> \".join(elements)"
   ]
  },
  {
   "cell_type": "code",
   "execution_count": 8,
   "id": "157afe19",
   "metadata": {},
   "outputs": [
    {
     "data": {
      "text/plain": [
       "'1--> 2--> 3'"
      ]
     },
     "execution_count": 8,
     "metadata": {},
     "output_type": "execute_result"
    }
   ],
   "source": [
    "display(head)"
   ]
  },
  {
   "cell_type": "code",
   "execution_count": 11,
   "id": "a222e9ee",
   "metadata": {},
   "outputs": [],
   "source": [
    "# delete\n",
    "def deletion(head,target_val):\n",
    "    if not head:\n",
    "        return None\n",
    "    if head.val == target_val:\n",
    "        return head.next\n",
    "    \n",
    "    prev = head\n",
    "    curr = head.next\n",
    "\n",
    "    while curr:\n",
    "        if curr.val == target_val:\n",
    "            prev.next = curr.next\n",
    "            break\n",
    "        prev  = curr\n",
    "        curr = curr.next\n",
    "    return head "
   ]
  },
  {
   "cell_type": "code",
   "execution_count": 15,
   "id": "09d830da",
   "metadata": {},
   "outputs": [
    {
     "data": {
      "text/plain": [
       "<__main__.SinglyNode at 0x1af07dbeba0>"
      ]
     },
     "execution_count": 15,
     "metadata": {},
     "output_type": "execute_result"
    }
   ],
   "source": [
    "deletion(head,3)"
   ]
  },
  {
   "cell_type": "code",
   "execution_count": 16,
   "id": "4db2bab8",
   "metadata": {},
   "outputs": [],
   "source": [
    "def display(head):\n",
    "    curr = head\n",
    "    elements = []\n",
    "    while curr:\n",
    "        elements.append(str(curr))\n",
    "        curr = curr.next\n",
    "    return \"--> \".join(elements)"
   ]
  },
  {
   "cell_type": "code",
   "execution_count": 17,
   "id": "1f191580",
   "metadata": {},
   "outputs": [
    {
     "data": {
      "text/plain": [
       "'1--> 2'"
      ]
     },
     "execution_count": 17,
     "metadata": {},
     "output_type": "execute_result"
    }
   ],
   "source": [
    "display(head)"
   ]
  },
  {
   "cell_type": "code",
   "execution_count": null,
   "id": "e3020b48",
   "metadata": {},
   "outputs": [],
   "source": []
  }
 ],
 "metadata": {
  "kernelspec": {
   "display_name": "base",
   "language": "python",
   "name": "python3"
  },
  "language_info": {
   "codemirror_mode": {
    "name": "ipython",
    "version": 3
   },
   "file_extension": ".py",
   "mimetype": "text/x-python",
   "name": "python",
   "nbconvert_exporter": "python",
   "pygments_lexer": "ipython3",
   "version": "3.12.4"
  }
 },
 "nbformat": 4,
 "nbformat_minor": 5
}
