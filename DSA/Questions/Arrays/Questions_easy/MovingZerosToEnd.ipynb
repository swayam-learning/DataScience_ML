{
 "cells": [
  {
   "cell_type": "markdown",
   "id": "f3fb6992",
   "metadata": {},
   "source": [
    "## Brute Approach"
   ]
  },
  {
   "cell_type": "code",
   "execution_count": 1,
   "id": "fc7a053a",
   "metadata": {},
   "outputs": [],
   "source": [
    "class Solution:\n",
    "    def moveZeroes(self, nums):\n",
    "        temp,zeros  = [],[]\n",
    "        for i in range(0,len(nums)):\n",
    "            if(nums[i] != 0 ):\n",
    "                temp.append(nums[i])\n",
    "          \n",
    "        for i in range(0,len(temp)):\n",
    "            nums[i] = temp[i]\n",
    "        \n",
    "        for i in range(len(temp),len(nums)):\n",
    "            nums[i] = 0\n",
    "        "
   ]
  },
  {
   "cell_type": "markdown",
   "id": "7b3e1e68",
   "metadata": {},
   "source": [
    "## Optimal Approach"
   ]
  },
  {
   "cell_type": "code",
   "execution_count": 2,
   "id": "355776e4",
   "metadata": {},
   "outputs": [],
   "source": [
    "class Solution:\n",
    "    def moveZeroes(self, nums):\n",
    "        j =  -1\n",
    "        for i in range(0,len(nums)):\n",
    "            if(nums[i]==0):\n",
    "                j = i\n",
    "                break\n",
    "        if j == -1:\n",
    "            return\n",
    "        \n",
    "        for i in range(j+1,len(nums)):\n",
    "            if(nums[i] != 0):\n",
    "                nums[i],nums[j] = nums[j],nums[i] \n",
    "                j = j+1"
   ]
  },
  {
   "cell_type": "code",
   "execution_count": null,
   "id": "fd4301af",
   "metadata": {},
   "outputs": [],
   "source": []
  }
 ],
 "metadata": {
  "kernelspec": {
   "display_name": "Python 3",
   "language": "python",
   "name": "python3"
  },
  "language_info": {
   "codemirror_mode": {
    "name": "ipython",
    "version": 3
   },
   "file_extension": ".py",
   "mimetype": "text/x-python",
   "name": "python",
   "nbconvert_exporter": "python",
   "pygments_lexer": "ipython3",
   "version": "3.12.4"
  }
 },
 "nbformat": 4,
 "nbformat_minor": 5
}
