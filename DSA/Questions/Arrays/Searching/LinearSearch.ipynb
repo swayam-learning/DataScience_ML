{
 "cells": [
  {
   "cell_type": "code",
   "execution_count": 1,
   "id": "cc3e0ce8",
   "metadata": {},
   "outputs": [],
   "source": [
    "arr = [18,12,9,14,77,50]"
   ]
  },
  {
   "cell_type": "code",
   "execution_count": 1,
   "id": "5d2f2d9f",
   "metadata": {},
   "outputs": [],
   "source": [
    "arr= [198,393,946,655,978,781,472,239,639,738,705,8,355,457,69,152,37,74,390,659,238,132,122,739,687,992,699,258,684,903,556,903,330,321,413,600,197,696,512,671,429,644,908,952,714,608,178,346,182,77,134,956,313,582,160,217,291,907,924,151,541,850,271,533,705,258,716,835,307,426]"
   ]
  },
  {
   "cell_type": "code",
   "execution_count": 2,
   "id": "f74142ce",
   "metadata": {},
   "outputs": [
    {
     "data": {
      "text/plain": [
       "70"
      ]
     },
     "execution_count": 2,
     "metadata": {},
     "output_type": "execute_result"
    }
   ],
   "source": [
    "len(arr)"
   ]
  },
  {
   "cell_type": "code",
   "execution_count": 6,
   "id": "4ee4c6c8",
   "metadata": {},
   "outputs": [
    {
     "name": "stdout",
     "output_type": "stream",
     "text": [
      "[9]\n"
     ]
    }
   ],
   "source": [
    "nums = [9]\n",
    "string =  str(nums)\n",
    "print(string)"
   ]
  },
  {
   "cell_type": "code",
   "execution_count": 7,
   "id": "254646f6",
   "metadata": {},
   "outputs": [
    {
     "data": {
      "text/plain": [
       "type"
      ]
     },
     "execution_count": 7,
     "metadata": {},
     "output_type": "execute_result"
    }
   ],
   "source": [
    "type(str)"
   ]
  },
  {
   "cell_type": "code",
   "execution_count": 21,
   "id": "073c16bc",
   "metadata": {},
   "outputs": [],
   "source": [
    "string = \"\"\n",
    "for i in nums:\n",
    "    string =  string + str(i)\n",
    "number = int(string)"
   ]
  },
  {
   "cell_type": "code",
   "execution_count": 26,
   "id": "0ecfde50",
   "metadata": {},
   "outputs": [],
   "source": [
    "n = number+1"
   ]
  },
  {
   "cell_type": "code",
   "execution_count": null,
   "id": "782000ea",
   "metadata": {},
   "outputs": [],
   "source": [
    "\n"
   ]
  },
  {
   "cell_type": "code",
   "execution_count": 30,
   "id": "59a6eb65",
   "metadata": {},
   "outputs": [
    {
     "data": {
      "text/plain": [
       "0"
      ]
     },
     "execution_count": 30,
     "metadata": {},
     "output_type": "execute_result"
    }
   ],
   "source": [
    "n"
   ]
  },
  {
   "cell_type": "code",
   "execution_count": 31,
   "id": "af8ec890",
   "metadata": {},
   "outputs": [],
   "source": [
    "nums = [9]\n",
    "string =  str(nums)\n",
    "string = \"\"\n",
    "for i in nums:\n",
    "    string =  string + str(i)\n",
    "number = int(string)\n",
    "n = number+1\n"
   ]
  },
  {
   "cell_type": "code",
   "execution_count": 32,
   "id": "de4f10cd",
   "metadata": {},
   "outputs": [
    {
     "data": {
      "text/plain": [
       "[1, 2, 2, 3, 5, 6]"
      ]
     },
     "execution_count": 32,
     "metadata": {},
     "output_type": "execute_result"
    }
   ],
   "source": [
    "nums1 = [1,2,3,2,5,6]\n",
    "sorted(nums1)"
   ]
  },
  {
   "cell_type": "code",
   "execution_count": null,
   "id": "83b9d99b",
   "metadata": {},
   "outputs": [],
   "source": []
  }
 ],
 "metadata": {
  "kernelspec": {
   "display_name": "base",
   "language": "python",
   "name": "python3"
  },
  "language_info": {
   "codemirror_mode": {
    "name": "ipython",
    "version": 3
   },
   "file_extension": ".py",
   "mimetype": "text/x-python",
   "name": "python",
   "nbconvert_exporter": "python",
   "pygments_lexer": "ipython3",
   "version": "3.12.4"
  }
 },
 "nbformat": 4,
 "nbformat_minor": 5
}
