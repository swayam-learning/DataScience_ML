{
 "cells": [
  {
   "cell_type": "markdown",
   "id": "cdfb3b71",
   "metadata": {},
   "source": [
    "## Brute Force Approach"
   ]
  },
  {
   "cell_type": "code",
   "execution_count": 12,
   "id": "2cea0300",
   "metadata": {},
   "outputs": [],
   "source": [
    "\n",
    "def removeDuplicates(nums):\n",
    "    s = set()\n",
    "    for val in nums:\n",
    "        s.add(val)\n",
    "    sorted_unique = sorted(s)\n",
    "\n",
    "    # copy the unique elements\n",
    "    for i in range(0,len(sorted_unique)):\n",
    "        nums[i] = sorted_unique[i]\n",
    "\n",
    "    print(type(sorted_unique))\n",
    "    print(sorted_unique)  "
   ]
  },
  {
   "cell_type": "code",
   "execution_count": 13,
   "id": "99f620b0",
   "metadata": {},
   "outputs": [
    {
     "name": "stdout",
     "output_type": "stream",
     "text": [
      "<class 'list'>\n",
      "[0, 1, 2, 3]\n"
     ]
    }
   ],
   "source": [
    "obj = removeDuplicates([0,0,0,1,2,3])"
   ]
  },
  {
   "cell_type": "markdown",
   "id": "e0d23b2e",
   "metadata": {},
   "source": [
    "Complexity Analysis \n",
    "Time Complexity: O(N * log N) + O(N), for using hashset, it will take O(N * log N) and also to traverse the array once O(N). Here N is the size of the array.\n",
    "\n",
    "Space Complexity: O(N) because in the worst case, all the elements of the array can be unique and it will take O(N) space. Here N represents the size of the array."
   ]
  },
  {
   "cell_type": "markdown",
   "id": "f50ef543",
   "metadata": {},
   "source": [
    "## Optimal Approach(Two Pointer Approach)\n",
    "\n"
   ]
  },
  {
   "cell_type": "code",
   "execution_count": 14,
   "id": "ee617431",
   "metadata": {},
   "outputs": [],
   "source": [
    "class Solution:\n",
    "    def removeDuplicates(self, nums):\n",
    "        if not nums:\n",
    "            return 0\n",
    "        i = 0\n",
    "        for j in range(1,len(nums)):\n",
    "            if(nums[i] != nums[j]):\n",
    "                i = i+1\n",
    "                nums[i] = nums[j]\n",
    "\n",
    "        return i+1"
   ]
  },
  {
   "cell_type": "markdown",
   "id": "d4f0145e",
   "metadata": {},
   "source": [
    "Time Complexity:O(n) because the code iterates through the input array once.\n",
    "\n",
    "\n",
    "Space Complexity:O(1) because the code uses a constant amount of extra space."
   ]
  }
 ],
 "metadata": {
  "kernelspec": {
   "display_name": "base",
   "language": "python",
   "name": "python3"
  },
  "language_info": {
   "codemirror_mode": {
    "name": "ipython",
    "version": 3
   },
   "file_extension": ".py",
   "mimetype": "text/x-python",
   "name": "python",
   "nbconvert_exporter": "python",
   "pygments_lexer": "ipython3",
   "version": "3.12.4"
  }
 },
 "nbformat": 4,
 "nbformat_minor": 5
}
