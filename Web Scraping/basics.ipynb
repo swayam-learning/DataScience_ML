{
 "cells": [
  {
   "cell_type": "markdown",
   "metadata": {},
   "source": [
    "## Web Scraping"
   ]
  },
  {
   "cell_type": "markdown",
   "metadata": {},
   "source": [
    "```js\n",
    "• Web scraping is the automated process of gathering data from websites.\n",
    "• It's like a bot that navigates through a webpage and collects based on predefined instructions.\n",
    "• This data can range from product prices to text content on articles, images, or structured data in tables.\n",
    "```"
   ]
  },
  {
   "cell_type": "markdown",
   "metadata": {},
   "source": []
  }
 ],
 "metadata": {
  "kernelspec": {
   "display_name": "webs_scrapping",
   "language": "python",
   "name": "python3"
  },
  "language_info": {
   "name": "python",
   "version": "3.10.16"
  }
 },
 "nbformat": 4,
 "nbformat_minor": 2
}
